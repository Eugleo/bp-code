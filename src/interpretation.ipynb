{
 "cells": [
  {
   "cell_type": "code",
   "execution_count": 1,
   "outputs": [
    {
     "data": {
      "text/plain": "[10, 29, 72, 119, 366, 381]"
     },
     "execution_count": 1,
     "metadata": {},
     "output_type": "execute_result"
    }
   ],
   "source": [
    "from typing import List\n",
    "\n",
    "import pandas as pd\n",
    "\n",
    "from src.constants import LYS_BONDS, LIP_BONDS, OVA_BONDS, BSA_BONDS, LYS, LIP, BSA, OVA\n",
    "from src.fragment import Fragment\n",
    "from src.precursor import Precursor\n",
    "from src.utils import load_fragment_matches, load_precursor_matches\n",
    "from collections import Counter\n",
    "\n",
    "import matplotlib.pyplot as plt\n",
    "import networkx as nx\n",
    "\n",
    "import itertools\n",
    "\n",
    "from src.variant import Variant\n",
    "\n",
    "PROTEIN = \"OVA\"\n",
    "SEGMENTS = 3\n",
    "BREAKS = 2\n",
    "\n",
    "KIND = \"AT\"\n",
    "ERROR = 15\n",
    "CODE = None\n",
    "\n",
    "# Visualising\n",
    "CMAP = plt.get_cmap(\"PiYG\")\n",
    "CYSTEINES = []\n",
    "TRUE_BONDS = []\n",
    "\n",
    "\n",
    "def get_cysteines(sequence):\n",
    "    return [i for i, res in enumerate(sequence) if res == \"C\"]\n",
    "\n",
    "\n",
    "if PROTEIN == \"LYS\":\n",
    "    CYSTEINES = get_cysteines(LYS)\n",
    "    TRUE_BONDS = LYS_BONDS\n",
    "elif PROTEIN == \"LIP\":\n",
    "    CYSTEINES = get_cysteines(LIP)\n",
    "    TRUE_BONDS = LIP_BONDS\n",
    "elif PROTEIN == \"OVA\":\n",
    "    CYSTEINES = get_cysteines(OVA)\n",
    "    TRUE_BONDS = OVA_BONDS\n",
    "elif PROTEIN == \"BSA\":\n",
    "    CYSTEINES = get_cysteines(BSA)\n",
    "    TRUE_BONDS = BSA_BONDS\n",
    "\n",
    "CYSTEINES"
   ],
   "metadata": {
    "collapsed": false,
    "pycharm": {
     "name": "#%%\n"
    }
   }
  },
  {
   "cell_type": "code",
   "execution_count": 2,
   "outputs": [
    {
     "data": {
      "text/plain": "[{'scan': <scan.Scan at 0x10c320d60>,\n  'precursor': Precursor(sequence='VASMASEKMK', mass=1099.5491270128098, mz=366.5163756709366, segments=[(19, 21)], residue_ranges=[(218, 228)], cys_bond_count=0, alkylation_count=0, modifications=[Modification(description='Met Oxidation', mass=15.9949)], error_ppm=1.61994158660139)},\n {'scan': <scan.Scan at 0x11eb5e580>,\n  'precursor': Precursor(sequence='VASMASEKMK', mass=1098.5413019807397, mz=549.2706509903699, segments=[(19, 21)], residue_ranges=[(218, 228)], cys_bond_count=0, alkylation_count=0, modifications=[Modification(description='Met Oxidation', mass=15.9949)], error_ppm=2.0766689938784535)},\n {'scan': <scan.Scan at 0x10c3b3640>,\n  'precursor': Precursor(sequence='VASMASEKMK', mass=1115.54402701281, mz=371.84800900427, segments=[(19, 21)], residue_ranges=[(218, 228)], cys_bond_count=0, alkylation_count=0, modifications=[Modification(description='Met Oxidation', mass=15.9949), Modification(description='Met Oxidation', mass=15.9949)], error_ppm=0.6123384785067312)}]"
     },
     "execution_count": 2,
     "metadata": {},
     "output_type": "execute_result"
    }
   ],
   "source": [
    "precursor_matches = load_precursor_matches(\n",
    "    protein=PROTEIN, kind=KIND, segments=SEGMENTS, error=ERROR, code=CODE\n",
    ")\n",
    "precursor_matches[:3]"
   ],
   "metadata": {
    "collapsed": false,
    "pycharm": {
     "name": "#%%\n"
    }
   }
  },
  {
   "cell_type": "code",
   "execution_count": 3,
   "outputs": [
    {
     "data": {
      "text/plain": "[{'scan': <scan.Scan at 0x10c394dc0>,\n  'precursor': Precursor(sequence='VASMASEKMK', mass=1099.5491270128098, mz=366.5163756709366, segments=[(19, 21)], residue_ranges=[(218, 228)], cys_bond_count=0, alkylation_count=0, modifications=[Modification(description='Met Oxidation', mass=15.9949)], error_ppm=1.61994158660139),\n  'variant': <src.variant.Variant at 0x120a5efa0>,\n  'variant_count': 1,\n  'fragment': Fragment(id=72, sequence='VASMA', residue_ranges=[(218, 223)], intensity=25954.171875, intensity_ratio=0.005475684288019038, mass=476.21787983174, target_mass=475.21303766793, mz=476.21787983174, target_mz=476.2208627, charge=1, break_count=1, error_ppm=6.276946857243898, modifications=(Modification(description='Met Oxidation', mass=15.9949),), connected_bonds=[], disconnected_cys=[])},\n {'scan': <scan.Scan at 0x10c3b3dc0>,\n  'precursor': Precursor(sequence='VASMASEKMK', mass=1099.5491270128098, mz=366.5163756709366, segments=[(19, 21)], residue_ranges=[(218, 228)], cys_bond_count=0, alkylation_count=0, modifications=[Modification(description='Met Oxidation', mass=15.9949)], error_ppm=1.61994158660139),\n  'variant': <src.variant.Variant at 0x120d0e730>,\n  'variant_count': 1,\n  'fragment': Fragment(id=73, sequence='ASMASEKMK', residue_ranges=[(219, 228)], intensity=45613.41796875, intensity_ratio=0.00962329591162614, mass=981.46232338405, target_mass=979.45261273586, mz=490.731161692025, target_mz=490.7341314, charge=2, break_count=1, error_ppm=6.064052400006865, modifications=(Modification(description='Met Oxidation', mass=15.9949), Modification(description='-H2O (neutral loss)', mass=-18.0105646837)), connected_bonds=[], disconnected_cys=[])},\n {'scan': <scan.Scan at 0x10c3b7fa0>,\n  'precursor': Precursor(sequence='VASMASEKMK', mass=1099.5491270128098, mz=366.5163756709366, segments=[(19, 21)], residue_ranges=[(218, 228)], cys_bond_count=0, alkylation_count=0, modifications=[Modification(description='Met Oxidation', mass=15.9949)], error_ppm=1.61994158660139),\n  'variant': <src.variant.Variant at 0x120d0ef40>,\n  'variant_count': 1,\n  'fragment': Fragment(id=74, sequence='ASMASEKMK', residue_ranges=[(219, 228)], intensity=27275.337890625, intensity_ratio=0.005754417434600026, mass=999.4728880677501, target_mass=997.46443213586, mz=499.73644403387505, target_mz=499.7400411, charge=2, break_count=1, error_ppm=7.212471849196919, modifications=(Modification(description='Met Oxidation', mass=15.9949),), connected_bonds=[], disconnected_cys=[])}]"
     },
     "execution_count": 3,
     "metadata": {},
     "output_type": "execute_result"
    }
   ],
   "source": [
    "fragment_matches = load_fragment_matches(\n",
    "    protein=PROTEIN, kind=KIND, segments=SEGMENTS, breaks=BREAKS, error=ERROR, code=CODE\n",
    ")\n",
    "fragment_matches[:3]"
   ],
   "metadata": {
    "collapsed": false,
    "pycharm": {
     "name": "#%%\n"
    }
   }
  },
  {
   "cell_type": "code",
   "execution_count": 6,
   "outputs": [
    {
     "data": {
      "text/plain": "[{'scan_id': 863,\n  'scan_nth_in_order': 55,\n  'scan_time': 363.1775098 second,\n  'scan_total_intensity': 4739895.602050781,\n  'prec_charge': 3,\n  'prec_sequence': 'VASMASEKMK',\n  'prec_segment_count': 1,\n  'prec_tryptide_ranges': [(19, 21)],\n  'prec_residue_ranges': [(218, 228)],\n  'prec_max_mc_count': 1,\n  'prec_mc': [1],\n  'prec_cys_bond_count': 0,\n  'prec_mass': 1099.5491270128098,\n  'prec_mz': 366.5163756709366,\n  'prec_error': 1.61994158660139,\n  'prec_alkylation_count': 0,\n  'prec_mods': ['Met Oxidation'],\n  'var_bonds': [],\n  'frag_id': 72,\n  'frag_sequence': 'VASMA',\n  'frag_residue_ranges': [(218, 223)],\n  'frag_charge': 1,\n  'frag_mass': 476.21787983174,\n  'frag_mz': 476.21787983174,\n  'frag_break_count': 1,\n  'frag_error_ppm': 6.276946857243898,\n  'frag_mods': ['Met Oxidation'],\n  'frag_connected_bonds': [],\n  'frag_disconnected_cys': [],\n  'frag_interesting_disconnected_cys': [],\n  'frag_intensity': 25954.171875,\n  'frag_intensity_ratio': 0.005475684288019038,\n  'target_mass': 475.21303766793,\n  'target_mz': 476.2208627,\n  'variant_count': 1},\n {'scan_id': 863,\n  'scan_nth_in_order': 55,\n  'scan_time': 363.1775098 second,\n  'scan_total_intensity': 4739895.602050781,\n  'prec_charge': 3,\n  'prec_sequence': 'VASMASEKMK',\n  'prec_segment_count': 1,\n  'prec_tryptide_ranges': [(19, 21)],\n  'prec_residue_ranges': [(218, 228)],\n  'prec_max_mc_count': 1,\n  'prec_mc': [1],\n  'prec_cys_bond_count': 0,\n  'prec_mass': 1099.5491270128098,\n  'prec_mz': 366.5163756709366,\n  'prec_error': 1.61994158660139,\n  'prec_alkylation_count': 0,\n  'prec_mods': ['Met Oxidation'],\n  'var_bonds': [],\n  'frag_id': 73,\n  'frag_sequence': 'ASMASEKMK',\n  'frag_residue_ranges': [(219, 228)],\n  'frag_charge': 2,\n  'frag_mass': 981.46232338405,\n  'frag_mz': 490.731161692025,\n  'frag_break_count': 1,\n  'frag_error_ppm': 6.064052400006865,\n  'frag_mods': ['Met Oxidation', '-H2O (neutral loss)'],\n  'frag_connected_bonds': [],\n  'frag_disconnected_cys': [],\n  'frag_interesting_disconnected_cys': [],\n  'frag_intensity': 45613.41796875,\n  'frag_intensity_ratio': 0.00962329591162614,\n  'target_mass': 979.45261273586,\n  'target_mz': 490.7341314,\n  'variant_count': 1},\n {'scan_id': 863,\n  'scan_nth_in_order': 55,\n  'scan_time': 363.1775098 second,\n  'scan_total_intensity': 4739895.602050781,\n  'prec_charge': 3,\n  'prec_sequence': 'VASMASEKMK',\n  'prec_segment_count': 1,\n  'prec_tryptide_ranges': [(19, 21)],\n  'prec_residue_ranges': [(218, 228)],\n  'prec_max_mc_count': 1,\n  'prec_mc': [1],\n  'prec_cys_bond_count': 0,\n  'prec_mass': 1099.5491270128098,\n  'prec_mz': 366.5163756709366,\n  'prec_error': 1.61994158660139,\n  'prec_alkylation_count': 0,\n  'prec_mods': ['Met Oxidation'],\n  'var_bonds': [],\n  'frag_id': 74,\n  'frag_sequence': 'ASMASEKMK',\n  'frag_residue_ranges': [(219, 228)],\n  'frag_charge': 2,\n  'frag_mass': 999.4728880677501,\n  'frag_mz': 499.73644403387505,\n  'frag_break_count': 1,\n  'frag_error_ppm': 7.212471849196919,\n  'frag_mods': ['Met Oxidation'],\n  'frag_connected_bonds': [],\n  'frag_disconnected_cys': [],\n  'frag_interesting_disconnected_cys': [],\n  'frag_intensity': 27275.337890625,\n  'frag_intensity_ratio': 0.005754417434600026,\n  'target_mass': 997.46443213586,\n  'target_mz': 499.7400411,\n  'variant_count': 1}]"
     },
     "execution_count": 6,
     "metadata": {},
     "output_type": "execute_result"
    }
   ],
   "source": [
    "records = [\n",
    "    fm[\"scan\"].to_dict()\n",
    "    | fm[\"precursor\"].to_dict()\n",
    "    | fm[\"variant\"].to_dict()\n",
    "    | fm[\"fragment\"].to_dict()\n",
    "    | {\"variant_count\": fm[\"variant_count\"]}\n",
    "    for fm in fragment_matches\n",
    "]\n",
    "\n",
    "records[:3]"
   ],
   "metadata": {
    "collapsed": false,
    "pycharm": {
     "name": "#%%\n"
    }
   }
  },
  {
   "cell_type": "code",
   "execution_count": 8,
   "outputs": [
    {
     "data": {
      "text/plain": "      scan_id  scan_nth_in_order    scan_time  scan_total_intensity  \\\n0         863                 55   363.177510          4.739896e+06   \n1         863                 55   363.177510          4.739896e+06   \n2         863                 55   363.177510          4.739896e+06   \n3         863                 55   363.177510          4.739896e+06   \n4         863                 55   363.177510          4.739896e+06   \n...       ...                ...          ...                   ...   \n1213    11168               8932  1644.438399          6.223317e+04   \n1214    11235               8985  1653.593213          3.599418e+04   \n1215    11656               9328  1711.175614          7.291893e+04   \n1216    11656               9328  1711.175614          7.291893e+04   \n1217    11925               9557  1744.590333          6.157714e+04   \n\n      prec_charge                            prec_sequence  \\\n0               3                               VASMASEKMK   \n1               3                               VASMASEKMK   \n2               3                               VASMASEKMK   \n3               3                               VASMASEKMK   \n4               3                               VASMASEKMK   \n...           ...                                      ...   \n1213            3  ELKVHHANENIFYCPIAIMSALAMVYLGAKDSTR+CVSP   \n1214            3    DEDTQAMPFRVTEQESKPVQMMYQIGLFRVASMASEK   \n1215            3    DEDTQAMPFRVTEQESKPVQMMYQIGLFRVASMASEK   \n1216            3    DEDTQAMPFRVTEQESKPVQMMYQIGLFRVASMASEK   \n1217            3          NVLQPSSVDSQTAMVLVNAIVFKGLWEKAFK   \n\n      prec_segment_count prec_tryptide_ranges    prec_residue_ranges  \\\n0                      1             (19, 21)             (218, 228)   \n1                      1             (19, 21)             (218, 228)   \n2                      1             (19, 21)             (218, 228)   \n3                      1             (19, 21)             (218, 228)   \n4                      1             (19, 21)             (218, 228)   \n...                  ...                  ...                    ...   \n1213                   2    (1, 4) + (33, 34)  (16, 50) + (381, 385)   \n1214                   1             (17, 20)             (189, 226)   \n1215                   1             (17, 20)             (189, 226)   \n1216                   1             (17, 20)             (189, 226)   \n1217                   1             (14, 17)             (158, 189)   \n\n      prec_max_mc_count  ... frag_error_ppm  \\\n0                     1  ...       6.276947   \n1                     1  ...       6.064052   \n2                     1  ...       7.212472   \n3                     1  ...       1.104446   \n4                     1  ...       2.001771   \n...                 ...  ...            ...   \n1213                  2  ...      11.143946   \n1214                  2  ...      11.154668   \n1215                  2  ...       5.528773   \n1216                  2  ...      11.818301   \n1217                  2  ...       2.393777   \n\n                                frag_mods  frag_connected_bonds  \\\n0                           Met Oxidation                         \n1     Met Oxidation + -H2O (neutral loss)                         \n2                           Met Oxidation                         \n3                                                                 \n4                           Met Oxidation                         \n...                                   ...                   ...   \n1213                  -H2O (neutral loss)                         \n1214                                                              \n1215                  -H2O (neutral loss)                         \n1216                  -H2O (neutral loss)                         \n1217                  -H2O (neutral loss)                         \n\n      frag_disconnected_cys  frag_interesting_disconnected_cys  \\\n0                                                                \n1                                                                \n2                                                                \n3                                                                \n4                                                                \n...                     ...                                ...   \n1213                                                             \n1214                                                             \n1215                                                             \n1216                                                             \n1217                                                             \n\n      frag_intensity frag_intensity_ratio  target_mass   target_mz  \\\n0       25954.171875             0.005476   475.213038  476.220863   \n1       45613.417969             0.009623   979.452613  490.734131   \n2       27275.337891             0.005754   997.464432  499.740041   \n3       55770.710938             0.011766   218.072272  219.080097   \n4       49506.398438             0.010445   234.066945  235.074770   \n...              ...                  ...          ...         ...   \n1213     2104.570557             0.033818   587.309269  196.777581   \n1214     1900.764282             0.052808  1160.585169  387.869548   \n1215     2882.504395             0.039530  1444.676305  482.566593   \n1216     2680.371826             0.036758   859.418609  287.480695   \n1217     2622.451416             0.042588   609.326024  305.670837   \n\n     variant_count  \n0                1  \n1                1  \n2                1  \n3                1  \n4                1  \n...            ...  \n1213             1  \n1214             1  \n1215             1  \n1216             1  \n1217             1  \n\n[1218 rows x 35 columns]",
      "text/html": "<div>\n<style scoped>\n    .dataframe tbody tr th:only-of-type {\n        vertical-align: middle;\n    }\n\n    .dataframe tbody tr th {\n        vertical-align: top;\n    }\n\n    .dataframe thead th {\n        text-align: right;\n    }\n</style>\n<table border=\"1\" class=\"dataframe\">\n  <thead>\n    <tr style=\"text-align: right;\">\n      <th></th>\n      <th>scan_id</th>\n      <th>scan_nth_in_order</th>\n      <th>scan_time</th>\n      <th>scan_total_intensity</th>\n      <th>prec_charge</th>\n      <th>prec_sequence</th>\n      <th>prec_segment_count</th>\n      <th>prec_tryptide_ranges</th>\n      <th>prec_residue_ranges</th>\n      <th>prec_max_mc_count</th>\n      <th>...</th>\n      <th>frag_error_ppm</th>\n      <th>frag_mods</th>\n      <th>frag_connected_bonds</th>\n      <th>frag_disconnected_cys</th>\n      <th>frag_interesting_disconnected_cys</th>\n      <th>frag_intensity</th>\n      <th>frag_intensity_ratio</th>\n      <th>target_mass</th>\n      <th>target_mz</th>\n      <th>variant_count</th>\n    </tr>\n  </thead>\n  <tbody>\n    <tr>\n      <th>0</th>\n      <td>863</td>\n      <td>55</td>\n      <td>363.177510</td>\n      <td>4.739896e+06</td>\n      <td>3</td>\n      <td>VASMASEKMK</td>\n      <td>1</td>\n      <td>(19, 21)</td>\n      <td>(218, 228)</td>\n      <td>1</td>\n      <td>...</td>\n      <td>6.276947</td>\n      <td>Met Oxidation</td>\n      <td></td>\n      <td></td>\n      <td></td>\n      <td>25954.171875</td>\n      <td>0.005476</td>\n      <td>475.213038</td>\n      <td>476.220863</td>\n      <td>1</td>\n    </tr>\n    <tr>\n      <th>1</th>\n      <td>863</td>\n      <td>55</td>\n      <td>363.177510</td>\n      <td>4.739896e+06</td>\n      <td>3</td>\n      <td>VASMASEKMK</td>\n      <td>1</td>\n      <td>(19, 21)</td>\n      <td>(218, 228)</td>\n      <td>1</td>\n      <td>...</td>\n      <td>6.064052</td>\n      <td>Met Oxidation + -H2O (neutral loss)</td>\n      <td></td>\n      <td></td>\n      <td></td>\n      <td>45613.417969</td>\n      <td>0.009623</td>\n      <td>979.452613</td>\n      <td>490.734131</td>\n      <td>1</td>\n    </tr>\n    <tr>\n      <th>2</th>\n      <td>863</td>\n      <td>55</td>\n      <td>363.177510</td>\n      <td>4.739896e+06</td>\n      <td>3</td>\n      <td>VASMASEKMK</td>\n      <td>1</td>\n      <td>(19, 21)</td>\n      <td>(218, 228)</td>\n      <td>1</td>\n      <td>...</td>\n      <td>7.212472</td>\n      <td>Met Oxidation</td>\n      <td></td>\n      <td></td>\n      <td></td>\n      <td>27275.337891</td>\n      <td>0.005754</td>\n      <td>997.464432</td>\n      <td>499.740041</td>\n      <td>1</td>\n    </tr>\n    <tr>\n      <th>3</th>\n      <td>863</td>\n      <td>55</td>\n      <td>363.177510</td>\n      <td>4.739896e+06</td>\n      <td>3</td>\n      <td>VASMASEKMK</td>\n      <td>1</td>\n      <td>(19, 21)</td>\n      <td>(218, 228)</td>\n      <td>1</td>\n      <td>...</td>\n      <td>1.104446</td>\n      <td></td>\n      <td></td>\n      <td></td>\n      <td></td>\n      <td>55770.710938</td>\n      <td>0.011766</td>\n      <td>218.072272</td>\n      <td>219.080097</td>\n      <td>1</td>\n    </tr>\n    <tr>\n      <th>4</th>\n      <td>863</td>\n      <td>55</td>\n      <td>363.177510</td>\n      <td>4.739896e+06</td>\n      <td>3</td>\n      <td>VASMASEKMK</td>\n      <td>1</td>\n      <td>(19, 21)</td>\n      <td>(218, 228)</td>\n      <td>1</td>\n      <td>...</td>\n      <td>2.001771</td>\n      <td>Met Oxidation</td>\n      <td></td>\n      <td></td>\n      <td></td>\n      <td>49506.398438</td>\n      <td>0.010445</td>\n      <td>234.066945</td>\n      <td>235.074770</td>\n      <td>1</td>\n    </tr>\n    <tr>\n      <th>...</th>\n      <td>...</td>\n      <td>...</td>\n      <td>...</td>\n      <td>...</td>\n      <td>...</td>\n      <td>...</td>\n      <td>...</td>\n      <td>...</td>\n      <td>...</td>\n      <td>...</td>\n      <td>...</td>\n      <td>...</td>\n      <td>...</td>\n      <td>...</td>\n      <td>...</td>\n      <td>...</td>\n      <td>...</td>\n      <td>...</td>\n      <td>...</td>\n      <td>...</td>\n      <td>...</td>\n    </tr>\n    <tr>\n      <th>1213</th>\n      <td>11168</td>\n      <td>8932</td>\n      <td>1644.438399</td>\n      <td>6.223317e+04</td>\n      <td>3</td>\n      <td>ELKVHHANENIFYCPIAIMSALAMVYLGAKDSTR+CVSP</td>\n      <td>2</td>\n      <td>(1, 4) + (33, 34)</td>\n      <td>(16, 50) + (381, 385)</td>\n      <td>2</td>\n      <td>...</td>\n      <td>11.143946</td>\n      <td>-H2O (neutral loss)</td>\n      <td></td>\n      <td></td>\n      <td></td>\n      <td>2104.570557</td>\n      <td>0.033818</td>\n      <td>587.309269</td>\n      <td>196.777581</td>\n      <td>1</td>\n    </tr>\n    <tr>\n      <th>1214</th>\n      <td>11235</td>\n      <td>8985</td>\n      <td>1653.593213</td>\n      <td>3.599418e+04</td>\n      <td>3</td>\n      <td>DEDTQAMPFRVTEQESKPVQMMYQIGLFRVASMASEK</td>\n      <td>1</td>\n      <td>(17, 20)</td>\n      <td>(189, 226)</td>\n      <td>2</td>\n      <td>...</td>\n      <td>11.154668</td>\n      <td></td>\n      <td></td>\n      <td></td>\n      <td></td>\n      <td>1900.764282</td>\n      <td>0.052808</td>\n      <td>1160.585169</td>\n      <td>387.869548</td>\n      <td>1</td>\n    </tr>\n    <tr>\n      <th>1215</th>\n      <td>11656</td>\n      <td>9328</td>\n      <td>1711.175614</td>\n      <td>7.291893e+04</td>\n      <td>3</td>\n      <td>DEDTQAMPFRVTEQESKPVQMMYQIGLFRVASMASEK</td>\n      <td>1</td>\n      <td>(17, 20)</td>\n      <td>(189, 226)</td>\n      <td>2</td>\n      <td>...</td>\n      <td>5.528773</td>\n      <td>-H2O (neutral loss)</td>\n      <td></td>\n      <td></td>\n      <td></td>\n      <td>2882.504395</td>\n      <td>0.039530</td>\n      <td>1444.676305</td>\n      <td>482.566593</td>\n      <td>1</td>\n    </tr>\n    <tr>\n      <th>1216</th>\n      <td>11656</td>\n      <td>9328</td>\n      <td>1711.175614</td>\n      <td>7.291893e+04</td>\n      <td>3</td>\n      <td>DEDTQAMPFRVTEQESKPVQMMYQIGLFRVASMASEK</td>\n      <td>1</td>\n      <td>(17, 20)</td>\n      <td>(189, 226)</td>\n      <td>2</td>\n      <td>...</td>\n      <td>11.818301</td>\n      <td>-H2O (neutral loss)</td>\n      <td></td>\n      <td></td>\n      <td></td>\n      <td>2680.371826</td>\n      <td>0.036758</td>\n      <td>859.418609</td>\n      <td>287.480695</td>\n      <td>1</td>\n    </tr>\n    <tr>\n      <th>1217</th>\n      <td>11925</td>\n      <td>9557</td>\n      <td>1744.590333</td>\n      <td>6.157714e+04</td>\n      <td>3</td>\n      <td>NVLQPSSVDSQTAMVLVNAIVFKGLWEKAFK</td>\n      <td>1</td>\n      <td>(14, 17)</td>\n      <td>(158, 189)</td>\n      <td>2</td>\n      <td>...</td>\n      <td>2.393777</td>\n      <td>-H2O (neutral loss)</td>\n      <td></td>\n      <td></td>\n      <td></td>\n      <td>2622.451416</td>\n      <td>0.042588</td>\n      <td>609.326024</td>\n      <td>305.670837</td>\n      <td>1</td>\n    </tr>\n  </tbody>\n</table>\n<p>1218 rows × 35 columns</p>\n</div>"
     },
     "execution_count": 8,
     "metadata": {},
     "output_type": "execute_result"
    }
   ],
   "source": [
    "df = pd.DataFrame(records)\n",
    "\n",
    "\n",
    "def stringify(df, column):\n",
    "    df[column] = [\" + \".join([str(r) for r in rs]) for rs in df[column]]\n",
    "\n",
    "\n",
    "for c in [\n",
    "    \"prec_tryptide_ranges\",\n",
    "    \"prec_residue_ranges\",\n",
    "    \"prec_mods\",\n",
    "    \"prec_mc\",\n",
    "    \"var_bonds\",\n",
    "    \"frag_residue_ranges\",\n",
    "    \"frag_mods\",\n",
    "    \"frag_connected_bonds\",\n",
    "    \"frag_disconnected_cys\",\n",
    "    \"frag_interesting_disconnected_cys\",\n",
    "]:\n",
    "    stringify(df, c)\n",
    "\n",
    "df"
   ],
   "metadata": {
    "collapsed": false,
    "pycharm": {
     "name": "#%%\n"
    }
   }
  },
  {
   "cell_type": "code",
   "execution_count": 9,
   "outputs": [
    {
     "name": "stdout",
     "output_type": "stream",
     "text": [
      "Saving to ../out/csv/fragment_matches_OVA_AT_segments=3_breaks=2_error=15ppm.csv\n"
     ]
    }
   ],
   "source": [
    "csv_path = (\n",
    "    \"../out/csv/fragment_matches_{}_{}_segments={}_breaks={}_error={}ppm{}.csv\".format(\n",
    "        PROTEIN, KIND, SEGMENTS, BREAKS, ERROR, \"\" if CODE is None else f\"_{CODE}\"\n",
    "    )\n",
    ")\n",
    "print(f\"Saving to {csv_path}\")\n",
    "df.to_csv(csv_path, index_label=\"id\", sep=\";\")"
   ],
   "metadata": {
    "collapsed": false,
    "pycharm": {
     "name": "#%%\n"
    }
   }
  },
  {
   "cell_type": "code",
   "execution_count": 14,
   "outputs": [],
   "source": [
    "\n",
    "def visualise_ideal(cysteines: List[int]):\n",
    "    g = nx.complete_graph(reversed(cysteines[3:] + cysteines[:3]))\n",
    "    plt.figure(figsize=(5, 5), dpi=200)\n",
    "\n",
    "    edges = [tuple(sorted(e)) for e in g.edges()]\n",
    "    scores = [e in TRUE_BONDS for e in edges]\n",
    "    scores_normalized = [\n",
    "        abs(s - min(scores)) / abs(max(scores) - min(scores)) for s in scores\n",
    "    ]\n",
    "    colors = [CMAP(s) for s in scores_normalized]\n",
    "\n",
    "    return nx.draw_circular(\n",
    "        g,\n",
    "        with_labels=True,\n",
    "        node_size=1200,\n",
    "        node_color=\"#E7DBB7\",\n",
    "        edge_color=colors,\n",
    "        width=3,\n",
    "    )\n",
    "\n",
    "\n",
    "def compute_prec_probabilities(fragment_matches):\n",
    "    tryptide_count = Counter()\n",
    "    for match in precursor_matches:\n",
    "        precursor: Precursor = match[\"precursor\"]\n",
    "        for sb, se in precursor.segments:\n",
    "            for t in range(sb, se):\n",
    "                tryptide_count[t] += 1\n",
    "\n",
    "    total = sum(tryptide_count.values())\n",
    "    tryptide_probability = {}\n",
    "    for t, count in tryptide_count.items():\n",
    "        tryptide_probability[t] = count / total\n",
    "\n",
    "    precursor_probability = []\n",
    "    for match in fragment_matches:\n",
    "        probability = 1\n",
    "        precursor: Precursor = match[\"precursor\"]\n",
    "        for sb, se in precursor.segments:\n",
    "            for t in range(sb, se):\n",
    "                probability *= tryptide_probability[t]\n",
    "        precursor_probability.append(probability)\n",
    "\n",
    "    return precursor_probability\n",
    "\n",
    "\n",
    "def calculate_scores(fragment_matches, probs, cysteines: List[int]):\n",
    "    possible_bonds = list(itertools.combinations(cysteines, 2))\n",
    "    positive_evidence = {b: 0 for b in possible_bonds}\n",
    "    negative_evidence = {b: 0 for b in possible_bonds}\n",
    "    alkylation_score = {c: 0 for c in cysteines}\n",
    "\n",
    "    DIRECT_POS_WEIGHT = 1\n",
    "    NEG_WEIGHT = 1\n",
    "    INDIRECT_POS_WEIGHT = 1\n",
    "    NEG_ALK_WEIGHT = 1\n",
    "\n",
    "    for match, prob in zip(fragment_matches, probs):\n",
    "        fragment: Fragment = match[\"fragment\"]\n",
    "\n",
    "        variant: Variant = match[\"variant\"]\n",
    "        if not all(b in TRUE_BONDS for b in variant.bonds):\n",
    "            continue\n",
    "\n",
    "        P = (1 / match[\"variant_count\"]) ** 2\n",
    "        cys_in_bonds = []\n",
    "\n",
    "        for b in fragment.connected_bonds:\n",
    "            positive_evidence[b] += P * DIRECT_POS_WEIGHT\n",
    "            cys_in_bonds += list(b)\n",
    "            for x, y in negative_evidence:\n",
    "                if (x, y) != b and (x in b or y in b):\n",
    "                    # We're looking at A<–>B, every other bond with A or B is decreased\n",
    "                    negative_evidence[(x, y)] += P * NEG_WEIGHT\n",
    "\n",
    "        for c in fragment.disconnected_cys:\n",
    "            # TODO: Check if only interesting matter\n",
    "            cys_in_bonds.append(c)\n",
    "            for b in positive_evidence:\n",
    "                if c in b:\n",
    "                    positive_evidence[b] += P * INDIRECT_POS_WEIGHT\n",
    "\n",
    "        if len(cys_in_bonds) != len(set(cys_in_bonds)):\n",
    "            print(match[\"scan\"].id)\n",
    "            # assert len(cys_in_bonds) == len(set(cys_in_bonds))\n",
    "\n",
    "        for c in cysteines:\n",
    "            if c not in cys_in_bonds and any(\n",
    "                b <= c < e for b, e in fragment.residue_ranges\n",
    "            ):\n",
    "                alkylation_score[c] += P * NEG_ALK_WEIGHT\n",
    "\n",
    "    return positive_evidence, negative_evidence, alkylation_score\n",
    "\n",
    "\n",
    "def intersects(t1, t2):\n",
    "    return t1[0] in t2 or t1[1] in t2\n",
    "\n",
    "\n",
    "def score(e, positive, negative, alkylation):\n",
    "    # alkylated = alkylation[e[0]] + alkylation[e[1]]\n",
    "    # if positive[e] > alkylated:\n",
    "    #     return positive[e] / (alkylated + 0.1)\n",
    "    # else:\n",
    "    #     return -alkylated / (positive[e] + 0.1)\n",
    "    return positive[e]\n",
    "\n",
    "\n",
    "def normalize(x, xs):\n",
    "    return abs(x - min(xs)) / abs(max(xs) - min(xs))\n",
    "\n",
    "\n",
    "def visualise(\n",
    "    cysteines: List[int], positive_evidence, negative_evidence, alkylation_score\n",
    "):\n",
    "    nodes = list(reversed(cysteines[3:] + cysteines[:3]))\n",
    "    g = nx.complete_graph(nodes)\n",
    "    plt.figure(figsize=(5, 5), dpi=200)\n",
    "\n",
    "    edges = [tuple(sorted(e)) for e in g.edges()]\n",
    "    scores = [\n",
    "        (e, score(e, positive_evidence, negative_evidence, alkylation_score))\n",
    "        for e in edges\n",
    "    ]\n",
    "\n",
    "    scores_normalized = [normalize(s, [n for f, n in scores]) for e, s in scores]\n",
    "    edge_colors = [CMAP(s) for s in scores_normalized]\n",
    "\n",
    "    node_scores = [(alkylation_score[n]) for n in nodes]\n",
    "    node_scores_normalized = [\n",
    "        abs(s - min(positive_evidence.values()))\n",
    "        / abs(max(positive_evidence.values()) - min(positive_evidence.values()))\n",
    "        for s in node_scores\n",
    "    ]\n",
    "    node_colors = [CMAP(s) for s in node_scores_normalized]\n",
    "\n",
    "    return nx.draw_circular(\n",
    "        g,\n",
    "        with_labels=True,\n",
    "        node_size=1200,\n",
    "        node_color=\"#E7DBB7\",\n",
    "        linewidths=3,\n",
    "        edgecolors=node_colors,\n",
    "        edge_color=edge_colors,\n",
    "        width=3,\n",
    "    )\n"
   ],
   "metadata": {
    "collapsed": false,
    "pycharm": {
     "name": "#%%\n"
    }
   }
  },
  {
   "cell_type": "code",
   "execution_count": 15,
   "outputs": [
    {
     "data": {
      "text/plain": "<Figure size 1000x1000 with 1 Axes>",
      "image/png": "[encoded data removed]"
     },
     "metadata": {},
     "output_type": "display_data"
    }
   ],
   "source": [
    "visualise_ideal(CYSTEINES)"
   ],
   "metadata": {
    "collapsed": false,
    "pycharm": {
     "name": "#%%\n"
    }
   }
  },
  {
   "cell_type": "code",
   "execution_count": 16,
   "outputs": [
    {
     "data": {
      "text/plain": "[0.0013756659970303082, 0.0013756659970303082, 0.0013756659970303082]"
     },
     "execution_count": 16,
     "metadata": {},
     "output_type": "execute_result"
    }
   ],
   "source": [
    "prec_probs = compute_prec_probabilities(fragment_matches)\n",
    "prec_probs[:3]"
   ],
   "metadata": {
    "collapsed": false,
    "pycharm": {
     "name": "#%%\n"
    }
   }
  },
  {
   "cell_type": "code",
   "execution_count": 31,
   "outputs": [
    {
     "ename": "ZeroDivisionError",
     "evalue": "division by zero",
     "output_type": "error",
     "traceback": [
      "\u001B[0;31m---------------------------------------------------------------------------\u001B[0m",
      "\u001B[0;31mZeroDivisionError\u001B[0m                         Traceback (most recent call last)",
      "\u001B[0;32m<ipython-input-31-eb7fa2a47bd1>\u001B[0m in \u001B[0;36m<module>\u001B[0;34m\u001B[0m\n\u001B[1;32m      1\u001B[0m \u001B[0mpos\u001B[0m\u001B[0;34m,\u001B[0m \u001B[0mneg\u001B[0m\u001B[0;34m,\u001B[0m \u001B[0malk\u001B[0m \u001B[0;34m=\u001B[0m \u001B[0mcalculate_scores\u001B[0m\u001B[0;34m(\u001B[0m\u001B[0mfragment_matches\u001B[0m\u001B[0;34m,\u001B[0m \u001B[0mprec_probs\u001B[0m\u001B[0;34m,\u001B[0m \u001B[0mCYSTEINES\u001B[0m\u001B[0;34m)\u001B[0m\u001B[0;34m\u001B[0m\u001B[0;34m\u001B[0m\u001B[0m\n\u001B[0;32m----> 2\u001B[0;31m \u001B[0mvisualise\u001B[0m\u001B[0;34m(\u001B[0m\u001B[0mCYSTEINES\u001B[0m\u001B[0;34m,\u001B[0m \u001B[0mpos\u001B[0m\u001B[0;34m,\u001B[0m \u001B[0mneg\u001B[0m\u001B[0;34m,\u001B[0m \u001B[0malk\u001B[0m\u001B[0;34m)\u001B[0m\u001B[0;34m\u001B[0m\u001B[0;34m\u001B[0m\u001B[0m\n\u001B[0m",
      "\u001B[0;32m<ipython-input-28-3b8d3f03c395>\u001B[0m in \u001B[0;36mvisualise\u001B[0;34m(cysteines, positive_evidence, negative_evidence, alkylation_score)\u001B[0m\n\u001B[1;32m    124\u001B[0m     ]\n\u001B[1;32m    125\u001B[0m \u001B[0;34m\u001B[0m\u001B[0m\n\u001B[0;32m--> 126\u001B[0;31m     \u001B[0mscores_normalized\u001B[0m \u001B[0;34m=\u001B[0m \u001B[0;34m[\u001B[0m\u001B[0mnormalize\u001B[0m\u001B[0;34m(\u001B[0m\u001B[0ms\u001B[0m\u001B[0;34m,\u001B[0m \u001B[0;34m[\u001B[0m\u001B[0mn\u001B[0m \u001B[0;32mfor\u001B[0m \u001B[0mf\u001B[0m\u001B[0;34m,\u001B[0m \u001B[0mn\u001B[0m \u001B[0;32min\u001B[0m \u001B[0mscores\u001B[0m\u001B[0;34m]\u001B[0m\u001B[0;34m)\u001B[0m \u001B[0;32mfor\u001B[0m \u001B[0me\u001B[0m\u001B[0;34m,\u001B[0m \u001B[0ms\u001B[0m \u001B[0;32min\u001B[0m \u001B[0mscores\u001B[0m\u001B[0;34m]\u001B[0m\u001B[0;34m\u001B[0m\u001B[0;34m\u001B[0m\u001B[0m\n\u001B[0m\u001B[1;32m    127\u001B[0m     \u001B[0medge_colors\u001B[0m \u001B[0;34m=\u001B[0m \u001B[0;34m[\u001B[0m\u001B[0mCMAP\u001B[0m\u001B[0;34m(\u001B[0m\u001B[0ms\u001B[0m\u001B[0;34m)\u001B[0m \u001B[0;32mfor\u001B[0m \u001B[0ms\u001B[0m \u001B[0;32min\u001B[0m \u001B[0mscores_normalized\u001B[0m\u001B[0;34m]\u001B[0m\u001B[0;34m\u001B[0m\u001B[0;34m\u001B[0m\u001B[0m\n\u001B[1;32m    128\u001B[0m \u001B[0;34m\u001B[0m\u001B[0m\n",
      "\u001B[0;32m<ipython-input-28-3b8d3f03c395>\u001B[0m in \u001B[0;36m<listcomp>\u001B[0;34m(.0)\u001B[0m\n\u001B[1;32m    124\u001B[0m     ]\n\u001B[1;32m    125\u001B[0m \u001B[0;34m\u001B[0m\u001B[0m\n\u001B[0;32m--> 126\u001B[0;31m     \u001B[0mscores_normalized\u001B[0m \u001B[0;34m=\u001B[0m \u001B[0;34m[\u001B[0m\u001B[0mnormalize\u001B[0m\u001B[0;34m(\u001B[0m\u001B[0ms\u001B[0m\u001B[0;34m,\u001B[0m \u001B[0;34m[\u001B[0m\u001B[0mn\u001B[0m \u001B[0;32mfor\u001B[0m \u001B[0mf\u001B[0m\u001B[0;34m,\u001B[0m \u001B[0mn\u001B[0m \u001B[0;32min\u001B[0m \u001B[0mscores\u001B[0m\u001B[0;34m]\u001B[0m\u001B[0;34m)\u001B[0m \u001B[0;32mfor\u001B[0m \u001B[0me\u001B[0m\u001B[0;34m,\u001B[0m \u001B[0ms\u001B[0m \u001B[0;32min\u001B[0m \u001B[0mscores\u001B[0m\u001B[0;34m]\u001B[0m\u001B[0;34m\u001B[0m\u001B[0;34m\u001B[0m\u001B[0m\n\u001B[0m\u001B[1;32m    127\u001B[0m     \u001B[0medge_colors\u001B[0m \u001B[0;34m=\u001B[0m \u001B[0;34m[\u001B[0m\u001B[0mCMAP\u001B[0m\u001B[0;34m(\u001B[0m\u001B[0ms\u001B[0m\u001B[0;34m)\u001B[0m \u001B[0;32mfor\u001B[0m \u001B[0ms\u001B[0m \u001B[0;32min\u001B[0m \u001B[0mscores_normalized\u001B[0m\u001B[0;34m]\u001B[0m\u001B[0;34m\u001B[0m\u001B[0;34m\u001B[0m\u001B[0m\n\u001B[1;32m    128\u001B[0m \u001B[0;34m\u001B[0m\u001B[0m\n",
      "\u001B[0;32m<ipython-input-28-3b8d3f03c395>\u001B[0m in \u001B[0;36mnormalize\u001B[0;34m(x, xs)\u001B[0m\n\u001B[1;32m    108\u001B[0m \u001B[0;34m\u001B[0m\u001B[0m\n\u001B[1;32m    109\u001B[0m \u001B[0;32mdef\u001B[0m \u001B[0mnormalize\u001B[0m\u001B[0;34m(\u001B[0m\u001B[0mx\u001B[0m\u001B[0;34m,\u001B[0m \u001B[0mxs\u001B[0m\u001B[0;34m)\u001B[0m\u001B[0;34m:\u001B[0m\u001B[0;34m\u001B[0m\u001B[0;34m\u001B[0m\u001B[0m\n\u001B[0;32m--> 110\u001B[0;31m     \u001B[0;32mreturn\u001B[0m \u001B[0mabs\u001B[0m\u001B[0;34m(\u001B[0m\u001B[0mx\u001B[0m \u001B[0;34m-\u001B[0m \u001B[0mmin\u001B[0m\u001B[0;34m(\u001B[0m\u001B[0mxs\u001B[0m\u001B[0;34m)\u001B[0m\u001B[0;34m)\u001B[0m \u001B[0;34m/\u001B[0m \u001B[0mabs\u001B[0m\u001B[0;34m(\u001B[0m\u001B[0mmax\u001B[0m\u001B[0;34m(\u001B[0m\u001B[0mxs\u001B[0m\u001B[0;34m)\u001B[0m \u001B[0;34m-\u001B[0m \u001B[0mmin\u001B[0m\u001B[0;34m(\u001B[0m\u001B[0mxs\u001B[0m\u001B[0;34m)\u001B[0m\u001B[0;34m)\u001B[0m\u001B[0;34m\u001B[0m\u001B[0;34m\u001B[0m\u001B[0m\n\u001B[0m\u001B[1;32m    111\u001B[0m \u001B[0;34m\u001B[0m\u001B[0m\n\u001B[1;32m    112\u001B[0m \u001B[0;34m\u001B[0m\u001B[0m\n",
      "\u001B[0;31mZeroDivisionError\u001B[0m: division by zero"
     ]
    },
    {
     "data": {
      "text/plain": "<Figure size 1000x1000 with 0 Axes>"
     },
     "metadata": {},
     "output_type": "display_data"
    }
   ],
   "source": [
    "pos, neg, alk = calculate_scores(fragment_matches, prec_probs, CYSTEINES)\n",
    "visualise(CYSTEINES, pos, neg, alk)"
   ],
   "metadata": {
    "collapsed": false,
    "pycharm": {
     "name": "#%%\n"
    }
   }
  },
  {
   "cell_type": "code",
   "execution_count": 32,
   "outputs": [
    {
     "data": {
      "text/plain": "{(10, 29): 0,\n (10, 72): 0,\n (10, 119): 0,\n (10, 366): 0,\n (10, 381): 0,\n (29, 72): 0,\n (29, 119): 0,\n (29, 366): 0,\n (29, 381): 0,\n (72, 119): 0,\n (72, 366): 0,\n (72, 381): 0,\n (119, 366): 0,\n (119, 381): 0,\n (366, 381): 0}"
     },
     "execution_count": 32,
     "metadata": {},
     "output_type": "execute_result"
    }
   ],
   "source": [
    "pos"
   ],
   "metadata": {
    "collapsed": false,
    "pycharm": {
     "name": "#%%\n"
    }
   }
  },
  {
   "cell_type": "code",
   "execution_count": 34,
   "outputs": [
    {
     "name": "stdout",
     "output_type": "stream",
     "text": [
      "{'prec_sequence': 'GSIGAASMEFCFDVFKELKVHHANENIFYCPIAIMSALAMVYLGAKDSTR+LPGFGDSIEAQCGTSVNVHSSLR+YPILPEYLQCVKELYR', 'prec_segment_count': 3, 'prec_tryptide_ranges': [(0, 4), (7, 8), (10, 12)], 'prec_residue_ranges': [(0, 50), (61, 84), (110, 126)], 'prec_max_mc_count': 3, 'prec_mc': [3, 0, 1], 'prec_cys_bond_count': 2, 'prec_mass': 9926.86418214936, 'prec_mz': 1985.372836429872, 'prec_error': 1.274856718039514, 'prec_alkylation_count': 0, 'prec_mods': ['Met Oxidation', 'Met Oxidation']}\n",
      "{'prec_sequence': 'GSIGAASMEFCFDVFKELKVHHANENIFYCPIAIMSALAMVYLGAKDSTR+FDKLPGFGDSIEAQCGTSVNVHSSLR+YPILPEYLQCVKELYRGGLEPINFQTAADQAR', 'prec_segment_count': 3, 'prec_tryptide_ranges': [(0, 4), (6, 8), (10, 13)], 'prec_residue_ranges': [(0, 50), (58, 84), (110, 142)], 'prec_max_mc_count': 3, 'prec_mc': [3, 1, 2], 'prec_cys_bond_count': 2, 'prec_mass': 11986.884309699128, 'prec_mz': 1997.8140516165213, 'prec_error': 6.278999173459721, 'prec_alkylation_count': 0, 'prec_mods': ['Met Oxidation', 'Met Oxidation']}\n",
      "{'prec_sequence': 'GSIGAASMEFCFDVFKELKVHHANENIFYCPIAIMSALAMVYLGAKDSTR+FDKLPGFGDSIEAQCGTSVNVHSSLRDILNQITKPNDVYSFSLASR+YPILPEYLQCVK', 'prec_segment_count': 3, 'prec_tryptide_ranges': [(0, 4), (6, 9), (10, 11)], 'prec_residue_ranges': [(0, 50), (58, 104), (110, 122)], 'prec_max_mc_count': 3, 'prec_mc': [3, 2, 0], 'prec_cys_bond_count': 2, 'prec_mass': 11986.945876565649, 'prec_mz': 1997.8243127609417, 'prec_error': 11.417718757143065, 'prec_alkylation_count': 0, 'prec_mods': []}\n",
      "{'prec_sequence': 'ELKVHHANENIFYCPIAIMSALAMVYLGAKDSTR+LPGFGDSIEAQCGTSVNVHSSLRDILNQITKPNDVYSFSLASRLYAEERYPILPEYLQCVK+ADHPFLFCIK', 'prec_segment_count': 3, 'prec_tryptide_ranges': [(1, 4), (7, 11), (31, 32)], 'prec_residue_ranges': [(16, 50), (61, 122), (359, 369)], 'prec_max_mc_count': 3, 'prec_mc': [2, 3, 0], 'prec_cys_bond_count': 2, 'prec_mass': 11855.952995931859, 'prec_mz': 1975.9921659886431, 'prec_error': 3.533961776420333, 'prec_alkylation_count': 0, 'prec_mods': ['Met Oxidation']}\n"
     ]
    }
   ],
   "source": [
    "for pm in precursor_matches:\n",
    "    p: Precursor = pm[\"precursor\"]\n",
    "    if any(b <= 72 < e for b, e in p.residue_ranges) and any(\n",
    "        b <= 119 < e for b, e in p.residue_ranges\n",
    "    ):\n",
    "        print(p.to_dict())"
   ],
   "metadata": {
    "collapsed": false,
    "pycharm": {
     "name": "#%%\n"
    }
   }
  },
  {
   "cell_type": "code",
   "execution_count": 12,
   "outputs": [
    {
     "data": {
      "text/plain": "[(65, 73)]"
     },
     "execution_count": 12,
     "metadata": {},
     "output_type": "execute_result"
    }
   ],
   "source": [
    "precursor_matches[0][\"precursor\"].residue_ranges"
   ],
   "metadata": {
    "collapsed": false,
    "pycharm": {
     "name": "#%%\n"
    }
   }
  }
 ],
 "metadata": {
  "kernelspec": {
   "display_name": "Python 3",
   "language": "python",
   "name": "python3"
  },
  "language_info": {
   "codemirror_mode": {
    "name": "ipython",
    "version": 2
   },
   "file_extension": ".py",
   "mimetype": "text/x-python",
   "name": "python",
   "nbconvert_exporter": "python",
   "pygments_lexer": "ipython2",
   "version": "2.7.6"
  }
 },
 "nbformat": 4,
 "nbformat_minor": 0
}
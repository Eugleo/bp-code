{
 "cells": [
  {
   "cell_type": "code",
   "execution_count": 1,
   "metadata": {
    "collapsed": true
   },
   "outputs": [],
   "source": [
    "from typing import Optional, List, Tuple, Dict\n",
    "\n",
    "import numpy as np\n",
    "import pandas as pd\n",
    "from pepfrag import Peptide, IonType, ModSite\n",
    "\n",
    "from src.fragment_matching import (\n",
    "    write_matched_fragments,\n",
    ")\n",
    "from src.model.fragment import Fragment\n",
    "from src.model.modification import IAA_ALKYLATION, CYS_BOND\n",
    "from src.model.precursor import Precursor\n",
    "from src.model.scan import Scan\n",
    "from src.model.variant import Variant\n",
    "from src.precursor_matching import write_matched_precursors\n",
    "from src.utilities.constants import LIP_BONDS, PROTON, OVA_BONDS\n",
    "from src.utilities.dataloading import cleave_protein\n",
    "from pyteomics import fasta\n",
    "import re\n",
    "\n",
    "from random import randrange, randint, choices, shuffle\n",
    "from pyteomics.mass import calculate_mass"
   ]
  },
  {
   "cell_type": "code",
   "execution_count": 2,
   "outputs": [
    {
     "data": {
      "text/plain": "'GSIGAASMEFCFDVFKELKVHHANENIFYCPIAIMSALAMVYLGAKDSTRTQINKVVRFDKLPGFGDSIEAQCGTSVNVHSSLRDILNQITKPNDVYSFSLASRLYAEERYPILPEYLQCVKELYRGGLEPINFQTAADQARELINSWVESQTNGIIRNVLQPSSVDSQTAMVLVNAIVFKGLWEKAFKDEDTQAMPFRVTEQESKPVQMMYQIGLFRVASMASEKMKILELPFASGTMSMLVLLPDEVSGLEQLESIINFEKLTEWTSSNVMEERKIKVYLPRMKMEEKYNLTSVLMAMGITDVFSSSANLSGISSAESLKISQAVHAAHAEINEAGREVVGSAEAGVDAASVSEEFRADHPFLFCIKHIATNAVLFFGRCVSP'"
     },
     "execution_count": 2,
     "metadata": {},
     "output_type": "execute_result"
    }
   ],
   "source": [
    "PROTEIN = \"OVA\"\n",
    "CYS_BONDS = OVA_BONDS\n",
    "tryptides = cleave_protein(PROTEIN)\n",
    "TRYPTIDE_COUNT = len(tryptides)\n",
    "seq_path = f\"../data/fasta/{PROTEIN}.fasta\"\n",
    "SEQUENCE = [r.sequence for r in fasta.read(seq_path)][0]\n",
    "SEQUENCE"
   ],
   "metadata": {
    "collapsed": false,
    "pycharm": {
     "name": "#%%\n"
    }
   }
  },
  {
   "cell_type": "code",
   "execution_count": 3,
   "outputs": [],
   "source": [
    "\n",
    "def intersects(t, u):\n",
    "    x, y = t\n",
    "    a, b = u\n",
    "    return not (x >= b or y <= a)\n",
    "\n",
    "\n",
    "def dedup(xs):\n",
    "    return list(dict(tp) for tp in set(tuple(p.items()) for p in (xs)))\n",
    "\n",
    "\n",
    "def connected_cys_count(prec):\n",
    "    return sum(res == \"C\" for res in prec.sequence) - prec.alkylation_count\n",
    "\n",
    "\n",
    "def generate_precursors(base_count=10000):\n",
    "    bondless_precursors: List[Dict] = []\n",
    "    raw_bonded_material: List[Dict] = []\n",
    "    for _ in range(0, base_count):\n",
    "        x = randrange(0, TRYPTIDE_COUNT)\n",
    "        y = randrange(x, min(TRYPTIDE_COUNT, x + 5))\n",
    "        b, e = min(x, y), max(x, y)\n",
    "\n",
    "        if b < e:\n",
    "            charge = randint(1, 5)\n",
    "            sequence = \"\".join(t.sequence for t in tryptides[b:e])\n",
    "            alkylations = sum(res == \"C\" for res in sequence)\n",
    "\n",
    "            cys_overlap = [i for i in [7, 10] if i in range(b, e)]\n",
    "            if cys_overlap:\n",
    "                alkylations -= len(cys_overlap)\n",
    "\n",
    "            mass = calculate_mass(sequence) + alkylations * IAA_ALKYLATION.mass\n",
    "            prec: Dict = {\n",
    "                \"charge\": charge,\n",
    "                \"precursor\": Precursor(\n",
    "                    sequence=sequence,\n",
    "                    mass=mass,\n",
    "                    mz=mass / charge + PROTON,\n",
    "                    segments=[(b, e)],\n",
    "                    residue_ranges=[(tryptides[b].beginning, tryptides[e - 1].end)],\n",
    "                    cys_bond_count=0,\n",
    "                    alkylation_count=alkylations,\n",
    "                    modifications=[],\n",
    "                    error_ppm=0,\n",
    "                ),\n",
    "            }\n",
    "\n",
    "            if cys_overlap:\n",
    "                raw_bonded_material.append(prec)\n",
    "            else:\n",
    "                bondless_precursors.append(prec)\n",
    "\n",
    "    bondless_precursors = dedup(bondless_precursors)\n",
    "    raw_bonded_material = dedup(raw_bonded_material)\n",
    "\n",
    "    bonded_precursors = []\n",
    "    for i, s in enumerate(raw_bonded_material):\n",
    "        prec: Precursor = s[\"precursor\"]\n",
    "        for t in raw_bonded_material[i:]:\n",
    "            qrec: Precursor = t[\"precursor\"]\n",
    "            if not intersects(prec.segments[0], qrec.segments[0]):\n",
    "                charge = randint(1, 5)\n",
    "                ps = sorted([prec, qrec], key=lambda p: p.segments[0][0])\n",
    "                mass = prec.mass + qrec.mass + CYS_BOND.mass\n",
    "                joined = Precursor(\n",
    "                    sequence=ps[0].sequence + \"+\" + ps[1].sequence,\n",
    "                    mass=mass,\n",
    "                    mz=mass / charge + PROTON,\n",
    "                    segments=ps[0].segments + ps[1].segments,\n",
    "                    residue_ranges=ps[0].residue_ranges + ps[1].residue_ranges,\n",
    "                    cys_bond_count=1,\n",
    "                    alkylation_count=prec.alkylation_count + qrec.alkylation_count,\n",
    "                    modifications=ps[0].modifications + ps[1].modifications,\n",
    "                    error_ppm=0,\n",
    "                )\n",
    "                bonded_precursors.append({\"charge\": charge, \"precursor\": joined})\n",
    "\n",
    "    bonded_precursors = dedup(bonded_precursors)\n",
    "\n",
    "    bonded_unipeptides = []\n",
    "    for s in raw_bonded_material:\n",
    "        p: Precursor = s[\"precursor\"]\n",
    "        if connected_cys_count(p) == 2:\n",
    "            charge = s[\"charge\"]\n",
    "            bonded_unipeptides.append(\n",
    "                {\n",
    "                    \"charge\": charge,\n",
    "                    \"precursor\": Precursor(\n",
    "                        p.sequence,\n",
    "                        p.mass + CYS_BOND.mass,\n",
    "                        (p.mass + CYS_BOND.mass) / charge + PROTON,\n",
    "                        p.segments,\n",
    "                        p.residue_ranges,\n",
    "                        p.cys_bond_count,\n",
    "                        p.alkylation_count,\n",
    "                        p.modifications,\n",
    "                        p.error_ppm,\n",
    "                    ),\n",
    "                }\n",
    "            )\n",
    "\n",
    "    bonded_unipeptides = dedup(bonded_unipeptides)\n",
    "\n",
    "    return bondless_precursors + bonded_precursors + bonded_unipeptides\n"
   ],
   "metadata": {
    "collapsed": false,
    "pycharm": {
     "name": "#%%\n"
    }
   }
  },
  {
   "cell_type": "code",
   "execution_count": 4,
   "outputs": [
    {
     "data": {
      "text/plain": "[{'charge': 2,\n  'precursor': Precursor(sequence='NVLQPSSVDSQTAMVLVNAIVFKGLWEK', mass=3072.6317927857103, mz=1537.3237214249252, segments=[(14, 16)], residue_ranges=[(158, 186)], cys_bond_count=0, alkylation_count=0, modifications=[], error_ppm=0)},\n {'charge': 5,\n  'precursor': Precursor(sequence='GGLEPINFQTAADQAR', mass=1686.83254725058, mz=338.37433448218604, segments=[(12, 13)], residue_ranges=[(126, 142)], cys_bond_count=0, alkylation_count=0, modifications=[], error_ppm=0)},\n {'charge': 3,\n  'precursor': Precursor(sequence='VASMASEKMKILELPFASGTMSMLVLLPDEVSGLEQLESIINFEK', mass=4924.523754598979, mz=1642.5157432317299, segments=[(19, 22)], residue_ranges=[(218, 263)], cys_bond_count=0, alkylation_count=0, modifications=[], error_ppm=0)}]"
     },
     "execution_count": 4,
     "metadata": {},
     "output_type": "execute_result"
    }
   ],
   "source": [
    "precursors = generate_precursors(5000)\n",
    "precursors[:3]"
   ],
   "metadata": {
    "collapsed": false,
    "pycharm": {
     "name": "#%%\n"
    }
   }
  },
  {
   "cell_type": "code",
   "execution_count": 5,
   "outputs": [],
   "source": [
    "\n",
    "def valid_frags(frags, cys, length):\n",
    "    def ok(frag):\n",
    "        if \"b\" in frag[1]:\n",
    "            return frag[2] > cys\n",
    "        else:\n",
    "            return frag[2] >= (length - cys)\n",
    "\n",
    "    return [f for f in frags if ok(f)]\n",
    "\n",
    "\n",
    "def charge_from_code(code):\n",
    "    match = re.match(r\".*\\[(\\d+)?\\+]$\", code)\n",
    "    if match.group(1) is None:\n",
    "        return 1\n",
    "    else:\n",
    "        return int(match.group(1))\n",
    "\n",
    "\n",
    "def safe_frags(seq, frags, cysteines):\n",
    "    b, e = seq\n",
    "    safe = []\n",
    "    unsafe = []\n",
    "    for f in frags:\n",
    "        mass, code, i = f\n",
    "        if \"b\" in code:\n",
    "            if not any(b <= c < b + i for c in cysteines):\n",
    "                safe.append(f)\n",
    "                continue\n",
    "        else:\n",
    "            if not any(e - i <= c < e for c in cysteines):\n",
    "                safe.append(f)\n",
    "                continue\n",
    "        unsafe.append(f)\n",
    "\n",
    "    return safe, unsafe\n",
    "\n",
    "\n",
    "def build_safe_fragment(id, sequence, residue_range, charge, mz, break_count):\n",
    "    return Fragment(\n",
    "        id=id,\n",
    "        sequence=sequence,\n",
    "        residue_ranges=residue_range,\n",
    "        intensity=10,\n",
    "        intensity_ratio=1 / 10,\n",
    "        target_mass=(mz - PROTON) * charge,\n",
    "        mass=(mz - PROTON) * charge,\n",
    "        target_mz=mz,\n",
    "        mz=mz,\n",
    "        charge=charge,\n",
    "        break_count=break_count,\n",
    "        error_ppm=0,\n",
    "        modifications=[IAA_ALKYLATION for res in sequence if res == \"C\"],\n",
    "        connected_bonds=[],\n",
    "        disconnected_cys=[],\n",
    "    )\n",
    "\n",
    "\n",
    "def fragment_sequence(seq, frag, residue_range):\n",
    "    _, code, i = frag\n",
    "    sequence = seq[:i] if \"b\" in code else seq[-i:]\n",
    "    b, e = residue_range\n",
    "    frag_residue_range = (b, b + i) if \"b\" in code else (e - i, e)\n",
    "\n",
    "    return sequence, frag_residue_range\n",
    "\n",
    "\n",
    "def safe_frags_to_fragments(frags, prec_sequence, prec_residue_range, precursor):\n",
    "    fragments = []\n",
    "    for id, frag in enumerate(frags):\n",
    "        mz, code, i = frag\n",
    "        frag_charge = charge_from_code(code)\n",
    "        frag_sequence, frag_residue_range = fragment_sequence(\n",
    "            prec_sequence, frag, prec_residue_range\n",
    "        )\n",
    "        fragment = build_safe_fragment(\n",
    "            id,\n",
    "            frag_sequence,\n",
    "            [frag_residue_range],\n",
    "            frag_charge,\n",
    "            mz,\n",
    "            prec_residue_range != frag_residue_range,\n",
    "        )\n",
    "\n",
    "        fragments.append(\n",
    "            {\"fragment\": fragment, \"precursor\": precursor, \"var_bonds\": []}\n",
    "        )\n",
    "    return fragments\n",
    "\n",
    "\n",
    "def generate_fragments(peptide: Dict, count=50):\n",
    "    max_charge = peptide[\"charge\"]\n",
    "    precursor: Precursor = peptide[\"precursor\"]\n",
    "\n",
    "    if connected_cys_count(precursor) == 0:\n",
    "        pep = Peptide(\n",
    "            precursor.sequence,\n",
    "            charge=max_charge,\n",
    "            modifications=[\n",
    "                ModSite(IAA_ALKYLATION.mass, i + 1, IAA_ALKYLATION.description)\n",
    "                for i, res in enumerate(precursor.sequence)\n",
    "                if res == \"C\"\n",
    "            ],\n",
    "        )\n",
    "        frags = pep.fragment(\n",
    "            ion_types={IonType.y: [], IonType.b: [], IonType.precursor: []}\n",
    "        )\n",
    "        frags = list(sorted(list(set(choices(frags, k=count)))))\n",
    "\n",
    "        return safe_frags_to_fragments(\n",
    "            frags, precursor.sequence, precursor.residue_ranges[0], precursor\n",
    "        )\n",
    "    elif len(precursor.segments) == 2:\n",
    "        ps, qs = precursor.sequence.split(\"+\")\n",
    "        psi = list(zip(range(*precursor.residue_ranges[0]), ps))\n",
    "        qsi = list(zip(range(*precursor.residue_ranges[1]), qs))\n",
    "\n",
    "        p_frags = Peptide(\n",
    "            ps,\n",
    "            charge=1,\n",
    "            modifications=[\n",
    "                ModSite(IAA_ALKYLATION.mass, ri + 1, IAA_ALKYLATION.description)\n",
    "                for ri, (ai, res) in enumerate(psi)\n",
    "                if res == \"C\" and ai not in (72, 119)\n",
    "            ],\n",
    "        ).fragment(\n",
    "            ion_types={\n",
    "                IonType.y: [],\n",
    "                IonType.b: [],\n",
    "            }\n",
    "        )\n",
    "\n",
    "        q_frags = Peptide(\n",
    "            qs,\n",
    "            charge=1,\n",
    "            modifications=[\n",
    "                ModSite(IAA_ALKYLATION.mass, ri + 1, IAA_ALKYLATION.description)\n",
    "                for ri, (ai, res) in enumerate(qsi)\n",
    "                if res == \"C\" and ai not in (72, 119)\n",
    "            ],\n",
    "        ).fragment(\n",
    "            ion_types={\n",
    "                IonType.y: [],\n",
    "                IonType.b: [],\n",
    "            }\n",
    "        )\n",
    "\n",
    "        psafe, pcys = safe_frags(\n",
    "            precursor.residue_ranges[0],\n",
    "            list(sorted(list(set(choices(p_frags, k=count))))),\n",
    "            [72, 119],\n",
    "        )\n",
    "        qsafe, qcys = safe_frags(\n",
    "            precursor.residue_ranges[1],\n",
    "            list(sorted(list(set(choices(q_frags, k=count))))),\n",
    "            [72, 119],\n",
    "        )\n",
    "\n",
    "        result = safe_frags_to_fragments(\n",
    "            psafe, ps, precursor.residue_ranges[0], precursor\n",
    "        ) + safe_frags_to_fragments(qsafe, qs, precursor.residue_ranges[1], precursor)\n",
    "\n",
    "        shuffle(pcys)\n",
    "        shuffle(qcys)\n",
    "\n",
    "        p_fragments = [\n",
    "            fr[\"fragment\"]\n",
    "            for fr in safe_frags_to_fragments(\n",
    "                pcys, ps, precursor.residue_ranges[0], precursor\n",
    "            )\n",
    "        ]\n",
    "        q_fragments = [\n",
    "            fr[\"fragment\"]\n",
    "            for fr in safe_frags_to_fragments(\n",
    "                qcys, qs, precursor.residue_ranges[1], precursor\n",
    "            )\n",
    "        ]\n",
    "\n",
    "        for pf, qf in choices(list(zip(p_fragments, q_fragments)), k=count):\n",
    "            total_charge = randint(1, max_charge)\n",
    "            total_mass = pf.mz + qf.mz + CYS_BOND.mass - 2 * PROTON\n",
    "\n",
    "            if \"C\" not in pf.sequence or \"C\" not in qf.sequence:\n",
    "                continue\n",
    "\n",
    "            fragment = Fragment(\n",
    "                0,\n",
    "                sequence=pf.sequence + \"+\" + qf.sequence,\n",
    "                residue_ranges=pf.residue_ranges + qf.residue_ranges,\n",
    "                intensity=10,\n",
    "                intensity_ratio=1,\n",
    "                mass=total_mass,\n",
    "                target_mass=total_mass,\n",
    "                mz=total_mass / total_charge + PROTON,\n",
    "                target_mz=total_mass / total_charge + PROTON,\n",
    "                charge=total_charge,\n",
    "                break_count=pf.break_count + qf.break_count,\n",
    "                error_ppm=0,\n",
    "                modifications=qf.modifications + pf.modifications,\n",
    "                connected_bonds=tuple([(72, 119)]),\n",
    "                disconnected_cys=tuple([]),\n",
    "            )\n",
    "\n",
    "            result.append(\n",
    "                {\"fragment\": fragment, \"precursor\": precursor, \"var_bonds\": [(72, 119)]}\n",
    "            )\n",
    "        return result\n",
    "    else:\n",
    "        ps = precursor.sequence\n",
    "        psi = list(zip(range(*precursor.residue_ranges[0]), ps))\n",
    "\n",
    "        p_frags = Peptide(\n",
    "            ps,\n",
    "            charge=1,\n",
    "            modifications=[\n",
    "                ModSite(IAA_ALKYLATION.mass, ri + 1, IAA_ALKYLATION.description)\n",
    "                for ri, (ai, res) in enumerate(psi)\n",
    "                if res == \"C\" and ai not in (72, 119)\n",
    "            ],\n",
    "        ).fragment(ion_types={IonType.y: [], IonType.b: [], IonType.precursor: []})\n",
    "        p_frags = list(p_frags)\n",
    "\n",
    "        psafe, pcys = safe_frags(\n",
    "            precursor.residue_ranges[0],\n",
    "            list(sorted(list(set(choices(p_frags, k=count * 2))))),\n",
    "            [72, 119],\n",
    "        )\n",
    "\n",
    "        result = []\n",
    "\n",
    "        p_fragments = [\n",
    "            fr[\"fragment\"]\n",
    "            for fr in safe_frags_to_fragments(\n",
    "                [pf for pf in pcys if \"b\" in pf[1]],\n",
    "                ps,\n",
    "                precursor.residue_ranges[0],\n",
    "                precursor,\n",
    "            )\n",
    "        ]\n",
    "        q_fragments = [\n",
    "            fr[\"fragment\"]\n",
    "            for fr in safe_frags_to_fragments(\n",
    "                [qf for qf in pcys if \"y\" in qf[1]],\n",
    "                ps,\n",
    "                precursor.residue_ranges[0],\n",
    "                precursor,\n",
    "            )\n",
    "        ]\n",
    "\n",
    "        for pf, qf in choices(list(zip(p_fragments, q_fragments)), k=count):\n",
    "            if \"C\" not in pf.sequence or \"C\" not in qf.sequence:\n",
    "                continue\n",
    "            total_charge = randint(1, max_charge)\n",
    "\n",
    "            pr, qr = pf.residue_ranges[0], qf.residue_ranges[0]\n",
    "            if intersects(pr, qr):\n",
    "                continue\n",
    "\n",
    "            total_mass = pf.mz + qf.mz + CYS_BOND.mass - 2 * PROTON\n",
    "\n",
    "            fragment = Fragment(\n",
    "                0,\n",
    "                sequence=pf.sequence + \"+\" + qf.sequence,\n",
    "                residue_ranges=pf.residue_ranges + qf.residue_ranges,\n",
    "                intensity=10,\n",
    "                intensity_ratio=1,\n",
    "                mass=total_mass,\n",
    "                target_mass=total_mass,\n",
    "                mz=total_mass / total_charge + PROTON,\n",
    "                target_mz=total_mass / total_charge + PROTON,\n",
    "                charge=total_charge,\n",
    "                break_count=2 if pr[1] != qr[0] else 1,\n",
    "                error_ppm=0,\n",
    "                modifications=qf.modifications + pf.modifications,\n",
    "                connected_bonds=tuple([(72, 119)]),\n",
    "                disconnected_cys=tuple([]),\n",
    "            )\n",
    "\n",
    "            result.append(\n",
    "                {\"fragment\": fragment, \"precursor\": precursor, \"var_bonds\": [(72, 119)]}\n",
    "            )\n",
    "        return result\n"
   ],
   "metadata": {
    "collapsed": false,
    "pycharm": {
     "name": "#%%\n"
    }
   }
  },
  {
   "cell_type": "code",
   "execution_count": 6,
   "outputs": [
    {
     "name": "stdout",
     "output_type": "stream",
     "text": [
      "In total we have 863 precursors\n"
     ]
    }
   ],
   "source": [
    "\n",
    "print(f\"In total we have {len(precursors)} precursors\")\n",
    "\n",
    "scans: List[Scan] = []\n",
    "fragment_records = []\n",
    "precursor_records = []\n",
    "\n",
    "for i, prec in enumerate(precursors):\n",
    "    p: Precursor = prec[\"precursor\"]\n",
    "    frags = generate_fragments(prec)\n",
    "\n",
    "    fragment_objects: List[Fragment] = [f[\"fragment\"] for f in frags]\n",
    "    scan = Scan(\n",
    "        nth_in_order=i,\n",
    "        id=i,\n",
    "        time=i,\n",
    "        charge=prec[\"charge\"],\n",
    "        prec_mz=p.mz,\n",
    "        prec_intensity=100,\n",
    "        prec_mass=p.mass,\n",
    "        fragments_mz=np.array(sorted([f.mz for f in fragment_objects])),\n",
    "        fragments_intensity=np.array([f.intensity for f in fragment_objects]),\n",
    "        threshold=0,\n",
    "    )\n",
    "    scans.append(scan)\n",
    "\n",
    "    precursor_records.append(scan.to_dict() | p.to_dict())\n",
    "\n",
    "    fragment_records += [\n",
    "        scan.to_dict()\n",
    "        | fr[\"precursor\"].to_dict()\n",
    "        | {\"var_bonds\": fr[\"var_bonds\"]}\n",
    "        | fr[\"fragment\"].to_dict()\n",
    "        for fr in frags\n",
    "    ]\n"
   ],
   "metadata": {
    "collapsed": false,
    "pycharm": {
     "name": "#%%\n"
    }
   }
  },
  {
   "cell_type": "code",
   "execution_count": 7,
   "outputs": [
    {
     "data": {
      "text/plain": "     scan_id  scan_nth_in_order  scan_time  scan_total_intensity  prec_charge  \\\n0          0                  0          0                   400            2   \n1          1                  1          1                   390            5   \n2          2                  2          2                   450            3   \n3          3                  3          3                   480            5   \n4          4                  4          4                   470            5   \n..       ...                ...        ...                   ...          ...   \n858      858                858        858                   280            3   \n859      859                859        859                   250            1   \n860      860                860        860                   210            5   \n861      861                861        861                   160            2   \n862      862                862        862                   270            4   \n\n                                         prec_sequence  prec_segment_count  \\\n0                         NVLQPSSVDSQTAMVLVNAIVFKGLWEK                   1   \n1                                     GGLEPINFQTAADQAR                   1   \n2        VASMASEKMKILELPFASGTMSMLVLLPDEVSGLEQLESIINFEK                   1   \n3    ELYRGGLEPINFQTAADQARELINSWVESQTNGIIRNVLQPSSVDS...                   1   \n4               MKMEEKYNLTSVLMAMGITDVFSSSANLSGISSAESLK                   1   \n..                                                 ...                 ...   \n858  LPGFGDSIEAQCGTSVNVHSSLRDILNQITKPNDVYSFSLASRLYA...                   1   \n859  LPGFGDSIEAQCGTSVNVHSSLRDILNQITKPNDVYSFSLASRLYA...                   1   \n860  LPGFGDSIEAQCGTSVNVHSSLRDILNQITKPNDVYSFSLASRLYA...                   1   \n861  LPGFGDSIEAQCGTSVNVHSSLRDILNQITKPNDVYSFSLASRLYA...                   1   \n862  LPGFGDSIEAQCGTSVNVHSSLRDILNQITKPNDVYSFSLASRLYA...                   1   \n\n    prec_tryptide_ranges prec_residue_ranges  prec_max_mc_count prec_mc  \\\n0             [(14, 16)]        [(158, 186)]                  1     [1]   \n1             [(12, 13)]        [(126, 142)]                  0     [0]   \n2             [(19, 22)]        [(218, 263)]                  2     [2]   \n3             [(11, 15)]        [(122, 181)]                  3     [3]   \n4             [(26, 29)]        [(284, 322)]                  2     [2]   \n..                   ...                 ...                ...     ...   \n858            [(7, 11)]         [(61, 122)]                  3     [3]   \n859            [(7, 11)]         [(61, 122)]                  3     [3]   \n860            [(7, 11)]         [(61, 122)]                  3     [3]   \n861            [(7, 11)]         [(61, 122)]                  3     [3]   \n862            [(7, 11)]         [(61, 122)]                  3     [3]   \n\n     prec_cys_bond_count    prec_mass      prec_mz  prec_error  \\\n0                      0  3072.631793  1537.323721           0   \n1                      0  1686.832547   338.374334           0   \n2                      0  4924.523755  1642.515743           0   \n3                      0  6529.370387  1306.881902           0   \n4                      0  4068.976778   814.803181           0   \n..                   ...          ...          ...         ...   \n858                    0  6841.416016  2281.479831           0   \n859                    0  6841.416016  6842.423841           0   \n860                    0  6841.416016  1369.291028           0   \n861                    0  6841.416016  3421.715833           0   \n862                    0  6841.416016  1711.361829           0   \n\n     prec_alkylation_count prec_mods  \n0                        0        []  \n1                        0        []  \n2                        0        []  \n3                        0        []  \n4                        0        []  \n..                     ...       ...  \n858                      0        []  \n859                      0        []  \n860                      0        []  \n861                      0        []  \n862                      0        []  \n\n[863 rows x 17 columns]",
      "text/html": "<div>\n<style scoped>\n    .dataframe tbody tr th:only-of-type {\n        vertical-align: middle;\n    }\n\n    .dataframe tbody tr th {\n        vertical-align: top;\n    }\n\n    .dataframe thead th {\n        text-align: right;\n    }\n</style>\n<table border=\"1\" class=\"dataframe\">\n  <thead>\n    <tr style=\"text-align: right;\">\n      <th></th>\n      <th>scan_id</th>\n      <th>scan_nth_in_order</th>\n      <th>scan_time</th>\n      <th>scan_total_intensity</th>\n      <th>prec_charge</th>\n      <th>prec_sequence</th>\n      <th>prec_segment_count</th>\n      <th>prec_tryptide_ranges</th>\n      <th>prec_residue_ranges</th>\n      <th>prec_max_mc_count</th>\n      <th>prec_mc</th>\n      <th>prec_cys_bond_count</th>\n      <th>prec_mass</th>\n      <th>prec_mz</th>\n      <th>prec_error</th>\n      <th>prec_alkylation_count</th>\n      <th>prec_mods</th>\n    </tr>\n  </thead>\n  <tbody>\n    <tr>\n      <th>0</th>\n      <td>0</td>\n      <td>0</td>\n      <td>0</td>\n      <td>400</td>\n      <td>2</td>\n      <td>NVLQPSSVDSQTAMVLVNAIVFKGLWEK</td>\n      <td>1</td>\n      <td>[(14, 16)]</td>\n      <td>[(158, 186)]</td>\n      <td>1</td>\n      <td>[1]</td>\n      <td>0</td>\n      <td>3072.631793</td>\n      <td>1537.323721</td>\n      <td>0</td>\n      <td>0</td>\n      <td>[]</td>\n    </tr>\n    <tr>\n      <th>1</th>\n      <td>1</td>\n      <td>1</td>\n      <td>1</td>\n      <td>390</td>\n      <td>5</td>\n      <td>GGLEPINFQTAADQAR</td>\n      <td>1</td>\n      <td>[(12, 13)]</td>\n      <td>[(126, 142)]</td>\n      <td>0</td>\n      <td>[0]</td>\n      <td>0</td>\n      <td>1686.832547</td>\n      <td>338.374334</td>\n      <td>0</td>\n      <td>0</td>\n      <td>[]</td>\n    </tr>\n    <tr>\n      <th>2</th>\n      <td>2</td>\n      <td>2</td>\n      <td>2</td>\n      <td>450</td>\n      <td>3</td>\n      <td>VASMASEKMKILELPFASGTMSMLVLLPDEVSGLEQLESIINFEK</td>\n      <td>1</td>\n      <td>[(19, 22)]</td>\n      <td>[(218, 263)]</td>\n      <td>2</td>\n      <td>[2]</td>\n      <td>0</td>\n      <td>4924.523755</td>\n      <td>1642.515743</td>\n      <td>0</td>\n      <td>0</td>\n      <td>[]</td>\n    </tr>\n    <tr>\n      <th>3</th>\n      <td>3</td>\n      <td>3</td>\n      <td>3</td>\n      <td>480</td>\n      <td>5</td>\n      <td>ELYRGGLEPINFQTAADQARELINSWVESQTNGIIRNVLQPSSVDS...</td>\n      <td>1</td>\n      <td>[(11, 15)]</td>\n      <td>[(122, 181)]</td>\n      <td>3</td>\n      <td>[3]</td>\n      <td>0</td>\n      <td>6529.370387</td>\n      <td>1306.881902</td>\n      <td>0</td>\n      <td>0</td>\n      <td>[]</td>\n    </tr>\n    <tr>\n      <th>4</th>\n      <td>4</td>\n      <td>4</td>\n      <td>4</td>\n      <td>470</td>\n      <td>5</td>\n      <td>MKMEEKYNLTSVLMAMGITDVFSSSANLSGISSAESLK</td>\n      <td>1</td>\n      <td>[(26, 29)]</td>\n      <td>[(284, 322)]</td>\n      <td>2</td>\n      <td>[2]</td>\n      <td>0</td>\n      <td>4068.976778</td>\n      <td>814.803181</td>\n      <td>0</td>\n      <td>0</td>\n      <td>[]</td>\n    </tr>\n    <tr>\n      <th>...</th>\n      <td>...</td>\n      <td>...</td>\n      <td>...</td>\n      <td>...</td>\n      <td>...</td>\n      <td>...</td>\n      <td>...</td>\n      <td>...</td>\n      <td>...</td>\n      <td>...</td>\n      <td>...</td>\n      <td>...</td>\n      <td>...</td>\n      <td>...</td>\n      <td>...</td>\n      <td>...</td>\n      <td>...</td>\n    </tr>\n    <tr>\n      <th>858</th>\n      <td>858</td>\n      <td>858</td>\n      <td>858</td>\n      <td>280</td>\n      <td>3</td>\n      <td>LPGFGDSIEAQCGTSVNVHSSLRDILNQITKPNDVYSFSLASRLYA...</td>\n      <td>1</td>\n      <td>[(7, 11)]</td>\n      <td>[(61, 122)]</td>\n      <td>3</td>\n      <td>[3]</td>\n      <td>0</td>\n      <td>6841.416016</td>\n      <td>2281.479831</td>\n      <td>0</td>\n      <td>0</td>\n      <td>[]</td>\n    </tr>\n    <tr>\n      <th>859</th>\n      <td>859</td>\n      <td>859</td>\n      <td>859</td>\n      <td>250</td>\n      <td>1</td>\n      <td>LPGFGDSIEAQCGTSVNVHSSLRDILNQITKPNDVYSFSLASRLYA...</td>\n      <td>1</td>\n      <td>[(7, 11)]</td>\n      <td>[(61, 122)]</td>\n      <td>3</td>\n      <td>[3]</td>\n      <td>0</td>\n      <td>6841.416016</td>\n      <td>6842.423841</td>\n      <td>0</td>\n      <td>0</td>\n      <td>[]</td>\n    </tr>\n    <tr>\n      <th>860</th>\n      <td>860</td>\n      <td>860</td>\n      <td>860</td>\n      <td>210</td>\n      <td>5</td>\n      <td>LPGFGDSIEAQCGTSVNVHSSLRDILNQITKPNDVYSFSLASRLYA...</td>\n      <td>1</td>\n      <td>[(7, 11)]</td>\n      <td>[(61, 122)]</td>\n      <td>3</td>\n      <td>[3]</td>\n      <td>0</td>\n      <td>6841.416016</td>\n      <td>1369.291028</td>\n      <td>0</td>\n      <td>0</td>\n      <td>[]</td>\n    </tr>\n    <tr>\n      <th>861</th>\n      <td>861</td>\n      <td>861</td>\n      <td>861</td>\n      <td>160</td>\n      <td>2</td>\n      <td>LPGFGDSIEAQCGTSVNVHSSLRDILNQITKPNDVYSFSLASRLYA...</td>\n      <td>1</td>\n      <td>[(7, 11)]</td>\n      <td>[(61, 122)]</td>\n      <td>3</td>\n      <td>[3]</td>\n      <td>0</td>\n      <td>6841.416016</td>\n      <td>3421.715833</td>\n      <td>0</td>\n      <td>0</td>\n      <td>[]</td>\n    </tr>\n    <tr>\n      <th>862</th>\n      <td>862</td>\n      <td>862</td>\n      <td>862</td>\n      <td>270</td>\n      <td>4</td>\n      <td>LPGFGDSIEAQCGTSVNVHSSLRDILNQITKPNDVYSFSLASRLYA...</td>\n      <td>1</td>\n      <td>[(7, 11)]</td>\n      <td>[(61, 122)]</td>\n      <td>3</td>\n      <td>[3]</td>\n      <td>0</td>\n      <td>6841.416016</td>\n      <td>1711.361829</td>\n      <td>0</td>\n      <td>0</td>\n      <td>[]</td>\n    </tr>\n  </tbody>\n</table>\n<p>863 rows × 17 columns</p>\n</div>"
     },
     "execution_count": 7,
     "metadata": {},
     "output_type": "execute_result"
    }
   ],
   "source": [
    "ideal_precursor_df = pd.DataFrame(precursor_records)\n",
    "\n",
    "ideal_precursor_df.to_csv(\n",
    "    \"../out/csv/precursor_matches_TEST_OVA_segments=3_error=50ppm_ideal.csv\",\n",
    "    index=False,\n",
    ")\n",
    "\n",
    "ideal_precursor_df"
   ],
   "metadata": {
    "collapsed": false,
    "pycharm": {
     "name": "#%%\n"
    }
   }
  },
  {
   "cell_type": "code",
   "execution_count": 8,
   "outputs": [
    {
     "data": {
      "text/plain": "       scan_id  scan_nth_in_order  scan_time  scan_total_intensity  \\\n0            0                  0          0                   400   \n1            0                  0          0                   400   \n2            0                  0          0                   400   \n3            0                  0          0                   400   \n4            0                  0          0                   400   \n...        ...                ...        ...                   ...   \n45028      862                862        862                   270   \n45029      862                862        862                   270   \n45030      862                862        862                   270   \n45031      862                862        862                   270   \n45032      862                862        862                   270   \n\n       prec_charge                                      prec_sequence  \\\n0                2                       NVLQPSSVDSQTAMVLVNAIVFKGLWEK   \n1                2                       NVLQPSSVDSQTAMVLVNAIVFKGLWEK   \n2                2                       NVLQPSSVDSQTAMVLVNAIVFKGLWEK   \n3                2                       NVLQPSSVDSQTAMVLVNAIVFKGLWEK   \n4                2                       NVLQPSSVDSQTAMVLVNAIVFKGLWEK   \n...            ...                                                ...   \n45028            4  LPGFGDSIEAQCGTSVNVHSSLRDILNQITKPNDVYSFSLASRLYA...   \n45029            4  LPGFGDSIEAQCGTSVNVHSSLRDILNQITKPNDVYSFSLASRLYA...   \n45030            4  LPGFGDSIEAQCGTSVNVHSSLRDILNQITKPNDVYSFSLASRLYA...   \n45031            4  LPGFGDSIEAQCGTSVNVHSSLRDILNQITKPNDVYSFSLASRLYA...   \n45032            4  LPGFGDSIEAQCGTSVNVHSSLRDILNQITKPNDVYSFSLASRLYA...   \n\n       prec_segment_count prec_tryptide_ranges prec_residue_ranges  \\\n0                       1           [(14, 16)]        [(158, 186)]   \n1                       1           [(14, 16)]        [(158, 186)]   \n2                       1           [(14, 16)]        [(158, 186)]   \n3                       1           [(14, 16)]        [(158, 186)]   \n4                       1           [(14, 16)]        [(158, 186)]   \n...                   ...                  ...                 ...   \n45028                   1            [(7, 11)]         [(61, 122)]   \n45029                   1            [(7, 11)]         [(61, 122)]   \n45030                   1            [(7, 11)]         [(61, 122)]   \n45031                   1            [(7, 11)]         [(61, 122)]   \n45032                   1            [(7, 11)]         [(61, 122)]   \n\n       prec_max_mc_count  ... frag_break_count  frag_error_ppm  \\\n0                      1  ...             True               0   \n1                      1  ...             True               0   \n2                      1  ...             True               0   \n3                      1  ...             True               0   \n4                      1  ...             True               0   \n...                  ...  ...              ...             ...   \n45028                  3  ...                2               0   \n45029                  3  ...                2               0   \n45030                  3  ...                2               0   \n45031                  3  ...                2               0   \n45032                  3  ...                2               0   \n\n                                          frag_mods  frag_connected_bonds  \\\n0                                                []                    []   \n1                                                []                    []   \n2                                                []                    []   \n3                                                []                    []   \n4                                                []                    []   \n...                                             ...                   ...   \n45028  [Cys Alkylation (IAA), Cys Alkylation (IAA)]          ((72, 119),)   \n45029  [Cys Alkylation (IAA), Cys Alkylation (IAA)]          ((72, 119),)   \n45030  [Cys Alkylation (IAA), Cys Alkylation (IAA)]          ((72, 119),)   \n45031  [Cys Alkylation (IAA), Cys Alkylation (IAA)]          ((72, 119),)   \n45032  [Cys Alkylation (IAA), Cys Alkylation (IAA)]          ((72, 119),)   \n\n       frag_disconnected_cys  frag_interesting_disconnected_cys  \\\n0                         []                                 []   \n1                         []                                 []   \n2                         []                                 []   \n3                         []                                 []   \n4                         []                                 []   \n...                      ...                                ...   \n45028                     ()                                 []   \n45029                     ()                                 []   \n45030                     ()                                 []   \n45031                     ()                                 []   \n45032                     ()                                 []   \n\n      frag_intensity frag_intensity_ratio  target_mass    target_mz  \n0                 10                  0.1   114.042379   115.050204  \n1                 10                  0.1   275.147572   276.155397  \n2                 10                  0.1   551.305650   276.660650  \n3                 10                  0.1   574.310401   288.163025  \n4                 10                  0.1   631.331864   316.673757  \n...              ...                  ...          ...          ...  \n45028             10                  1.0  5008.447670  1670.490382  \n45029             10                  1.0  4379.134381  1095.791420  \n45030             10                  1.0  2652.218892   885.080789  \n45031             10                  1.0  5347.699862  1337.932790  \n45032             10                  1.0  3237.571526  3238.579352  \n\n[45033 rows x 34 columns]",
      "text/html": "<div>\n<style scoped>\n    .dataframe tbody tr th:only-of-type {\n        vertical-align: middle;\n    }\n\n    .dataframe tbody tr th {\n        vertical-align: top;\n    }\n\n    .dataframe thead th {\n        text-align: right;\n    }\n</style>\n<table border=\"1\" class=\"dataframe\">\n  <thead>\n    <tr style=\"text-align: right;\">\n      <th></th>\n      <th>scan_id</th>\n      <th>scan_nth_in_order</th>\n      <th>scan_time</th>\n      <th>scan_total_intensity</th>\n      <th>prec_charge</th>\n      <th>prec_sequence</th>\n      <th>prec_segment_count</th>\n      <th>prec_tryptide_ranges</th>\n      <th>prec_residue_ranges</th>\n      <th>prec_max_mc_count</th>\n      <th>...</th>\n      <th>frag_break_count</th>\n      <th>frag_error_ppm</th>\n      <th>frag_mods</th>\n      <th>frag_connected_bonds</th>\n      <th>frag_disconnected_cys</th>\n      <th>frag_interesting_disconnected_cys</th>\n      <th>frag_intensity</th>\n      <th>frag_intensity_ratio</th>\n      <th>target_mass</th>\n      <th>target_mz</th>\n    </tr>\n  </thead>\n  <tbody>\n    <tr>\n      <th>0</th>\n      <td>0</td>\n      <td>0</td>\n      <td>0</td>\n      <td>400</td>\n      <td>2</td>\n      <td>NVLQPSSVDSQTAMVLVNAIVFKGLWEK</td>\n      <td>1</td>\n      <td>[(14, 16)]</td>\n      <td>[(158, 186)]</td>\n      <td>1</td>\n      <td>...</td>\n      <td>True</td>\n      <td>0</td>\n      <td>[]</td>\n      <td>[]</td>\n      <td>[]</td>\n      <td>[]</td>\n      <td>10</td>\n      <td>0.1</td>\n      <td>114.042379</td>\n      <td>115.050204</td>\n    </tr>\n    <tr>\n      <th>1</th>\n      <td>0</td>\n      <td>0</td>\n      <td>0</td>\n      <td>400</td>\n      <td>2</td>\n      <td>NVLQPSSVDSQTAMVLVNAIVFKGLWEK</td>\n      <td>1</td>\n      <td>[(14, 16)]</td>\n      <td>[(158, 186)]</td>\n      <td>1</td>\n      <td>...</td>\n      <td>True</td>\n      <td>0</td>\n      <td>[]</td>\n      <td>[]</td>\n      <td>[]</td>\n      <td>[]</td>\n      <td>10</td>\n      <td>0.1</td>\n      <td>275.147572</td>\n      <td>276.155397</td>\n    </tr>\n    <tr>\n      <th>2</th>\n      <td>0</td>\n      <td>0</td>\n      <td>0</td>\n      <td>400</td>\n      <td>2</td>\n      <td>NVLQPSSVDSQTAMVLVNAIVFKGLWEK</td>\n      <td>1</td>\n      <td>[(14, 16)]</td>\n      <td>[(158, 186)]</td>\n      <td>1</td>\n      <td>...</td>\n      <td>True</td>\n      <td>0</td>\n      <td>[]</td>\n      <td>[]</td>\n      <td>[]</td>\n      <td>[]</td>\n      <td>10</td>\n      <td>0.1</td>\n      <td>551.305650</td>\n      <td>276.660650</td>\n    </tr>\n    <tr>\n      <th>3</th>\n      <td>0</td>\n      <td>0</td>\n      <td>0</td>\n      <td>400</td>\n      <td>2</td>\n      <td>NVLQPSSVDSQTAMVLVNAIVFKGLWEK</td>\n      <td>1</td>\n      <td>[(14, 16)]</td>\n      <td>[(158, 186)]</td>\n      <td>1</td>\n      <td>...</td>\n      <td>True</td>\n      <td>0</td>\n      <td>[]</td>\n      <td>[]</td>\n      <td>[]</td>\n      <td>[]</td>\n      <td>10</td>\n      <td>0.1</td>\n      <td>574.310401</td>\n      <td>288.163025</td>\n    </tr>\n    <tr>\n      <th>4</th>\n      <td>0</td>\n      <td>0</td>\n      <td>0</td>\n      <td>400</td>\n      <td>2</td>\n      <td>NVLQPSSVDSQTAMVLVNAIVFKGLWEK</td>\n      <td>1</td>\n      <td>[(14, 16)]</td>\n      <td>[(158, 186)]</td>\n      <td>1</td>\n      <td>...</td>\n      <td>True</td>\n      <td>0</td>\n      <td>[]</td>\n      <td>[]</td>\n      <td>[]</td>\n      <td>[]</td>\n      <td>10</td>\n      <td>0.1</td>\n      <td>631.331864</td>\n      <td>316.673757</td>\n    </tr>\n    <tr>\n      <th>...</th>\n      <td>...</td>\n      <td>...</td>\n      <td>...</td>\n      <td>...</td>\n      <td>...</td>\n      <td>...</td>\n      <td>...</td>\n      <td>...</td>\n      <td>...</td>\n      <td>...</td>\n      <td>...</td>\n      <td>...</td>\n      <td>...</td>\n      <td>...</td>\n      <td>...</td>\n      <td>...</td>\n      <td>...</td>\n      <td>...</td>\n      <td>...</td>\n      <td>...</td>\n      <td>...</td>\n    </tr>\n    <tr>\n      <th>45028</th>\n      <td>862</td>\n      <td>862</td>\n      <td>862</td>\n      <td>270</td>\n      <td>4</td>\n      <td>LPGFGDSIEAQCGTSVNVHSSLRDILNQITKPNDVYSFSLASRLYA...</td>\n      <td>1</td>\n      <td>[(7, 11)]</td>\n      <td>[(61, 122)]</td>\n      <td>3</td>\n      <td>...</td>\n      <td>2</td>\n      <td>0</td>\n      <td>[Cys Alkylation (IAA), Cys Alkylation (IAA)]</td>\n      <td>((72, 119),)</td>\n      <td>()</td>\n      <td>[]</td>\n      <td>10</td>\n      <td>1.0</td>\n      <td>5008.447670</td>\n      <td>1670.490382</td>\n    </tr>\n    <tr>\n      <th>45029</th>\n      <td>862</td>\n      <td>862</td>\n      <td>862</td>\n      <td>270</td>\n      <td>4</td>\n      <td>LPGFGDSIEAQCGTSVNVHSSLRDILNQITKPNDVYSFSLASRLYA...</td>\n      <td>1</td>\n      <td>[(7, 11)]</td>\n      <td>[(61, 122)]</td>\n      <td>3</td>\n      <td>...</td>\n      <td>2</td>\n      <td>0</td>\n      <td>[Cys Alkylation (IAA), Cys Alkylation (IAA)]</td>\n      <td>((72, 119),)</td>\n      <td>()</td>\n      <td>[]</td>\n      <td>10</td>\n      <td>1.0</td>\n      <td>4379.134381</td>\n      <td>1095.791420</td>\n    </tr>\n    <tr>\n      <th>45030</th>\n      <td>862</td>\n      <td>862</td>\n      <td>862</td>\n      <td>270</td>\n      <td>4</td>\n      <td>LPGFGDSIEAQCGTSVNVHSSLRDILNQITKPNDVYSFSLASRLYA...</td>\n      <td>1</td>\n      <td>[(7, 11)]</td>\n      <td>[(61, 122)]</td>\n      <td>3</td>\n      <td>...</td>\n      <td>2</td>\n      <td>0</td>\n      <td>[Cys Alkylation (IAA), Cys Alkylation (IAA)]</td>\n      <td>((72, 119),)</td>\n      <td>()</td>\n      <td>[]</td>\n      <td>10</td>\n      <td>1.0</td>\n      <td>2652.218892</td>\n      <td>885.080789</td>\n    </tr>\n    <tr>\n      <th>45031</th>\n      <td>862</td>\n      <td>862</td>\n      <td>862</td>\n      <td>270</td>\n      <td>4</td>\n      <td>LPGFGDSIEAQCGTSVNVHSSLRDILNQITKPNDVYSFSLASRLYA...</td>\n      <td>1</td>\n      <td>[(7, 11)]</td>\n      <td>[(61, 122)]</td>\n      <td>3</td>\n      <td>...</td>\n      <td>2</td>\n      <td>0</td>\n      <td>[Cys Alkylation (IAA), Cys Alkylation (IAA)]</td>\n      <td>((72, 119),)</td>\n      <td>()</td>\n      <td>[]</td>\n      <td>10</td>\n      <td>1.0</td>\n      <td>5347.699862</td>\n      <td>1337.932790</td>\n    </tr>\n    <tr>\n      <th>45032</th>\n      <td>862</td>\n      <td>862</td>\n      <td>862</td>\n      <td>270</td>\n      <td>4</td>\n      <td>LPGFGDSIEAQCGTSVNVHSSLRDILNQITKPNDVYSFSLASRLYA...</td>\n      <td>1</td>\n      <td>[(7, 11)]</td>\n      <td>[(61, 122)]</td>\n      <td>3</td>\n      <td>...</td>\n      <td>2</td>\n      <td>0</td>\n      <td>[Cys Alkylation (IAA), Cys Alkylation (IAA)]</td>\n      <td>((72, 119),)</td>\n      <td>()</td>\n      <td>[]</td>\n      <td>10</td>\n      <td>1.0</td>\n      <td>3237.571526</td>\n      <td>3238.579352</td>\n    </tr>\n  </tbody>\n</table>\n<p>45033 rows × 34 columns</p>\n</div>"
     },
     "execution_count": 8,
     "metadata": {},
     "output_type": "execute_result"
    }
   ],
   "source": [
    "ideal_fragment_df = pd.DataFrame(fragment_records)\n",
    "\n",
    "ideal_fragment_df.to_csv(\n",
    "    \"../out/csv/fragment_matches_TEST_OVA_segments=3_error=50ppm_ideal.csv\",\n",
    "    index=False,\n",
    ")\n",
    "\n",
    "ideal_fragment_df"
   ],
   "metadata": {
    "collapsed": false,
    "pycharm": {
     "name": "#%%\n"
    }
   }
  },
  {
   "cell_type": "code",
   "execution_count": 9,
   "outputs": [
    {
     "name": "stdout",
     "output_type": "stream",
     "text": [
      "Looking for matches...\n",
      "Saving the matches to ../out/precursor_matches/TEST_OVA_AT_segments=3_error=50ppm.pickle\n"
     ]
    },
    {
     "data": {
      "text/plain": "      scan_id  scan_nth_in_order  scan_time  scan_total_intensity  \\\n0           0                  0          0                   400   \n1           1                  1          1                   390   \n2           2                  2          2                   450   \n3           3                  3          3                   480   \n4           4                  4          4                   470   \n...       ...                ...        ...                   ...   \n1155      858                858        858                   280   \n1156      859                859        859                   250   \n1157      860                860        860                   210   \n1158      861                861        861                   160   \n1159      862                862        862                   270   \n\n      prec_charge                                      prec_sequence  \\\n0               2                       NVLQPSSVDSQTAMVLVNAIVFKGLWEK   \n1               5                                   GGLEPINFQTAADQAR   \n2               3      VASMASEKMKILELPFASGTMSMLVLLPDEVSGLEQLESIINFEK   \n3               5  ELYRGGLEPINFQTAADQARELINSWVESQTNGIIRNVLQPSSVDS...   \n4               5             MKMEEKYNLTSVLMAMGITDVFSSSANLSGISSAESLK   \n...           ...                                                ...   \n1155            3  LPGFGDSIEAQCGTSVNVHSSLRDILNQITKPNDVYSFSLASRLYA...   \n1156            1  LPGFGDSIEAQCGTSVNVHSSLRDILNQITKPNDVYSFSLASRLYA...   \n1157            5  LPGFGDSIEAQCGTSVNVHSSLRDILNQITKPNDVYSFSLASRLYA...   \n1158            2  LPGFGDSIEAQCGTSVNVHSSLRDILNQITKPNDVYSFSLASRLYA...   \n1159            4  LPGFGDSIEAQCGTSVNVHSSLRDILNQITKPNDVYSFSLASRLYA...   \n\n      prec_segment_count prec_tryptide_ranges prec_residue_ranges  \\\n0                      1           [(14, 16)]        [(158, 186)]   \n1                      1           [(12, 13)]        [(126, 142)]   \n2                      1           [(19, 22)]        [(218, 263)]   \n3                      1           [(11, 15)]        [(122, 181)]   \n4                      1           [(26, 29)]        [(284, 322)]   \n...                  ...                  ...                 ...   \n1155                   1            [(7, 11)]         [(61, 122)]   \n1156                   1            [(7, 11)]         [(61, 122)]   \n1157                   1            [(7, 11)]         [(61, 122)]   \n1158                   1            [(7, 11)]         [(61, 122)]   \n1159                   1            [(7, 11)]         [(61, 122)]   \n\n      prec_max_mc_count prec_mc  prec_cys_bond_count    prec_mass  \\\n0                     1     [1]                    0  3074.647443   \n1                     0     [0]                    0  1691.871672   \n2                     2     [2]                    0  4927.547230   \n3                     3     [3]                    0  6534.409512   \n4                     2     [2]                    0  4074.015903   \n...                 ...     ...                  ...          ...   \n1155                  3     [3]                    1  6844.439492   \n1156                  3     [3]                    1  6842.423841   \n1157                  3     [3]                    1  6846.455142   \n1158                  3     [3]                    1  6843.431667   \n1159                  3     [3]                    1  6845.447317   \n\n          prec_mz    prec_error  prec_alkylation_count  \\\n0     1537.323721  0.000000e+00                      0   \n1      338.374334  0.000000e+00                      0   \n2     1642.515743  1.846868e-10                      0   \n3     1306.881902  0.000000e+00                      0   \n4      814.803181  2.235193e-10                      0   \n...           ...           ...                    ...   \n1155  2281.479831  0.000000e+00                      0   \n1156  6842.423841  0.000000e+00                      0   \n1157  1369.291028  0.000000e+00                      0   \n1158  3421.715833  0.000000e+00                      0   \n1159  1711.361829  0.000000e+00                      0   \n\n                    prec_mods  \n0                          []  \n1                          []  \n2                          []  \n3                          []  \n4                          []  \n...                       ...  \n1155  [Disulphide Bond (–H2)]  \n1156  [Disulphide Bond (–H2)]  \n1157  [Disulphide Bond (–H2)]  \n1158  [Disulphide Bond (–H2)]  \n1159  [Disulphide Bond (–H2)]  \n\n[1160 rows x 17 columns]",
      "text/html": "<div>\n<style scoped>\n    .dataframe tbody tr th:only-of-type {\n        vertical-align: middle;\n    }\n\n    .dataframe tbody tr th {\n        vertical-align: top;\n    }\n\n    .dataframe thead th {\n        text-align: right;\n    }\n</style>\n<table border=\"1\" class=\"dataframe\">\n  <thead>\n    <tr style=\"text-align: right;\">\n      <th></th>\n      <th>scan_id</th>\n      <th>scan_nth_in_order</th>\n      <th>scan_time</th>\n      <th>scan_total_intensity</th>\n      <th>prec_charge</th>\n      <th>prec_sequence</th>\n      <th>prec_segment_count</th>\n      <th>prec_tryptide_ranges</th>\n      <th>prec_residue_ranges</th>\n      <th>prec_max_mc_count</th>\n      <th>prec_mc</th>\n      <th>prec_cys_bond_count</th>\n      <th>prec_mass</th>\n      <th>prec_mz</th>\n      <th>prec_error</th>\n      <th>prec_alkylation_count</th>\n      <th>prec_mods</th>\n    </tr>\n  </thead>\n  <tbody>\n    <tr>\n      <th>0</th>\n      <td>0</td>\n      <td>0</td>\n      <td>0</td>\n      <td>400</td>\n      <td>2</td>\n      <td>NVLQPSSVDSQTAMVLVNAIVFKGLWEK</td>\n      <td>1</td>\n      <td>[(14, 16)]</td>\n      <td>[(158, 186)]</td>\n      <td>1</td>\n      <td>[1]</td>\n      <td>0</td>\n      <td>3074.647443</td>\n      <td>1537.323721</td>\n      <td>0.000000e+00</td>\n      <td>0</td>\n      <td>[]</td>\n    </tr>\n    <tr>\n      <th>1</th>\n      <td>1</td>\n      <td>1</td>\n      <td>1</td>\n      <td>390</td>\n      <td>5</td>\n      <td>GGLEPINFQTAADQAR</td>\n      <td>1</td>\n      <td>[(12, 13)]</td>\n      <td>[(126, 142)]</td>\n      <td>0</td>\n      <td>[0]</td>\n      <td>0</td>\n      <td>1691.871672</td>\n      <td>338.374334</td>\n      <td>0.000000e+00</td>\n      <td>0</td>\n      <td>[]</td>\n    </tr>\n    <tr>\n      <th>2</th>\n      <td>2</td>\n      <td>2</td>\n      <td>2</td>\n      <td>450</td>\n      <td>3</td>\n      <td>VASMASEKMKILELPFASGTMSMLVLLPDEVSGLEQLESIINFEK</td>\n      <td>1</td>\n      <td>[(19, 22)]</td>\n      <td>[(218, 263)]</td>\n      <td>2</td>\n      <td>[2]</td>\n      <td>0</td>\n      <td>4927.547230</td>\n      <td>1642.515743</td>\n      <td>1.846868e-10</td>\n      <td>0</td>\n      <td>[]</td>\n    </tr>\n    <tr>\n      <th>3</th>\n      <td>3</td>\n      <td>3</td>\n      <td>3</td>\n      <td>480</td>\n      <td>5</td>\n      <td>ELYRGGLEPINFQTAADQARELINSWVESQTNGIIRNVLQPSSVDS...</td>\n      <td>1</td>\n      <td>[(11, 15)]</td>\n      <td>[(122, 181)]</td>\n      <td>3</td>\n      <td>[3]</td>\n      <td>0</td>\n      <td>6534.409512</td>\n      <td>1306.881902</td>\n      <td>0.000000e+00</td>\n      <td>0</td>\n      <td>[]</td>\n    </tr>\n    <tr>\n      <th>4</th>\n      <td>4</td>\n      <td>4</td>\n      <td>4</td>\n      <td>470</td>\n      <td>5</td>\n      <td>MKMEEKYNLTSVLMAMGITDVFSSSANLSGISSAESLK</td>\n      <td>1</td>\n      <td>[(26, 29)]</td>\n      <td>[(284, 322)]</td>\n      <td>2</td>\n      <td>[2]</td>\n      <td>0</td>\n      <td>4074.015903</td>\n      <td>814.803181</td>\n      <td>2.235193e-10</td>\n      <td>0</td>\n      <td>[]</td>\n    </tr>\n    <tr>\n      <th>...</th>\n      <td>...</td>\n      <td>...</td>\n      <td>...</td>\n      <td>...</td>\n      <td>...</td>\n      <td>...</td>\n      <td>...</td>\n      <td>...</td>\n      <td>...</td>\n      <td>...</td>\n      <td>...</td>\n      <td>...</td>\n      <td>...</td>\n      <td>...</td>\n      <td>...</td>\n      <td>...</td>\n      <td>...</td>\n    </tr>\n    <tr>\n      <th>1155</th>\n      <td>858</td>\n      <td>858</td>\n      <td>858</td>\n      <td>280</td>\n      <td>3</td>\n      <td>LPGFGDSIEAQCGTSVNVHSSLRDILNQITKPNDVYSFSLASRLYA...</td>\n      <td>1</td>\n      <td>[(7, 11)]</td>\n      <td>[(61, 122)]</td>\n      <td>3</td>\n      <td>[3]</td>\n      <td>1</td>\n      <td>6844.439492</td>\n      <td>2281.479831</td>\n      <td>0.000000e+00</td>\n      <td>0</td>\n      <td>[Disulphide Bond (–H2)]</td>\n    </tr>\n    <tr>\n      <th>1156</th>\n      <td>859</td>\n      <td>859</td>\n      <td>859</td>\n      <td>250</td>\n      <td>1</td>\n      <td>LPGFGDSIEAQCGTSVNVHSSLRDILNQITKPNDVYSFSLASRLYA...</td>\n      <td>1</td>\n      <td>[(7, 11)]</td>\n      <td>[(61, 122)]</td>\n      <td>3</td>\n      <td>[3]</td>\n      <td>1</td>\n      <td>6842.423841</td>\n      <td>6842.423841</td>\n      <td>0.000000e+00</td>\n      <td>0</td>\n      <td>[Disulphide Bond (–H2)]</td>\n    </tr>\n    <tr>\n      <th>1157</th>\n      <td>860</td>\n      <td>860</td>\n      <td>860</td>\n      <td>210</td>\n      <td>5</td>\n      <td>LPGFGDSIEAQCGTSVNVHSSLRDILNQITKPNDVYSFSLASRLYA...</td>\n      <td>1</td>\n      <td>[(7, 11)]</td>\n      <td>[(61, 122)]</td>\n      <td>3</td>\n      <td>[3]</td>\n      <td>1</td>\n      <td>6846.455142</td>\n      <td>1369.291028</td>\n      <td>0.000000e+00</td>\n      <td>0</td>\n      <td>[Disulphide Bond (–H2)]</td>\n    </tr>\n    <tr>\n      <th>1158</th>\n      <td>861</td>\n      <td>861</td>\n      <td>861</td>\n      <td>160</td>\n      <td>2</td>\n      <td>LPGFGDSIEAQCGTSVNVHSSLRDILNQITKPNDVYSFSLASRLYA...</td>\n      <td>1</td>\n      <td>[(7, 11)]</td>\n      <td>[(61, 122)]</td>\n      <td>3</td>\n      <td>[3]</td>\n      <td>1</td>\n      <td>6843.431667</td>\n      <td>3421.715833</td>\n      <td>0.000000e+00</td>\n      <td>0</td>\n      <td>[Disulphide Bond (–H2)]</td>\n    </tr>\n    <tr>\n      <th>1159</th>\n      <td>862</td>\n      <td>862</td>\n      <td>862</td>\n      <td>270</td>\n      <td>4</td>\n      <td>LPGFGDSIEAQCGTSVNVHSSLRDILNQITKPNDVYSFSLASRLYA...</td>\n      <td>1</td>\n      <td>[(7, 11)]</td>\n      <td>[(61, 122)]</td>\n      <td>3</td>\n      <td>[3]</td>\n      <td>1</td>\n      <td>6845.447317</td>\n      <td>1711.361829</td>\n      <td>0.000000e+00</td>\n      <td>0</td>\n      <td>[Disulphide Bond (–H2)]</td>\n    </tr>\n  </tbody>\n</table>\n<p>1160 rows × 17 columns</p>\n</div>"
     },
     "execution_count": 9,
     "metadata": {},
     "output_type": "execute_result"
    }
   ],
   "source": [
    "precursor_matches = write_matched_precursors(\n",
    "    tryptides,\n",
    "    scans,\n",
    "    \"../out/precursor_matches/TEST_OVA_AT_segments=3_error=50ppm.pickle\",\n",
    "    max_segments=3,\n",
    "    error_ppm=5,\n",
    ")\n",
    "\n",
    "precursor_match_records = []\n",
    "for pm in precursor_matches:\n",
    "    precursor_match_records.append(pm[\"scan\"].to_dict() | pm[\"precursor\"].to_dict())\n",
    "\n",
    "prec_df = pd.DataFrame(precursor_match_records)\n",
    "\n",
    "prec_df.to_csv(\n",
    "    \"../out/csv/precursor_matches_TEST_OVA_segments=3_error=50ppm.csv\", index=False\n",
    ")\n",
    "\n",
    "prec_df"
   ],
   "metadata": {
    "collapsed": false,
    "pycharm": {
     "name": "#%%\n"
    }
   }
  },
  {
   "cell_type": "code",
   "execution_count": 10,
   "outputs": [
    {
     "name": "stderr",
     "output_type": "stream",
     "text": [
      "  0%|          | 0/1160 [00:00<?, ?it/s]"
     ]
    },
    {
     "name": "stdout",
     "output_type": "stream",
     "text": [
      "Writing the matched fragments to ../out/fragment_matches/TEST_OVA_AT_segments=3_breaks=2_error=5ppm.pickle\n"
     ]
    },
    {
     "name": "stderr",
     "output_type": "stream",
     "text": [
      "100%|██████████| 1160/1160 [03:35<00:00,  5.39it/s]\n"
     ]
    },
    {
     "data": {
      "text/plain": "        scan_id  scan_nth_in_order  scan_time  scan_total_intensity  \\\n0             0                  0          0                   400   \n1             0                  0          0                   400   \n2             0                  0          0                   400   \n3             0                  0          0                   400   \n4             0                  0          0                   400   \n...         ...                ...        ...                   ...   \n105760      862                862        862                   270   \n105761      862                862        862                   270   \n105762      862                862        862                   270   \n105763      862                862        862                   270   \n105764      862                862        862                   270   \n\n        prec_charge                                      prec_sequence  \\\n0                 2                       NVLQPSSVDSQTAMVLVNAIVFKGLWEK   \n1                 2                       NVLQPSSVDSQTAMVLVNAIVFKGLWEK   \n2                 2                       NVLQPSSVDSQTAMVLVNAIVFKGLWEK   \n3                 2                       NVLQPSSVDSQTAMVLVNAIVFKGLWEK   \n4                 2                       NVLQPSSVDSQTAMVLVNAIVFKGLWEK   \n...             ...                                                ...   \n105760            4  LPGFGDSIEAQCGTSVNVHSSLRDILNQITKPNDVYSFSLASRLYA...   \n105761            4  LPGFGDSIEAQCGTSVNVHSSLRDILNQITKPNDVYSFSLASRLYA...   \n105762            4  LPGFGDSIEAQCGTSVNVHSSLRDILNQITKPNDVYSFSLASRLYA...   \n105763            4  LPGFGDSIEAQCGTSVNVHSSLRDILNQITKPNDVYSFSLASRLYA...   \n105764            4  LPGFGDSIEAQCGTSVNVHSSLRDILNQITKPNDVYSFSLASRLYA...   \n\n        prec_segment_count prec_tryptide_ranges prec_residue_ranges  \\\n0                        1           [(14, 16)]        [(158, 186)]   \n1                        1           [(14, 16)]        [(158, 186)]   \n2                        1           [(14, 16)]        [(158, 186)]   \n3                        1           [(14, 16)]        [(158, 186)]   \n4                        1           [(14, 16)]        [(158, 186)]   \n...                    ...                  ...                 ...   \n105760                   1            [(7, 11)]         [(61, 122)]   \n105761                   1            [(7, 11)]         [(61, 122)]   \n105762                   1            [(7, 11)]         [(61, 122)]   \n105763                   1            [(7, 11)]         [(61, 122)]   \n105764                   1            [(7, 11)]         [(61, 122)]   \n\n        prec_max_mc_count  ... frag_error_ppm  \\\n0                       1  ...       4.810162   \n1                       1  ...       1.681699   \n2                       1  ...       1.990047   \n3                       1  ...       1.718720   \n4                       1  ...       1.512503   \n...                   ...  ...            ...   \n105760                  3  ...       0.160308   \n105761                  3  ...       0.160308   \n105762                  3  ...       0.160308   \n105763                  3  ...       0.160308   \n105764                  3  ...       0.160308   \n\n                                            frag_mods  frag_connected_bonds  \\\n0                                                  []                    []   \n1                                                  []                    []   \n2                                                  []                    []   \n3                                                  []                    []   \n4                                                  []                    []   \n...                                               ...                   ...   \n105760                                             []           [(72, 119)]   \n105761                                             []           [(72, 119)]   \n105762  [Cys 72, Cys 119: R–SSH + ()–R or R–SH + S=R]                    []   \n105763  [Cys 72, Cys 119: R–SSH + ()–R or R–SH + S=R]                    []   \n105764  [Cys 72, Cys 119: R–SSH + ()–R or R–SH + S=R]                    []   \n\n        frag_disconnected_cys  frag_interesting_disconnected_cys  \\\n0                          []                                 []   \n1                          []                                 []   \n2                          []                                 []   \n3                          []                                 []   \n4                          []                                 []   \n...                       ...                                ...   \n105760                     []                                 []   \n105761                     []                                 []   \n105762              [72, 119]                          [72, 119]   \n105763              [72, 119]                          [72, 119]   \n105764              [72, 119]                          [72, 119]   \n\n        frag_intensity frag_intensity_ratio  target_mass    target_mz  \\\n0                   10             0.025000   114.042379   115.050204   \n1                   10             0.025000   326.194857   327.202682   \n2                   10             0.025000   551.305650   276.660650   \n3                   10             0.025000   638.337678   320.176664   \n4                   10             0.025000   725.369706   363.692678   \n...                ...                  ...          ...          ...   \n105760              10             0.037037  6841.414920  6842.422745   \n105761              10             0.037037  6841.414920  6842.422745   \n105762              10             0.037037  6841.414920  1711.361555   \n105763              10             0.037037  6841.414920  6842.422745   \n105764              10             0.037037  6841.414920  6842.422745   \n\n       prec_variant_count  \n0                       1  \n1                       1  \n2                       1  \n3                       1  \n4                       1  \n...                   ...  \n105760                  1  \n105761                  1  \n105762                  1  \n105763                  1  \n105764                  1  \n\n[105765 rows x 35 columns]",
      "text/html": "<div>\n<style scoped>\n    .dataframe tbody tr th:only-of-type {\n        vertical-align: middle;\n    }\n\n    .dataframe tbody tr th {\n        vertical-align: top;\n    }\n\n    .dataframe thead th {\n        text-align: right;\n    }\n</style>\n<table border=\"1\" class=\"dataframe\">\n  <thead>\n    <tr style=\"text-align: right;\">\n      <th></th>\n      <th>scan_id</th>\n      <th>scan_nth_in_order</th>\n      <th>scan_time</th>\n      <th>scan_total_intensity</th>\n      <th>prec_charge</th>\n      <th>prec_sequence</th>\n      <th>prec_segment_count</th>\n      <th>prec_tryptide_ranges</th>\n      <th>prec_residue_ranges</th>\n      <th>prec_max_mc_count</th>\n      <th>...</th>\n      <th>frag_error_ppm</th>\n      <th>frag_mods</th>\n      <th>frag_connected_bonds</th>\n      <th>frag_disconnected_cys</th>\n      <th>frag_interesting_disconnected_cys</th>\n      <th>frag_intensity</th>\n      <th>frag_intensity_ratio</th>\n      <th>target_mass</th>\n      <th>target_mz</th>\n      <th>prec_variant_count</th>\n    </tr>\n  </thead>\n  <tbody>\n    <tr>\n      <th>0</th>\n      <td>0</td>\n      <td>0</td>\n      <td>0</td>\n      <td>400</td>\n      <td>2</td>\n      <td>NVLQPSSVDSQTAMVLVNAIVFKGLWEK</td>\n      <td>1</td>\n      <td>[(14, 16)]</td>\n      <td>[(158, 186)]</td>\n      <td>1</td>\n      <td>...</td>\n      <td>4.810162</td>\n      <td>[]</td>\n      <td>[]</td>\n      <td>[]</td>\n      <td>[]</td>\n      <td>10</td>\n      <td>0.025000</td>\n      <td>114.042379</td>\n      <td>115.050204</td>\n      <td>1</td>\n    </tr>\n    <tr>\n      <th>1</th>\n      <td>0</td>\n      <td>0</td>\n      <td>0</td>\n      <td>400</td>\n      <td>2</td>\n      <td>NVLQPSSVDSQTAMVLVNAIVFKGLWEK</td>\n      <td>1</td>\n      <td>[(14, 16)]</td>\n      <td>[(158, 186)]</td>\n      <td>1</td>\n      <td>...</td>\n      <td>1.681699</td>\n      <td>[]</td>\n      <td>[]</td>\n      <td>[]</td>\n      <td>[]</td>\n      <td>10</td>\n      <td>0.025000</td>\n      <td>326.194857</td>\n      <td>327.202682</td>\n      <td>1</td>\n    </tr>\n    <tr>\n      <th>2</th>\n      <td>0</td>\n      <td>0</td>\n      <td>0</td>\n      <td>400</td>\n      <td>2</td>\n      <td>NVLQPSSVDSQTAMVLVNAIVFKGLWEK</td>\n      <td>1</td>\n      <td>[(14, 16)]</td>\n      <td>[(158, 186)]</td>\n      <td>1</td>\n      <td>...</td>\n      <td>1.990047</td>\n      <td>[]</td>\n      <td>[]</td>\n      <td>[]</td>\n      <td>[]</td>\n      <td>10</td>\n      <td>0.025000</td>\n      <td>551.305650</td>\n      <td>276.660650</td>\n      <td>1</td>\n    </tr>\n    <tr>\n      <th>3</th>\n      <td>0</td>\n      <td>0</td>\n      <td>0</td>\n      <td>400</td>\n      <td>2</td>\n      <td>NVLQPSSVDSQTAMVLVNAIVFKGLWEK</td>\n      <td>1</td>\n      <td>[(14, 16)]</td>\n      <td>[(158, 186)]</td>\n      <td>1</td>\n      <td>...</td>\n      <td>1.718720</td>\n      <td>[]</td>\n      <td>[]</td>\n      <td>[]</td>\n      <td>[]</td>\n      <td>10</td>\n      <td>0.025000</td>\n      <td>638.337678</td>\n      <td>320.176664</td>\n      <td>1</td>\n    </tr>\n    <tr>\n      <th>4</th>\n      <td>0</td>\n      <td>0</td>\n      <td>0</td>\n      <td>400</td>\n      <td>2</td>\n      <td>NVLQPSSVDSQTAMVLVNAIVFKGLWEK</td>\n      <td>1</td>\n      <td>[(14, 16)]</td>\n      <td>[(158, 186)]</td>\n      <td>1</td>\n      <td>...</td>\n      <td>1.512503</td>\n      <td>[]</td>\n      <td>[]</td>\n      <td>[]</td>\n      <td>[]</td>\n      <td>10</td>\n      <td>0.025000</td>\n      <td>725.369706</td>\n      <td>363.692678</td>\n      <td>1</td>\n    </tr>\n    <tr>\n      <th>...</th>\n      <td>...</td>\n      <td>...</td>\n      <td>...</td>\n      <td>...</td>\n      <td>...</td>\n      <td>...</td>\n      <td>...</td>\n      <td>...</td>\n      <td>...</td>\n      <td>...</td>\n      <td>...</td>\n      <td>...</td>\n      <td>...</td>\n      <td>...</td>\n      <td>...</td>\n      <td>...</td>\n      <td>...</td>\n      <td>...</td>\n      <td>...</td>\n      <td>...</td>\n      <td>...</td>\n    </tr>\n    <tr>\n      <th>105760</th>\n      <td>862</td>\n      <td>862</td>\n      <td>862</td>\n      <td>270</td>\n      <td>4</td>\n      <td>LPGFGDSIEAQCGTSVNVHSSLRDILNQITKPNDVYSFSLASRLYA...</td>\n      <td>1</td>\n      <td>[(7, 11)]</td>\n      <td>[(61, 122)]</td>\n      <td>3</td>\n      <td>...</td>\n      <td>0.160308</td>\n      <td>[]</td>\n      <td>[(72, 119)]</td>\n      <td>[]</td>\n      <td>[]</td>\n      <td>10</td>\n      <td>0.037037</td>\n      <td>6841.414920</td>\n      <td>6842.422745</td>\n      <td>1</td>\n    </tr>\n    <tr>\n      <th>105761</th>\n      <td>862</td>\n      <td>862</td>\n      <td>862</td>\n      <td>270</td>\n      <td>4</td>\n      <td>LPGFGDSIEAQCGTSVNVHSSLRDILNQITKPNDVYSFSLASRLYA...</td>\n      <td>1</td>\n      <td>[(7, 11)]</td>\n      <td>[(61, 122)]</td>\n      <td>3</td>\n      <td>...</td>\n      <td>0.160308</td>\n      <td>[]</td>\n      <td>[(72, 119)]</td>\n      <td>[]</td>\n      <td>[]</td>\n      <td>10</td>\n      <td>0.037037</td>\n      <td>6841.414920</td>\n      <td>6842.422745</td>\n      <td>1</td>\n    </tr>\n    <tr>\n      <th>105762</th>\n      <td>862</td>\n      <td>862</td>\n      <td>862</td>\n      <td>270</td>\n      <td>4</td>\n      <td>LPGFGDSIEAQCGTSVNVHSSLRDILNQITKPNDVYSFSLASRLYA...</td>\n      <td>1</td>\n      <td>[(7, 11)]</td>\n      <td>[(61, 122)]</td>\n      <td>3</td>\n      <td>...</td>\n      <td>0.160308</td>\n      <td>[Cys 72, Cys 119: R–SSH + ()–R or R–SH + S=R]</td>\n      <td>[]</td>\n      <td>[72, 119]</td>\n      <td>[72, 119]</td>\n      <td>10</td>\n      <td>0.037037</td>\n      <td>6841.414920</td>\n      <td>1711.361555</td>\n      <td>1</td>\n    </tr>\n    <tr>\n      <th>105763</th>\n      <td>862</td>\n      <td>862</td>\n      <td>862</td>\n      <td>270</td>\n      <td>4</td>\n      <td>LPGFGDSIEAQCGTSVNVHSSLRDILNQITKPNDVYSFSLASRLYA...</td>\n      <td>1</td>\n      <td>[(7, 11)]</td>\n      <td>[(61, 122)]</td>\n      <td>3</td>\n      <td>...</td>\n      <td>0.160308</td>\n      <td>[Cys 72, Cys 119: R–SSH + ()–R or R–SH + S=R]</td>\n      <td>[]</td>\n      <td>[72, 119]</td>\n      <td>[72, 119]</td>\n      <td>10</td>\n      <td>0.037037</td>\n      <td>6841.414920</td>\n      <td>6842.422745</td>\n      <td>1</td>\n    </tr>\n    <tr>\n      <th>105764</th>\n      <td>862</td>\n      <td>862</td>\n      <td>862</td>\n      <td>270</td>\n      <td>4</td>\n      <td>LPGFGDSIEAQCGTSVNVHSSLRDILNQITKPNDVYSFSLASRLYA...</td>\n      <td>1</td>\n      <td>[(7, 11)]</td>\n      <td>[(61, 122)]</td>\n      <td>3</td>\n      <td>...</td>\n      <td>0.160308</td>\n      <td>[Cys 72, Cys 119: R–SSH + ()–R or R–SH + S=R]</td>\n      <td>[]</td>\n      <td>[72, 119]</td>\n      <td>[72, 119]</td>\n      <td>10</td>\n      <td>0.037037</td>\n      <td>6841.414920</td>\n      <td>6842.422745</td>\n      <td>1</td>\n    </tr>\n  </tbody>\n</table>\n<p>105765 rows × 35 columns</p>\n</div>"
     },
     "execution_count": 10,
     "metadata": {},
     "output_type": "execute_result"
    }
   ],
   "source": [
    "fragment_matches = write_matched_fragments(\n",
    "    precursor_matches=precursor_matches,\n",
    "    tryptides=tryptides,\n",
    "    output_path=\"../out/fragment_matches/TEST_OVA_AT_segments=3_breaks=2_error=5ppm.pickle\",\n",
    "    max_allowed_breaks=2,\n",
    "    error_ppm=5,\n",
    ")\n",
    "\n",
    "fragment_match_records = []\n",
    "for fm in fragment_matches:\n",
    "    fragment_match_records.append(\n",
    "        fm[\"scan\"].to_dict()\n",
    "        | fm[\"precursor\"].to_dict()\n",
    "        | fm[\"variant\"].to_dict()\n",
    "        | (fm[\"fragment\"].to_dict() if fm[\"fragment\"] is not None else {})\n",
    "        | {\"prec_variant_count\": fm[\"variant_count\"]}\n",
    "    )\n",
    "\n",
    "frag_df = pd.DataFrame(fragment_match_records)\n",
    "\n",
    "frag_df.to_csv(\n",
    "    \"../out/csv/fragment_matches_TEST_OVA_segments=3_error=50ppm.csv\", index=False\n",
    ")\n",
    "\n",
    "frag_df"
   ],
   "metadata": {
    "collapsed": false,
    "pycharm": {
     "name": "#%%\n"
    }
   }
  },
  {
   "cell_type": "code",
   "execution_count": 16,
   "outputs": [
    {
     "data": {
      "text/plain": "<module 'fragment_matching' from '/Users/eugen/code/bp/bp-code/src/fragment_matching.py'>"
     },
     "execution_count": 16,
     "metadata": {},
     "output_type": "execute_result"
    }
   ],
   "source": [
    "\n",
    "import importlib\n",
    "import fragment_matching\n",
    "\n",
    "importlib.reload(fragment_matching)\n"
   ],
   "metadata": {
    "collapsed": false,
    "pycharm": {
     "name": "#%%\n"
    }
   }
  },
  {
   "cell_type": "code",
   "execution_count": null,
   "outputs": [],
   "source": [
    "\n",
    "var = Precursor(\n",
    "    \"VVRFDKLPGFGDSIEAQCGTSVNVHSSLR+DILNQITKPNDVYSFSLASRLYAEERYPILPEYLQCVK\",\n",
    "    7604.863 - PROTON,\n",
    "    7604.863,\n",
    "    [(0, 8), (8, 11)],\n",
    "    [(55, 84), (84, 122)],\n",
    "    1,\n",
    "    0,\n",
    "    [],\n",
    "    0,\n",
    ").variants(tryptides)[0]\n",
    "var.bonds"
   ],
   "metadata": {
    "collapsed": false,
    "pycharm": {
     "name": "#%%\n"
    }
   }
  },
  {
   "cell_type": "code",
   "execution_count": 70,
   "outputs": [
    {
     "data": {
      "text/plain": "1632.8380328122"
     },
     "execution_count": 70,
     "metadata": {},
     "output_type": "execute_result"
    }
   ],
   "source": [
    "\n",
    "calculate_mass(\"VRFDKLPGFGDSIEA\", charge=1, ion_type=\"b\")"
   ],
   "metadata": {
    "collapsed": false,
    "pycharm": {
     "name": "#%%\n"
    }
   }
  },
  {
   "cell_type": "code",
   "execution_count": 73,
   "outputs": [
    {
     "data": {
      "text/plain": "[Fragment(id=0, sequence='VRFDKLPGFGDSIEA', residue_ranges=[(56, 71)], intensity=10, intensity_ratio=1, mass=1634.8542314416397, target_mass=1631.83020778013, mz=544.9514104805465, target_mz=1632.8380328122, charge=3, break_count=2, error_ppm=0.3361655598719734, modifications=(), connected_bonds=[], disconnected_cys=[]),\n Fragment(id=0, sequence='SLASRLYAEERYPI', residue_ranges=[(99, 113)], intensity=10, intensity_ratio=1, mass=1634.8542314416397, target_mass=1631.83020778013, mz=544.9514104805465, target_mz=1632.8380328122, charge=3, break_count=2, error_ppm=0.3361655598719734, modifications=(Modification(description='-NH3 (neutral loss)', mass=-17.02654910101),), connected_bonds=[], disconnected_cys=[])]"
     },
     "execution_count": 73,
     "metadata": {},
     "output_type": "execute_result"
    }
   ],
   "source": [
    "fragment_matching._fragments_matching_targets(\n",
    "    [\n",
    "        fragment_matching.Target(\n",
    "            0, (1632.8380328122 - PROTON), 1632.8380328122, 10, 3, 1\n",
    "        )\n",
    "    ],\n",
    "    var,\n",
    "    2,\n",
    "    5,\n",
    ")"
   ],
   "metadata": {
    "collapsed": false,
    "pycharm": {
     "name": "#%%\n"
    }
   }
  },
  {
   "cell_type": "code",
   "execution_count": 48,
   "outputs": [
    {
     "data": {
      "text/plain": "array([ 114.09134045,  215.13901891,  303.21391519,  344.181612  ,\n        432.25650828,  530.26092495,  561.29910137,  631.30860342,\n        791.40800037,  805.37266023,  905.45092781,  919.41558767,\n        992.48295622, 1018.48400159, 1079.51498462, 1180.56266309,\n       1278.56707977, 1366.64197604, 1407.60967285, 1495.68456913,\n       1563.71078388, 1596.7322476 , 1709.81631158])"
     },
     "execution_count": 48,
     "metadata": {},
     "output_type": "execute_result"
    }
   ],
   "source": [
    "scans[1].fragments_mz"
   ],
   "metadata": {
    "collapsed": false,
    "pycharm": {
     "name": "#%%\n"
    }
   }
  },
  {
   "cell_type": "code",
   "execution_count": 14,
   "outputs": [
    {
     "data": {
      "text/plain": "3736.92210328783"
     },
     "execution_count": 14,
     "metadata": {},
     "output_type": "execute_result"
    }
   ],
   "source": [
    "(calculate_mass(\"DILNQITKPNDVYSFSLASRLYAEERYPILPE\", ion_type=\"b\", charge=1))"
   ],
   "metadata": {
    "collapsed": false,
    "pycharm": {
     "name": "#%%\n"
    }
   }
  },
  {
   "cell_type": "code",
   "execution_count": 17,
   "outputs": [
    {
     "name": "stderr",
     "output_type": "stream",
     "text": [
      "  0%|          | 0/1 [00:00<?, ?it/s]"
     ]
    },
    {
     "name": "stdout",
     "output_type": "stream",
     "text": [
      "Writing the matched fragments to ../out/fragment_matches/doesn_matter_just_testing.pickle\n"
     ]
    },
    {
     "name": "stderr",
     "output_type": "stream",
     "text": [
      "100%|██████████| 1/1 [00:00<00:00,  3.06it/s]\n"
     ]
    },
    {
     "data": {
      "text/plain": "[{'scan': <src.model.scan.Scan at 0x119eeba00>,\n  'precursor': Precursor(sequence='VVRFDKLPGFGDSIEAQCGTSVNVHSSLR+DILNQITKPNDVYSFSLASRLYAEERYPILPEYLQCVK', mass=7603.854839927481, mz=7604.862664959552, segments=[(5, 8), (8, 11)], residue_ranges=[(55, 84), (84, 122)], cys_bond_count=1, alkylation_count=0, modifications=[], error_ppm=0),\n  'variant': <src.model.variant.Variant at 0x12f361e50>,\n  'variant_count': 1,\n  'fragment': Fragment(id=9, sequence='VVRF', residue_ranges=[(55, 59)], intensity=10, intensity_ratio=0.011764705882352941, mass=502.31417779463993, target_mass=501.305804201069, mz=502.31417779463993, target_mz=502.313629233139, charge=1, break_count=1, error_ppm=1.0942640122106182, modifications=(), connected_bonds=[], disconnected_cys=[])},\n {'scan': <src.model.scan.Scan at 0x119eeba00>,\n  'precursor': Precursor(sequence='VVRFDKLPGFGDSIEAQCGTSVNVHSSLR+DILNQITKPNDVYSFSLASRLYAEERYPILPEYLQCVK', mass=7603.854839927481, mz=7604.862664959552, segments=[(5, 8), (8, 11)], residue_ranges=[(55, 84), (84, 122)], cys_bond_count=1, alkylation_count=0, modifications=[], error_ppm=0),\n  'variant': <src.model.variant.Variant at 0x12f361e50>,\n  'variant_count': 1,\n  'fragment': Fragment(id=12, sequence='VVRFD', residue_ranges=[(55, 60)], intensity=10, intensity_ratio=0.011764705882352941, mass=617.3411208184699, target_mass=616.3327472253591, mz=617.3411208184699, target_mz=617.340572257429, charge=1, break_count=1, error_ppm=0.8900396013603732, modifications=(), connected_bonds=[], disconnected_cys=[])},\n {'scan': <src.model.scan.Scan at 0x119eeba00>,\n  'precursor': Precursor(sequence='VVRFDKLPGFGDSIEAQCGTSVNVHSSLR+DILNQITKPNDVYSFSLASRLYAEERYPILPEYLQCVK', mass=7603.854839927481, mz=7604.862664959552, segments=[(5, 8), (8, 11)], residue_ranges=[(55, 84), (84, 122)], cys_bond_count=1, alkylation_count=0, modifications=[], error_ppm=0),\n  'variant': <src.model.variant.Variant at 0x12f361e50>,\n  'variant_count': 1,\n  'fragment': Fragment(id=15, sequence='VVRFDKL', residue_ranges=[(55, 62)], intensity=10, intensity_ratio=0.011764705882352941, mass=858.5201478095998, target_mass=857.511774219079, mz=858.5201478095998, target_mz=858.519599251149, charge=1, break_count=1, error_ppm=0.6397091170614368, modifications=(), connected_bonds=[], disconnected_cys=[])},\n {'scan': <src.model.scan.Scan at 0x119eeba00>,\n  'precursor': Precursor(sequence='VVRFDKLPGFGDSIEAQCGTSVNVHSSLR+DILNQITKPNDVYSFSLASRLYAEERYPILPEYLQCVK', mass=7603.854839927481, mz=7604.862664959552, segments=[(5, 8), (8, 11)], residue_ranges=[(55, 84), (84, 122)], cys_bond_count=1, alkylation_count=0, modifications=[], error_ppm=0),\n  'variant': <src.model.variant.Variant at 0x12f361e50>,\n  'variant_count': 1,\n  'fragment': Fragment(id=17, sequence='VVRFDKLP', residue_ranges=[(55, 63)], intensity=10, intensity_ratio=0.011764705882352941, mass=955.5729116584498, target_mass=954.564538068689, mz=955.5729116584498, target_mz=955.5723631007589, charge=1, break_count=1, error_ppm=0.574667666523941, modifications=(), connected_bonds=[], disconnected_cys=[])},\n {'scan': <src.model.scan.Scan at 0x119eeba00>,\n  'precursor': Precursor(sequence='VVRFDKLPGFGDSIEAQCGTSVNVHSSLR+DILNQITKPNDVYSFSLASRLYAEERYPILPEYLQCVK', mass=7603.854839927481, mz=7604.862664959552, segments=[(5, 8), (8, 11)], residue_ranges=[(55, 84), (84, 122)], cys_bond_count=1, alkylation_count=0, modifications=[], error_ppm=0),\n  'variant': <src.model.variant.Variant at 0x12f361e50>,\n  'variant_count': 1,\n  'fragment': Fragment(id=19, sequence='VVRFDKLPG', residue_ranges=[(55, 64)], intensity=10, intensity_ratio=0.011764705882352941, mass=1012.5943753790198, target_mass=1011.586001789379, mz=1012.5943753790198, target_mz=1012.5938268214489, charge=1, break_count=1, error_ppm=0.5422744802561507, modifications=(), connected_bonds=[], disconnected_cys=[])},\n {'scan': <src.model.scan.Scan at 0x119eeba00>,\n  'precursor': Precursor(sequence='VVRFDKLPGFGDSIEAQCGTSVNVHSSLR+DILNQITKPNDVYSFSLASRLYAEERYPILPEYLQCVK', mass=7603.854839927481, mz=7604.862664959552, segments=[(5, 8), (8, 11)], residue_ranges=[(55, 84), (84, 122)], cys_bond_count=1, alkylation_count=0, modifications=[], error_ppm=0),\n  'variant': <src.model.variant.Variant at 0x12f361e50>,\n  'variant_count': 1,\n  'fragment': Fragment(id=21, sequence='VVRFDKLPGF', residue_ranges=[(55, 65)], intensity=10, intensity_ratio=0.011764705882352941, mass=1159.6627892920096, target_mass=1158.6544157034489, mz=1159.6627892920096, target_mz=1159.662240735519, charge=1, break_count=1, error_ppm=0.47344248944312384, modifications=(), connected_bonds=[], disconnected_cys=[])},\n {'scan': <src.model.scan.Scan at 0x119eeba00>,\n  'precursor': Precursor(sequence='VVRFDKLPGFGDSIEAQCGTSVNVHSSLR+DILNQITKPNDVYSFSLASRLYAEERYPILPEYLQCVK', mass=7603.854839927481, mz=7604.862664959552, segments=[(5, 8), (8, 11)], residue_ranges=[(55, 84), (84, 122)], cys_bond_count=1, alkylation_count=0, modifications=[], error_ppm=0),\n  'variant': <src.model.variant.Variant at 0x12f361e50>,\n  'variant_count': 1,\n  'fragment': Fragment(id=22, sequence='VVRFDKLPGFGD', residue_ranges=[(55, 67)], intensity=10, intensity_ratio=0.011764705882352941, mass=1331.7111960364095, target_mass=1330.7028224484288, mz=1331.7111960364095, target_mz=1331.710647480499, charge=1, break_count=1, error_ppm=0.41223004510809536, modifications=(), connected_bonds=[], disconnected_cys=[])},\n {'scan': <src.model.scan.Scan at 0x119eeba00>,\n  'precursor': Precursor(sequence='VVRFDKLPGFGDSIEAQCGTSVNVHSSLR+DILNQITKPNDVYSFSLASRLYAEERYPILPEYLQCVK', mass=7603.854839927481, mz=7604.862664959552, segments=[(5, 8), (8, 11)], residue_ranges=[(55, 84), (84, 122)], cys_bond_count=1, alkylation_count=0, modifications=[], error_ppm=0),\n  'variant': <src.model.variant.Variant at 0x12f361e50>,\n  'variant_count': 1,\n  'fragment': Fragment(id=24, sequence='VVRFDKLPGFGDS', residue_ranges=[(55, 68)], intensity=10, intensity_ratio=0.011764705882352941, mass=1418.7432244406796, target_mass=1417.7348508531488, mz=1418.7432244406796, target_mz=1418.742675885219, charge=1, break_count=1, error_ppm=0.38692372420899745, modifications=(), connected_bonds=[], disconnected_cys=[])},\n {'scan': <src.model.scan.Scan at 0x119eeba00>,\n  'precursor': Precursor(sequence='VVRFDKLPGFGDSIEAQCGTSVNVHSSLR+DILNQITKPNDVYSFSLASRLYAEERYPILPEYLQCVK', mass=7603.854839927481, mz=7604.862664959552, segments=[(5, 8), (8, 11)], residue_ranges=[(55, 84), (84, 122)], cys_bond_count=1, alkylation_count=0, modifications=[], error_ppm=0),\n  'variant': <src.model.variant.Variant at 0x12f361e50>,\n  'variant_count': 1,\n  'fragment': Fragment(id=26, sequence='VVRFDKLPGFGDSI', residue_ranges=[(55, 69)], intensity=10, intensity_ratio=0.011764705882352941, mass=1531.8272884178095, target_mass=1530.8189148316787, mz=1531.8272884178095, target_mz=1531.8267398637488, charge=1, break_count=1, error_ppm=0.3583401399464465, modifications=(), connected_bonds=[], disconnected_cys=[])},\n {'scan': <src.model.scan.Scan at 0x119eeba00>,\n  'precursor': Precursor(sequence='VVRFDKLPGFGDSIEAQCGTSVNVHSSLR+DILNQITKPNDVYSFSLASRLYAEERYPILPEYLQCVK', mass=7603.854839927481, mz=7604.862664959552, segments=[(5, 8), (8, 11)], residue_ranges=[(55, 84), (84, 122)], cys_bond_count=1, alkylation_count=0, modifications=[], error_ppm=0),\n  'variant': <src.model.variant.Variant at 0x12f361e50>,\n  'variant_count': 1,\n  'fragment': Fragment(id=69, sequence='VVRFDKLPGFGDSIEAQC+DVYSFSLASRLYAEERYPILPEYLQCVK', residue_ranges=[(55, 73), (94, 122)], intensity=10, intensity_ratio=0.011764705882352941, mass=5312.644058073721, target_mass=5311.6351362979885, mz=5312.644058073721, target_mz=5312.642961330059, charge=1, break_count=2, error_ppm=0.20647943756469125, modifications=(), connected_bonds=[(72, 119)], disconnected_cys=[])},\n {'scan': <src.model.scan.Scan at 0x119eeba00>,\n  'precursor': Precursor(sequence='VVRFDKLPGFGDSIEAQCGTSVNVHSSLR+DILNQITKPNDVYSFSLASRLYAEERYPILPEYLQCVK', mass=7603.854839927481, mz=7604.862664959552, segments=[(5, 8), (8, 11)], residue_ranges=[(55, 84), (84, 122)], cys_bond_count=1, alkylation_count=0, modifications=[], error_ppm=0),\n  'variant': <src.model.variant.Variant at 0x12f361e50>,\n  'variant_count': 1,\n  'fragment': Fragment(id=43, sequence='VVRFDKLPGFGDSIEAQCG+ILPEYLQCVK', residue_ranges=[(55, 74), (112, 122)], intensity=10, intensity_ratio=0.011764705882352941, mass=3187.5960387536393, target_mass=3186.598029537739, mz=3187.5960387536393, target_mz=3187.605854569809, charge=1, break_count=2, error_ppm=3.0803528762372587, modifications=(Modification(description='-H2O (neutral loss)', mass=-18.0105646837), Modification(description='-NH3 (neutral loss)', mass=-17.02654910101)), connected_bonds=[(72, 119)], disconnected_cys=[])},\n {'scan': <src.model.scan.Scan at 0x119eeba00>,\n  'precursor': Precursor(sequence='VVRFDKLPGFGDSIEAQCGTSVNVHSSLR+DILNQITKPNDVYSFSLASRLYAEERYPILPEYLQCVK', mass=7603.854839927481, mz=7604.862664959552, segments=[(5, 8), (8, 11)], residue_ranges=[(55, 84), (84, 122)], cys_bond_count=1, alkylation_count=0, modifications=[], error_ppm=0),\n  'variant': <src.model.variant.Variant at 0x12f361e50>,\n  'variant_count': 1,\n  'fragment': Fragment(id=38, sequence='VVRFDKLPGFGDSIEAQCG+YLQCVK', residue_ranges=[(55, 74), (116, 122)], intensity=10, intensity_ratio=0.011764705882352941, mass=2770.369667647269, target_mass=2769.3607458531774, mz=2770.369667647269, target_mz=2770.368570885247, charge=1, break_count=2, error_ppm=0.39603420724556226, modifications=(), connected_bonds=[(72, 119)], disconnected_cys=[])},\n {'scan': <src.model.scan.Scan at 0x119eeba00>,\n  'precursor': Precursor(sequence='VVRFDKLPGFGDSIEAQCGTSVNVHSSLR+DILNQITKPNDVYSFSLASRLYAEERYPILPEYLQCVK', mass=7603.854839927481, mz=7604.862664959552, segments=[(5, 8), (8, 11)], residue_ranges=[(55, 84), (84, 122)], cys_bond_count=1, alkylation_count=0, modifications=[], error_ppm=0),\n  'variant': <src.model.variant.Variant at 0x12f361e50>,\n  'variant_count': 1,\n  'fragment': Fragment(id=39, sequence='VVRFDKLPGFGDSIEAQCG+YLQCVK', residue_ranges=[(55, 74), (116, 122)], intensity=10, intensity_ratio=0.011764705882352941, mass=2770.369667647269, target_mass=2769.3607458531774, mz=2770.369667647269, target_mz=2770.368570885247, charge=1, break_count=2, error_ppm=0.39603420724556226, modifications=(), connected_bonds=[(72, 119)], disconnected_cys=[])},\n {'scan': <src.model.scan.Scan at 0x119eeba00>,\n  'precursor': Precursor(sequence='VVRFDKLPGFGDSIEAQCGTSVNVHSSLR+DILNQITKPNDVYSFSLASRLYAEERYPILPEYLQCVK', mass=7603.854839927481, mz=7604.862664959552, segments=[(5, 8), (8, 11)], residue_ranges=[(55, 84), (84, 122)], cys_bond_count=1, alkylation_count=0, modifications=[], error_ppm=0),\n  'variant': <src.model.variant.Variant at 0x12f361e50>,\n  'variant_count': 1,\n  'fragment': Fragment(id=40, sequence='VVRFDKLPGFGDSIEAQCG+YLQCVK', residue_ranges=[(55, 74), (116, 122)], intensity=10, intensity_ratio=0.011764705882352941, mass=2770.369667647269, target_mass=2769.3607458531774, mz=2770.369667647269, target_mz=2770.368570885247, charge=1, break_count=2, error_ppm=0.39603420724556226, modifications=(), connected_bonds=[(72, 119)], disconnected_cys=[])},\n {'scan': <src.model.scan.Scan at 0x119eeba00>,\n  'precursor': Precursor(sequence='VVRFDKLPGFGDSIEAQCGTSVNVHSSLR+DILNQITKPNDVYSFSLASRLYAEERYPILPEYLQCVK', mass=7603.854839927481, mz=7604.862664959552, segments=[(5, 8), (8, 11)], residue_ranges=[(55, 84), (84, 122)], cys_bond_count=1, alkylation_count=0, modifications=[], error_ppm=0),\n  'variant': <src.model.variant.Variant at 0x12f361e50>,\n  'variant_count': 1,\n  'fragment': Fragment(id=41, sequence='VVRFDKLPGFGDSIEAQCG+YLQCVK', residue_ranges=[(55, 74), (116, 122)], intensity=10, intensity_ratio=0.011764705882352941, mass=2770.369667647269, target_mass=2769.3607458531774, mz=2770.369667647269, target_mz=2770.368570885247, charge=1, break_count=2, error_ppm=0.39603420724556226, modifications=(), connected_bonds=[(72, 119)], disconnected_cys=[])},\n {'scan': <src.model.scan.Scan at 0x119eeba00>,\n  'precursor': Precursor(sequence='VVRFDKLPGFGDSIEAQCGTSVNVHSSLR+DILNQITKPNDVYSFSLASRLYAEERYPILPEYLQCVK', mass=7603.854839927481, mz=7604.862664959552, segments=[(5, 8), (8, 11)], residue_ranges=[(55, 84), (84, 122)], cys_bond_count=1, alkylation_count=0, modifications=[], error_ppm=0),\n  'variant': <src.model.variant.Variant at 0x12f361e50>,\n  'variant_count': 1,\n  'fragment': Fragment(id=83, sequence='VVRFDKLPGFGDSIEAQCGTSV+DILNQITKPNDVYSFSLASRLYAEERYPILPEYLQCV', residue_ranges=[(55, 77), (84, 121)], intensity=10, intensity_ratio=0.011764705882352941, mass=6647.327087556301, target_mass=6646.325376427179, mz=6647.327087556301, target_mz=6647.33320145925, charge=1, break_count=2, error_ppm=0.9198930576509075, modifications=(), connected_bonds=[(72, 119)], disconnected_cys=[])},\n {'scan': <src.model.scan.Scan at 0x119eeba00>,\n  'precursor': Precursor(sequence='VVRFDKLPGFGDSIEAQCGTSVNVHSSLR+DILNQITKPNDVYSFSLASRLYAEERYPILPEYLQCVK', mass=7603.854839927481, mz=7604.862664959552, segments=[(5, 8), (8, 11)], residue_ranges=[(55, 84), (84, 122)], cys_bond_count=1, alkylation_count=0, modifications=[], error_ppm=0),\n  'variant': <src.model.variant.Variant at 0x12f361e50>,\n  'variant_count': 1,\n  'fragment': Fragment(id=84, sequence='VVRFDKLPGFGDSIEAQCGTSV+DILNQITKPNDVYSFSLASRLYAEERYPILPEYLQCV', residue_ranges=[(55, 77), (84, 121)], intensity=10, intensity_ratio=0.011764705882352941, mass=6647.327087556301, target_mass=6646.325376427179, mz=6647.327087556301, target_mz=6647.33320145925, charge=1, break_count=2, error_ppm=0.9198930576509075, modifications=(), connected_bonds=[(72, 119)], disconnected_cys=[])},\n {'scan': <src.model.scan.Scan at 0x119eeba00>,\n  'precursor': Precursor(sequence='VVRFDKLPGFGDSIEAQCGTSVNVHSSLR+DILNQITKPNDVYSFSLASRLYAEERYPILPEYLQCVK', mass=7603.854839927481, mz=7604.862664959552, segments=[(5, 8), (8, 11)], residue_ranges=[(55, 84), (84, 122)], cys_bond_count=1, alkylation_count=0, modifications=[], error_ppm=0),\n  'variant': <src.model.variant.Variant at 0x12f361e50>,\n  'variant_count': 1,\n  'fragment': Fragment(id=52, sequence='VVRFDKLPGFGDSIEAQCGTSV+EERYPILPEYLQCVK', residue_ranges=[(55, 77), (107, 122)], intensity=10, intensity_ratio=0.011764705882352941, mass=4184.08366290496, target_mass=4183.074741121369, mz=4184.08366290496, target_mz=4184.082566153439, charge=1, break_count=2, error_ppm=0.2621878166684388, modifications=(), connected_bonds=[(72, 119)], disconnected_cys=[])},\n {'scan': <src.model.scan.Scan at 0x119eeba00>,\n  'precursor': Precursor(sequence='VVRFDKLPGFGDSIEAQCGTSVNVHSSLR+DILNQITKPNDVYSFSLASRLYAEERYPILPEYLQCVK', mass=7603.854839927481, mz=7604.862664959552, segments=[(5, 8), (8, 11)], residue_ranges=[(55, 84), (84, 122)], cys_bond_count=1, alkylation_count=0, modifications=[], error_ppm=0),\n  'variant': <src.model.variant.Variant at 0x12f361e50>,\n  'variant_count': 1,\n  'fragment': Fragment(id=53, sequence='VVRFDKLPGFGDSIEAQCGTSV+EERYPILPEYLQCVK', residue_ranges=[(55, 77), (107, 122)], intensity=10, intensity_ratio=0.011764705882352941, mass=4184.08366290496, target_mass=4183.074741121369, mz=4184.08366290496, target_mz=4184.082566153439, charge=1, break_count=2, error_ppm=0.2621878166684388, modifications=(), connected_bonds=[(72, 119)], disconnected_cys=[])},\n {'scan': <src.model.scan.Scan at 0x119eeba00>,\n  'precursor': Precursor(sequence='VVRFDKLPGFGDSIEAQCGTSVNVHSSLR+DILNQITKPNDVYSFSLASRLYAEERYPILPEYLQCVK', mass=7603.854839927481, mz=7604.862664959552, segments=[(5, 8), (8, 11)], residue_ranges=[(55, 84), (84, 122)], cys_bond_count=1, alkylation_count=0, modifications=[], error_ppm=0),\n  'variant': <src.model.variant.Variant at 0x12f361e50>,\n  'variant_count': 1,\n  'fragment': Fragment(id=54, sequence='VVRFDKLPGFGDSIEAQCGTSV+EERYPILPEYLQCVK', residue_ranges=[(55, 77), (107, 122)], intensity=10, intensity_ratio=0.011764705882352941, mass=4184.08366290496, target_mass=4183.074741121369, mz=4184.08366290496, target_mz=4184.082566153439, charge=1, break_count=2, error_ppm=0.2621878166684388, modifications=(), connected_bonds=[(72, 119)], disconnected_cys=[])},\n {'scan': <src.model.scan.Scan at 0x119eeba00>,\n  'precursor': Precursor(sequence='VVRFDKLPGFGDSIEAQCGTSVNVHSSLR+DILNQITKPNDVYSFSLASRLYAEERYPILPEYLQCVK', mass=7603.854839927481, mz=7604.862664959552, segments=[(5, 8), (8, 11)], residue_ranges=[(55, 84), (84, 122)], cys_bond_count=1, alkylation_count=0, modifications=[], error_ppm=0),\n  'variant': <src.model.variant.Variant at 0x12f361e50>,\n  'variant_count': 1,\n  'fragment': Fragment(id=55, sequence='VVRFDKLPGFGDSIEAQCGTSV+EERYPILPEYLQCVK', residue_ranges=[(55, 77), (107, 122)], intensity=10, intensity_ratio=0.011764705882352941, mass=4184.08366290496, target_mass=4183.074741121369, mz=4184.08366290496, target_mz=4184.082566153439, charge=1, break_count=2, error_ppm=0.2621878166684388, modifications=(), connected_bonds=[(72, 119)], disconnected_cys=[])},\n {'scan': <src.model.scan.Scan at 0x119eeba00>,\n  'precursor': Precursor(sequence='VVRFDKLPGFGDSIEAQCGTSVNVHSSLR+DILNQITKPNDVYSFSLASRLYAEERYPILPEYLQCVK', mass=7603.854839927481, mz=7604.862664959552, segments=[(5, 8), (8, 11)], residue_ranges=[(55, 84), (84, 122)], cys_bond_count=1, alkylation_count=0, modifications=[], error_ppm=0),\n  'variant': <src.model.variant.Variant at 0x12f361e50>,\n  'variant_count': 1,\n  'fragment': Fragment(id=56, sequence='VVRFDKLPGFGDSIEAQCGTSV+EERYPILPEYLQCVK', residue_ranges=[(55, 77), (107, 122)], intensity=10, intensity_ratio=0.011764705882352941, mass=4184.08366290496, target_mass=4183.074741121369, mz=4184.08366290496, target_mz=4184.082566153439, charge=1, break_count=2, error_ppm=0.2621878166684388, modifications=(), connected_bonds=[(72, 119)], disconnected_cys=[])},\n {'scan': <src.model.scan.Scan at 0x119eeba00>,\n  'precursor': Precursor(sequence='VVRFDKLPGFGDSIEAQCGTSVNVHSSLR+DILNQITKPNDVYSFSLASRLYAEERYPILPEYLQCVK', mass=7603.854839927481, mz=7604.862664959552, segments=[(5, 8), (8, 11)], residue_ranges=[(55, 84), (84, 122)], cys_bond_count=1, alkylation_count=0, modifications=[], error_ppm=0),\n  'variant': <src.model.variant.Variant at 0x12f361e50>,\n  'variant_count': 1,\n  'fragment': Fragment(id=83, sequence='VVRFDKLPGFGDSIEAQCGTSVNV+NQITKPNDVYSFSLASRLYAEERYPILPEYLQCVK', residue_ranges=[(55, 79), (87, 122)], intensity=10, intensity_ratio=0.011764705882352941, mass=6647.338320946341, target_mass=6646.325376427179, mz=6647.338320946341, target_mz=6647.33320145925, charge=1, break_count=2, error_ppm=0.7702727233208948, modifications=(Modification(description='-H2O (neutral loss)', mass=-18.0105646837),), connected_bonds=[(72, 119)], disconnected_cys=[])},\n {'scan': <src.model.scan.Scan at 0x119eeba00>,\n  'precursor': Precursor(sequence='VVRFDKLPGFGDSIEAQCGTSVNVHSSLR+DILNQITKPNDVYSFSLASRLYAEERYPILPEYLQCVK', mass=7603.854839927481, mz=7604.862664959552, segments=[(5, 8), (8, 11)], residue_ranges=[(55, 84), (84, 122)], cys_bond_count=1, alkylation_count=0, modifications=[], error_ppm=0),\n  'variant': <src.model.variant.Variant at 0x12f361e50>,\n  'variant_count': 1,\n  'fragment': Fragment(id=84, sequence='VVRFDKLPGFGDSIEAQCGTSVNV+NQITKPNDVYSFSLASRLYAEERYPILPEYLQCVK', residue_ranges=[(55, 79), (87, 122)], intensity=10, intensity_ratio=0.011764705882352941, mass=6647.338320946341, target_mass=6646.325376427179, mz=6647.338320946341, target_mz=6647.33320145925, charge=1, break_count=2, error_ppm=0.7702727233208948, modifications=(Modification(description='-H2O (neutral loss)', mass=-18.0105646837),), connected_bonds=[(72, 119)], disconnected_cys=[])},\n {'scan': <src.model.scan.Scan at 0x119eeba00>,\n  'precursor': Precursor(sequence='VVRFDKLPGFGDSIEAQCGTSVNVHSSLR+DILNQITKPNDVYSFSLASRLYAEERYPILPEYLQCVK', mass=7603.854839927481, mz=7604.862664959552, segments=[(5, 8), (8, 11)], residue_ranges=[(55, 84), (84, 122)], cys_bond_count=1, alkylation_count=0, modifications=[], error_ppm=0),\n  'variant': <src.model.variant.Variant at 0x12f361e50>,\n  'variant_count': 1,\n  'fragment': Fragment(id=80, sequence='VVRFDKLPGFGDSIEAQCGTSVNVH+ITKPNDVYSFSLASRLYAEERYPILPEYLQCVK', residue_ranges=[(55, 80), (89, 122)], intensity=10, intensity_ratio=0.011764705882352941, mass=6560.306292542071, target_mass=6559.297370774459, mz=6560.306292542071, target_mz=6560.305195806529, charge=1, break_count=2, error_ppm=0.16720317689618927, modifications=(), connected_bonds=[(72, 119)], disconnected_cys=[])},\n {'scan': <src.model.scan.Scan at 0x119eeba00>,\n  'precursor': Precursor(sequence='VVRFDKLPGFGDSIEAQCGTSVNVHSSLR+DILNQITKPNDVYSFSLASRLYAEERYPILPEYLQCVK', mass=7603.854839927481, mz=7604.862664959552, segments=[(5, 8), (8, 11)], residue_ranges=[(55, 84), (84, 122)], cys_bond_count=1, alkylation_count=0, modifications=[], error_ppm=0),\n  'variant': <src.model.variant.Variant at 0x12f361e50>,\n  'variant_count': 1,\n  'fragment': Fragment(id=81, sequence='VVRFDKLPGFGDSIEAQCGTSVNVH+ITKPNDVYSFSLASRLYAEERYPILPEYLQCVK', residue_ranges=[(55, 80), (89, 122)], intensity=10, intensity_ratio=0.011764705882352941, mass=6560.306292542071, target_mass=6559.297370774459, mz=6560.306292542071, target_mz=6560.305195806529, charge=1, break_count=2, error_ppm=0.16720317689618927, modifications=(), connected_bonds=[(72, 119)], disconnected_cys=[])},\n {'scan': <src.model.scan.Scan at 0x119eeba00>,\n  'precursor': Precursor(sequence='VVRFDKLPGFGDSIEAQCGTSVNVHSSLR+DILNQITKPNDVYSFSLASRLYAEERYPILPEYLQCVK', mass=7603.854839927481, mz=7604.862664959552, segments=[(5, 8), (8, 11)], residue_ranges=[(55, 84), (84, 122)], cys_bond_count=1, alkylation_count=0, modifications=[], error_ppm=0),\n  'variant': <src.model.variant.Variant at 0x12f361e50>,\n  'variant_count': 1,\n  'fragment': Fragment(id=82, sequence='VVRFDKLPGFGDSIEAQCGTSVNVH+ITKPNDVYSFSLASRLYAEERYPILPEYLQCVK', residue_ranges=[(55, 80), (89, 122)], intensity=10, intensity_ratio=0.011764705882352941, mass=6560.306292542071, target_mass=6559.297370774459, mz=6560.306292542071, target_mz=6560.305195806529, charge=1, break_count=2, error_ppm=0.16720317689618927, modifications=(), connected_bonds=[(72, 119)], disconnected_cys=[])},\n {'scan': <src.model.scan.Scan at 0x119eeba00>,\n  'precursor': Precursor(sequence='VVRFDKLPGFGDSIEAQCGTSVNVHSSLR+DILNQITKPNDVYSFSLASRLYAEERYPILPEYLQCVK', mass=7603.854839927481, mz=7604.862664959552, segments=[(5, 8), (8, 11)], residue_ranges=[(55, 84), (84, 122)], cys_bond_count=1, alkylation_count=0, modifications=[], error_ppm=0),\n  'variant': <src.model.variant.Variant at 0x12f361e50>,\n  'variant_count': 1,\n  'fragment': Fragment(id=83, sequence='VVRFDKLPGFGDSIEAQCGTSVNVHS+ITKPNDVYSFSLASRLYAEERYPILPEYLQCVK', residue_ranges=[(55, 81), (89, 122)], intensity=10, intensity_ratio=0.011764705882352941, mass=6647.338320946341, target_mass=6646.325376427179, mz=6647.338320946341, target_mz=6647.33320145925, charge=1, break_count=2, error_ppm=0.7702727233208948, modifications=(), connected_bonds=[(72, 119)], disconnected_cys=[])},\n {'scan': <src.model.scan.Scan at 0x119eeba00>,\n  'precursor': Precursor(sequence='VVRFDKLPGFGDSIEAQCGTSVNVHSSLR+DILNQITKPNDVYSFSLASRLYAEERYPILPEYLQCVK', mass=7603.854839927481, mz=7604.862664959552, segments=[(5, 8), (8, 11)], residue_ranges=[(55, 84), (84, 122)], cys_bond_count=1, alkylation_count=0, modifications=[], error_ppm=0),\n  'variant': <src.model.variant.Variant at 0x12f361e50>,\n  'variant_count': 1,\n  'fragment': Fragment(id=84, sequence='VVRFDKLPGFGDSIEAQCGTSVNVHS+ITKPNDVYSFSLASRLYAEERYPILPEYLQCVK', residue_ranges=[(55, 81), (89, 122)], intensity=10, intensity_ratio=0.011764705882352941, mass=6647.338320946341, target_mass=6646.325376427179, mz=6647.338320946341, target_mz=6647.33320145925, charge=1, break_count=2, error_ppm=0.7702727233208948, modifications=(), connected_bonds=[(72, 119)], disconnected_cys=[])},\n {'scan': <src.model.scan.Scan at 0x119eeba00>,\n  'precursor': Precursor(sequence='VVRFDKLPGFGDSIEAQCGTSVNVHSSLR+DILNQITKPNDVYSFSLASRLYAEERYPILPEYLQCVK', mass=7603.854839927481, mz=7604.862664959552, segments=[(5, 8), (8, 11)], residue_ranges=[(55, 84), (84, 122)], cys_bond_count=1, alkylation_count=0, modifications=[], error_ppm=0),\n  'variant': <src.model.variant.Variant at 0x12f361e50>,\n  'variant_count': 1,\n  'fragment': Fragment(id=61, sequence='VVRFDKLPGFGDSIEAQCGTSVNVHS+SRLYAEERYPILPEYLQCVK', residue_ranges=[(55, 81), (102, 122)], intensity=10, intensity_ratio=0.011764705882352941, mass=5194.577041143061, target_mass=5193.552863223688, mz=5194.577041143061, target_mz=5194.560688255759, charge=1, break_count=2, error_ppm=3.1486799582732288, modifications=(Modification(description='-NH3 (neutral loss)', mass=-17.02654910101),), connected_bonds=[(72, 119)], disconnected_cys=[])},\n {'scan': <src.model.scan.Scan at 0x119eeba00>,\n  'precursor': Precursor(sequence='VVRFDKLPGFGDSIEAQCGTSVNVHSSLR+DILNQITKPNDVYSFSLASRLYAEERYPILPEYLQCVK', mass=7603.854839927481, mz=7604.862664959552, segments=[(5, 8), (8, 11)], residue_ranges=[(55, 84), (84, 122)], cys_bond_count=1, alkylation_count=0, modifications=[], error_ppm=0),\n  'variant': <src.model.variant.Variant at 0x12f361e50>,\n  'variant_count': 1,\n  'fragment': Fragment(id=62, sequence='VVRFDKLPGFGDSIEAQCGTSVNVHS+SRLYAEERYPILPEYLQCVK', residue_ranges=[(55, 81), (102, 122)], intensity=10, intensity_ratio=0.011764705882352941, mass=5194.577041143061, target_mass=5193.552863223688, mz=5194.577041143061, target_mz=5194.560688255759, charge=1, break_count=2, error_ppm=3.1486799582732288, modifications=(Modification(description='-NH3 (neutral loss)', mass=-17.02654910101),), connected_bonds=[(72, 119)], disconnected_cys=[])},\n {'scan': <src.model.scan.Scan at 0x119eeba00>,\n  'precursor': Precursor(sequence='VVRFDKLPGFGDSIEAQCGTSVNVHSSLR+DILNQITKPNDVYSFSLASRLYAEERYPILPEYLQCVK', mass=7603.854839927481, mz=7604.862664959552, segments=[(5, 8), (8, 11)], residue_ranges=[(55, 84), (84, 122)], cys_bond_count=1, alkylation_count=0, modifications=[], error_ppm=0),\n  'variant': <src.model.variant.Variant at 0x12f361e50>,\n  'variant_count': 1,\n  'fragment': Fragment(id=63, sequence='VVRFDKLPGFGDSIEAQCGTSVNVHS+SRLYAEERYPILPEYLQCVK', residue_ranges=[(55, 81), (102, 122)], intensity=10, intensity_ratio=0.011764705882352941, mass=5194.577041143061, target_mass=5193.552863223688, mz=5194.577041143061, target_mz=5194.560688255759, charge=1, break_count=2, error_ppm=3.1486799582732288, modifications=(Modification(description='-NH3 (neutral loss)', mass=-17.02654910101),), connected_bonds=[(72, 119)], disconnected_cys=[])},\n {'scan': <src.model.scan.Scan at 0x119eeba00>,\n  'precursor': Precursor(sequence='VVRFDKLPGFGDSIEAQCGTSVNVHSSLR+DILNQITKPNDVYSFSLASRLYAEERYPILPEYLQCVK', mass=7603.854839927481, mz=7604.862664959552, segments=[(5, 8), (8, 11)], residue_ranges=[(55, 84), (84, 122)], cys_bond_count=1, alkylation_count=0, modifications=[], error_ppm=0),\n  'variant': <src.model.variant.Variant at 0x12f361e50>,\n  'variant_count': 1,\n  'fragment': Fragment(id=64, sequence='VVRFDKLPGFGDSIEAQCGTSVNVHS+SRLYAEERYPILPEYLQCVK', residue_ranges=[(55, 81), (102, 122)], intensity=10, intensity_ratio=0.011764705882352941, mass=5194.577041143061, target_mass=5193.552863223688, mz=5194.577041143061, target_mz=5194.560688255759, charge=1, break_count=2, error_ppm=3.1486799582732288, modifications=(Modification(description='-NH3 (neutral loss)', mass=-17.02654910101),), connected_bonds=[(72, 119)], disconnected_cys=[])},\n {'scan': <src.model.scan.Scan at 0x119eeba00>,\n  'precursor': Precursor(sequence='VVRFDKLPGFGDSIEAQCGTSVNVHSSLR+DILNQITKPNDVYSFSLASRLYAEERYPILPEYLQCVK', mass=7603.854839927481, mz=7604.862664959552, segments=[(5, 8), (8, 11)], residue_ranges=[(55, 84), (84, 122)], cys_bond_count=1, alkylation_count=0, modifications=[], error_ppm=0),\n  'variant': <src.model.variant.Variant at 0x12f361e50>,\n  'variant_count': 1,\n  'fragment': Fragment(id=65, sequence='VVRFDKLPGFGDSIEAQCGTSVNVHS+SRLYAEERYPILPEYLQCVK', residue_ranges=[(55, 81), (102, 122)], intensity=10, intensity_ratio=0.011764705882352941, mass=5194.577041143061, target_mass=5193.552863223688, mz=5194.577041143061, target_mz=5194.560688255759, charge=1, break_count=2, error_ppm=3.1486799582732288, modifications=(Modification(description='-NH3 (neutral loss)', mass=-17.02654910101),), connected_bonds=[(72, 119)], disconnected_cys=[])},\n {'scan': <src.model.scan.Scan at 0x119eeba00>,\n  'precursor': Precursor(sequence='VVRFDKLPGFGDSIEAQCGTSVNVHSSLR+DILNQITKPNDVYSFSLASRLYAEERYPILPEYLQCVK', mass=7603.854839927481, mz=7604.862664959552, segments=[(5, 8), (8, 11)], residue_ranges=[(55, 84), (84, 122)], cys_bond_count=1, alkylation_count=0, modifications=[], error_ppm=0),\n  'variant': <src.model.variant.Variant at 0x12f361e50>,\n  'variant_count': 1,\n  'fragment': Fragment(id=66, sequence='VVRFDKLPGFGDSIEAQCGTSVNVHS+SRLYAEERYPILPEYLQCVK', residue_ranges=[(55, 81), (102, 122)], intensity=10, intensity_ratio=0.011764705882352941, mass=5194.577041143061, target_mass=5193.552863223688, mz=5194.577041143061, target_mz=5194.560688255759, charge=1, break_count=2, error_ppm=3.1486799582732288, modifications=(Modification(description='-NH3 (neutral loss)', mass=-17.02654910101),), connected_bonds=[(72, 119)], disconnected_cys=[])},\n {'scan': <src.model.scan.Scan at 0x119eeba00>,\n  'precursor': Precursor(sequence='VVRFDKLPGFGDSIEAQCGTSVNVHSSLR+DILNQITKPNDVYSFSLASRLYAEERYPILPEYLQCVK', mass=7603.854839927481, mz=7604.862664959552, segments=[(5, 8), (8, 11)], residue_ranges=[(55, 84), (84, 122)], cys_bond_count=1, alkylation_count=0, modifications=[], error_ppm=0),\n  'variant': <src.model.variant.Variant at 0x12f361e50>,\n  'variant_count': 1,\n  'fragment': Fragment(id=67, sequence='VVRFDKLPGFGDSIEAQCGTSVNVHS+SRLYAEERYPILPEYLQCVK', residue_ranges=[(55, 81), (102, 122)], intensity=10, intensity_ratio=0.011764705882352941, mass=5194.577041143061, target_mass=5193.552863223688, mz=5194.577041143061, target_mz=5194.560688255759, charge=1, break_count=2, error_ppm=3.1486799582732288, modifications=(Modification(description='-NH3 (neutral loss)', mass=-17.02654910101),), connected_bonds=[(72, 119)], disconnected_cys=[])},\n {'scan': <src.model.scan.Scan at 0x119eeba00>,\n  'precursor': Precursor(sequence='VVRFDKLPGFGDSIEAQCGTSVNVHSSLR+DILNQITKPNDVYSFSLASRLYAEERYPILPEYLQCVK', mass=7603.854839927481, mz=7604.862664959552, segments=[(5, 8), (8, 11)], residue_ranges=[(55, 84), (84, 122)], cys_bond_count=1, alkylation_count=0, modifications=[], error_ppm=0),\n  'variant': <src.model.variant.Variant at 0x12f361e50>,\n  'variant_count': 1,\n  'fragment': Fragment(id=68, sequence='VVRFDKLPGFGDSIEAQCGTSVNVHS+SRLYAEERYPILPEYLQCVK', residue_ranges=[(55, 81), (102, 122)], intensity=10, intensity_ratio=0.011764705882352941, mass=5194.577041143061, target_mass=5193.552863223688, mz=5194.577041143061, target_mz=5194.560688255759, charge=1, break_count=2, error_ppm=3.1486799582732288, modifications=(Modification(description='-NH3 (neutral loss)', mass=-17.02654910101),), connected_bonds=[(72, 119)], disconnected_cys=[])},\n {'scan': <src.model.scan.Scan at 0x119eeba00>,\n  'precursor': Precursor(sequence='VVRFDKLPGFGDSIEAQCGTSVNVHSSLR+DILNQITKPNDVYSFSLASRLYAEERYPILPEYLQCVK', mass=7603.854839927481, mz=7604.862664959552, segments=[(5, 8), (8, 11)], residue_ranges=[(55, 84), (84, 122)], cys_bond_count=1, alkylation_count=0, modifications=[], error_ppm=0),\n  'variant': <src.model.variant.Variant at 0x12f361e50>,\n  'variant_count': 1,\n  'fragment': Fragment(id=61, sequence='VVRFDKLPGFGDSIEAQCGTSVNVHSS+RLYAEERYPILPEYLQCVK', residue_ranges=[(55, 82), (103, 122)], intensity=10, intensity_ratio=0.011764705882352941, mass=5194.577041143061, target_mass=5193.552863223688, mz=5194.577041143061, target_mz=5194.560688255759, charge=1, break_count=2, error_ppm=3.1486799582732288, modifications=(Modification(description='-NH3 (neutral loss)', mass=-17.02654910101),), connected_bonds=[(72, 119)], disconnected_cys=[])},\n {'scan': <src.model.scan.Scan at 0x119eeba00>,\n  'precursor': Precursor(sequence='VVRFDKLPGFGDSIEAQCGTSVNVHSSLR+DILNQITKPNDVYSFSLASRLYAEERYPILPEYLQCVK', mass=7603.854839927481, mz=7604.862664959552, segments=[(5, 8), (8, 11)], residue_ranges=[(55, 84), (84, 122)], cys_bond_count=1, alkylation_count=0, modifications=[], error_ppm=0),\n  'variant': <src.model.variant.Variant at 0x12f361e50>,\n  'variant_count': 1,\n  'fragment': Fragment(id=62, sequence='VVRFDKLPGFGDSIEAQCGTSVNVHSS+RLYAEERYPILPEYLQCVK', residue_ranges=[(55, 82), (103, 122)], intensity=10, intensity_ratio=0.011764705882352941, mass=5194.577041143061, target_mass=5193.552863223688, mz=5194.577041143061, target_mz=5194.560688255759, charge=1, break_count=2, error_ppm=3.1486799582732288, modifications=(Modification(description='-NH3 (neutral loss)', mass=-17.02654910101),), connected_bonds=[(72, 119)], disconnected_cys=[])},\n {'scan': <src.model.scan.Scan at 0x119eeba00>,\n  'precursor': Precursor(sequence='VVRFDKLPGFGDSIEAQCGTSVNVHSSLR+DILNQITKPNDVYSFSLASRLYAEERYPILPEYLQCVK', mass=7603.854839927481, mz=7604.862664959552, segments=[(5, 8), (8, 11)], residue_ranges=[(55, 84), (84, 122)], cys_bond_count=1, alkylation_count=0, modifications=[], error_ppm=0),\n  'variant': <src.model.variant.Variant at 0x12f361e50>,\n  'variant_count': 1,\n  'fragment': Fragment(id=63, sequence='VVRFDKLPGFGDSIEAQCGTSVNVHSS+RLYAEERYPILPEYLQCVK', residue_ranges=[(55, 82), (103, 122)], intensity=10, intensity_ratio=0.011764705882352941, mass=5194.577041143061, target_mass=5193.552863223688, mz=5194.577041143061, target_mz=5194.560688255759, charge=1, break_count=2, error_ppm=3.1486799582732288, modifications=(Modification(description='-NH3 (neutral loss)', mass=-17.02654910101),), connected_bonds=[(72, 119)], disconnected_cys=[])},\n {'scan': <src.model.scan.Scan at 0x119eeba00>,\n  'precursor': Precursor(sequence='VVRFDKLPGFGDSIEAQCGTSVNVHSSLR+DILNQITKPNDVYSFSLASRLYAEERYPILPEYLQCVK', mass=7603.854839927481, mz=7604.862664959552, segments=[(5, 8), (8, 11)], residue_ranges=[(55, 84), (84, 122)], cys_bond_count=1, alkylation_count=0, modifications=[], error_ppm=0),\n  'variant': <src.model.variant.Variant at 0x12f361e50>,\n  'variant_count': 1,\n  'fragment': Fragment(id=64, sequence='VVRFDKLPGFGDSIEAQCGTSVNVHSS+RLYAEERYPILPEYLQCVK', residue_ranges=[(55, 82), (103, 122)], intensity=10, intensity_ratio=0.011764705882352941, mass=5194.577041143061, target_mass=5193.552863223688, mz=5194.577041143061, target_mz=5194.560688255759, charge=1, break_count=2, error_ppm=3.1486799582732288, modifications=(Modification(description='-NH3 (neutral loss)', mass=-17.02654910101),), connected_bonds=[(72, 119)], disconnected_cys=[])},\n {'scan': <src.model.scan.Scan at 0x119eeba00>,\n  'precursor': Precursor(sequence='VVRFDKLPGFGDSIEAQCGTSVNVHSSLR+DILNQITKPNDVYSFSLASRLYAEERYPILPEYLQCVK', mass=7603.854839927481, mz=7604.862664959552, segments=[(5, 8), (8, 11)], residue_ranges=[(55, 84), (84, 122)], cys_bond_count=1, alkylation_count=0, modifications=[], error_ppm=0),\n  'variant': <src.model.variant.Variant at 0x12f361e50>,\n  'variant_count': 1,\n  'fragment': Fragment(id=65, sequence='VVRFDKLPGFGDSIEAQCGTSVNVHSS+RLYAEERYPILPEYLQCVK', residue_ranges=[(55, 82), (103, 122)], intensity=10, intensity_ratio=0.011764705882352941, mass=5194.577041143061, target_mass=5193.552863223688, mz=5194.577041143061, target_mz=5194.560688255759, charge=1, break_count=2, error_ppm=3.1486799582732288, modifications=(Modification(description='-NH3 (neutral loss)', mass=-17.02654910101),), connected_bonds=[(72, 119)], disconnected_cys=[])},\n {'scan': <src.model.scan.Scan at 0x119eeba00>,\n  'precursor': Precursor(sequence='VVRFDKLPGFGDSIEAQCGTSVNVHSSLR+DILNQITKPNDVYSFSLASRLYAEERYPILPEYLQCVK', mass=7603.854839927481, mz=7604.862664959552, segments=[(5, 8), (8, 11)], residue_ranges=[(55, 84), (84, 122)], cys_bond_count=1, alkylation_count=0, modifications=[], error_ppm=0),\n  'variant': <src.model.variant.Variant at 0x12f361e50>,\n  'variant_count': 1,\n  'fragment': Fragment(id=66, sequence='VVRFDKLPGFGDSIEAQCGTSVNVHSS+RLYAEERYPILPEYLQCVK', residue_ranges=[(55, 82), (103, 122)], intensity=10, intensity_ratio=0.011764705882352941, mass=5194.577041143061, target_mass=5193.552863223688, mz=5194.577041143061, target_mz=5194.560688255759, charge=1, break_count=2, error_ppm=3.1486799582732288, modifications=(Modification(description='-NH3 (neutral loss)', mass=-17.02654910101),), connected_bonds=[(72, 119)], disconnected_cys=[])},\n {'scan': <src.model.scan.Scan at 0x119eeba00>,\n  'precursor': Precursor(sequence='VVRFDKLPGFGDSIEAQCGTSVNVHSSLR+DILNQITKPNDVYSFSLASRLYAEERYPILPEYLQCVK', mass=7603.854839927481, mz=7604.862664959552, segments=[(5, 8), (8, 11)], residue_ranges=[(55, 84), (84, 122)], cys_bond_count=1, alkylation_count=0, modifications=[], error_ppm=0),\n  'variant': <src.model.variant.Variant at 0x12f361e50>,\n  'variant_count': 1,\n  'fragment': Fragment(id=67, sequence='VVRFDKLPGFGDSIEAQCGTSVNVHSS+RLYAEERYPILPEYLQCVK', residue_ranges=[(55, 82), (103, 122)], intensity=10, intensity_ratio=0.011764705882352941, mass=5194.577041143061, target_mass=5193.552863223688, mz=5194.577041143061, target_mz=5194.560688255759, charge=1, break_count=2, error_ppm=3.1486799582732288, modifications=(Modification(description='-NH3 (neutral loss)', mass=-17.02654910101),), connected_bonds=[(72, 119)], disconnected_cys=[])},\n {'scan': <src.model.scan.Scan at 0x119eeba00>,\n  'precursor': Precursor(sequence='VVRFDKLPGFGDSIEAQCGTSVNVHSSLR+DILNQITKPNDVYSFSLASRLYAEERYPILPEYLQCVK', mass=7603.854839927481, mz=7604.862664959552, segments=[(5, 8), (8, 11)], residue_ranges=[(55, 84), (84, 122)], cys_bond_count=1, alkylation_count=0, modifications=[], error_ppm=0),\n  'variant': <src.model.variant.Variant at 0x12f361e50>,\n  'variant_count': 1,\n  'fragment': Fragment(id=68, sequence='VVRFDKLPGFGDSIEAQCGTSVNVHSS+RLYAEERYPILPEYLQCVK', residue_ranges=[(55, 82), (103, 122)], intensity=10, intensity_ratio=0.011764705882352941, mass=5194.577041143061, target_mass=5193.552863223688, mz=5194.577041143061, target_mz=5194.560688255759, charge=1, break_count=2, error_ppm=3.1486799582732288, modifications=(Modification(description='-NH3 (neutral loss)', mass=-17.02654910101),), connected_bonds=[(72, 119)], disconnected_cys=[])},\n {'scan': <src.model.scan.Scan at 0x119eeba00>,\n  'precursor': Precursor(sequence='VVRFDKLPGFGDSIEAQCGTSVNVHSSLR+DILNQITKPNDVYSFSLASRLYAEERYPILPEYLQCVK', mass=7603.854839927481, mz=7604.862664959552, segments=[(5, 8), (8, 11)], residue_ranges=[(55, 84), (84, 122)], cys_bond_count=1, alkylation_count=0, modifications=[], error_ppm=0),\n  'variant': <src.model.variant.Variant at 0x12f361e50>,\n  'variant_count': 1,\n  'fragment': Fragment(id=48, sequence='VVRFDKLPGFGDSIEAQCGTSVNVHSSL+ILPEYLQCVK', residue_ranges=[(55, 83), (112, 122)], intensity=10, intensity_ratio=0.011764705882352941, mass=4147.099647322269, target_mass=4146.090725538458, mz=4147.099647322269, target_mz=4147.0985505705285, charge=1, break_count=2, error_ppm=0.2645266405079983, modifications=(), connected_bonds=[(72, 119)], disconnected_cys=[])},\n {'scan': <src.model.scan.Scan at 0x119eeba00>,\n  'precursor': Precursor(sequence='VVRFDKLPGFGDSIEAQCGTSVNVHSSLR+DILNQITKPNDVYSFSLASRLYAEERYPILPEYLQCVK', mass=7603.854839927481, mz=7604.862664959552, segments=[(5, 8), (8, 11)], residue_ranges=[(55, 84), (84, 122)], cys_bond_count=1, alkylation_count=0, modifications=[], error_ppm=0),\n  'variant': <src.model.variant.Variant at 0x12f361e50>,\n  'variant_count': 1,\n  'fragment': Fragment(id=49, sequence='VVRFDKLPGFGDSIEAQCGTSVNVHSSL+ILPEYLQCVK', residue_ranges=[(55, 83), (112, 122)], intensity=10, intensity_ratio=0.011764705882352941, mass=4147.099647322269, target_mass=4146.090725538458, mz=4147.099647322269, target_mz=4147.0985505705285, charge=1, break_count=2, error_ppm=0.2645266405079983, modifications=(), connected_bonds=[(72, 119)], disconnected_cys=[])},\n {'scan': <src.model.scan.Scan at 0x119eeba00>,\n  'precursor': Precursor(sequence='VVRFDKLPGFGDSIEAQCGTSVNVHSSLR+DILNQITKPNDVYSFSLASRLYAEERYPILPEYLQCVK', mass=7603.854839927481, mz=7604.862664959552, segments=[(5, 8), (8, 11)], residue_ranges=[(55, 84), (84, 122)], cys_bond_count=1, alkylation_count=0, modifications=[], error_ppm=0),\n  'variant': <src.model.variant.Variant at 0x12f361e50>,\n  'variant_count': 1,\n  'fragment': Fragment(id=50, sequence='VVRFDKLPGFGDSIEAQCGTSVNVHSSL+ILPEYLQCVK', residue_ranges=[(55, 83), (112, 122)], intensity=10, intensity_ratio=0.011764705882352941, mass=4147.099647322269, target_mass=4146.090725538458, mz=4147.099647322269, target_mz=4147.0985505705285, charge=1, break_count=2, error_ppm=0.2645266405079983, modifications=(), connected_bonds=[(72, 119)], disconnected_cys=[])},\n {'scan': <src.model.scan.Scan at 0x119eeba00>,\n  'precursor': Precursor(sequence='VVRFDKLPGFGDSIEAQCGTSVNVHSSLR+DILNQITKPNDVYSFSLASRLYAEERYPILPEYLQCVK', mass=7603.854839927481, mz=7604.862664959552, segments=[(5, 8), (8, 11)], residue_ranges=[(55, 84), (84, 122)], cys_bond_count=1, alkylation_count=0, modifications=[], error_ppm=0),\n  'variant': <src.model.variant.Variant at 0x12f361e50>,\n  'variant_count': 1,\n  'fragment': Fragment(id=51, sequence='VVRFDKLPGFGDSIEAQCGTSVNVHSSL+ILPEYLQCVK', residue_ranges=[(55, 83), (112, 122)], intensity=10, intensity_ratio=0.011764705882352941, mass=4147.099647322269, target_mass=4146.090725538458, mz=4147.099647322269, target_mz=4147.0985505705285, charge=1, break_count=2, error_ppm=0.2645266405079983, modifications=(), connected_bonds=[(72, 119)], disconnected_cys=[])},\n {'scan': <src.model.scan.Scan at 0x119eeba00>,\n  'precursor': Precursor(sequence='VVRFDKLPGFGDSIEAQCGTSVNVHSSLR+DILNQITKPNDVYSFSLASRLYAEERYPILPEYLQCVK', mass=7603.854839927481, mz=7604.862664959552, segments=[(5, 8), (8, 11)], residue_ranges=[(55, 84), (84, 122)], cys_bond_count=1, alkylation_count=0, modifications=[], error_ppm=0),\n  'variant': <src.model.variant.Variant at 0x12f361e50>,\n  'variant_count': 1,\n  'fragment': Fragment(id=70, sequence='FDKLPGFGDSIEAQCGTSVNVHSSLR+SLASRLYAEERYPILPEYLQCVK', residue_ranges=[(58, 84), (99, 122)], intensity=10, intensity_ratio=0.011764705882352941, mass=5502.746625649301, target_mass=5501.7377038736395, mz=5502.746625649301, target_mz=5502.74552890571, charge=1, break_count=2, error_ppm=0.19934490362993001, modifications=(), connected_bonds=[(72, 119)], disconnected_cys=[])},\n {'scan': <src.model.scan.Scan at 0x119eeba00>,\n  'precursor': Precursor(sequence='VVRFDKLPGFGDSIEAQCGTSVNVHSSLR+DILNQITKPNDVYSFSLASRLYAEERYPILPEYLQCVK', mass=7603.854839927481, mz=7604.862664959552, segments=[(5, 8), (8, 11)], residue_ranges=[(55, 84), (84, 122)], cys_bond_count=1, alkylation_count=0, modifications=[], error_ppm=0),\n  'variant': <src.model.variant.Variant at 0x12f361e50>,\n  'variant_count': 1,\n  'fragment': Fragment(id=71, sequence='FDKLPGFGDSIEAQCGTSVNVHSSLR+SLASRLYAEERYPILPEYLQCVK', residue_ranges=[(58, 84), (99, 122)], intensity=10, intensity_ratio=0.011764705882352941, mass=5502.746625649301, target_mass=5501.7377038736395, mz=5502.746625649301, target_mz=5502.74552890571, charge=1, break_count=2, error_ppm=0.19934490362993001, modifications=(), connected_bonds=[(72, 119)], disconnected_cys=[])},\n {'scan': <src.model.scan.Scan at 0x119eeba00>,\n  'precursor': Precursor(sequence='VVRFDKLPGFGDSIEAQCGTSVNVHSSLR+DILNQITKPNDVYSFSLASRLYAEERYPILPEYLQCVK', mass=7603.854839927481, mz=7604.862664959552, segments=[(5, 8), (8, 11)], residue_ranges=[(55, 84), (84, 122)], cys_bond_count=1, alkylation_count=0, modifications=[], error_ppm=0),\n  'variant': <src.model.variant.Variant at 0x12f361e50>,\n  'variant_count': 1,\n  'fragment': Fragment(id=72, sequence='FDKLPGFGDSIEAQCGTSVNVHSSLR+SLASRLYAEERYPILPEYLQCVK', residue_ranges=[(58, 84), (99, 122)], intensity=10, intensity_ratio=0.011764705882352941, mass=5502.746625649301, target_mass=5501.7377038736395, mz=5502.746625649301, target_mz=5502.74552890571, charge=1, break_count=2, error_ppm=0.19934490362993001, modifications=(), connected_bonds=[(72, 119)], disconnected_cys=[])},\n {'scan': <src.model.scan.Scan at 0x119eeba00>,\n  'precursor': Precursor(sequence='VVRFDKLPGFGDSIEAQCGTSVNVHSSLR+DILNQITKPNDVYSFSLASRLYAEERYPILPEYLQCVK', mass=7603.854839927481, mz=7604.862664959552, segments=[(5, 8), (8, 11)], residue_ranges=[(55, 84), (84, 122)], cys_bond_count=1, alkylation_count=0, modifications=[], error_ppm=0),\n  'variant': <src.model.variant.Variant at 0x12f361e50>,\n  'variant_count': 1,\n  'fragment': Fragment(id=73, sequence='FDKLPGFGDSIEAQCGTSVNVHSSLR+SLASRLYAEERYPILPEYLQCVK', residue_ranges=[(58, 84), (99, 122)], intensity=10, intensity_ratio=0.011764705882352941, mass=5502.746625649301, target_mass=5501.7377038736395, mz=5502.746625649301, target_mz=5502.74552890571, charge=1, break_count=2, error_ppm=0.19934490362993001, modifications=(), connected_bonds=[(72, 119)], disconnected_cys=[])},\n {'scan': <src.model.scan.Scan at 0x119eeba00>,\n  'precursor': Precursor(sequence='VVRFDKLPGFGDSIEAQCGTSVNVHSSLR+DILNQITKPNDVYSFSLASRLYAEERYPILPEYLQCVK', mass=7603.854839927481, mz=7604.862664959552, segments=[(5, 8), (8, 11)], residue_ranges=[(55, 84), (84, 122)], cys_bond_count=1, alkylation_count=0, modifications=[], error_ppm=0),\n  'variant': <src.model.variant.Variant at 0x12f361e50>,\n  'variant_count': 1,\n  'fragment': Fragment(id=74, sequence='FDKLPGFGDSIEAQCGTSVNVHSSLR+SLASRLYAEERYPILPEYLQCVK', residue_ranges=[(58, 84), (99, 122)], intensity=10, intensity_ratio=0.011764705882352941, mass=5502.746625649301, target_mass=5501.7377038736395, mz=5502.746625649301, target_mz=5502.74552890571, charge=1, break_count=2, error_ppm=0.19934490362993001, modifications=(), connected_bonds=[(72, 119)], disconnected_cys=[])},\n {'scan': <src.model.scan.Scan at 0x119eeba00>,\n  'precursor': Precursor(sequence='VVRFDKLPGFGDSIEAQCGTSVNVHSSLR+DILNQITKPNDVYSFSLASRLYAEERYPILPEYLQCVK', mass=7603.854839927481, mz=7604.862664959552, segments=[(5, 8), (8, 11)], residue_ranges=[(55, 84), (84, 122)], cys_bond_count=1, alkylation_count=0, modifications=[], error_ppm=0),\n  'variant': <src.model.variant.Variant at 0x12f361e50>,\n  'variant_count': 1,\n  'fragment': Fragment(id=75, sequence='FDKLPGFGDSIEAQCGTSVNVHSSLR+SLASRLYAEERYPILPEYLQCVK', residue_ranges=[(58, 84), (99, 122)], intensity=10, intensity_ratio=0.011764705882352941, mass=5502.746625649301, target_mass=5501.7377038736395, mz=5502.746625649301, target_mz=5502.74552890571, charge=1, break_count=2, error_ppm=0.19934490362993001, modifications=(), connected_bonds=[(72, 119)], disconnected_cys=[])},\n {'scan': <src.model.scan.Scan at 0x119eeba00>,\n  'precursor': Precursor(sequence='VVRFDKLPGFGDSIEAQCGTSVNVHSSLR+DILNQITKPNDVYSFSLASRLYAEERYPILPEYLQCVK', mass=7603.854839927481, mz=7604.862664959552, segments=[(5, 8), (8, 11)], residue_ranges=[(55, 84), (84, 122)], cys_bond_count=1, alkylation_count=0, modifications=[], error_ppm=0),\n  'variant': <src.model.variant.Variant at 0x12f361e50>,\n  'variant_count': 1,\n  'fragment': Fragment(id=76, sequence='FDKLPGFGDSIEAQCGTSVNVHSSLR+SLASRLYAEERYPILPEYLQCVK', residue_ranges=[(58, 84), (99, 122)], intensity=10, intensity_ratio=0.011764705882352941, mass=5502.746625649301, target_mass=5501.7377038736395, mz=5502.746625649301, target_mz=5502.74552890571, charge=1, break_count=2, error_ppm=0.19934490362993001, modifications=(), connected_bonds=[(72, 119)], disconnected_cys=[])},\n {'scan': <src.model.scan.Scan at 0x119eeba00>,\n  'precursor': Precursor(sequence='VVRFDKLPGFGDSIEAQCGTSVNVHSSLR+DILNQITKPNDVYSFSLASRLYAEERYPILPEYLQCVK', mass=7603.854839927481, mz=7604.862664959552, segments=[(5, 8), (8, 11)], residue_ranges=[(55, 84), (84, 122)], cys_bond_count=1, alkylation_count=0, modifications=[], error_ppm=0),\n  'variant': <src.model.variant.Variant at 0x12f361e50>,\n  'variant_count': 1,\n  'fragment': Fragment(id=77, sequence='FDKLPGFGDSIEAQCGTSVNVHSSLR+SLASRLYAEERYPILPEYLQCVK', residue_ranges=[(58, 84), (99, 122)], intensity=10, intensity_ratio=0.011764705882352941, mass=5502.746625649301, target_mass=5501.7377038736395, mz=5502.746625649301, target_mz=5502.74552890571, charge=1, break_count=2, error_ppm=0.19934490362993001, modifications=(), connected_bonds=[(72, 119)], disconnected_cys=[])},\n {'scan': <src.model.scan.Scan at 0x119eeba00>,\n  'precursor': Precursor(sequence='VVRFDKLPGFGDSIEAQCGTSVNVHSSLR+DILNQITKPNDVYSFSLASRLYAEERYPILPEYLQCVK', mass=7603.854839927481, mz=7604.862664959552, segments=[(5, 8), (8, 11)], residue_ranges=[(55, 84), (84, 122)], cys_bond_count=1, alkylation_count=0, modifications=[], error_ppm=0),\n  'variant': <src.model.variant.Variant at 0x12f361e50>,\n  'variant_count': 1,\n  'fragment': Fragment(id=78, sequence='FDKLPGFGDSIEAQCGTSVNVHSSLR+SLASRLYAEERYPILPEYLQCVK', residue_ranges=[(58, 84), (99, 122)], intensity=10, intensity_ratio=0.011764705882352941, mass=5502.746625649301, target_mass=5501.7377038736395, mz=5502.746625649301, target_mz=5502.74552890571, charge=1, break_count=2, error_ppm=0.19934490362993001, modifications=(), connected_bonds=[(72, 119)], disconnected_cys=[])},\n {'scan': <src.model.scan.Scan at 0x119eeba00>,\n  'precursor': Precursor(sequence='VVRFDKLPGFGDSIEAQCGTSVNVHSSLR+DILNQITKPNDVYSFSLASRLYAEERYPILPEYLQCVK', mass=7603.854839927481, mz=7604.862664959552, segments=[(5, 8), (8, 11)], residue_ranges=[(55, 84), (84, 122)], cys_bond_count=1, alkylation_count=0, modifications=[], error_ppm=0),\n  'variant': <src.model.variant.Variant at 0x12f361e50>,\n  'variant_count': 1,\n  'fragment': Fragment(id=79, sequence='FDKLPGFGDSIEAQCGTSVNVHSSLR+SLASRLYAEERYPILPEYLQCVK', residue_ranges=[(58, 84), (99, 122)], intensity=10, intensity_ratio=0.011764705882352941, mass=5502.746625649301, target_mass=5501.7377038736395, mz=5502.746625649301, target_mz=5502.74552890571, charge=1, break_count=2, error_ppm=0.19934490362993001, modifications=(), connected_bonds=[(72, 119)], disconnected_cys=[])},\n {'scan': <src.model.scan.Scan at 0x119eeba00>,\n  'precursor': Precursor(sequence='VVRFDKLPGFGDSIEAQCGTSVNVHSSLR+DILNQITKPNDVYSFSLASRLYAEERYPILPEYLQCVK', mass=7603.854839927481, mz=7604.862664959552, segments=[(5, 8), (8, 11)], residue_ranges=[(55, 84), (84, 122)], cys_bond_count=1, alkylation_count=0, modifications=[], error_ppm=0),\n  'variant': <src.model.variant.Variant at 0x12f361e50>,\n  'variant_count': 1,\n  'fragment': Fragment(id=45, sequence='FDKLPGFGDSIEAQCGTSVNVHSSLR+PEYLQCVK', residue_ranges=[(58, 84), (114, 122)], intensity=10, intensity_ratio=0.011764705882352941, mass=3740.805256225729, target_mass=3739.796334437288, mz=3740.805256225729, target_mz=3740.8041594693577, charge=1, break_count=2, error_ppm=0.29326625075400886, modifications=(), connected_bonds=[(72, 119)], disconnected_cys=[])},\n {'scan': <src.model.scan.Scan at 0x119eeba00>,\n  'precursor': Precursor(sequence='VVRFDKLPGFGDSIEAQCGTSVNVHSSLR+DILNQITKPNDVYSFSLASRLYAEERYPILPEYLQCVK', mass=7603.854839927481, mz=7604.862664959552, segments=[(5, 8), (8, 11)], residue_ranges=[(55, 84), (84, 122)], cys_bond_count=1, alkylation_count=0, modifications=[], error_ppm=0),\n  'variant': <src.model.variant.Variant at 0x12f361e50>,\n  'variant_count': 1,\n  'fragment': Fragment(id=70, sequence='DKLPGFGDSIEAQCGTSVNVHSSLR+FSLASRLYAEERYPILPEYLQCVK', residue_ranges=[(59, 84), (98, 122)], intensity=10, intensity_ratio=0.011764705882352941, mass=5502.746625649302, target_mass=5501.7377038736395, mz=5502.746625649302, target_mz=5502.74552890571, charge=1, break_count=2, error_ppm=0.1993449037952404, modifications=(), connected_bonds=[(72, 119)], disconnected_cys=[])},\n {'scan': <src.model.scan.Scan at 0x119eeba00>,\n  'precursor': Precursor(sequence='VVRFDKLPGFGDSIEAQCGTSVNVHSSLR+DILNQITKPNDVYSFSLASRLYAEERYPILPEYLQCVK', mass=7603.854839927481, mz=7604.862664959552, segments=[(5, 8), (8, 11)], residue_ranges=[(55, 84), (84, 122)], cys_bond_count=1, alkylation_count=0, modifications=[], error_ppm=0),\n  'variant': <src.model.variant.Variant at 0x12f361e50>,\n  'variant_count': 1,\n  'fragment': Fragment(id=71, sequence='DKLPGFGDSIEAQCGTSVNVHSSLR+FSLASRLYAEERYPILPEYLQCVK', residue_ranges=[(59, 84), (98, 122)], intensity=10, intensity_ratio=0.011764705882352941, mass=5502.746625649302, target_mass=5501.7377038736395, mz=5502.746625649302, target_mz=5502.74552890571, charge=1, break_count=2, error_ppm=0.1993449037952404, modifications=(), connected_bonds=[(72, 119)], disconnected_cys=[])},\n {'scan': <src.model.scan.Scan at 0x119eeba00>,\n  'precursor': Precursor(sequence='VVRFDKLPGFGDSIEAQCGTSVNVHSSLR+DILNQITKPNDVYSFSLASRLYAEERYPILPEYLQCVK', mass=7603.854839927481, mz=7604.862664959552, segments=[(5, 8), (8, 11)], residue_ranges=[(55, 84), (84, 122)], cys_bond_count=1, alkylation_count=0, modifications=[], error_ppm=0),\n  'variant': <src.model.variant.Variant at 0x12f361e50>,\n  'variant_count': 1,\n  'fragment': Fragment(id=72, sequence='DKLPGFGDSIEAQCGTSVNVHSSLR+FSLASRLYAEERYPILPEYLQCVK', residue_ranges=[(59, 84), (98, 122)], intensity=10, intensity_ratio=0.011764705882352941, mass=5502.746625649302, target_mass=5501.7377038736395, mz=5502.746625649302, target_mz=5502.74552890571, charge=1, break_count=2, error_ppm=0.1993449037952404, modifications=(), connected_bonds=[(72, 119)], disconnected_cys=[])},\n {'scan': <src.model.scan.Scan at 0x119eeba00>,\n  'precursor': Precursor(sequence='VVRFDKLPGFGDSIEAQCGTSVNVHSSLR+DILNQITKPNDVYSFSLASRLYAEERYPILPEYLQCVK', mass=7603.854839927481, mz=7604.862664959552, segments=[(5, 8), (8, 11)], residue_ranges=[(55, 84), (84, 122)], cys_bond_count=1, alkylation_count=0, modifications=[], error_ppm=0),\n  'variant': <src.model.variant.Variant at 0x12f361e50>,\n  'variant_count': 1,\n  'fragment': Fragment(id=73, sequence='DKLPGFGDSIEAQCGTSVNVHSSLR+FSLASRLYAEERYPILPEYLQCVK', residue_ranges=[(59, 84), (98, 122)], intensity=10, intensity_ratio=0.011764705882352941, mass=5502.746625649302, target_mass=5501.7377038736395, mz=5502.746625649302, target_mz=5502.74552890571, charge=1, break_count=2, error_ppm=0.1993449037952404, modifications=(), connected_bonds=[(72, 119)], disconnected_cys=[])},\n {'scan': <src.model.scan.Scan at 0x119eeba00>,\n  'precursor': Precursor(sequence='VVRFDKLPGFGDSIEAQCGTSVNVHSSLR+DILNQITKPNDVYSFSLASRLYAEERYPILPEYLQCVK', mass=7603.854839927481, mz=7604.862664959552, segments=[(5, 8), (8, 11)], residue_ranges=[(55, 84), (84, 122)], cys_bond_count=1, alkylation_count=0, modifications=[], error_ppm=0),\n  'variant': <src.model.variant.Variant at 0x12f361e50>,\n  'variant_count': 1,\n  'fragment': Fragment(id=74, sequence='DKLPGFGDSIEAQCGTSVNVHSSLR+FSLASRLYAEERYPILPEYLQCVK', residue_ranges=[(59, 84), (98, 122)], intensity=10, intensity_ratio=0.011764705882352941, mass=5502.746625649302, target_mass=5501.7377038736395, mz=5502.746625649302, target_mz=5502.74552890571, charge=1, break_count=2, error_ppm=0.1993449037952404, modifications=(), connected_bonds=[(72, 119)], disconnected_cys=[])},\n {'scan': <src.model.scan.Scan at 0x119eeba00>,\n  'precursor': Precursor(sequence='VVRFDKLPGFGDSIEAQCGTSVNVHSSLR+DILNQITKPNDVYSFSLASRLYAEERYPILPEYLQCVK', mass=7603.854839927481, mz=7604.862664959552, segments=[(5, 8), (8, 11)], residue_ranges=[(55, 84), (84, 122)], cys_bond_count=1, alkylation_count=0, modifications=[], error_ppm=0),\n  'variant': <src.model.variant.Variant at 0x12f361e50>,\n  'variant_count': 1,\n  'fragment': Fragment(id=75, sequence='DKLPGFGDSIEAQCGTSVNVHSSLR+FSLASRLYAEERYPILPEYLQCVK', residue_ranges=[(59, 84), (98, 122)], intensity=10, intensity_ratio=0.011764705882352941, mass=5502.746625649302, target_mass=5501.7377038736395, mz=5502.746625649302, target_mz=5502.74552890571, charge=1, break_count=2, error_ppm=0.1993449037952404, modifications=(), connected_bonds=[(72, 119)], disconnected_cys=[])},\n {'scan': <src.model.scan.Scan at 0x119eeba00>,\n  'precursor': Precursor(sequence='VVRFDKLPGFGDSIEAQCGTSVNVHSSLR+DILNQITKPNDVYSFSLASRLYAEERYPILPEYLQCVK', mass=7603.854839927481, mz=7604.862664959552, segments=[(5, 8), (8, 11)], residue_ranges=[(55, 84), (84, 122)], cys_bond_count=1, alkylation_count=0, modifications=[], error_ppm=0),\n  'variant': <src.model.variant.Variant at 0x12f361e50>,\n  'variant_count': 1,\n  'fragment': Fragment(id=76, sequence='DKLPGFGDSIEAQCGTSVNVHSSLR+FSLASRLYAEERYPILPEYLQCVK', residue_ranges=[(59, 84), (98, 122)], intensity=10, intensity_ratio=0.011764705882352941, mass=5502.746625649302, target_mass=5501.7377038736395, mz=5502.746625649302, target_mz=5502.74552890571, charge=1, break_count=2, error_ppm=0.1993449037952404, modifications=(), connected_bonds=[(72, 119)], disconnected_cys=[])},\n {'scan': <src.model.scan.Scan at 0x119eeba00>,\n  'precursor': Precursor(sequence='VVRFDKLPGFGDSIEAQCGTSVNVHSSLR+DILNQITKPNDVYSFSLASRLYAEERYPILPEYLQCVK', mass=7603.854839927481, mz=7604.862664959552, segments=[(5, 8), (8, 11)], residue_ranges=[(55, 84), (84, 122)], cys_bond_count=1, alkylation_count=0, modifications=[], error_ppm=0),\n  'variant': <src.model.variant.Variant at 0x12f361e50>,\n  'variant_count': 1,\n  'fragment': Fragment(id=77, sequence='DKLPGFGDSIEAQCGTSVNVHSSLR+FSLASRLYAEERYPILPEYLQCVK', residue_ranges=[(59, 84), (98, 122)], intensity=10, intensity_ratio=0.011764705882352941, mass=5502.746625649302, target_mass=5501.7377038736395, mz=5502.746625649302, target_mz=5502.74552890571, charge=1, break_count=2, error_ppm=0.1993449037952404, modifications=(), connected_bonds=[(72, 119)], disconnected_cys=[])},\n {'scan': <src.model.scan.Scan at 0x119eeba00>,\n  'precursor': Precursor(sequence='VVRFDKLPGFGDSIEAQCGTSVNVHSSLR+DILNQITKPNDVYSFSLASRLYAEERYPILPEYLQCVK', mass=7603.854839927481, mz=7604.862664959552, segments=[(5, 8), (8, 11)], residue_ranges=[(55, 84), (84, 122)], cys_bond_count=1, alkylation_count=0, modifications=[], error_ppm=0),\n  'variant': <src.model.variant.Variant at 0x12f361e50>,\n  'variant_count': 1,\n  'fragment': Fragment(id=78, sequence='DKLPGFGDSIEAQCGTSVNVHSSLR+FSLASRLYAEERYPILPEYLQCVK', residue_ranges=[(59, 84), (98, 122)], intensity=10, intensity_ratio=0.011764705882352941, mass=5502.746625649302, target_mass=5501.7377038736395, mz=5502.746625649302, target_mz=5502.74552890571, charge=1, break_count=2, error_ppm=0.1993449037952404, modifications=(), connected_bonds=[(72, 119)], disconnected_cys=[])},\n {'scan': <src.model.scan.Scan at 0x119eeba00>,\n  'precursor': Precursor(sequence='VVRFDKLPGFGDSIEAQCGTSVNVHSSLR+DILNQITKPNDVYSFSLASRLYAEERYPILPEYLQCVK', mass=7603.854839927481, mz=7604.862664959552, segments=[(5, 8), (8, 11)], residue_ranges=[(55, 84), (84, 122)], cys_bond_count=1, alkylation_count=0, modifications=[], error_ppm=0),\n  'variant': <src.model.variant.Variant at 0x12f361e50>,\n  'variant_count': 1,\n  'fragment': Fragment(id=79, sequence='DKLPGFGDSIEAQCGTSVNVHSSLR+FSLASRLYAEERYPILPEYLQCVK', residue_ranges=[(59, 84), (98, 122)], intensity=10, intensity_ratio=0.011764705882352941, mass=5502.746625649302, target_mass=5501.7377038736395, mz=5502.746625649302, target_mz=5502.74552890571, charge=1, break_count=2, error_ppm=0.1993449037952404, modifications=(), connected_bonds=[(72, 119)], disconnected_cys=[])},\n {'scan': <src.model.scan.Scan at 0x119eeba00>,\n  'precursor': Precursor(sequence='VVRFDKLPGFGDSIEAQCGTSVNVHSSLR+DILNQITKPNDVYSFSLASRLYAEERYPILPEYLQCVK', mass=7603.854839927481, mz=7604.862664959552, segments=[(5, 8), (8, 11)], residue_ranges=[(55, 84), (84, 122)], cys_bond_count=1, alkylation_count=0, modifications=[], error_ppm=0),\n  'variant': <src.model.variant.Variant at 0x12f361e50>,\n  'variant_count': 1,\n  'fragment': Fragment(id=83, sequence='KLPGFGDSIEAQCGTSVNVHSSLR+NQITKPNDVYSFSLASRLYAEERYPILPEYLQCVK', residue_ranges=[(60, 84), (87, 122)], intensity=10, intensity_ratio=0.011764705882352941, mass=6647.334298195061, target_mass=6646.325376427179, mz=6647.334298195061, target_mz=6647.33320145925, charge=1, break_count=2, error_ppm=0.1650138336744196, modifications=(), connected_bonds=[(72, 119)], disconnected_cys=[])},\n {'scan': <src.model.scan.Scan at 0x119eeba00>,\n  'precursor': Precursor(sequence='VVRFDKLPGFGDSIEAQCGTSVNVHSSLR+DILNQITKPNDVYSFSLASRLYAEERYPILPEYLQCVK', mass=7603.854839927481, mz=7604.862664959552, segments=[(5, 8), (8, 11)], residue_ranges=[(55, 84), (84, 122)], cys_bond_count=1, alkylation_count=0, modifications=[], error_ppm=0),\n  'variant': <src.model.variant.Variant at 0x12f361e50>,\n  'variant_count': 1,\n  'fragment': Fragment(id=84, sequence='KLPGFGDSIEAQCGTSVNVHSSLR+NQITKPNDVYSFSLASRLYAEERYPILPEYLQCVK', residue_ranges=[(60, 84), (87, 122)], intensity=10, intensity_ratio=0.011764705882352941, mass=6647.334298195061, target_mass=6646.325376427179, mz=6647.334298195061, target_mz=6647.33320145925, charge=1, break_count=2, error_ppm=0.1650138336744196, modifications=(), connected_bonds=[(72, 119)], disconnected_cys=[])},\n {'scan': <src.model.scan.Scan at 0x119eeba00>,\n  'precursor': Precursor(sequence='VVRFDKLPGFGDSIEAQCGTSVNVHSSLR+DILNQITKPNDVYSFSLASRLYAEERYPILPEYLQCVK', mass=7603.854839927481, mz=7604.862664959552, segments=[(5, 8), (8, 11)], residue_ranges=[(55, 84), (84, 122)], cys_bond_count=1, alkylation_count=0, modifications=[], error_ppm=0),\n  'variant': <src.model.variant.Variant at 0x12f361e50>,\n  'variant_count': 1,\n  'fragment': Fragment(id=30, sequence='GFGDSIEAQCGTSVNVHSSLR+QCVK', residue_ranges=[(63, 84), (118, 122)], intensity=10, intensity_ratio=0.011764705882352941, mass=2638.235359002429, target_mass=2637.2264372050677, mz=2638.235359002429, target_mz=2638.2342622371375, charge=1, break_count=2, error_ppm=0.4158781437787005, modifications=(), connected_bonds=[(72, 119)], disconnected_cys=[])},\n {'scan': <src.model.scan.Scan at 0x119eeba00>,\n  'precursor': Precursor(sequence='VVRFDKLPGFGDSIEAQCGTSVNVHSSLR+DILNQITKPNDVYSFSLASRLYAEERYPILPEYLQCVK', mass=7603.854839927481, mz=7604.862664959552, segments=[(5, 8), (8, 11)], residue_ranges=[(55, 84), (84, 122)], cys_bond_count=1, alkylation_count=0, modifications=[], error_ppm=0),\n  'variant': <src.model.variant.Variant at 0x12f361e50>,\n  'variant_count': 1,\n  'fragment': Fragment(id=31, sequence='GFGDSIEAQCGTSVNVHSSLR+QCVK', residue_ranges=[(63, 84), (118, 122)], intensity=10, intensity_ratio=0.011764705882352941, mass=2638.235359002429, target_mass=2637.2264372050677, mz=2638.235359002429, target_mz=2638.2342622371375, charge=1, break_count=2, error_ppm=0.4158781437787005, modifications=(), connected_bonds=[(72, 119)], disconnected_cys=[])},\n {'scan': <src.model.scan.Scan at 0x119eeba00>,\n  'precursor': Precursor(sequence='VVRFDKLPGFGDSIEAQCGTSVNVHSSLR+DILNQITKPNDVYSFSLASRLYAEERYPILPEYLQCVK', mass=7603.854839927481, mz=7604.862664959552, segments=[(5, 8), (8, 11)], residue_ranges=[(55, 84), (84, 122)], cys_bond_count=1, alkylation_count=0, modifications=[], error_ppm=0),\n  'variant': <src.model.variant.Variant at 0x12f361e50>,\n  'variant_count': 1,\n  'fragment': Fragment(id=32, sequence='GFGDSIEAQCGTSVNVHSSLR+QCVK', residue_ranges=[(63, 84), (118, 122)], intensity=10, intensity_ratio=0.011764705882352941, mass=2638.235359002429, target_mass=2637.2264372050677, mz=2638.235359002429, target_mz=2638.2342622371375, charge=1, break_count=2, error_ppm=0.4158781437787005, modifications=(), connected_bonds=[(72, 119)], disconnected_cys=[])},\n {'scan': <src.model.scan.Scan at 0x119eeba00>,\n  'precursor': Precursor(sequence='VVRFDKLPGFGDSIEAQCGTSVNVHSSLR+DILNQITKPNDVYSFSLASRLYAEERYPILPEYLQCVK', mass=7603.854839927481, mz=7604.862664959552, segments=[(5, 8), (8, 11)], residue_ranges=[(55, 84), (84, 122)], cys_bond_count=1, alkylation_count=0, modifications=[], error_ppm=0),\n  'variant': <src.model.variant.Variant at 0x12f361e50>,\n  'variant_count': 1,\n  'fragment': Fragment(id=33, sequence='GFGDSIEAQCGTSVNVHSSLR+QCVK', residue_ranges=[(63, 84), (118, 122)], intensity=10, intensity_ratio=0.011764705882352941, mass=2638.235359002429, target_mass=2637.2264372050677, mz=2638.235359002429, target_mz=2638.2342622371375, charge=1, break_count=2, error_ppm=0.4158781437787005, modifications=(), connected_bonds=[(72, 119)], disconnected_cys=[])},\n {'scan': <src.model.scan.Scan at 0x119eeba00>,\n  'precursor': Precursor(sequence='VVRFDKLPGFGDSIEAQCGTSVNVHSSLR+DILNQITKPNDVYSFSLASRLYAEERYPILPEYLQCVK', mass=7603.854839927481, mz=7604.862664959552, segments=[(5, 8), (8, 11)], residue_ranges=[(55, 84), (84, 122)], cys_bond_count=1, alkylation_count=0, modifications=[], error_ppm=0),\n  'variant': <src.model.variant.Variant at 0x12f361e50>,\n  'variant_count': 1,\n  'fragment': Fragment(id=61, sequence='GDSIEAQCGTSVNVHSSLR+VYSFSLASRLYAEERYPILPEYLQCVK', residue_ranges=[(65, 84), (95, 122)], intensity=10, intensity_ratio=0.011764705882352941, mass=5194.561785001741, target_mass=5193.552863223688, mz=5194.561785001741, target_mz=5194.560688255759, charge=1, break_count=2, error_ppm=0.21117446560121314, modifications=(), connected_bonds=[(72, 119)], disconnected_cys=[])},\n {'scan': <src.model.scan.Scan at 0x119eeba00>,\n  'precursor': Precursor(sequence='VVRFDKLPGFGDSIEAQCGTSVNVHSSLR+DILNQITKPNDVYSFSLASRLYAEERYPILPEYLQCVK', mass=7603.854839927481, mz=7604.862664959552, segments=[(5, 8), (8, 11)], residue_ranges=[(55, 84), (84, 122)], cys_bond_count=1, alkylation_count=0, modifications=[], error_ppm=0),\n  'variant': <src.model.variant.Variant at 0x12f361e50>,\n  'variant_count': 1,\n  'fragment': Fragment(id=62, sequence='GDSIEAQCGTSVNVHSSLR+VYSFSLASRLYAEERYPILPEYLQCVK', residue_ranges=[(65, 84), (95, 122)], intensity=10, intensity_ratio=0.011764705882352941, mass=5194.561785001741, target_mass=5193.552863223688, mz=5194.561785001741, target_mz=5194.560688255759, charge=1, break_count=2, error_ppm=0.21117446560121314, modifications=(), connected_bonds=[(72, 119)], disconnected_cys=[])},\n {'scan': <src.model.scan.Scan at 0x119eeba00>,\n  'precursor': Precursor(sequence='VVRFDKLPGFGDSIEAQCGTSVNVHSSLR+DILNQITKPNDVYSFSLASRLYAEERYPILPEYLQCVK', mass=7603.854839927481, mz=7604.862664959552, segments=[(5, 8), (8, 11)], residue_ranges=[(55, 84), (84, 122)], cys_bond_count=1, alkylation_count=0, modifications=[], error_ppm=0),\n  'variant': <src.model.variant.Variant at 0x12f361e50>,\n  'variant_count': 1,\n  'fragment': Fragment(id=63, sequence='GDSIEAQCGTSVNVHSSLR+VYSFSLASRLYAEERYPILPEYLQCVK', residue_ranges=[(65, 84), (95, 122)], intensity=10, intensity_ratio=0.011764705882352941, mass=5194.561785001741, target_mass=5193.552863223688, mz=5194.561785001741, target_mz=5194.560688255759, charge=1, break_count=2, error_ppm=0.21117446560121314, modifications=(), connected_bonds=[(72, 119)], disconnected_cys=[])},\n {'scan': <src.model.scan.Scan at 0x119eeba00>,\n  'precursor': Precursor(sequence='VVRFDKLPGFGDSIEAQCGTSVNVHSSLR+DILNQITKPNDVYSFSLASRLYAEERYPILPEYLQCVK', mass=7603.854839927481, mz=7604.862664959552, segments=[(5, 8), (8, 11)], residue_ranges=[(55, 84), (84, 122)], cys_bond_count=1, alkylation_count=0, modifications=[], error_ppm=0),\n  'variant': <src.model.variant.Variant at 0x12f361e50>,\n  'variant_count': 1,\n  'fragment': Fragment(id=64, sequence='GDSIEAQCGTSVNVHSSLR+VYSFSLASRLYAEERYPILPEYLQCVK', residue_ranges=[(65, 84), (95, 122)], intensity=10, intensity_ratio=0.011764705882352941, mass=5194.561785001741, target_mass=5193.552863223688, mz=5194.561785001741, target_mz=5194.560688255759, charge=1, break_count=2, error_ppm=0.21117446560121314, modifications=(), connected_bonds=[(72, 119)], disconnected_cys=[])},\n {'scan': <src.model.scan.Scan at 0x119eeba00>,\n  'precursor': Precursor(sequence='VVRFDKLPGFGDSIEAQCGTSVNVHSSLR+DILNQITKPNDVYSFSLASRLYAEERYPILPEYLQCVK', mass=7603.854839927481, mz=7604.862664959552, segments=[(5, 8), (8, 11)], residue_ranges=[(55, 84), (84, 122)], cys_bond_count=1, alkylation_count=0, modifications=[], error_ppm=0),\n  'variant': <src.model.variant.Variant at 0x12f361e50>,\n  'variant_count': 1,\n  'fragment': Fragment(id=65, sequence='GDSIEAQCGTSVNVHSSLR+VYSFSLASRLYAEERYPILPEYLQCVK', residue_ranges=[(65, 84), (95, 122)], intensity=10, intensity_ratio=0.011764705882352941, mass=5194.561785001741, target_mass=5193.552863223688, mz=5194.561785001741, target_mz=5194.560688255759, charge=1, break_count=2, error_ppm=0.21117446560121314, modifications=(), connected_bonds=[(72, 119)], disconnected_cys=[])},\n {'scan': <src.model.scan.Scan at 0x119eeba00>,\n  'precursor': Precursor(sequence='VVRFDKLPGFGDSIEAQCGTSVNVHSSLR+DILNQITKPNDVYSFSLASRLYAEERYPILPEYLQCVK', mass=7603.854839927481, mz=7604.862664959552, segments=[(5, 8), (8, 11)], residue_ranges=[(55, 84), (84, 122)], cys_bond_count=1, alkylation_count=0, modifications=[], error_ppm=0),\n  'variant': <src.model.variant.Variant at 0x12f361e50>,\n  'variant_count': 1,\n  'fragment': Fragment(id=66, sequence='GDSIEAQCGTSVNVHSSLR+VYSFSLASRLYAEERYPILPEYLQCVK', residue_ranges=[(65, 84), (95, 122)], intensity=10, intensity_ratio=0.011764705882352941, mass=5194.561785001741, target_mass=5193.552863223688, mz=5194.561785001741, target_mz=5194.560688255759, charge=1, break_count=2, error_ppm=0.21117446560121314, modifications=(), connected_bonds=[(72, 119)], disconnected_cys=[])},\n {'scan': <src.model.scan.Scan at 0x119eeba00>,\n  'precursor': Precursor(sequence='VVRFDKLPGFGDSIEAQCGTSVNVHSSLR+DILNQITKPNDVYSFSLASRLYAEERYPILPEYLQCVK', mass=7603.854839927481, mz=7604.862664959552, segments=[(5, 8), (8, 11)], residue_ranges=[(55, 84), (84, 122)], cys_bond_count=1, alkylation_count=0, modifications=[], error_ppm=0),\n  'variant': <src.model.variant.Variant at 0x12f361e50>,\n  'variant_count': 1,\n  'fragment': Fragment(id=67, sequence='GDSIEAQCGTSVNVHSSLR+VYSFSLASRLYAEERYPILPEYLQCVK', residue_ranges=[(65, 84), (95, 122)], intensity=10, intensity_ratio=0.011764705882352941, mass=5194.561785001741, target_mass=5193.552863223688, mz=5194.561785001741, target_mz=5194.560688255759, charge=1, break_count=2, error_ppm=0.21117446560121314, modifications=(), connected_bonds=[(72, 119)], disconnected_cys=[])},\n {'scan': <src.model.scan.Scan at 0x119eeba00>,\n  'precursor': Precursor(sequence='VVRFDKLPGFGDSIEAQCGTSVNVHSSLR+DILNQITKPNDVYSFSLASRLYAEERYPILPEYLQCVK', mass=7603.854839927481, mz=7604.862664959552, segments=[(5, 8), (8, 11)], residue_ranges=[(55, 84), (84, 122)], cys_bond_count=1, alkylation_count=0, modifications=[], error_ppm=0),\n  'variant': <src.model.variant.Variant at 0x12f361e50>,\n  'variant_count': 1,\n  'fragment': Fragment(id=68, sequence='GDSIEAQCGTSVNVHSSLR+VYSFSLASRLYAEERYPILPEYLQCVK', residue_ranges=[(65, 84), (95, 122)], intensity=10, intensity_ratio=0.011764705882352941, mass=5194.561785001741, target_mass=5193.552863223688, mz=5194.561785001741, target_mz=5194.560688255759, charge=1, break_count=2, error_ppm=0.21117446560121314, modifications=(), connected_bonds=[(72, 119)], disconnected_cys=[])},\n {'scan': <src.model.scan.Scan at 0x119eeba00>,\n  'precursor': Precursor(sequence='VVRFDKLPGFGDSIEAQCGTSVNVHSSLR+DILNQITKPNDVYSFSLASRLYAEERYPILPEYLQCVK', mass=7603.854839927481, mz=7604.862664959552, segments=[(5, 8), (8, 11)], residue_ranges=[(55, 84), (84, 122)], cys_bond_count=1, alkylation_count=0, modifications=[], error_ppm=0),\n  'variant': <src.model.variant.Variant at 0x12f361e50>,\n  'variant_count': 1,\n  'fragment': Fragment(id=34, sequence='SIEAQCGTSVNVHSSLR+EYLQCVK', residue_ranges=[(67, 84), (115, 122)], intensity=10, intensity_ratio=0.011764705882352941, mass=2667.2870602221196, target_mass=2666.2781384262476, mz=2667.2870602221196, target_mz=2667.2859634583174, charge=1, break_count=2, error_ppm=0.4113461890175664, modifications=(), connected_bonds=[(72, 119)], disconnected_cys=[])},\n {'scan': <src.model.scan.Scan at 0x119eeba00>,\n  'precursor': Precursor(sequence='VVRFDKLPGFGDSIEAQCGTSVNVHSSLR+DILNQITKPNDVYSFSLASRLYAEERYPILPEYLQCVK', mass=7603.854839927481, mz=7604.862664959552, segments=[(5, 8), (8, 11)], residue_ranges=[(55, 84), (84, 122)], cys_bond_count=1, alkylation_count=0, modifications=[], error_ppm=0),\n  'variant': <src.model.variant.Variant at 0x12f361e50>,\n  'variant_count': 1,\n  'fragment': Fragment(id=35, sequence='SIEAQCGTSVNVHSSLR+EYLQCVK', residue_ranges=[(67, 84), (115, 122)], intensity=10, intensity_ratio=0.011764705882352941, mass=2667.2870602221196, target_mass=2666.2781384262476, mz=2667.2870602221196, target_mz=2667.2859634583174, charge=1, break_count=2, error_ppm=0.4113461890175664, modifications=(), connected_bonds=[(72, 119)], disconnected_cys=[])},\n {'scan': <src.model.scan.Scan at 0x119eeba00>,\n  'precursor': Precursor(sequence='VVRFDKLPGFGDSIEAQCGTSVNVHSSLR+DILNQITKPNDVYSFSLASRLYAEERYPILPEYLQCVK', mass=7603.854839927481, mz=7604.862664959552, segments=[(5, 8), (8, 11)], residue_ranges=[(55, 84), (84, 122)], cys_bond_count=1, alkylation_count=0, modifications=[], error_ppm=0),\n  'variant': <src.model.variant.Variant at 0x12f361e50>,\n  'variant_count': 1,\n  'fragment': Fragment(id=36, sequence='SIEAQCGTSVNVHSSLR+EYLQCVK', residue_ranges=[(67, 84), (115, 122)], intensity=10, intensity_ratio=0.011764705882352941, mass=2667.2870602221196, target_mass=2666.2781384262476, mz=2667.2870602221196, target_mz=2667.2859634583174, charge=1, break_count=2, error_ppm=0.4113461890175664, modifications=(), connected_bonds=[(72, 119)], disconnected_cys=[])},\n {'scan': <src.model.scan.Scan at 0x119eeba00>,\n  'precursor': Precursor(sequence='VVRFDKLPGFGDSIEAQCGTSVNVHSSLR+DILNQITKPNDVYSFSLASRLYAEERYPILPEYLQCVK', mass=7603.854839927481, mz=7604.862664959552, segments=[(5, 8), (8, 11)], residue_ranges=[(55, 84), (84, 122)], cys_bond_count=1, alkylation_count=0, modifications=[], error_ppm=0),\n  'variant': <src.model.variant.Variant at 0x12f361e50>,\n  'variant_count': 1,\n  'fragment': Fragment(id=57, sequence='EAQCGTSVNVHSSLR+SFSLASRLYAEERYPILPEYLQCVK', residue_ranges=[(69, 84), (97, 122)], intensity=10, intensity_ratio=0.011764705882352941, mass=4560.2655434304, target_mass=4559.256621647749, mz=4560.2655434304, target_mz=4560.264446679819, charge=1, break_count=2, error_ppm=0.24055463591081247, modifications=(), connected_bonds=[(72, 119)], disconnected_cys=[])},\n {'scan': <src.model.scan.Scan at 0x119eeba00>,\n  'precursor': Precursor(sequence='VVRFDKLPGFGDSIEAQCGTSVNVHSSLR+DILNQITKPNDVYSFSLASRLYAEERYPILPEYLQCVK', mass=7603.854839927481, mz=7604.862664959552, segments=[(5, 8), (8, 11)], residue_ranges=[(55, 84), (84, 122)], cys_bond_count=1, alkylation_count=0, modifications=[], error_ppm=0),\n  'variant': <src.model.variant.Variant at 0x12f361e50>,\n  'variant_count': 1,\n  'fragment': Fragment(id=58, sequence='EAQCGTSVNVHSSLR+SFSLASRLYAEERYPILPEYLQCVK', residue_ranges=[(69, 84), (97, 122)], intensity=10, intensity_ratio=0.011764705882352941, mass=4560.2655434304, target_mass=4559.256621647749, mz=4560.2655434304, target_mz=4560.264446679819, charge=1, break_count=2, error_ppm=0.24055463591081247, modifications=(), connected_bonds=[(72, 119)], disconnected_cys=[])},\n {'scan': <src.model.scan.Scan at 0x119eeba00>,\n  'precursor': Precursor(sequence='VVRFDKLPGFGDSIEAQCGTSVNVHSSLR+DILNQITKPNDVYSFSLASRLYAEERYPILPEYLQCVK', mass=7603.854839927481, mz=7604.862664959552, segments=[(5, 8), (8, 11)], residue_ranges=[(55, 84), (84, 122)], cys_bond_count=1, alkylation_count=0, modifications=[], error_ppm=0),\n  'variant': <src.model.variant.Variant at 0x12f361e50>,\n  'variant_count': 1,\n  'fragment': Fragment(id=59, sequence='EAQCGTSVNVHSSLR+SFSLASRLYAEERYPILPEYLQCVK', residue_ranges=[(69, 84), (97, 122)], intensity=10, intensity_ratio=0.011764705882352941, mass=4560.2655434304, target_mass=4559.256621647749, mz=4560.2655434304, target_mz=4560.264446679819, charge=1, break_count=2, error_ppm=0.24055463591081247, modifications=(), connected_bonds=[(72, 119)], disconnected_cys=[])},\n {'scan': <src.model.scan.Scan at 0x119eeba00>,\n  'precursor': Precursor(sequence='VVRFDKLPGFGDSIEAQCGTSVNVHSSLR+DILNQITKPNDVYSFSLASRLYAEERYPILPEYLQCVK', mass=7603.854839927481, mz=7604.862664959552, segments=[(5, 8), (8, 11)], residue_ranges=[(55, 84), (84, 122)], cys_bond_count=1, alkylation_count=0, modifications=[], error_ppm=0),\n  'variant': <src.model.variant.Variant at 0x12f361e50>,\n  'variant_count': 1,\n  'fragment': Fragment(id=60, sequence='EAQCGTSVNVHSSLR+SFSLASRLYAEERYPILPEYLQCVK', residue_ranges=[(69, 84), (97, 122)], intensity=10, intensity_ratio=0.011764705882352941, mass=4560.2655434304, target_mass=4559.256621647749, mz=4560.2655434304, target_mz=4560.264446679819, charge=1, break_count=2, error_ppm=0.24055463591081247, modifications=(), connected_bonds=[(72, 119)], disconnected_cys=[])},\n {'scan': <src.model.scan.Scan at 0x119eeba00>,\n  'precursor': Precursor(sequence='VVRFDKLPGFGDSIEAQCGTSVNVHSSLR+DILNQITKPNDVYSFSLASRLYAEERYPILPEYLQCVK', mass=7603.854839927481, mz=7604.862664959552, segments=[(5, 8), (8, 11)], residue_ranges=[(55, 84), (84, 122)], cys_bond_count=1, alkylation_count=0, modifications=[], error_ppm=0),\n  'variant': <src.model.variant.Variant at 0x12f361e50>,\n  'variant_count': 1,\n  'fragment': Fragment(id=69, sequence='AQCGTSVNV+DILNQITKPNDVYSFSLASRLYAEERYPILPEYLQCVK', residue_ranges=[(70, 79), (84, 122)], intensity=10, intensity_ratio=0.011764705882352941, mass=5312.6288019324, target_mass=5311.6351362979885, mz=5312.6288019324, target_mz=5312.642961330059, charge=1, break_count=2, error_ppm=2.6657394645131585, modifications=(Modification(description='-NH3 (neutral loss)', mass=-17.02654910101), Modification(description='-NH3 (neutral loss)', mass=-17.02654910101)), connected_bonds=[(72, 119)], disconnected_cys=[])},\n {'scan': <src.model.scan.Scan at 0x119eeba00>,\n  'precursor': Precursor(sequence='VVRFDKLPGFGDSIEAQCGTSVNVHSSLR+DILNQITKPNDVYSFSLASRLYAEERYPILPEYLQCVK', mass=7603.854839927481, mz=7604.862664959552, segments=[(5, 8), (8, 11)], residue_ranges=[(55, 84), (84, 122)], cys_bond_count=1, alkylation_count=0, modifications=[], error_ppm=0),\n  'variant': <src.model.variant.Variant at 0x12f361e50>,\n  'variant_count': 1,\n  'fragment': Fragment(id=46, sequence='CGTSVNVHSSLR+ASRLYAEERYPILPEYLQCVK', residue_ranges=[(72, 84), (101, 122)], intensity=10, intensity_ratio=0.011764705882352941, mass=3797.9107243537796, target_mass=3796.901802565968, mz=3797.9107243537796, target_mz=3797.909627598038, charge=1, break_count=2, error_ppm=0.28885535683602337, modifications=(), connected_bonds=[(72, 119)], disconnected_cys=[])},\n {'scan': <src.model.scan.Scan at 0x119eeba00>,\n  'precursor': Precursor(sequence='VVRFDKLPGFGDSIEAQCGTSVNVHSSLR+DILNQITKPNDVYSFSLASRLYAEERYPILPEYLQCVK', mass=7603.854839927481, mz=7604.862664959552, segments=[(5, 8), (8, 11)], residue_ranges=[(55, 84), (84, 122)], cys_bond_count=1, alkylation_count=0, modifications=[], error_ppm=0),\n  'variant': <src.model.variant.Variant at 0x12f361e50>,\n  'variant_count': 1,\n  'fragment': Fragment(id=20, sequence='TSVNVHSSLR', residue_ranges=[(74, 84)], intensity=10, intensity_ratio=0.011764705882352941, mass=1099.58599552329, target_mass=1098.5776219327488, mz=1099.58599552329, target_mz=1099.5854469648189, charge=1, break_count=1, error_ppm=0.49933494570012193, modifications=(), connected_bonds=[], disconnected_cys=[])},\n {'scan': <src.model.scan.Scan at 0x119eeba00>,\n  'precursor': Precursor(sequence='VVRFDKLPGFGDSIEAQCGTSVNVHSSLR+DILNQITKPNDVYSFSLASRLYAEERYPILPEYLQCVK', mass=7603.854839927481, mz=7604.862664959552, segments=[(5, 8), (8, 11)], residue_ranges=[(55, 84), (84, 122)], cys_bond_count=1, alkylation_count=0, modifications=[], error_ppm=0),\n  'variant': <src.model.variant.Variant at 0x12f361e50>,\n  'variant_count': 1,\n  'fragment': Fragment(id=18, sequence='SVNVHSSLR', residue_ranges=[(75, 84)], intensity=10, intensity_ratio=0.011764705882352941, mass=998.5383170548799, target_mass=997.529943463569, mz=998.5383170548799, target_mz=998.5377684956389, charge=1, break_count=1, error_ppm=0.5499172660721974, modifications=(), connected_bonds=[], disconnected_cys=[])},\n {'scan': <src.model.scan.Scan at 0x119eeba00>,\n  'precursor': Precursor(sequence='VVRFDKLPGFGDSIEAQCGTSVNVHSSLR+DILNQITKPNDVYSFSLASRLYAEERYPILPEYLQCVK', mass=7603.854839927481, mz=7604.862664959552, segments=[(5, 8), (8, 11)], residue_ranges=[(55, 84), (84, 122)], cys_bond_count=1, alkylation_count=0, modifications=[], error_ppm=0),\n  'variant': <src.model.variant.Variant at 0x12f361e50>,\n  'variant_count': 1,\n  'fragment': Fragment(id=13, sequence='VHSSLR', residue_ranges=[(78, 84)], intensity=10, intensity_ratio=0.011764705882352941, mass=698.3949472964799, target_mass=697.386573703399, mz=698.3949472964799, target_mz=698.3943987354689, charge=1, break_count=1, error_ppm=0.7865946953623709, modifications=(), connected_bonds=[], disconnected_cys=[])},\n {'scan': <src.model.scan.Scan at 0x119eeba00>,\n  'precursor': Precursor(sequence='VVRFDKLPGFGDSIEAQCGTSVNVHSSLR+DILNQITKPNDVYSFSLASRLYAEERYPILPEYLQCVK', mass=7603.854839927481, mz=7604.862664959552, segments=[(5, 8), (8, 11)], residue_ranges=[(55, 84), (84, 122)], cys_bond_count=1, alkylation_count=0, modifications=[], error_ppm=0),\n  'variant': <src.model.variant.Variant at 0x12f361e50>,\n  'variant_count': 1,\n  'fragment': Fragment(id=11, sequence='HSSLR', residue_ranges=[(79, 84)], intensity=10, intensity_ratio=0.011764705882352941, mass=599.3265333834901, target_mass=598.318159789329, mz=599.3265333834901, target_mz=599.325984821399, charge=1, break_count=1, error_ppm=0.9168392755716132, modifications=(), connected_bonds=[], disconnected_cys=[])},\n {'scan': <src.model.scan.Scan at 0x119eeba00>,\n  'precursor': Precursor(sequence='VVRFDKLPGFGDSIEAQCGTSVNVHSSLR+DILNQITKPNDVYSFSLASRLYAEERYPILPEYLQCVK', mass=7603.854839927481, mz=7604.862664959552, segments=[(5, 8), (8, 11)], residue_ranges=[(55, 84), (84, 122)], cys_bond_count=1, alkylation_count=0, modifications=[], error_ppm=0),\n  'variant': <src.model.variant.Variant at 0x12f361e50>,\n  'variant_count': 1,\n  'fragment': Fragment(id=7, sequence='SLR', residue_ranges=[(81, 84)], intensity=10, intensity_ratio=0.011764705882352941, mass=375.23559312077003, target_mass=374.2272195261389, mz=375.23559312077003, target_mz=375.2350445582089, charge=1, break_count=1, error_ppm=1.4658521036772059, modifications=(), connected_bonds=[], disconnected_cys=[])},\n {'scan': <src.model.scan.Scan at 0x119eeba00>,\n  'precursor': Precursor(sequence='VVRFDKLPGFGDSIEAQCGTSVNVHSSLR+DILNQITKPNDVYSFSLASRLYAEERYPILPEYLQCVK', mass=7603.854839927481, mz=7604.862664959552, segments=[(5, 8), (8, 11)], residue_ranges=[(55, 84), (84, 122)], cys_bond_count=1, alkylation_count=0, modifications=[], error_ppm=0),\n  'variant': <src.model.variant.Variant at 0x12f361e50>,\n  'variant_count': 1,\n  'fragment': Fragment(id=5, sequence='LR', residue_ranges=[(82, 84)], intensity=10, intensity_ratio=0.011764705882352941, mass=288.2035647165, target_mass=287.19519112141893, mz=288.2035647165, target_mz=288.20301615348893, charge=1, break_count=1, error_ppm=1.9100666732818177, modifications=(), connected_bonds=[], disconnected_cys=[])},\n {'scan': <src.model.scan.Scan at 0x119eeba00>,\n  'precursor': Precursor(sequence='VVRFDKLPGFGDSIEAQCGTSVNVHSSLR+DILNQITKPNDVYSFSLASRLYAEERYPILPEYLQCVK', mass=7603.854839927481, mz=7604.862664959552, segments=[(5, 8), (8, 11)], residue_ranges=[(55, 84), (84, 122)], cys_bond_count=1, alkylation_count=0, modifications=[], error_ppm=0),\n  'variant': <src.model.variant.Variant at 0x12f361e50>,\n  'variant_count': 1,\n  'fragment': Fragment(id=2, sequence='R', residue_ranges=[(83, 84)], intensity=10, intensity_ratio=0.011764705882352941, mass=175.11950073936998, target_mass=174.111127142889, mz=175.11950073936998, target_mz=175.118952174959, charge=1, break_count=1, error_ppm=3.150646898104884, modifications=(), connected_bonds=[], disconnected_cys=[])},\n {'scan': <src.model.scan.Scan at 0x119eeba00>,\n  'precursor': Precursor(sequence='VVRFDKLPGFGDSIEAQCGTSVNVHSSLR+DILNQITKPNDVYSFSLASRLYAEERYPILPEYLQCVK', mass=7603.854839927481, mz=7604.862664959552, segments=[(5, 8), (8, 11)], residue_ranges=[(55, 84), (84, 122)], cys_bond_count=1, alkylation_count=0, modifications=[], error_ppm=0),\n  'variant': <src.model.variant.Variant at 0x12f361e50>,\n  'variant_count': 1,\n  'fragment': Fragment(id=20, sequence='YPILPEYLQ', residue_ranges=[(110, 119)], intensity=10, intensity_ratio=0.011764705882352941, mass=1099.58280763581, target_mass=1098.5776219327488, mz=1099.58280763581, target_mz=1099.5854469648189, charge=1, break_count=2, error_ppm=2.4025023786615542, modifications=(Modification(description='-H2O (neutral loss)', mass=-18.0105646837),), connected_bonds=[], disconnected_cys=[])},\n {'scan': <src.model.scan.Scan at 0x119eeba00>,\n  'precursor': Precursor(sequence='VVRFDKLPGFGDSIEAQCGTSVNVHSSLR+DILNQITKPNDVYSFSLASRLYAEERYPILPEYLQCVK', mass=7603.854839927481, mz=7604.862664959552, segments=[(5, 8), (8, 11)], residue_ranges=[(55, 84), (84, 122)], cys_bond_count=1, alkylation_count=0, modifications=[], error_ppm=0),\n  'variant': <src.model.variant.Variant at 0x12f361e50>,\n  'variant_count': 1,\n  'fragment': Fragment(id=4, sequence='VK', residue_ranges=[(120, 122)], intensity=10, intensity_ratio=0.011764705882352941, mass=246.18176664275998, target_mass=245.17339304809897, mz=246.18176664275998, target_mz=246.18121808016897, charge=1, break_count=1, error_ppm=2.2374424761581864, modifications=(), connected_bonds=[], disconnected_cys=[])},\n {'scan': <src.model.scan.Scan at 0x119eeba00>,\n  'precursor': Precursor(sequence='VVRFDKLPGFGDSIEAQCGTSVNVHSSLR+DILNQITKPNDVYSFSLASRLYAEERYPILPEYLQCVK', mass=7603.854839927481, mz=7604.862664959552, segments=[(5, 8), (8, 11)], residue_ranges=[(55, 84), (84, 122)], cys_bond_count=1, alkylation_count=0, modifications=[], error_ppm=0),\n  'variant': <src.model.variant.Variant at 0x12f361e50>,\n  'variant_count': 1,\n  'fragment': Fragment(id=1, sequence='K', residue_ranges=[(121, 122)], intensity=10, intensity_ratio=0.011764705882352941, mass=147.11335272976999, target_mass=146.10497913402898, mz=147.11335272976999, target_mz=147.11280416609898, charge=1, break_count=1, error_ppm=3.75457164179598, modifications=(), connected_bonds=[], disconnected_cys=[])}]"
     },
     "execution_count": 17,
     "metadata": {},
     "output_type": "execute_result"
    }
   ],
   "source": [
    "\n",
    "mss = fragment_matching.write_matched_fragments(\n",
    "    [precursors[647] | {\"scan\": scans[647]}],\n",
    "    tryptides,\n",
    "    \"../out/fragment_matches/doesn_matter_just_testing.pickle\",\n",
    "    2,\n",
    "    5,\n",
    ")\n",
    "\n",
    "\n",
    "[mss]"
   ],
   "metadata": {
    "collapsed": false,
    "pycharm": {
     "name": "#%%\n"
    }
   }
  }
 ],
 "metadata": {
  "kernelspec": {
   "display_name": "Python 3",
   "language": "python",
   "name": "python3"
  },
  "language_info": {
   "codemirror_mode": {
    "name": "ipython",
    "version": 2
   },
   "file_extension": ".py",
   "mimetype": "text/x-python",
   "name": "python",
   "nbconvert_exporter": "python",
   "pygments_lexer": "ipython2",
   "version": "2.7.6"
  }
 },
 "nbformat": 4,
 "nbformat_minor": 0
}
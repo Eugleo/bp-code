{
 "cells": [
  {
   "cell_type": "code",
   "execution_count": 1,
   "metadata": {
    "collapsed": true
   },
   "outputs": [],
   "source": [
    "from typing import Optional, List, Tuple, Dict\n",
    "\n",
    "import numpy as np\n",
    "import pandas as pd\n",
    "from pepfrag import Peptide, IonType, ModSite\n",
    "\n",
    "from src.fragment_matching import (\n",
    "    write_matched_fragments,\n",
    ")\n",
    "from src.model.fragment import Fragment\n",
    "from src.model.modification import IAA_ALKYLATION, CYS_BOND\n",
    "from src.model.precursor import Precursor\n",
    "from src.model.scan import Scan\n",
    "from src.model.variant import Variant\n",
    "from src.precursor_matching import write_matched_precursors\n",
    "from src.utilities.constants import LIP_BONDS, PROTON, OVA_BONDS\n",
    "from src.utilities.dataloading import cleave_protein\n",
    "from pyteomics import fasta\n",
    "import re\n",
    "\n",
    "from random import randrange, randint, choices, shuffle\n",
    "from pyteomics.mass import calculate_mass"
   ]
  },
  {
   "cell_type": "code",
   "execution_count": 4,
   "outputs": [
    {
     "data": {
      "text/plain": "'GSIGAASMEFCFDVFKELKVHHANENIFYCPIAIMSALAMVYLGAKDSTRTQINKVVRFDKLPGFGDSIEAQCGTSVNVHSSLRDILNQITKPNDVYSFSLASRLYAEERYPILPEYLQCVKELYRGGLEPINFQTAADQARELINSWVESQTNGIIRNVLQPSSVDSQTAMVLVNAIVFKGLWEKAFKDEDTQAMPFRVTEQESKPVQMMYQIGLFRVASMASEKMKILELPFASGTMSMLVLLPDEVSGLEQLESIINFEKLTEWTSSNVMEERKIKVYLPRMKMEEKYNLTSVLMAMGITDVFSSSANLSGISSAESLKISQAVHAAHAEINEAGREVVGSAEAGVDAASVSEEFRADHPFLFCIKHIATNAVLFFGRCVSP'"
     },
     "execution_count": 4,
     "metadata": {},
     "output_type": "execute_result"
    }
   ],
   "source": [
    "from src.utilities.error import within_bounds\n",
    "\n",
    "PROTEIN = \"GENOVA\"\n",
    "CYS_BONDS = OVA_BONDS\n",
    "tryptides = cleave_protein(PROTEIN)\n",
    "TRYPTIDE_COUNT = len(tryptides)\n",
    "seq_path = f\"../data/fasta/{PROTEIN}.fasta\"\n",
    "SEQUENCE = [r.sequence for r in fasta.read(seq_path)][0]\n",
    "SEQUENCE"
   ],
   "metadata": {
    "collapsed": false,
    "pycharm": {
     "name": "#%%\n"
    }
   }
  },
  {
   "cell_type": "code",
   "execution_count": 5,
   "outputs": [],
   "source": [
    "\n",
    "def intersects(t, u):\n",
    "    x, y = t\n",
    "    a, b = u\n",
    "    return not (x >= b or y <= a)\n",
    "\n",
    "\n",
    "def dedup(xs):\n",
    "    return list(dict(tp) for tp in set(tuple(p.items()) for p in (xs)))\n",
    "\n",
    "\n",
    "def connected_cys_count(prec):\n",
    "    return sum(res == \"C\" for res in prec.sequence) - prec.alkylation_count\n",
    "\n",
    "\n",
    "def generate_precursors(base_count=10000):\n",
    "    bondless_precursors: List[Dict] = []\n",
    "    raw_bonded_material: List[Dict] = []\n",
    "    for _ in range(0, base_count):\n",
    "        x = randrange(0, TRYPTIDE_COUNT)\n",
    "        y = randrange(x, min(TRYPTIDE_COUNT, x + 5))\n",
    "        b, e = min(x, y), max(x, y)\n",
    "\n",
    "        if b < e:\n",
    "            charge = randint(1, 5)\n",
    "            sequence = \"\".join(t.sequence for t in tryptides[b:e])\n",
    "            alkylations = sum(res == \"C\" for res in sequence)\n",
    "\n",
    "            cys_overlap = [i for i in [7, 10] if i in range(b, e)]\n",
    "            if cys_overlap:\n",
    "                alkylations -= len(cys_overlap)\n",
    "\n",
    "            mass = calculate_mass(sequence) + alkylations * IAA_ALKYLATION.mass\n",
    "            prec: Dict = {\n",
    "                \"charge\": charge,\n",
    "                \"precursor\": Precursor(\n",
    "                    sequence=sequence,\n",
    "                    mass=mass,\n",
    "                    mz=mass / charge + PROTON,\n",
    "                    segments=[(b, e)],\n",
    "                    residue_ranges=[(tryptides[b].beginning, tryptides[e - 1].end)],\n",
    "                    cys_bond_count=0,\n",
    "                    alkylation_count=alkylations,\n",
    "                    modifications=[],\n",
    "                    error_ppm=0,\n",
    "                ),\n",
    "            }\n",
    "\n",
    "            if cys_overlap:\n",
    "                raw_bonded_material.append(prec)\n",
    "            else:\n",
    "                bondless_precursors.append(prec)\n",
    "\n",
    "    bondless_precursors = dedup(bondless_precursors)\n",
    "    raw_bonded_material = dedup(raw_bonded_material)\n",
    "\n",
    "    bonded_precursors = []\n",
    "    for i, s in enumerate(raw_bonded_material):\n",
    "        prec: Precursor = s[\"precursor\"]\n",
    "        for t in raw_bonded_material[i:]:\n",
    "            qrec: Precursor = t[\"precursor\"]\n",
    "            if not intersects(prec.segments[0], qrec.segments[0]):\n",
    "                charge = randint(1, 5)\n",
    "                ps = sorted([prec, qrec], key=lambda p: p.segments[0][0])\n",
    "                mass = prec.mass + qrec.mass + CYS_BOND.mass\n",
    "                joined = Precursor(\n",
    "                    sequence=ps[0].sequence + \"+\" + ps[1].sequence,\n",
    "                    mass=mass,\n",
    "                    mz=mass / charge + PROTON,\n",
    "                    segments=ps[0].segments + ps[1].segments,\n",
    "                    residue_ranges=ps[0].residue_ranges + ps[1].residue_ranges,\n",
    "                    cys_bond_count=1,\n",
    "                    alkylation_count=prec.alkylation_count + qrec.alkylation_count,\n",
    "                    modifications=ps[0].modifications + ps[1].modifications,\n",
    "                    error_ppm=0,\n",
    "                )\n",
    "                bonded_precursors.append({\"charge\": charge, \"precursor\": joined})\n",
    "\n",
    "    bonded_precursors = dedup(bonded_precursors)\n",
    "\n",
    "    bonded_unipeptides = []\n",
    "    for s in raw_bonded_material:\n",
    "        p: Precursor = s[\"precursor\"]\n",
    "        if connected_cys_count(p) == 2:\n",
    "            charge = s[\"charge\"]\n",
    "            bonded_unipeptides.append(\n",
    "                {\n",
    "                    \"charge\": charge,\n",
    "                    \"precursor\": Precursor(\n",
    "                        p.sequence,\n",
    "                        p.mass + CYS_BOND.mass,\n",
    "                        (p.mass + CYS_BOND.mass) / charge + PROTON,\n",
    "                        p.segments,\n",
    "                        p.residue_ranges,\n",
    "                        p.cys_bond_count,\n",
    "                        p.alkylation_count,\n",
    "                        p.modifications,\n",
    "                        p.error_ppm,\n",
    "                    ),\n",
    "                }\n",
    "            )\n",
    "\n",
    "    bonded_unipeptides = dedup(bonded_unipeptides)\n",
    "\n",
    "    return bondless_precursors + bonded_precursors + bonded_unipeptides\n"
   ],
   "metadata": {
    "collapsed": false,
    "pycharm": {
     "name": "#%%\n"
    }
   }
  },
  {
   "cell_type": "code",
   "execution_count": 6,
   "outputs": [
    {
     "data": {
      "text/plain": "[{'charge': 1,\n  'precursor': Precursor(sequence='ILELPFASGTMSMLVLLPDEVSGLEQLESIINFEK', mass=3862.00356736608, mz=3863.01139239815, segments=[(21, 22)], residue_ranges=[(228, 263)], cys_bond_count=0, alkylation_count=0, modifications=[], error_ppm=0)},\n {'charge': 5,\n  'precursor': Precursor(sequence='MEEKYNLTSVLMAMGITDVFSSSANLSGISSAESLKISQAVHAAHAEINEAGR', mass=5564.72255849974, mz=1113.9523367320182, segments=[(27, 30)], residue_ranges=[(286, 339)], cys_bond_count=0, alkylation_count=0, modifications=[], error_ppm=0)},\n {'charge': 5,\n  'precursor': Precursor(sequence='YNLTSVLMAMGITDVFSSSANLSGISSAESLK', mass=3292.6206956183096, mz=659.5319641557319, segments=[(28, 29)], residue_ranges=[(290, 322)], cys_bond_count=0, alkylation_count=0, modifications=[], error_ppm=0)}]"
     },
     "execution_count": 6,
     "metadata": {},
     "output_type": "execute_result"
    }
   ],
   "source": [
    "precursors = generate_precursors(5000)\n",
    "precursors[:3]"
   ],
   "metadata": {
    "collapsed": false,
    "pycharm": {
     "name": "#%%\n"
    }
   }
  },
  {
   "cell_type": "code",
   "execution_count": 7,
   "outputs": [],
   "source": [
    "\n",
    "def valid_frags(frags, cys, length):\n",
    "    def ok(frag):\n",
    "        if \"b\" in frag[1]:\n",
    "            return frag[2] > cys\n",
    "        else:\n",
    "            return frag[2] >= (length - cys)\n",
    "\n",
    "    return [f for f in frags if ok(f)]\n",
    "\n",
    "\n",
    "def charge_from_code(code):\n",
    "    match = re.match(r\".*\\[(\\d+)?\\+]$\", code)\n",
    "    if match.group(1) is None:\n",
    "        return 1\n",
    "    else:\n",
    "        return int(match.group(1))\n",
    "\n",
    "\n",
    "def safe_frags(seq, frags, cysteines):\n",
    "    b, e = seq\n",
    "    safe = []\n",
    "    unsafe = []\n",
    "    for f in frags:\n",
    "        mass, code, i = f\n",
    "        if \"b\" in code:\n",
    "            if not any(b <= c < b + i for c in cysteines):\n",
    "                safe.append(f)\n",
    "                continue\n",
    "        else:\n",
    "            if not any(e - i <= c < e for c in cysteines):\n",
    "                safe.append(f)\n",
    "                continue\n",
    "        unsafe.append(f)\n",
    "\n",
    "    return safe, unsafe\n",
    "\n",
    "\n",
    "def build_safe_fragment(id, sequence, residue_range, charge, mz, break_count):\n",
    "    return Fragment(\n",
    "        id=id,\n",
    "        sequence=sequence,\n",
    "        residue_ranges=residue_range,\n",
    "        intensity=10,\n",
    "        intensity_ratio=1 / 10,\n",
    "        target_mass=(mz - PROTON) * charge,\n",
    "        mass=(mz - PROTON) * charge,\n",
    "        target_mz=mz,\n",
    "        mz=mz,\n",
    "        charge=charge,\n",
    "        break_count=break_count,\n",
    "        error_ppm=0,\n",
    "        modifications=[IAA_ALKYLATION for res in sequence if res == \"C\"],\n",
    "        connected_bonds=[],\n",
    "        disconnected_cys=[],\n",
    "    )\n",
    "\n",
    "\n",
    "def fragment_sequence(seq, frag, residue_range):\n",
    "    _, code, i = frag\n",
    "    sequence = seq[:i] if \"b\" in code else seq[-i:]\n",
    "    b, e = residue_range\n",
    "    frag_residue_range = (b, b + i) if \"b\" in code else (e - i, e)\n",
    "\n",
    "    return sequence, frag_residue_range\n",
    "\n",
    "\n",
    "def safe_frags_to_fragments(frags, prec_sequence, prec_residue_range, precursor):\n",
    "    fragments = []\n",
    "    for id, frag in enumerate(frags):\n",
    "        mz, code, i = frag\n",
    "        frag_charge = charge_from_code(code)\n",
    "        frag_sequence, frag_residue_range = fragment_sequence(\n",
    "            prec_sequence, frag, prec_residue_range\n",
    "        )\n",
    "        fragment = build_safe_fragment(\n",
    "            id,\n",
    "            frag_sequence,\n",
    "            [frag_residue_range],\n",
    "            frag_charge,\n",
    "            mz,\n",
    "            prec_residue_range != frag_residue_range,\n",
    "        )\n",
    "\n",
    "        fragments.append(\n",
    "            {\"fragment\": fragment, \"precursor\": precursor, \"var_bonds\": []}\n",
    "        )\n",
    "    return fragments\n",
    "\n",
    "\n",
    "def generate_fragments(peptide: Dict, count=50):\n",
    "    max_charge = peptide[\"charge\"]\n",
    "    precursor: Precursor = peptide[\"precursor\"]\n",
    "\n",
    "    if connected_cys_count(precursor) == 0:\n",
    "        pep = Peptide(\n",
    "            precursor.sequence,\n",
    "            charge=max_charge,\n",
    "            modifications=[\n",
    "                ModSite(IAA_ALKYLATION.mass, i + 1, IAA_ALKYLATION.description)\n",
    "                for i, res in enumerate(precursor.sequence)\n",
    "                if res == \"C\"\n",
    "            ],\n",
    "        )\n",
    "        frags = pep.fragment(\n",
    "            ion_types={IonType.y: [], IonType.b: [], IonType.precursor: []}\n",
    "        )\n",
    "        frags = list(sorted(list(set(choices(frags, k=count)))))\n",
    "\n",
    "        return safe_frags_to_fragments(\n",
    "            frags, precursor.sequence, precursor.residue_ranges[0], precursor\n",
    "        )\n",
    "    elif len(precursor.segments) == 2:\n",
    "        ps, qs = precursor.sequence.split(\"+\")\n",
    "        psi = list(zip(range(*precursor.residue_ranges[0]), ps))\n",
    "        qsi = list(zip(range(*precursor.residue_ranges[1]), qs))\n",
    "\n",
    "        p_frags = Peptide(\n",
    "            ps,\n",
    "            charge=1,\n",
    "            modifications=[\n",
    "                ModSite(IAA_ALKYLATION.mass, ri + 1, IAA_ALKYLATION.description)\n",
    "                for ri, (ai, res) in enumerate(psi)\n",
    "                if res == \"C\" and ai not in (72, 119)\n",
    "            ],\n",
    "        ).fragment(\n",
    "            ion_types={\n",
    "                IonType.y: [],\n",
    "                IonType.b: [],\n",
    "            }\n",
    "        )\n",
    "\n",
    "        q_frags = Peptide(\n",
    "            qs,\n",
    "            charge=1,\n",
    "            modifications=[\n",
    "                ModSite(IAA_ALKYLATION.mass, ri + 1, IAA_ALKYLATION.description)\n",
    "                for ri, (ai, res) in enumerate(qsi)\n",
    "                if res == \"C\" and ai not in (72, 119)\n",
    "            ],\n",
    "        ).fragment(\n",
    "            ion_types={\n",
    "                IonType.y: [],\n",
    "                IonType.b: [],\n",
    "            }\n",
    "        )\n",
    "\n",
    "        psafe, pcys = safe_frags(\n",
    "            precursor.residue_ranges[0],\n",
    "            list(sorted(list(set(choices(p_frags, k=count))))),\n",
    "            [72, 119],\n",
    "        )\n",
    "        qsafe, qcys = safe_frags(\n",
    "            precursor.residue_ranges[1],\n",
    "            list(sorted(list(set(choices(q_frags, k=count))))),\n",
    "            [72, 119],\n",
    "        )\n",
    "\n",
    "        result = safe_frags_to_fragments(\n",
    "            psafe, ps, precursor.residue_ranges[0], precursor\n",
    "        ) + safe_frags_to_fragments(qsafe, qs, precursor.residue_ranges[1], precursor)\n",
    "\n",
    "        shuffle(pcys)\n",
    "        shuffle(qcys)\n",
    "\n",
    "        p_fragments = [\n",
    "            fr[\"fragment\"]\n",
    "            for fr in safe_frags_to_fragments(\n",
    "                pcys, ps, precursor.residue_ranges[0], precursor\n",
    "            )\n",
    "        ]\n",
    "        q_fragments = [\n",
    "            fr[\"fragment\"]\n",
    "            for fr in safe_frags_to_fragments(\n",
    "                qcys, qs, precursor.residue_ranges[1], precursor\n",
    "            )\n",
    "        ]\n",
    "\n",
    "        for pf, qf in choices(list(zip(p_fragments, q_fragments)), k=count):\n",
    "            total_charge = randint(1, max_charge)\n",
    "            total_mass = pf.mz + qf.mz + CYS_BOND.mass - 2 * PROTON\n",
    "\n",
    "            if \"C\" not in pf.sequence or \"C\" not in qf.sequence:\n",
    "                continue\n",
    "\n",
    "            fragment = Fragment(\n",
    "                0,\n",
    "                sequence=pf.sequence + \"+\" + qf.sequence,\n",
    "                residue_ranges=pf.residue_ranges + qf.residue_ranges,\n",
    "                intensity=10,\n",
    "                intensity_ratio=1,\n",
    "                mass=total_mass,\n",
    "                target_mass=total_mass,\n",
    "                mz=total_mass / total_charge + PROTON,\n",
    "                target_mz=total_mass / total_charge + PROTON,\n",
    "                charge=total_charge,\n",
    "                break_count=pf.break_count + qf.break_count,\n",
    "                error_ppm=0,\n",
    "                modifications=qf.modifications + pf.modifications,\n",
    "                connected_bonds=tuple([(72, 119)]),\n",
    "                disconnected_cys=tuple([]),\n",
    "            )\n",
    "\n",
    "            result.append(\n",
    "                {\"fragment\": fragment, \"precursor\": precursor, \"var_bonds\": [(72, 119)]}\n",
    "            )\n",
    "        return result\n",
    "    else:\n",
    "        ps = precursor.sequence\n",
    "        psi = list(zip(range(*precursor.residue_ranges[0]), ps))\n",
    "\n",
    "        p_frags = Peptide(\n",
    "            ps,\n",
    "            charge=1,\n",
    "            modifications=[\n",
    "                ModSite(IAA_ALKYLATION.mass, ri + 1, IAA_ALKYLATION.description)\n",
    "                for ri, (ai, res) in enumerate(psi)\n",
    "                if res == \"C\" and ai not in (72, 119)\n",
    "            ],\n",
    "        ).fragment(ion_types={IonType.y: [], IonType.b: [], IonType.precursor: []})\n",
    "        p_frags = list(p_frags)\n",
    "\n",
    "        psafe, pcys = safe_frags(\n",
    "            precursor.residue_ranges[0],\n",
    "            list(sorted(list(set(choices(p_frags, k=count * 2))))),\n",
    "            [72, 119],\n",
    "        )\n",
    "\n",
    "        result = []\n",
    "\n",
    "        p_fragments = [\n",
    "            fr[\"fragment\"]\n",
    "            for fr in safe_frags_to_fragments(\n",
    "                [pf for pf in pcys if \"b\" in pf[1]],\n",
    "                ps,\n",
    "                precursor.residue_ranges[0],\n",
    "                precursor,\n",
    "            )\n",
    "        ]\n",
    "        q_fragments = [\n",
    "            fr[\"fragment\"]\n",
    "            for fr in safe_frags_to_fragments(\n",
    "                [qf for qf in pcys if \"y\" in qf[1]],\n",
    "                ps,\n",
    "                precursor.residue_ranges[0],\n",
    "                precursor,\n",
    "            )\n",
    "        ]\n",
    "\n",
    "        for pf, qf in choices(list(zip(p_fragments, q_fragments)), k=count):\n",
    "            if \"C\" not in pf.sequence or \"C\" not in qf.sequence:\n",
    "                continue\n",
    "            total_charge = randint(1, max_charge)\n",
    "\n",
    "            pr, qr = pf.residue_ranges[0], qf.residue_ranges[0]\n",
    "            if intersects(pr, qr):\n",
    "                continue\n",
    "\n",
    "            total_mass = pf.mz + qf.mz + CYS_BOND.mass - 2 * PROTON\n",
    "\n",
    "            fragment = Fragment(\n",
    "                0,\n",
    "                sequence=pf.sequence + \"+\" + qf.sequence,\n",
    "                residue_ranges=pf.residue_ranges + qf.residue_ranges,\n",
    "                intensity=10,\n",
    "                intensity_ratio=1,\n",
    "                mass=total_mass,\n",
    "                target_mass=total_mass,\n",
    "                mz=total_mass / total_charge + PROTON,\n",
    "                target_mz=total_mass / total_charge + PROTON,\n",
    "                charge=total_charge,\n",
    "                break_count=2 if pr[1] != qr[0] else 1,\n",
    "                error_ppm=0,\n",
    "                modifications=qf.modifications + pf.modifications,\n",
    "                connected_bonds=tuple([(72, 119)]),\n",
    "                disconnected_cys=tuple([]),\n",
    "            )\n",
    "\n",
    "            result.append(\n",
    "                {\"fragment\": fragment, \"precursor\": precursor, \"var_bonds\": [(72, 119)]}\n",
    "            )\n",
    "        return result\n"
   ],
   "metadata": {
    "collapsed": false,
    "pycharm": {
     "name": "#%%\n"
    }
   }
  },
  {
   "cell_type": "code",
   "execution_count": 8,
   "outputs": [
    {
     "name": "stdout",
     "output_type": "stream",
     "text": [
      "In total we have 864 precursors\n"
     ]
    }
   ],
   "source": [
    "\n",
    "print(f\"In total we have {len(precursors)} precursors\")\n",
    "\n",
    "scans: List[Scan] = []\n",
    "fragment_records = []\n",
    "precursor_records = []\n",
    "\n",
    "for i, prec in enumerate(precursors):\n",
    "    p: Precursor = prec[\"precursor\"]\n",
    "    frags = generate_fragments(prec)\n",
    "\n",
    "    fragment_objects: List[Fragment] = [f[\"fragment\"] for f in frags]\n",
    "    scan = Scan(\n",
    "        nth_in_order=i,\n",
    "        id=i,\n",
    "        time=i,\n",
    "        charge=prec[\"charge\"],\n",
    "        prec_mz=p.mz,\n",
    "        prec_intensity=100,\n",
    "        prec_mass=p.mass,\n",
    "        fragments_mz=np.array(sorted([f.mz for f in fragment_objects])),\n",
    "        fragments_intensity=np.array([f.intensity for f in fragment_objects]),\n",
    "        threshold=0,\n",
    "    )\n",
    "    scans.append(scan)\n",
    "\n",
    "    precursor_records.append(scan.to_dict() | p.to_dict())\n",
    "\n",
    "    fragment_records += [\n",
    "        scan.to_dict()\n",
    "        | fr[\"precursor\"].to_dict()\n",
    "        | {\"var_bonds\": fr[\"var_bonds\"]}\n",
    "        | fr[\"fragment\"].to_dict()\n",
    "        for fr in frags\n",
    "    ]\n"
   ],
   "metadata": {
    "collapsed": false,
    "pycharm": {
     "name": "#%%\n"
    }
   }
  },
  {
   "cell_type": "code",
   "execution_count": 9,
   "outputs": [
    {
     "data": {
      "text/plain": "     scan_id  scan_nth_in_order  scan_time  scan_total_intensity  prec_charge  \\\n0          0                  0          0                   370            1   \n1          1                  1          1                   460            5   \n2          2                  2          2                   440            5   \n3          3                  3          3                   480            5   \n4          4                  4          4                   430            3   \n..       ...                ...        ...                   ...          ...   \n859      859                859        859                   220            2   \n860      860                860        860                   220            1   \n861      861                861        861                   290            5   \n862      862                862        862                   270            3   \n863      863                863        863                   240            4   \n\n                                         prec_sequence  prec_segment_count  \\\n0                  ILELPFASGTMSMLVLLPDEVSGLEQLESIINFEK                   1   \n1    MEEKYNLTSVLMAMGITDVFSSSANLSGISSAESLKISQAVHAAHA...                   1   \n2                     YNLTSVLMAMGITDVFSSSANLSGISSAESLK                   1   \n3    GGLEPINFQTAADQARELINSWVESQTNGIIRNVLQPSSVDSQTAM...                   1   \n4                     YNLTSVLMAMGITDVFSSSANLSGISSAESLK                   1   \n..                                                 ...                 ...   \n859  LPGFGDSIEAQCGTSVNVHSSLRDILNQITKPNDVYSFSLASRLYA...                   1   \n860  LPGFGDSIEAQCGTSVNVHSSLRDILNQITKPNDVYSFSLASRLYA...                   1   \n861  LPGFGDSIEAQCGTSVNVHSSLRDILNQITKPNDVYSFSLASRLYA...                   1   \n862  LPGFGDSIEAQCGTSVNVHSSLRDILNQITKPNDVYSFSLASRLYA...                   1   \n863  LPGFGDSIEAQCGTSVNVHSSLRDILNQITKPNDVYSFSLASRLYA...                   1   \n\n    prec_tryptide_ranges prec_residue_ranges  prec_max_mc_count prec_mc  \\\n0             [(21, 22)]        [(228, 263)]                  0     [0]   \n1             [(27, 30)]        [(286, 339)]                  2     [2]   \n2             [(28, 29)]        [(290, 322)]                  0     [0]   \n3             [(12, 16)]        [(126, 186)]                  3     [3]   \n4             [(28, 29)]        [(290, 322)]                  0     [0]   \n..                   ...                 ...                ...     ...   \n859            [(7, 11)]         [(61, 122)]                  3     [3]   \n860            [(7, 11)]         [(61, 122)]                  3     [3]   \n861            [(7, 11)]         [(61, 122)]                  3     [3]   \n862            [(7, 11)]         [(61, 122)]                  3     [3]   \n863            [(7, 11)]         [(61, 122)]                  3     [3]   \n\n     prec_cys_bond_count    prec_mass      prec_mz  prec_error  \\\n0                      0  3862.003567  3863.011392           0   \n1                      0  5564.722558  1113.952337           0   \n2                      0  3292.620696   659.531964           0   \n3                      0  6581.401687  1317.288162           0   \n4                      0  3292.620696  1098.548057           0   \n..                   ...          ...          ...         ...   \n859                    0  6841.416016  3421.715833           0   \n860                    0  6841.416016  6842.423841           0   \n861                    0  6841.416016  1369.291028           0   \n862                    0  6841.416016  2281.479831           0   \n863                    0  6841.416016  1711.361829           0   \n\n     prec_alkylation_count prec_mods  \n0                        0        []  \n1                        0        []  \n2                        0        []  \n3                        0        []  \n4                        0        []  \n..                     ...       ...  \n859                      0        []  \n860                      0        []  \n861                      0        []  \n862                      0        []  \n863                      0        []  \n\n[864 rows x 17 columns]",
      "text/html": "<div>\n<style scoped>\n    .dataframe tbody tr th:only-of-type {\n        vertical-align: middle;\n    }\n\n    .dataframe tbody tr th {\n        vertical-align: top;\n    }\n\n    .dataframe thead th {\n        text-align: right;\n    }\n</style>\n<table border=\"1\" class=\"dataframe\">\n  <thead>\n    <tr style=\"text-align: right;\">\n      <th></th>\n      <th>scan_id</th>\n      <th>scan_nth_in_order</th>\n      <th>scan_time</th>\n      <th>scan_total_intensity</th>\n      <th>prec_charge</th>\n      <th>prec_sequence</th>\n      <th>prec_segment_count</th>\n      <th>prec_tryptide_ranges</th>\n      <th>prec_residue_ranges</th>\n      <th>prec_max_mc_count</th>\n      <th>prec_mc</th>\n      <th>prec_cys_bond_count</th>\n      <th>prec_mass</th>\n      <th>prec_mz</th>\n      <th>prec_error</th>\n      <th>prec_alkylation_count</th>\n      <th>prec_mods</th>\n    </tr>\n  </thead>\n  <tbody>\n    <tr>\n      <th>0</th>\n      <td>0</td>\n      <td>0</td>\n      <td>0</td>\n      <td>370</td>\n      <td>1</td>\n      <td>ILELPFASGTMSMLVLLPDEVSGLEQLESIINFEK</td>\n      <td>1</td>\n      <td>[(21, 22)]</td>\n      <td>[(228, 263)]</td>\n      <td>0</td>\n      <td>[0]</td>\n      <td>0</td>\n      <td>3862.003567</td>\n      <td>3863.011392</td>\n      <td>0</td>\n      <td>0</td>\n      <td>[]</td>\n    </tr>\n    <tr>\n      <th>1</th>\n      <td>1</td>\n      <td>1</td>\n      <td>1</td>\n      <td>460</td>\n      <td>5</td>\n      <td>MEEKYNLTSVLMAMGITDVFSSSANLSGISSAESLKISQAVHAAHA...</td>\n      <td>1</td>\n      <td>[(27, 30)]</td>\n      <td>[(286, 339)]</td>\n      <td>2</td>\n      <td>[2]</td>\n      <td>0</td>\n      <td>5564.722558</td>\n      <td>1113.952337</td>\n      <td>0</td>\n      <td>0</td>\n      <td>[]</td>\n    </tr>\n    <tr>\n      <th>2</th>\n      <td>2</td>\n      <td>2</td>\n      <td>2</td>\n      <td>440</td>\n      <td>5</td>\n      <td>YNLTSVLMAMGITDVFSSSANLSGISSAESLK</td>\n      <td>1</td>\n      <td>[(28, 29)]</td>\n      <td>[(290, 322)]</td>\n      <td>0</td>\n      <td>[0]</td>\n      <td>0</td>\n      <td>3292.620696</td>\n      <td>659.531964</td>\n      <td>0</td>\n      <td>0</td>\n      <td>[]</td>\n    </tr>\n    <tr>\n      <th>3</th>\n      <td>3</td>\n      <td>3</td>\n      <td>3</td>\n      <td>480</td>\n      <td>5</td>\n      <td>GGLEPINFQTAADQARELINSWVESQTNGIIRNVLQPSSVDSQTAM...</td>\n      <td>1</td>\n      <td>[(12, 16)]</td>\n      <td>[(126, 186)]</td>\n      <td>3</td>\n      <td>[3]</td>\n      <td>0</td>\n      <td>6581.401687</td>\n      <td>1317.288162</td>\n      <td>0</td>\n      <td>0</td>\n      <td>[]</td>\n    </tr>\n    <tr>\n      <th>4</th>\n      <td>4</td>\n      <td>4</td>\n      <td>4</td>\n      <td>430</td>\n      <td>3</td>\n      <td>YNLTSVLMAMGITDVFSSSANLSGISSAESLK</td>\n      <td>1</td>\n      <td>[(28, 29)]</td>\n      <td>[(290, 322)]</td>\n      <td>0</td>\n      <td>[0]</td>\n      <td>0</td>\n      <td>3292.620696</td>\n      <td>1098.548057</td>\n      <td>0</td>\n      <td>0</td>\n      <td>[]</td>\n    </tr>\n    <tr>\n      <th>...</th>\n      <td>...</td>\n      <td>...</td>\n      <td>...</td>\n      <td>...</td>\n      <td>...</td>\n      <td>...</td>\n      <td>...</td>\n      <td>...</td>\n      <td>...</td>\n      <td>...</td>\n      <td>...</td>\n      <td>...</td>\n      <td>...</td>\n      <td>...</td>\n      <td>...</td>\n      <td>...</td>\n      <td>...</td>\n    </tr>\n    <tr>\n      <th>859</th>\n      <td>859</td>\n      <td>859</td>\n      <td>859</td>\n      <td>220</td>\n      <td>2</td>\n      <td>LPGFGDSIEAQCGTSVNVHSSLRDILNQITKPNDVYSFSLASRLYA...</td>\n      <td>1</td>\n      <td>[(7, 11)]</td>\n      <td>[(61, 122)]</td>\n      <td>3</td>\n      <td>[3]</td>\n      <td>0</td>\n      <td>6841.416016</td>\n      <td>3421.715833</td>\n      <td>0</td>\n      <td>0</td>\n      <td>[]</td>\n    </tr>\n    <tr>\n      <th>860</th>\n      <td>860</td>\n      <td>860</td>\n      <td>860</td>\n      <td>220</td>\n      <td>1</td>\n      <td>LPGFGDSIEAQCGTSVNVHSSLRDILNQITKPNDVYSFSLASRLYA...</td>\n      <td>1</td>\n      <td>[(7, 11)]</td>\n      <td>[(61, 122)]</td>\n      <td>3</td>\n      <td>[3]</td>\n      <td>0</td>\n      <td>6841.416016</td>\n      <td>6842.423841</td>\n      <td>0</td>\n      <td>0</td>\n      <td>[]</td>\n    </tr>\n    <tr>\n      <th>861</th>\n      <td>861</td>\n      <td>861</td>\n      <td>861</td>\n      <td>290</td>\n      <td>5</td>\n      <td>LPGFGDSIEAQCGTSVNVHSSLRDILNQITKPNDVYSFSLASRLYA...</td>\n      <td>1</td>\n      <td>[(7, 11)]</td>\n      <td>[(61, 122)]</td>\n      <td>3</td>\n      <td>[3]</td>\n      <td>0</td>\n      <td>6841.416016</td>\n      <td>1369.291028</td>\n      <td>0</td>\n      <td>0</td>\n      <td>[]</td>\n    </tr>\n    <tr>\n      <th>862</th>\n      <td>862</td>\n      <td>862</td>\n      <td>862</td>\n      <td>270</td>\n      <td>3</td>\n      <td>LPGFGDSIEAQCGTSVNVHSSLRDILNQITKPNDVYSFSLASRLYA...</td>\n      <td>1</td>\n      <td>[(7, 11)]</td>\n      <td>[(61, 122)]</td>\n      <td>3</td>\n      <td>[3]</td>\n      <td>0</td>\n      <td>6841.416016</td>\n      <td>2281.479831</td>\n      <td>0</td>\n      <td>0</td>\n      <td>[]</td>\n    </tr>\n    <tr>\n      <th>863</th>\n      <td>863</td>\n      <td>863</td>\n      <td>863</td>\n      <td>240</td>\n      <td>4</td>\n      <td>LPGFGDSIEAQCGTSVNVHSSLRDILNQITKPNDVYSFSLASRLYA...</td>\n      <td>1</td>\n      <td>[(7, 11)]</td>\n      <td>[(61, 122)]</td>\n      <td>3</td>\n      <td>[3]</td>\n      <td>0</td>\n      <td>6841.416016</td>\n      <td>1711.361829</td>\n      <td>0</td>\n      <td>0</td>\n      <td>[]</td>\n    </tr>\n  </tbody>\n</table>\n<p>864 rows × 17 columns</p>\n</div>"
     },
     "execution_count": 9,
     "metadata": {},
     "output_type": "execute_result"
    }
   ],
   "source": [
    "ideal_precursor_df = pd.DataFrame(precursor_records)\n",
    "\n",
    "ideal_precursor_df.to_csv(\n",
    "    \"../out/csv/precursor_matches_GENOVA_segments=3_error=50ppm_ideal.csv\",\n",
    "    index=False,\n",
    ")\n",
    "\n",
    "ideal_precursor_df"
   ],
   "metadata": {
    "collapsed": false,
    "pycharm": {
     "name": "#%%\n"
    }
   }
  },
  {
   "cell_type": "code",
   "execution_count": 10,
   "outputs": [
    {
     "data": {
      "text/plain": "       scan_id  scan_nth_in_order  scan_time  scan_total_intensity  \\\n0            0                  0          0                   370   \n1            0                  0          0                   370   \n2            0                  0          0                   370   \n3            0                  0          0                   370   \n4            0                  0          0                   370   \n...        ...                ...        ...                   ...   \n45314      863                863        863                   240   \n45315      863                863        863                   240   \n45316      863                863        863                   240   \n45317      863                863        863                   240   \n45318      863                863        863                   240   \n\n       prec_charge                                      prec_sequence  \\\n0                1                ILELPFASGTMSMLVLLPDEVSGLEQLESIINFEK   \n1                1                ILELPFASGTMSMLVLLPDEVSGLEQLESIINFEK   \n2                1                ILELPFASGTMSMLVLLPDEVSGLEQLESIINFEK   \n3                1                ILELPFASGTMSMLVLLPDEVSGLEQLESIINFEK   \n4                1                ILELPFASGTMSMLVLLPDEVSGLEQLESIINFEK   \n...            ...                                                ...   \n45314            4  LPGFGDSIEAQCGTSVNVHSSLRDILNQITKPNDVYSFSLASRLYA...   \n45315            4  LPGFGDSIEAQCGTSVNVHSSLRDILNQITKPNDVYSFSLASRLYA...   \n45316            4  LPGFGDSIEAQCGTSVNVHSSLRDILNQITKPNDVYSFSLASRLYA...   \n45317            4  LPGFGDSIEAQCGTSVNVHSSLRDILNQITKPNDVYSFSLASRLYA...   \n45318            4  LPGFGDSIEAQCGTSVNVHSSLRDILNQITKPNDVYSFSLASRLYA...   \n\n       prec_segment_count prec_tryptide_ranges prec_residue_ranges  \\\n0                       1           [(21, 22)]        [(228, 263)]   \n1                       1           [(21, 22)]        [(228, 263)]   \n2                       1           [(21, 22)]        [(228, 263)]   \n3                       1           [(21, 22)]        [(228, 263)]   \n4                       1           [(21, 22)]        [(228, 263)]   \n...                   ...                  ...                 ...   \n45314                   1            [(7, 11)]         [(61, 122)]   \n45315                   1            [(7, 11)]         [(61, 122)]   \n45316                   1            [(7, 11)]         [(61, 122)]   \n45317                   1            [(7, 11)]         [(61, 122)]   \n45318                   1            [(7, 11)]         [(61, 122)]   \n\n       prec_max_mc_count  ... frag_break_count  frag_error_ppm  \\\n0                      0  ...             True               0   \n1                      0  ...             True               0   \n2                      0  ...             True               0   \n3                      0  ...             True               0   \n4                      0  ...             True               0   \n...                  ...  ...              ...             ...   \n45314                  3  ...                2               0   \n45315                  3  ...                2               0   \n45316                  3  ...                2               0   \n45317                  3  ...                2               0   \n45318                  3  ...                2               0   \n\n                                          frag_mods  frag_connected_bonds  \\\n0                                                []                    []   \n1                                                []                    []   \n2                                                []                    []   \n3                                                []                    []   \n4                                                []                    []   \n...                                             ...                   ...   \n45314  [Cys Alkylation (IAA), Cys Alkylation (IAA)]          ((72, 119),)   \n45315  [Cys Alkylation (IAA), Cys Alkylation (IAA)]          ((72, 119),)   \n45316  [Cys Alkylation (IAA), Cys Alkylation (IAA)]          ((72, 119),)   \n45317  [Cys Alkylation (IAA), Cys Alkylation (IAA)]          ((72, 119),)   \n45318  [Cys Alkylation (IAA), Cys Alkylation (IAA)]          ((72, 119),)   \n\n       frag_disconnected_cys  frag_interesting_disconnected_cys  \\\n0                         []                                 []   \n1                         []                                 []   \n2                         []                                 []   \n3                         []                                 []   \n4                         []                                 []   \n...                      ...                                ...   \n45314                     ()                                 []   \n45315                     ()                                 []   \n45316                     ()                                 []   \n45317                     ()                                 []   \n45318                     ()                                 []   \n\n      frag_intensity frag_intensity_ratio  target_mass    target_mz  \n0                 10                  0.1   146.104979   147.112804  \n1                 10                  0.1   226.167579   227.175404  \n2                 10                  0.1   275.147572   276.155397  \n3                 10                  0.1   355.210172   356.217998  \n4                 10                  0.1   565.347000   566.354825  \n...              ...                  ...          ...          ...  \n45314             10                  1.0  6754.382891  2252.468789  \n45315             10                  1.0  5830.896389  1944.639955  \n45316             10                  1.0  1849.832773   617.618749  \n45317             10                  1.0  5830.896389  1458.731922  \n45318             10                  1.0  5263.594728  5264.602553  \n\n[45319 rows x 34 columns]",
      "text/html": "<div>\n<style scoped>\n    .dataframe tbody tr th:only-of-type {\n        vertical-align: middle;\n    }\n\n    .dataframe tbody tr th {\n        vertical-align: top;\n    }\n\n    .dataframe thead th {\n        text-align: right;\n    }\n</style>\n<table border=\"1\" class=\"dataframe\">\n  <thead>\n    <tr style=\"text-align: right;\">\n      <th></th>\n      <th>scan_id</th>\n      <th>scan_nth_in_order</th>\n      <th>scan_time</th>\n      <th>scan_total_intensity</th>\n      <th>prec_charge</th>\n      <th>prec_sequence</th>\n      <th>prec_segment_count</th>\n      <th>prec_tryptide_ranges</th>\n      <th>prec_residue_ranges</th>\n      <th>prec_max_mc_count</th>\n      <th>...</th>\n      <th>frag_break_count</th>\n      <th>frag_error_ppm</th>\n      <th>frag_mods</th>\n      <th>frag_connected_bonds</th>\n      <th>frag_disconnected_cys</th>\n      <th>frag_interesting_disconnected_cys</th>\n      <th>frag_intensity</th>\n      <th>frag_intensity_ratio</th>\n      <th>target_mass</th>\n      <th>target_mz</th>\n    </tr>\n  </thead>\n  <tbody>\n    <tr>\n      <th>0</th>\n      <td>0</td>\n      <td>0</td>\n      <td>0</td>\n      <td>370</td>\n      <td>1</td>\n      <td>ILELPFASGTMSMLVLLPDEVSGLEQLESIINFEK</td>\n      <td>1</td>\n      <td>[(21, 22)]</td>\n      <td>[(228, 263)]</td>\n      <td>0</td>\n      <td>...</td>\n      <td>True</td>\n      <td>0</td>\n      <td>[]</td>\n      <td>[]</td>\n      <td>[]</td>\n      <td>[]</td>\n      <td>10</td>\n      <td>0.1</td>\n      <td>146.104979</td>\n      <td>147.112804</td>\n    </tr>\n    <tr>\n      <th>1</th>\n      <td>0</td>\n      <td>0</td>\n      <td>0</td>\n      <td>370</td>\n      <td>1</td>\n      <td>ILELPFASGTMSMLVLLPDEVSGLEQLESIINFEK</td>\n      <td>1</td>\n      <td>[(21, 22)]</td>\n      <td>[(228, 263)]</td>\n      <td>0</td>\n      <td>...</td>\n      <td>True</td>\n      <td>0</td>\n      <td>[]</td>\n      <td>[]</td>\n      <td>[]</td>\n      <td>[]</td>\n      <td>10</td>\n      <td>0.1</td>\n      <td>226.167579</td>\n      <td>227.175404</td>\n    </tr>\n    <tr>\n      <th>2</th>\n      <td>0</td>\n      <td>0</td>\n      <td>0</td>\n      <td>370</td>\n      <td>1</td>\n      <td>ILELPFASGTMSMLVLLPDEVSGLEQLESIINFEK</td>\n      <td>1</td>\n      <td>[(21, 22)]</td>\n      <td>[(228, 263)]</td>\n      <td>0</td>\n      <td>...</td>\n      <td>True</td>\n      <td>0</td>\n      <td>[]</td>\n      <td>[]</td>\n      <td>[]</td>\n      <td>[]</td>\n      <td>10</td>\n      <td>0.1</td>\n      <td>275.147572</td>\n      <td>276.155397</td>\n    </tr>\n    <tr>\n      <th>3</th>\n      <td>0</td>\n      <td>0</td>\n      <td>0</td>\n      <td>370</td>\n      <td>1</td>\n      <td>ILELPFASGTMSMLVLLPDEVSGLEQLESIINFEK</td>\n      <td>1</td>\n      <td>[(21, 22)]</td>\n      <td>[(228, 263)]</td>\n      <td>0</td>\n      <td>...</td>\n      <td>True</td>\n      <td>0</td>\n      <td>[]</td>\n      <td>[]</td>\n      <td>[]</td>\n      <td>[]</td>\n      <td>10</td>\n      <td>0.1</td>\n      <td>355.210172</td>\n      <td>356.217998</td>\n    </tr>\n    <tr>\n      <th>4</th>\n      <td>0</td>\n      <td>0</td>\n      <td>0</td>\n      <td>370</td>\n      <td>1</td>\n      <td>ILELPFASGTMSMLVLLPDEVSGLEQLESIINFEK</td>\n      <td>1</td>\n      <td>[(21, 22)]</td>\n      <td>[(228, 263)]</td>\n      <td>0</td>\n      <td>...</td>\n      <td>True</td>\n      <td>0</td>\n      <td>[]</td>\n      <td>[]</td>\n      <td>[]</td>\n      <td>[]</td>\n      <td>10</td>\n      <td>0.1</td>\n      <td>565.347000</td>\n      <td>566.354825</td>\n    </tr>\n    <tr>\n      <th>...</th>\n      <td>...</td>\n      <td>...</td>\n      <td>...</td>\n      <td>...</td>\n      <td>...</td>\n      <td>...</td>\n      <td>...</td>\n      <td>...</td>\n      <td>...</td>\n      <td>...</td>\n      <td>...</td>\n      <td>...</td>\n      <td>...</td>\n      <td>...</td>\n      <td>...</td>\n      <td>...</td>\n      <td>...</td>\n      <td>...</td>\n      <td>...</td>\n      <td>...</td>\n      <td>...</td>\n    </tr>\n    <tr>\n      <th>45314</th>\n      <td>863</td>\n      <td>863</td>\n      <td>863</td>\n      <td>240</td>\n      <td>4</td>\n      <td>LPGFGDSIEAQCGTSVNVHSSLRDILNQITKPNDVYSFSLASRLYA...</td>\n      <td>1</td>\n      <td>[(7, 11)]</td>\n      <td>[(61, 122)]</td>\n      <td>3</td>\n      <td>...</td>\n      <td>2</td>\n      <td>0</td>\n      <td>[Cys Alkylation (IAA), Cys Alkylation (IAA)]</td>\n      <td>((72, 119),)</td>\n      <td>()</td>\n      <td>[]</td>\n      <td>10</td>\n      <td>1.0</td>\n      <td>6754.382891</td>\n      <td>2252.468789</td>\n    </tr>\n    <tr>\n      <th>45315</th>\n      <td>863</td>\n      <td>863</td>\n      <td>863</td>\n      <td>240</td>\n      <td>4</td>\n      <td>LPGFGDSIEAQCGTSVNVHSSLRDILNQITKPNDVYSFSLASRLYA...</td>\n      <td>1</td>\n      <td>[(7, 11)]</td>\n      <td>[(61, 122)]</td>\n      <td>3</td>\n      <td>...</td>\n      <td>2</td>\n      <td>0</td>\n      <td>[Cys Alkylation (IAA), Cys Alkylation (IAA)]</td>\n      <td>((72, 119),)</td>\n      <td>()</td>\n      <td>[]</td>\n      <td>10</td>\n      <td>1.0</td>\n      <td>5830.896389</td>\n      <td>1944.639955</td>\n    </tr>\n    <tr>\n      <th>45316</th>\n      <td>863</td>\n      <td>863</td>\n      <td>863</td>\n      <td>240</td>\n      <td>4</td>\n      <td>LPGFGDSIEAQCGTSVNVHSSLRDILNQITKPNDVYSFSLASRLYA...</td>\n      <td>1</td>\n      <td>[(7, 11)]</td>\n      <td>[(61, 122)]</td>\n      <td>3</td>\n      <td>...</td>\n      <td>2</td>\n      <td>0</td>\n      <td>[Cys Alkylation (IAA), Cys Alkylation (IAA)]</td>\n      <td>((72, 119),)</td>\n      <td>()</td>\n      <td>[]</td>\n      <td>10</td>\n      <td>1.0</td>\n      <td>1849.832773</td>\n      <td>617.618749</td>\n    </tr>\n    <tr>\n      <th>45317</th>\n      <td>863</td>\n      <td>863</td>\n      <td>863</td>\n      <td>240</td>\n      <td>4</td>\n      <td>LPGFGDSIEAQCGTSVNVHSSLRDILNQITKPNDVYSFSLASRLYA...</td>\n      <td>1</td>\n      <td>[(7, 11)]</td>\n      <td>[(61, 122)]</td>\n      <td>3</td>\n      <td>...</td>\n      <td>2</td>\n      <td>0</td>\n      <td>[Cys Alkylation (IAA), Cys Alkylation (IAA)]</td>\n      <td>((72, 119),)</td>\n      <td>()</td>\n      <td>[]</td>\n      <td>10</td>\n      <td>1.0</td>\n      <td>5830.896389</td>\n      <td>1458.731922</td>\n    </tr>\n    <tr>\n      <th>45318</th>\n      <td>863</td>\n      <td>863</td>\n      <td>863</td>\n      <td>240</td>\n      <td>4</td>\n      <td>LPGFGDSIEAQCGTSVNVHSSLRDILNQITKPNDVYSFSLASRLYA...</td>\n      <td>1</td>\n      <td>[(7, 11)]</td>\n      <td>[(61, 122)]</td>\n      <td>3</td>\n      <td>...</td>\n      <td>2</td>\n      <td>0</td>\n      <td>[Cys Alkylation (IAA), Cys Alkylation (IAA)]</td>\n      <td>((72, 119),)</td>\n      <td>()</td>\n      <td>[]</td>\n      <td>10</td>\n      <td>1.0</td>\n      <td>5263.594728</td>\n      <td>5264.602553</td>\n    </tr>\n  </tbody>\n</table>\n<p>45319 rows × 34 columns</p>\n</div>"
     },
     "execution_count": 10,
     "metadata": {},
     "output_type": "execute_result"
    }
   ],
   "source": [
    "ideal_fragment_df = pd.DataFrame(fragment_records)\n",
    "\n",
    "ideal_fragment_df.to_csv(\n",
    "    \"../out/csv/fragment_matches_GENOVA_segments=3_error=50ppm_ideal.csv\",\n",
    "    index=False,\n",
    ")\n",
    "\n",
    "ideal_fragment_df"
   ],
   "metadata": {
    "collapsed": false,
    "pycharm": {
     "name": "#%%\n"
    }
   }
  },
  {
   "cell_type": "code",
   "execution_count": 11,
   "outputs": [
    {
     "name": "stdout",
     "output_type": "stream",
     "text": [
      "Looking for matches...\n",
      "Saving the matches to ../out/precursor_matches/GENOVA_AT_segments=3_error=50ppm.pickle\n"
     ]
    },
    {
     "data": {
      "text/plain": "      scan_id  scan_nth_in_order  scan_time  scan_total_intensity  \\\n0           0                  0          0                   370   \n1           1                  1          1                   460   \n2           2                  2          2                   440   \n3           3                  3          3                   480   \n4           4                  4          4                   430   \n...       ...                ...        ...                   ...   \n1156      859                859        859                   220   \n1157      860                860        860                   220   \n1158      861                861        861                   290   \n1159      862                862        862                   270   \n1160      863                863        863                   240   \n\n      prec_charge                                      prec_sequence  \\\n0               1                ILELPFASGTMSMLVLLPDEVSGLEQLESIINFEK   \n1               5  MEEKYNLTSVLMAMGITDVFSSSANLSGISSAESLKISQAVHAAHA...   \n2               5                   YNLTSVLMAMGITDVFSSSANLSGISSAESLK   \n3               5  GGLEPINFQTAADQARELINSWVESQTNGIIRNVLQPSSVDSQTAM...   \n4               3                   YNLTSVLMAMGITDVFSSSANLSGISSAESLK   \n...           ...                                                ...   \n1156            2  LPGFGDSIEAQCGTSVNVHSSLRDILNQITKPNDVYSFSLASRLYA...   \n1157            1  LPGFGDSIEAQCGTSVNVHSSLRDILNQITKPNDVYSFSLASRLYA...   \n1158            5  LPGFGDSIEAQCGTSVNVHSSLRDILNQITKPNDVYSFSLASRLYA...   \n1159            3  LPGFGDSIEAQCGTSVNVHSSLRDILNQITKPNDVYSFSLASRLYA...   \n1160            4  LPGFGDSIEAQCGTSVNVHSSLRDILNQITKPNDVYSFSLASRLYA...   \n\n      prec_segment_count prec_tryptide_ranges prec_residue_ranges  \\\n0                      1           [(21, 22)]        [(228, 263)]   \n1                      1           [(27, 30)]        [(286, 339)]   \n2                      1           [(28, 29)]        [(290, 322)]   \n3                      1           [(12, 16)]        [(126, 186)]   \n4                      1           [(28, 29)]        [(290, 322)]   \n...                  ...                  ...                 ...   \n1156                   1            [(7, 11)]         [(61, 122)]   \n1157                   1            [(7, 11)]         [(61, 122)]   \n1158                   1            [(7, 11)]         [(61, 122)]   \n1159                   1            [(7, 11)]         [(61, 122)]   \n1160                   1            [(7, 11)]         [(61, 122)]   \n\n      prec_max_mc_count prec_mc  prec_cys_bond_count    prec_mass  \\\n0                     0     [0]                    0  3863.011392   \n1                     2     [2]                    0  5569.761684   \n2                     0     [0]                    0  3297.659821   \n3                     3     [3]                    0  6586.440812   \n4                     0     [0]                    0  3295.644171   \n...                 ...     ...                  ...          ...   \n1156                  3     [3]                    1  6843.431667   \n1157                  3     [3]                    1  6842.423841   \n1158                  3     [3]                    1  6846.455142   \n1159                  3     [3]                    1  6844.439492   \n1160                  3     [3]                    1  6845.447317   \n\n          prec_mz    prec_error  prec_alkylation_count  \\\n0     3863.011392  0.000000e+00                      0   \n1     1113.952337  1.634394e-10                      0   \n2      659.531964  0.000000e+00                      0   \n3     1317.288162  1.381916e-10                      0   \n4     1098.548057  0.000000e+00                      0   \n...           ...           ...                    ...   \n1156  3421.715833  0.000000e+00                      0   \n1157  6842.423841  0.000000e+00                      0   \n1158  1369.291028  0.000000e+00                      0   \n1159  2281.479831  0.000000e+00                      0   \n1160  1711.361829  0.000000e+00                      0   \n\n                    prec_mods  \n0                          []  \n1                          []  \n2                          []  \n3                          []  \n4                          []  \n...                       ...  \n1156  [Disulphide Bond (–H2)]  \n1157  [Disulphide Bond (–H2)]  \n1158  [Disulphide Bond (–H2)]  \n1159  [Disulphide Bond (–H2)]  \n1160  [Disulphide Bond (–H2)]  \n\n[1161 rows x 17 columns]",
      "text/html": "<div>\n<style scoped>\n    .dataframe tbody tr th:only-of-type {\n        vertical-align: middle;\n    }\n\n    .dataframe tbody tr th {\n        vertical-align: top;\n    }\n\n    .dataframe thead th {\n        text-align: right;\n    }\n</style>\n<table border=\"1\" class=\"dataframe\">\n  <thead>\n    <tr style=\"text-align: right;\">\n      <th></th>\n      <th>scan_id</th>\n      <th>scan_nth_in_order</th>\n      <th>scan_time</th>\n      <th>scan_total_intensity</th>\n      <th>prec_charge</th>\n      <th>prec_sequence</th>\n      <th>prec_segment_count</th>\n      <th>prec_tryptide_ranges</th>\n      <th>prec_residue_ranges</th>\n      <th>prec_max_mc_count</th>\n      <th>prec_mc</th>\n      <th>prec_cys_bond_count</th>\n      <th>prec_mass</th>\n      <th>prec_mz</th>\n      <th>prec_error</th>\n      <th>prec_alkylation_count</th>\n      <th>prec_mods</th>\n    </tr>\n  </thead>\n  <tbody>\n    <tr>\n      <th>0</th>\n      <td>0</td>\n      <td>0</td>\n      <td>0</td>\n      <td>370</td>\n      <td>1</td>\n      <td>ILELPFASGTMSMLVLLPDEVSGLEQLESIINFEK</td>\n      <td>1</td>\n      <td>[(21, 22)]</td>\n      <td>[(228, 263)]</td>\n      <td>0</td>\n      <td>[0]</td>\n      <td>0</td>\n      <td>3863.011392</td>\n      <td>3863.011392</td>\n      <td>0.000000e+00</td>\n      <td>0</td>\n      <td>[]</td>\n    </tr>\n    <tr>\n      <th>1</th>\n      <td>1</td>\n      <td>1</td>\n      <td>1</td>\n      <td>460</td>\n      <td>5</td>\n      <td>MEEKYNLTSVLMAMGITDVFSSSANLSGISSAESLKISQAVHAAHA...</td>\n      <td>1</td>\n      <td>[(27, 30)]</td>\n      <td>[(286, 339)]</td>\n      <td>2</td>\n      <td>[2]</td>\n      <td>0</td>\n      <td>5569.761684</td>\n      <td>1113.952337</td>\n      <td>1.634394e-10</td>\n      <td>0</td>\n      <td>[]</td>\n    </tr>\n    <tr>\n      <th>2</th>\n      <td>2</td>\n      <td>2</td>\n      <td>2</td>\n      <td>440</td>\n      <td>5</td>\n      <td>YNLTSVLMAMGITDVFSSSANLSGISSAESLK</td>\n      <td>1</td>\n      <td>[(28, 29)]</td>\n      <td>[(290, 322)]</td>\n      <td>0</td>\n      <td>[0]</td>\n      <td>0</td>\n      <td>3297.659821</td>\n      <td>659.531964</td>\n      <td>0.000000e+00</td>\n      <td>0</td>\n      <td>[]</td>\n    </tr>\n    <tr>\n      <th>3</th>\n      <td>3</td>\n      <td>3</td>\n      <td>3</td>\n      <td>480</td>\n      <td>5</td>\n      <td>GGLEPINFQTAADQARELINSWVESQTNGIIRNVLQPSSVDSQTAM...</td>\n      <td>1</td>\n      <td>[(12, 16)]</td>\n      <td>[(126, 186)]</td>\n      <td>3</td>\n      <td>[3]</td>\n      <td>0</td>\n      <td>6586.440812</td>\n      <td>1317.288162</td>\n      <td>1.381916e-10</td>\n      <td>0</td>\n      <td>[]</td>\n    </tr>\n    <tr>\n      <th>4</th>\n      <td>4</td>\n      <td>4</td>\n      <td>4</td>\n      <td>430</td>\n      <td>3</td>\n      <td>YNLTSVLMAMGITDVFSSSANLSGISSAESLK</td>\n      <td>1</td>\n      <td>[(28, 29)]</td>\n      <td>[(290, 322)]</td>\n      <td>0</td>\n      <td>[0]</td>\n      <td>0</td>\n      <td>3295.644171</td>\n      <td>1098.548057</td>\n      <td>0.000000e+00</td>\n      <td>0</td>\n      <td>[]</td>\n    </tr>\n    <tr>\n      <th>...</th>\n      <td>...</td>\n      <td>...</td>\n      <td>...</td>\n      <td>...</td>\n      <td>...</td>\n      <td>...</td>\n      <td>...</td>\n      <td>...</td>\n      <td>...</td>\n      <td>...</td>\n      <td>...</td>\n      <td>...</td>\n      <td>...</td>\n      <td>...</td>\n      <td>...</td>\n      <td>...</td>\n      <td>...</td>\n    </tr>\n    <tr>\n      <th>1156</th>\n      <td>859</td>\n      <td>859</td>\n      <td>859</td>\n      <td>220</td>\n      <td>2</td>\n      <td>LPGFGDSIEAQCGTSVNVHSSLRDILNQITKPNDVYSFSLASRLYA...</td>\n      <td>1</td>\n      <td>[(7, 11)]</td>\n      <td>[(61, 122)]</td>\n      <td>3</td>\n      <td>[3]</td>\n      <td>1</td>\n      <td>6843.431667</td>\n      <td>3421.715833</td>\n      <td>0.000000e+00</td>\n      <td>0</td>\n      <td>[Disulphide Bond (–H2)]</td>\n    </tr>\n    <tr>\n      <th>1157</th>\n      <td>860</td>\n      <td>860</td>\n      <td>860</td>\n      <td>220</td>\n      <td>1</td>\n      <td>LPGFGDSIEAQCGTSVNVHSSLRDILNQITKPNDVYSFSLASRLYA...</td>\n      <td>1</td>\n      <td>[(7, 11)]</td>\n      <td>[(61, 122)]</td>\n      <td>3</td>\n      <td>[3]</td>\n      <td>1</td>\n      <td>6842.423841</td>\n      <td>6842.423841</td>\n      <td>0.000000e+00</td>\n      <td>0</td>\n      <td>[Disulphide Bond (–H2)]</td>\n    </tr>\n    <tr>\n      <th>1158</th>\n      <td>861</td>\n      <td>861</td>\n      <td>861</td>\n      <td>290</td>\n      <td>5</td>\n      <td>LPGFGDSIEAQCGTSVNVHSSLRDILNQITKPNDVYSFSLASRLYA...</td>\n      <td>1</td>\n      <td>[(7, 11)]</td>\n      <td>[(61, 122)]</td>\n      <td>3</td>\n      <td>[3]</td>\n      <td>1</td>\n      <td>6846.455142</td>\n      <td>1369.291028</td>\n      <td>0.000000e+00</td>\n      <td>0</td>\n      <td>[Disulphide Bond (–H2)]</td>\n    </tr>\n    <tr>\n      <th>1159</th>\n      <td>862</td>\n      <td>862</td>\n      <td>862</td>\n      <td>270</td>\n      <td>3</td>\n      <td>LPGFGDSIEAQCGTSVNVHSSLRDILNQITKPNDVYSFSLASRLYA...</td>\n      <td>1</td>\n      <td>[(7, 11)]</td>\n      <td>[(61, 122)]</td>\n      <td>3</td>\n      <td>[3]</td>\n      <td>1</td>\n      <td>6844.439492</td>\n      <td>2281.479831</td>\n      <td>0.000000e+00</td>\n      <td>0</td>\n      <td>[Disulphide Bond (–H2)]</td>\n    </tr>\n    <tr>\n      <th>1160</th>\n      <td>863</td>\n      <td>863</td>\n      <td>863</td>\n      <td>240</td>\n      <td>4</td>\n      <td>LPGFGDSIEAQCGTSVNVHSSLRDILNQITKPNDVYSFSLASRLYA...</td>\n      <td>1</td>\n      <td>[(7, 11)]</td>\n      <td>[(61, 122)]</td>\n      <td>3</td>\n      <td>[3]</td>\n      <td>1</td>\n      <td>6845.447317</td>\n      <td>1711.361829</td>\n      <td>0.000000e+00</td>\n      <td>0</td>\n      <td>[Disulphide Bond (–H2)]</td>\n    </tr>\n  </tbody>\n</table>\n<p>1161 rows × 17 columns</p>\n</div>"
     },
     "execution_count": 11,
     "metadata": {},
     "output_type": "execute_result"
    }
   ],
   "source": [
    "precursor_matches = write_matched_precursors(\n",
    "    tryptides,\n",
    "    scans,\n",
    "    \"../out/precursor_matches/GENOVA_AT_segments=3_error=5ppm.pickle\",\n",
    "    max_segments=3,\n",
    "    error_ppm=5,\n",
    ")\n",
    "\n",
    "precursor_match_records = []\n",
    "for pm in precursor_matches:\n",
    "    precursor_match_records.append(pm[\"scan\"].to_dict() | pm[\"precursor\"].to_dict())\n",
    "\n",
    "prec_df = pd.DataFrame(precursor_match_records)\n",
    "\n",
    "prec_df.to_csv(\n",
    "    \"../out/csv/precursor_matches_GENOVA_segments=3_error=50ppm.csv\", index=False\n",
    ")\n",
    "\n",
    "prec_df"
   ],
   "metadata": {
    "collapsed": false,
    "pycharm": {
     "name": "#%%\n"
    }
   }
  },
  {
   "cell_type": "code",
   "execution_count": 13,
   "outputs": [
    {
     "name": "stderr",
     "output_type": "stream",
     "text": [
      "  0%|          | 2/1161 [00:00<01:37, 11.93it/s]"
     ]
    },
    {
     "name": "stdout",
     "output_type": "stream",
     "text": [
      "Writing the matched fragments to ../out/fragment_matches/GENOVA_AT_segments=3_breaks=2_error=5ppm.pickle\n"
     ]
    },
    {
     "name": "stderr",
     "output_type": "stream",
     "text": [
      "100%|██████████| 1161/1161 [03:52<00:00,  5.00it/s]\n"
     ]
    },
    {
     "data": {
      "text/plain": "        scan_id  scan_nth_in_order  scan_time  scan_total_intensity  \\\n0             0                  0          0                   370   \n1             0                  0          0                   370   \n2             0                  0          0                   370   \n3             0                  0          0                   370   \n4             0                  0          0                   370   \n...         ...                ...        ...                   ...   \n111379      863                863        863                   240   \n111380      863                863        863                   240   \n111381      863                863        863                   240   \n111382      863                863        863                   240   \n111383      863                863        863                   240   \n\n        prec_charge                                      prec_sequence  \\\n0                 1                ILELPFASGTMSMLVLLPDEVSGLEQLESIINFEK   \n1                 1                ILELPFASGTMSMLVLLPDEVSGLEQLESIINFEK   \n2                 1                ILELPFASGTMSMLVLLPDEVSGLEQLESIINFEK   \n3                 1                ILELPFASGTMSMLVLLPDEVSGLEQLESIINFEK   \n4                 1                ILELPFASGTMSMLVLLPDEVSGLEQLESIINFEK   \n...             ...                                                ...   \n111379            4  LPGFGDSIEAQCGTSVNVHSSLRDILNQITKPNDVYSFSLASRLYA...   \n111380            4  LPGFGDSIEAQCGTSVNVHSSLRDILNQITKPNDVYSFSLASRLYA...   \n111381            4  LPGFGDSIEAQCGTSVNVHSSLRDILNQITKPNDVYSFSLASRLYA...   \n111382            4  LPGFGDSIEAQCGTSVNVHSSLRDILNQITKPNDVYSFSLASRLYA...   \n111383            4  LPGFGDSIEAQCGTSVNVHSSLRDILNQITKPNDVYSFSLASRLYA...   \n\n        prec_segment_count prec_tryptide_ranges prec_residue_ranges  \\\n0                        1           [(21, 22)]        [(228, 263)]   \n1                        1           [(21, 22)]        [(228, 263)]   \n2                        1           [(21, 22)]        [(228, 263)]   \n3                        1           [(21, 22)]        [(228, 263)]   \n4                        1           [(21, 22)]        [(228, 263)]   \n...                    ...                  ...                 ...   \n111379                   1            [(7, 11)]         [(61, 122)]   \n111380                   1            [(7, 11)]         [(61, 122)]   \n111381                   1            [(7, 11)]         [(61, 122)]   \n111382                   1            [(7, 11)]         [(61, 122)]   \n111383                   1            [(7, 11)]         [(61, 122)]   \n\n        prec_max_mc_count  ... frag_error_ppm  \\\n0                       0  ...       2.425463   \n1                       0  ...       1.544327   \n2                       0  ...       0.970305   \n3                       0  ...       0.630174   \n4                       0  ...       0.591432   \n...                   ...  ...            ...   \n111379                  3  ...       0.162374   \n111380                  3  ...       1.582075   \n111381                  3  ...       3.441471   \n111382                  3  ...       0.728308   \n111383                  3  ...       3.235089   \n\n                                         frag_mods  frag_connected_bonds  \\\n0                                               []                    []   \n1                                               []                    []   \n2                                               []                    []   \n3                                               []                    []   \n4                                               []                    []   \n...                                            ...                   ...   \n111379                                          []           [(72, 119)]   \n111380                       [-H2O (neutral loss)]           [(72, 119)]   \n111381  [-H2O (neutral loss), -NH3 (neutral loss)]                    []   \n111382                       [-H2O (neutral loss)]                    []   \n111383                       [-NH3 (neutral loss)]                    []   \n\n        frag_disconnected_cys  frag_interesting_disconnected_cys  \\\n0                          []                                 []   \n1                          []                                 []   \n2                          []                                 []   \n3                          []                                 []   \n4                          []                                 []   \n...                       ...                                ...   \n111379                     []                                 []   \n111380                     []                                 []   \n111381                     []                                 []   \n111382                     []                                 []   \n111383                     []                                 []   \n\n        frag_intensity frag_intensity_ratio  target_mass    target_mz  \\\n0                   10             0.027027   226.167579   227.175404   \n1                   10             0.027027   355.210172   356.217998   \n2                   10             0.027027   565.347000   566.354825   \n3                   10             0.027027   870.484556   871.492381   \n4                   10             0.027027   927.506020   928.513845   \n...                ...                  ...          ...          ...   \n111379              10             0.041667  6754.382891  3378.199271   \n111380              10             0.041667  6407.198385  3204.607018   \n111381              10             0.041667  1457.724097  1458.731922   \n111382              10             0.041667   537.254320   538.262145   \n111383              10             0.041667   993.495195   994.503020   \n\n       prec_variant_count  \n0                       1  \n1                       1  \n2                       1  \n3                       1  \n4                       1  \n...                   ...  \n111379                  1  \n111380                  1  \n111381                  1  \n111382                  1  \n111383                  1  \n\n[111384 rows x 35 columns]",
      "text/html": "<div>\n<style scoped>\n    .dataframe tbody tr th:only-of-type {\n        vertical-align: middle;\n    }\n\n    .dataframe tbody tr th {\n        vertical-align: top;\n    }\n\n    .dataframe thead th {\n        text-align: right;\n    }\n</style>\n<table border=\"1\" class=\"dataframe\">\n  <thead>\n    <tr style=\"text-align: right;\">\n      <th></th>\n      <th>scan_id</th>\n      <th>scan_nth_in_order</th>\n      <th>scan_time</th>\n      <th>scan_total_intensity</th>\n      <th>prec_charge</th>\n      <th>prec_sequence</th>\n      <th>prec_segment_count</th>\n      <th>prec_tryptide_ranges</th>\n      <th>prec_residue_ranges</th>\n      <th>prec_max_mc_count</th>\n      <th>...</th>\n      <th>frag_error_ppm</th>\n      <th>frag_mods</th>\n      <th>frag_connected_bonds</th>\n      <th>frag_disconnected_cys</th>\n      <th>frag_interesting_disconnected_cys</th>\n      <th>frag_intensity</th>\n      <th>frag_intensity_ratio</th>\n      <th>target_mass</th>\n      <th>target_mz</th>\n      <th>prec_variant_count</th>\n    </tr>\n  </thead>\n  <tbody>\n    <tr>\n      <th>0</th>\n      <td>0</td>\n      <td>0</td>\n      <td>0</td>\n      <td>370</td>\n      <td>1</td>\n      <td>ILELPFASGTMSMLVLLPDEVSGLEQLESIINFEK</td>\n      <td>1</td>\n      <td>[(21, 22)]</td>\n      <td>[(228, 263)]</td>\n      <td>0</td>\n      <td>...</td>\n      <td>2.425463</td>\n      <td>[]</td>\n      <td>[]</td>\n      <td>[]</td>\n      <td>[]</td>\n      <td>10</td>\n      <td>0.027027</td>\n      <td>226.167579</td>\n      <td>227.175404</td>\n      <td>1</td>\n    </tr>\n    <tr>\n      <th>1</th>\n      <td>0</td>\n      <td>0</td>\n      <td>0</td>\n      <td>370</td>\n      <td>1</td>\n      <td>ILELPFASGTMSMLVLLPDEVSGLEQLESIINFEK</td>\n      <td>1</td>\n      <td>[(21, 22)]</td>\n      <td>[(228, 263)]</td>\n      <td>0</td>\n      <td>...</td>\n      <td>1.544327</td>\n      <td>[]</td>\n      <td>[]</td>\n      <td>[]</td>\n      <td>[]</td>\n      <td>10</td>\n      <td>0.027027</td>\n      <td>355.210172</td>\n      <td>356.217998</td>\n      <td>1</td>\n    </tr>\n    <tr>\n      <th>2</th>\n      <td>0</td>\n      <td>0</td>\n      <td>0</td>\n      <td>370</td>\n      <td>1</td>\n      <td>ILELPFASGTMSMLVLLPDEVSGLEQLESIINFEK</td>\n      <td>1</td>\n      <td>[(21, 22)]</td>\n      <td>[(228, 263)]</td>\n      <td>0</td>\n      <td>...</td>\n      <td>0.970305</td>\n      <td>[]</td>\n      <td>[]</td>\n      <td>[]</td>\n      <td>[]</td>\n      <td>10</td>\n      <td>0.027027</td>\n      <td>565.347000</td>\n      <td>566.354825</td>\n      <td>1</td>\n    </tr>\n    <tr>\n      <th>3</th>\n      <td>0</td>\n      <td>0</td>\n      <td>0</td>\n      <td>370</td>\n      <td>1</td>\n      <td>ILELPFASGTMSMLVLLPDEVSGLEQLESIINFEK</td>\n      <td>1</td>\n      <td>[(21, 22)]</td>\n      <td>[(228, 263)]</td>\n      <td>0</td>\n      <td>...</td>\n      <td>0.630174</td>\n      <td>[]</td>\n      <td>[]</td>\n      <td>[]</td>\n      <td>[]</td>\n      <td>10</td>\n      <td>0.027027</td>\n      <td>870.484556</td>\n      <td>871.492381</td>\n      <td>1</td>\n    </tr>\n    <tr>\n      <th>4</th>\n      <td>0</td>\n      <td>0</td>\n      <td>0</td>\n      <td>370</td>\n      <td>1</td>\n      <td>ILELPFASGTMSMLVLLPDEVSGLEQLESIINFEK</td>\n      <td>1</td>\n      <td>[(21, 22)]</td>\n      <td>[(228, 263)]</td>\n      <td>0</td>\n      <td>...</td>\n      <td>0.591432</td>\n      <td>[]</td>\n      <td>[]</td>\n      <td>[]</td>\n      <td>[]</td>\n      <td>10</td>\n      <td>0.027027</td>\n      <td>927.506020</td>\n      <td>928.513845</td>\n      <td>1</td>\n    </tr>\n    <tr>\n      <th>...</th>\n      <td>...</td>\n      <td>...</td>\n      <td>...</td>\n      <td>...</td>\n      <td>...</td>\n      <td>...</td>\n      <td>...</td>\n      <td>...</td>\n      <td>...</td>\n      <td>...</td>\n      <td>...</td>\n      <td>...</td>\n      <td>...</td>\n      <td>...</td>\n      <td>...</td>\n      <td>...</td>\n      <td>...</td>\n      <td>...</td>\n      <td>...</td>\n      <td>...</td>\n      <td>...</td>\n    </tr>\n    <tr>\n      <th>111379</th>\n      <td>863</td>\n      <td>863</td>\n      <td>863</td>\n      <td>240</td>\n      <td>4</td>\n      <td>LPGFGDSIEAQCGTSVNVHSSLRDILNQITKPNDVYSFSLASRLYA...</td>\n      <td>1</td>\n      <td>[(7, 11)]</td>\n      <td>[(61, 122)]</td>\n      <td>3</td>\n      <td>...</td>\n      <td>0.162374</td>\n      <td>[]</td>\n      <td>[(72, 119)]</td>\n      <td>[]</td>\n      <td>[]</td>\n      <td>10</td>\n      <td>0.041667</td>\n      <td>6754.382891</td>\n      <td>3378.199271</td>\n      <td>1</td>\n    </tr>\n    <tr>\n      <th>111380</th>\n      <td>863</td>\n      <td>863</td>\n      <td>863</td>\n      <td>240</td>\n      <td>4</td>\n      <td>LPGFGDSIEAQCGTSVNVHSSLRDILNQITKPNDVYSFSLASRLYA...</td>\n      <td>1</td>\n      <td>[(7, 11)]</td>\n      <td>[(61, 122)]</td>\n      <td>3</td>\n      <td>...</td>\n      <td>1.582075</td>\n      <td>[-H2O (neutral loss)]</td>\n      <td>[(72, 119)]</td>\n      <td>[]</td>\n      <td>[]</td>\n      <td>10</td>\n      <td>0.041667</td>\n      <td>6407.198385</td>\n      <td>3204.607018</td>\n      <td>1</td>\n    </tr>\n    <tr>\n      <th>111381</th>\n      <td>863</td>\n      <td>863</td>\n      <td>863</td>\n      <td>240</td>\n      <td>4</td>\n      <td>LPGFGDSIEAQCGTSVNVHSSLRDILNQITKPNDVYSFSLASRLYA...</td>\n      <td>1</td>\n      <td>[(7, 11)]</td>\n      <td>[(61, 122)]</td>\n      <td>3</td>\n      <td>...</td>\n      <td>3.441471</td>\n      <td>[-H2O (neutral loss), -NH3 (neutral loss)]</td>\n      <td>[]</td>\n      <td>[]</td>\n      <td>[]</td>\n      <td>10</td>\n      <td>0.041667</td>\n      <td>1457.724097</td>\n      <td>1458.731922</td>\n      <td>1</td>\n    </tr>\n    <tr>\n      <th>111382</th>\n      <td>863</td>\n      <td>863</td>\n      <td>863</td>\n      <td>240</td>\n      <td>4</td>\n      <td>LPGFGDSIEAQCGTSVNVHSSLRDILNQITKPNDVYSFSLASRLYA...</td>\n      <td>1</td>\n      <td>[(7, 11)]</td>\n      <td>[(61, 122)]</td>\n      <td>3</td>\n      <td>...</td>\n      <td>0.728308</td>\n      <td>[-H2O (neutral loss)]</td>\n      <td>[]</td>\n      <td>[]</td>\n      <td>[]</td>\n      <td>10</td>\n      <td>0.041667</td>\n      <td>537.254320</td>\n      <td>538.262145</td>\n      <td>1</td>\n    </tr>\n    <tr>\n      <th>111383</th>\n      <td>863</td>\n      <td>863</td>\n      <td>863</td>\n      <td>240</td>\n      <td>4</td>\n      <td>LPGFGDSIEAQCGTSVNVHSSLRDILNQITKPNDVYSFSLASRLYA...</td>\n      <td>1</td>\n      <td>[(7, 11)]</td>\n      <td>[(61, 122)]</td>\n      <td>3</td>\n      <td>...</td>\n      <td>3.235089</td>\n      <td>[-NH3 (neutral loss)]</td>\n      <td>[]</td>\n      <td>[]</td>\n      <td>[]</td>\n      <td>10</td>\n      <td>0.041667</td>\n      <td>993.495195</td>\n      <td>994.503020</td>\n      <td>1</td>\n    </tr>\n  </tbody>\n</table>\n<p>111384 rows × 35 columns</p>\n</div>"
     },
     "execution_count": 13,
     "metadata": {},
     "output_type": "execute_result"
    }
   ],
   "source": [
    "fragment_matches = write_matched_fragments(\n",
    "    precursor_matches=precursor_matches,\n",
    "    tryptides=tryptides,\n",
    "    output_path=\"../out/fragment_matches/GENOVA_AT_segments=3_breaks=2_error=5ppm.pickle\",\n",
    "    max_allowed_breaks=2,\n",
    "    error_ppm=5,\n",
    ")\n",
    "\n",
    "fragment_match_records = []\n",
    "for fm in fragment_matches:\n",
    "    fragment_match_records.append(\n",
    "        fm[\"scan\"].to_dict()\n",
    "        | fm[\"precursor\"].to_dict()\n",
    "        | fm[\"variant\"].to_dict()\n",
    "        | (fm[\"fragment\"].to_dict() if fm[\"fragment\"] is not None else {})\n",
    "        | {\"prec_variant_count\": fm[\"variant_count\"]}\n",
    "    )\n",
    "\n",
    "frag_df = pd.DataFrame(fragment_match_records)\n",
    "\n",
    "frag_df.to_csv(\n",
    "    \"../out/csv/fragment_matches_TEST_OVA_segments=3_error=50ppm.csv\", index=False\n",
    ")\n",
    "\n",
    "frag_df"
   ],
   "metadata": {
    "collapsed": false,
    "pycharm": {
     "name": "#%%\n"
    }
   }
  },
  {
   "cell_type": "code",
   "execution_count": 81,
   "outputs": [
    {
     "data": {
      "text/plain": "[]"
     },
     "execution_count": 81,
     "metadata": {},
     "output_type": "execute_result"
    }
   ],
   "source": [
    "\n",
    "import importlib\n",
    "import fragment_matching\n",
    "import src.model.precursor\n",
    "import src.model.modification\n",
    "\n",
    "importlib.reload(fragment_matching)\n",
    "importlib.reload(src.model.precursor)\n",
    "importlib.reload(src.model.modification)\n",
    "\n",
    "\n",
    "var = src.model.precursor.Precursor(\n",
    "    \"VYLPR\",\n",
    "    7604.863 - PROTON,\n",
    "    7604.863,\n",
    "    [(25, 27)],\n",
    "    [(279, 284)],\n",
    "    0,\n",
    "    0,\n",
    "    [],\n",
    "    0,\n",
    ").variants(tryptides)[0]\n",
    "var.bonds"
   ],
   "metadata": {
    "collapsed": false,
    "pycharm": {
     "name": "#%%\n"
    }
   }
  },
  {
   "cell_type": "code",
   "execution_count": 82,
   "outputs": [
    {
     "name": "stdout",
     "output_type": "stream",
     "text": [
      "[[Modification(description='-H2O (neutral loss)', mass=-18.0105646837), Modification(description='-NH3 (neutral loss)', mass=-17.02654910101), None]] 99.06841391299 99.06786534768999 5\n",
      "81.05784922929 99.06786534768999 (Modification(description='-H2O (neutral loss)', mass=-18.0105646837),)\n",
      "82.04186481197999 99.06786534768999 (Modification(description='-NH3 (neutral loss)', mass=-17.02654910101),)\n",
      "99.06841391299 99.06786534768999 ()\n",
      "[[Modification(description='-H2O (neutral loss)', mass=-18.0105646837), Modification(description='-NH3 (neutral loss)', mass=-17.02654910101), None], [Modification(description='-H2O (neutral loss)', mass=-18.0105646837), Modification(description='-NH3 (neutral loss)', mass=-17.02654910101), None]] 113.08406397713001 99.06786534768999 5\n",
      "77.06293460973002 99.06786534768999 (Modification(description='-H2O (neutral loss)', mass=-18.0105646837), Modification(description='-H2O (neutral loss)', mass=-18.0105646837))\n",
      "78.04695019242001 99.06786534768999 (Modification(description='-H2O (neutral loss)', mass=-18.0105646837), Modification(description='-NH3 (neutral loss)', mass=-17.02654910101))\n",
      "95.07349929343002 99.06786534768999 (Modification(description='-H2O (neutral loss)', mass=-18.0105646837),)\n",
      "78.04695019242001 99.06786534768999 (Modification(description='-NH3 (neutral loss)', mass=-17.02654910101), Modification(description='-H2O (neutral loss)', mass=-18.0105646837))\n",
      "79.03096577511 99.06786534768999 (Modification(description='-NH3 (neutral loss)', mass=-17.02654910101), Modification(description='-NH3 (neutral loss)', mass=-17.02654910101))\n",
      "96.05751487612001 99.06786534768999 (Modification(description='-NH3 (neutral loss)', mass=-17.02654910101),)\n",
      "95.07349929343002 99.06786534768999 (Modification(description='-H2O (neutral loss)', mass=-18.0105646837),)\n",
      "96.05751487612001 99.06786534768999 (Modification(description='-NH3 (neutral loss)', mass=-17.02654910101),)\n",
      "113.08406397713001 99.06786534768999 ()\n",
      "[[Modification(description='-H2O (neutral loss)', mass=-18.0105646837), Modification(description='-NH3 (neutral loss)', mass=-17.02654910101), None], [Modification(description='-H2O (neutral loss)', mass=-18.0105646837), Modification(description='-NH3 (neutral loss)', mass=-17.02654910101), None]] 131.04048491299 99.06786534768999 5\n",
      "95.01935554559 99.06786534768999 (Modification(description='-H2O (neutral loss)', mass=-18.0105646837), Modification(description='-H2O (neutral loss)', mass=-18.0105646837))\n",
      "96.00337112828 99.06786534768999 (Modification(description='-H2O (neutral loss)', mass=-18.0105646837), Modification(description='-NH3 (neutral loss)', mass=-17.02654910101))\n",
      "113.02992022929 99.06786534768999 (Modification(description='-H2O (neutral loss)', mass=-18.0105646837),)\n",
      "96.00337112828 99.06786534768999 (Modification(description='-NH3 (neutral loss)', mass=-17.02654910101), Modification(description='-H2O (neutral loss)', mass=-18.0105646837))\n",
      "96.98738671096999 99.06786534768999 (Modification(description='-NH3 (neutral loss)', mass=-17.02654910101), Modification(description='-NH3 (neutral loss)', mass=-17.02654910101))\n",
      "114.01393581197999 99.06786534768999 (Modification(description='-NH3 (neutral loss)', mass=-17.02654910101),)\n",
      "113.02992022929 99.06786534768999 (Modification(description='-H2O (neutral loss)', mass=-18.0105646837),)\n",
      "114.01393581197999 99.06786534768999 (Modification(description='-NH3 (neutral loss)', mass=-17.02654910101),)\n",
      "131.04048491299 99.06786534768999 ()\n"
     ]
    },
    {
     "data": {
      "text/plain": "[]"
     },
     "execution_count": 82,
     "metadata": {},
     "output_type": "execute_result"
    }
   ],
   "source": [
    "MZ = calculate_mass(\"V\", charge=1, ion_type=\"b\")\n",
    "fragment_matching._fragments_matching_targets(\n",
    "    [fragment_matching.Target(0, MZ - PROTON, MZ, 10, 3, 1)],\n",
    "    var,\n",
    "    2,\n",
    "    5,\n",
    ")"
   ],
   "metadata": {
    "collapsed": false,
    "pycharm": {
     "name": "#%%\n"
    }
   }
  },
  {
   "cell_type": "code",
   "execution_count": 85,
   "outputs": [
    {
     "data": {
      "text/plain": "False"
     },
     "execution_count": 85,
     "metadata": {},
     "output_type": "execute_result"
    }
   ],
   "source": [
    "import src.utilities.error\n",
    "\n",
    "src.utilities.error.within_bounds(99.06841391299, 99.06786534768999, error_ppm=5)"
   ],
   "metadata": {
    "collapsed": false,
    "pycharm": {
     "name": "#%%\n"
    }
   }
  },
  {
   "cell_type": "code",
   "execution_count": 79,
   "outputs": [
    {
     "name": "stdout",
     "output_type": "stream",
     "text": [
      "81.05784922929 99.06786534768999 (Modification(description='-H2O (neutral loss)', mass=-18.0105646837),)\n",
      "82.04186481197999 99.06786534768999 (Modification(description='-NH3 (neutral loss)', mass=-17.02654910101),)\n",
      "99.06841391299 99.06786534768999 ()\n"
     ]
    },
    {
     "data": {
      "text/plain": "[]"
     },
     "execution_count": 79,
     "metadata": {},
     "output_type": "execute_result"
    }
   ],
   "source": [
    "src.model.modification.combine_modifications(\n",
    "    [\n",
    "        [\n",
    "            src.model.modification.Modification(\n",
    "                description=\"-H2O (neutral loss)\", mass=-18.0105646837\n",
    "            ),\n",
    "            src.model.modification.Modification(\n",
    "                description=\"-NH3 (neutral loss)\", mass=-17.02654910101\n",
    "            ),\n",
    "            None,\n",
    "        ]\n",
    "    ],\n",
    "    99.06841391299,\n",
    "    99.06786534768999,\n",
    "    5,\n",
    ")"
   ],
   "metadata": {
    "collapsed": false,
    "pycharm": {
     "name": "#%%\n"
    }
   }
  },
  {
   "cell_type": "code",
   "execution_count": 60,
   "outputs": [
    {
     "data": {
      "text/plain": "18.010564683699997"
     },
     "execution_count": 60,
     "metadata": {},
     "output_type": "execute_result"
    }
   ],
   "source": [
    "mss = fragment_matching.write_matched_fragments(\n",
    "    [precursors[647] | {\"scan\": scans[647]}],\n",
    "    tryptides,\n",
    "    \"../out/fragment_matches/doesn_matter_just_testing.pickle\",\n",
    "    2,\n",
    "    5,\n",
    ")\n",
    "\n",
    "\n",
    "[mss]"
   ],
   "metadata": {
    "collapsed": false,
    "pycharm": {
     "name": "#%%\n"
    }
   }
  }
 ],
 "metadata": {
  "kernelspec": {
   "display_name": "Python 3",
   "language": "python",
   "name": "python3"
  },
  "language_info": {
   "codemirror_mode": {
    "name": "ipython",
    "version": 2
   },
   "file_extension": ".py",
   "mimetype": "text/x-python",
   "name": "python",
   "nbconvert_exporter": "python",
   "pygments_lexer": "ipython2",
   "version": "2.7.6"
  }
 },
 "nbformat": 4,
 "nbformat_minor": 0
}
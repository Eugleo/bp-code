{
 "cells": [
  {
   "cell_type": "code",
   "execution_count": 108,
   "metadata": {
    "collapsed": true
   },
   "outputs": [],
   "source": [
    "import pandas as pd\n",
    "\n",
    "from src.model.scan import read_mgf\n",
    "from src.utilities.dataloading import load_precursor_matches, cleave_protein\n",
    "\n",
    "from pymzid.read_mzid import Mzid"
   ]
  },
  {
   "cell_type": "code",
   "execution_count": 109,
   "outputs": [
    {
     "data": {
      "text/plain": "[Peptide(beginning=0, end=1, seq=K, modifications={}),\n Peptide(beginning=1, end=5, seq=VFGR, modifications={}),\n Peptide(beginning=5, end=13, seq=CELAAAMK, modifications={'M': (Modification(description='Met Oxidation', mass=15.9949), 1)}),\n Peptide(beginning=13, end=14, seq=R, modifications={}),\n Peptide(beginning=14, end=21, seq=HGLDNYR, modifications={}),\n Peptide(beginning=21, end=33, seq=GYSLGNWVCAAK, modifications={}),\n Peptide(beginning=33, end=45, seq=FESNFNTQATNR, modifications={}),\n Peptide(beginning=45, end=61, seq=NTDGSTDYGILQINSR, modifications={}),\n Peptide(beginning=61, end=68, seq=WWCNDGR, modifications={}),\n Peptide(beginning=68, end=73, seq=TPGSR, modifications={}),\n Peptide(beginning=73, end=96, seq=NLCNIPCSALLSSDITASVNCAK, modifications={}),\n Peptide(beginning=96, end=97, seq=K, modifications={}),\n Peptide(beginning=97, end=112, seq=IVSDGNGMNAWVAWR, modifications={'M': (Modification(description='Met Oxidation', mass=15.9949), 1)}),\n Peptide(beginning=112, end=114, seq=NR, modifications={}),\n Peptide(beginning=114, end=116, seq=CK, modifications={}),\n Peptide(beginning=116, end=125, seq=GTDVQAWIR, modifications={}),\n Peptide(beginning=125, end=128, seq=GCR, modifications={}),\n Peptide(beginning=128, end=129, seq=L, modifications={})]"
     },
     "execution_count": 109,
     "metadata": {},
     "output_type": "execute_result"
    }
   ],
   "source": [
    "cleave_protein(\"LYS\")"
   ],
   "metadata": {
    "collapsed": false,
    "pycharm": {
     "name": "#%%\n"
    }
   }
  },
  {
   "cell_type": "code",
   "execution_count": 102,
   "outputs": [
    {
     "name": "stdout",
     "output_type": "stream",
     "text": [
      "Loading scans from ../data/mgf/190318_LIP_AT_50x_05.mgf...\n",
      "13579\n"
     ]
    }
   ],
   "source": [
    "protein = \"LIP\"\n",
    "kind = \"AT\"\n",
    "\n",
    "data_path = f\"../data/mgf/190318_{protein}_{kind}_50x_05.mgf\"\n",
    "\n",
    "print(f\"Loading scans from {data_path}...\")\n",
    "scans = list(read_mgf(data_path))\n",
    "\n",
    "print(len(scans))"
   ],
   "metadata": {
    "collapsed": false,
    "pycharm": {
     "name": "#%%\n"
    }
   }
  },
  {
   "cell_type": "code",
   "execution_count": 103,
   "outputs": [
    {
     "name": "stdout",
     "output_type": "stream",
     "text": [
      "Loading precursors from ../out/precursor_matches/LIP_AT_segments=3_error=10ppm.pickle...\n"
     ]
    },
    {
     "data": {
      "text/plain": "67"
     },
     "execution_count": 103,
     "metadata": {},
     "output_type": "execute_result"
    }
   ],
   "source": [
    "precursor_matches = load_precursor_matches(protein, kind, 3, 10, None)\n",
    "len(precursor_matches)"
   ],
   "metadata": {
    "collapsed": false,
    "pycharm": {
     "name": "#%%\n"
    }
   }
  },
  {
   "cell_type": "code",
   "execution_count": 104,
   "outputs": [
    {
     "data": {
      "text/plain": "12"
     },
     "execution_count": 104,
     "metadata": {},
     "output_type": "execute_result"
    }
   ],
   "source": [
    "len([pm for pm in precursor_matches if pm[\"precursor\"].cys_bond_count == 0])\n"
   ],
   "metadata": {
    "collapsed": false,
    "pycharm": {
     "name": "#%%\n"
    }
   }
  },
  {
   "cell_type": "code",
   "execution_count": null,
   "outputs": [],
   "source": [
    "\n",
    "precursor_matches_df = pd.DataFrame(\n",
    "    [(pm[\"scan\"].to_dict() | pm[\"precursor\"].to_dict()) for pm in precursor_matches]\n",
    ")\n",
    "precursor_matches_df"
   ],
   "metadata": {
    "collapsed": false,
    "pycharm": {
     "name": "#%%\n"
    }
   }
  },
  {
   "cell_type": "code",
   "execution_count": 11,
   "outputs": [
    {
     "data": {
      "text/plain": "    scan_id  scan_nth_in_order      prec_mz  \\\n0      2414               1541   504.207861   \n1      2576               1696   504.207861   \n2      2993               2092   563.601507   \n3      3298               2383   877.417790   \n4      3948               3001   456.271644   \n..      ...                ...          ...   \n62    14468              12866  1375.322771   \n63    14545              12923  1375.322771   \n64    14616              12977  1375.322771   \n65    14627              12986  1031.744034   \n66    14703              13048  1375.322771   \n\n                             prec_sequence    prec_mass  prec_error  \\\n0                                 WDCVQCQK  1008.415722    1.261947   \n1                                 WDCVQCQK  1008.415722    0.898065   \n2                          SVVPGNKWDCVQCQK  1690.804521    0.966294   \n3                         SGTSNVQICTSEIETK  1754.835580    2.780792   \n4                                  TIYLVFR   912.543289    4.440225   \n..                                     ...          ...         ...   \n62  SVVPGNKWDCVQCQKWVPDGK+SGTSNVQICTSEIETK  4125.968312    8.603668   \n63  SVVPGNKWDCVQCQKWVPDGK+SGTSNVQICTSEIETK  4125.968312    9.047781   \n64  SVVPGNKWDCVQCQKWVPDGK+SGTSNVQICTSEIETK  4125.968312    9.314249   \n65  SVVPGNKWDCVQCQKWVPDGK+SGTSNVQICTSEIETK  4126.976137    8.038085   \n66  SVVPGNKWDCVQCQKWVPDGK+SGTSNVQICTSEIETK  4125.968312    8.958958   \n\n                  prec_mods  prec_cys_bond_count  prec_max_mc_count  \n0   [Disulphide Bond (–H2)]                    1                  0  \n1   [Disulphide Bond (–H2)]                    1                  0  \n2   [Disulphide Bond (–H2)]                    1                  1  \n3                        []                    0                  0  \n4                        []                    0                  0  \n..                      ...                  ...                ...  \n62                       []                    1                  2  \n63                       []                    1                  2  \n64                       []                    1                  2  \n65                       []                    1                  2  \n66                       []                    1                  2  \n\n[67 rows x 9 columns]",
      "text/html": "<div>\n<style scoped>\n    .dataframe tbody tr th:only-of-type {\n        vertical-align: middle;\n    }\n\n    .dataframe tbody tr th {\n        vertical-align: top;\n    }\n\n    .dataframe thead th {\n        text-align: right;\n    }\n</style>\n<table border=\"1\" class=\"dataframe\">\n  <thead>\n    <tr style=\"text-align: right;\">\n      <th></th>\n      <th>scan_id</th>\n      <th>scan_nth_in_order</th>\n      <th>prec_mz</th>\n      <th>prec_sequence</th>\n      <th>prec_mass</th>\n      <th>prec_error</th>\n      <th>prec_mods</th>\n      <th>prec_cys_bond_count</th>\n      <th>prec_max_mc_count</th>\n    </tr>\n  </thead>\n  <tbody>\n    <tr>\n      <th>0</th>\n      <td>2414</td>\n      <td>1541</td>\n      <td>504.207861</td>\n      <td>WDCVQCQK</td>\n      <td>1008.415722</td>\n      <td>1.261947</td>\n      <td>[Disulphide Bond (–H2)]</td>\n      <td>1</td>\n      <td>0</td>\n    </tr>\n    <tr>\n      <th>1</th>\n      <td>2576</td>\n      <td>1696</td>\n      <td>504.207861</td>\n      <td>WDCVQCQK</td>\n      <td>1008.415722</td>\n      <td>0.898065</td>\n      <td>[Disulphide Bond (–H2)]</td>\n      <td>1</td>\n      <td>0</td>\n    </tr>\n    <tr>\n      <th>2</th>\n      <td>2993</td>\n      <td>2092</td>\n      <td>563.601507</td>\n      <td>SVVPGNKWDCVQCQK</td>\n      <td>1690.804521</td>\n      <td>0.966294</td>\n      <td>[Disulphide Bond (–H2)]</td>\n      <td>1</td>\n      <td>1</td>\n    </tr>\n    <tr>\n      <th>3</th>\n      <td>3298</td>\n      <td>2383</td>\n      <td>877.417790</td>\n      <td>SGTSNVQICTSEIETK</td>\n      <td>1754.835580</td>\n      <td>2.780792</td>\n      <td>[]</td>\n      <td>0</td>\n      <td>0</td>\n    </tr>\n    <tr>\n      <th>4</th>\n      <td>3948</td>\n      <td>3001</td>\n      <td>456.271644</td>\n      <td>TIYLVFR</td>\n      <td>912.543289</td>\n      <td>4.440225</td>\n      <td>[]</td>\n      <td>0</td>\n      <td>0</td>\n    </tr>\n    <tr>\n      <th>...</th>\n      <td>...</td>\n      <td>...</td>\n      <td>...</td>\n      <td>...</td>\n      <td>...</td>\n      <td>...</td>\n      <td>...</td>\n      <td>...</td>\n      <td>...</td>\n    </tr>\n    <tr>\n      <th>62</th>\n      <td>14468</td>\n      <td>12866</td>\n      <td>1375.322771</td>\n      <td>SVVPGNKWDCVQCQKWVPDGK+SGTSNVQICTSEIETK</td>\n      <td>4125.968312</td>\n      <td>8.603668</td>\n      <td>[]</td>\n      <td>1</td>\n      <td>2</td>\n    </tr>\n    <tr>\n      <th>63</th>\n      <td>14545</td>\n      <td>12923</td>\n      <td>1375.322771</td>\n      <td>SVVPGNKWDCVQCQKWVPDGK+SGTSNVQICTSEIETK</td>\n      <td>4125.968312</td>\n      <td>9.047781</td>\n      <td>[]</td>\n      <td>1</td>\n      <td>2</td>\n    </tr>\n    <tr>\n      <th>64</th>\n      <td>14616</td>\n      <td>12977</td>\n      <td>1375.322771</td>\n      <td>SVVPGNKWDCVQCQKWVPDGK+SGTSNVQICTSEIETK</td>\n      <td>4125.968312</td>\n      <td>9.314249</td>\n      <td>[]</td>\n      <td>1</td>\n      <td>2</td>\n    </tr>\n    <tr>\n      <th>65</th>\n      <td>14627</td>\n      <td>12986</td>\n      <td>1031.744034</td>\n      <td>SVVPGNKWDCVQCQKWVPDGK+SGTSNVQICTSEIETK</td>\n      <td>4126.976137</td>\n      <td>8.038085</td>\n      <td>[]</td>\n      <td>1</td>\n      <td>2</td>\n    </tr>\n    <tr>\n      <th>66</th>\n      <td>14703</td>\n      <td>13048</td>\n      <td>1375.322771</td>\n      <td>SVVPGNKWDCVQCQKWVPDGK+SGTSNVQICTSEIETK</td>\n      <td>4125.968312</td>\n      <td>8.958958</td>\n      <td>[]</td>\n      <td>1</td>\n      <td>2</td>\n    </tr>\n  </tbody>\n</table>\n<p>67 rows × 9 columns</p>\n</div>"
     },
     "execution_count": 11,
     "metadata": {},
     "output_type": "execute_result"
    }
   ],
   "source": [
    "precursor_matches_df = precursor_matches_df[\n",
    "    [\n",
    "        \"scan_id\",\n",
    "        \"scan_nth_in_order\",\n",
    "        \"prec_mz\",\n",
    "        \"prec_sequence\",\n",
    "        \"prec_mass\",\n",
    "        \"prec_error\",\n",
    "        \"prec_mods\",\n",
    "        \"prec_cys_bond_count\",\n",
    "        \"prec_max_mc_count\",\n",
    "    ]\n",
    "]\n",
    "\n",
    "precursor_matches_df"
   ],
   "metadata": {
    "collapsed": false,
    "pycharm": {
     "name": "#%%\n"
    }
   }
  },
  {
   "cell_type": "code",
   "execution_count": 106,
   "outputs": [
    {
     "name": "stderr",
     "output_type": "stream",
     "text": [
      "Reading peptide spectrum matches:  96%|█████████▌| 22/23 [00:00<00:00, 41360.24it/s]\n"
     ]
    },
    {
     "data": {
      "text/plain": "       sir_id  spectrum_id                                      pe_id  \\\n0    SIR_4205   index=4204                      PepEv_103_TIYLVFR_103   \n1    SIR_1237   index=1236                         PepEv_74_WVPDGK_74   \n2    SIR_1096   index=1095                         PepEv_74_WVPDGK_74   \n3    SIR_4358   index=4357                      PepEv_103_TIYLVFR_103   \n4    SIR_6003   index=6002                       PepEv_66_WDCVQCQK_66   \n5    SIR_4986   index=4985                      PepEv_103_TIYLVFR_103   \n6    SIR_1417   index=1416                       PepEv_66_WDCVQCQK_66   \n7     SIR_108    index=107             PepEv_255_SGTSNVQICTSEIETK_255   \n8    SIR_2899   index=2898                       PepEv_66_WDCVQCQK_66   \n9    SIR_1419   index=1418                         PepEv_74_WVPDGK_74   \n10   SIR_2812   index=2811                PepEv_59_SVVPGNKWDCVQCQK_59   \n11   SIR_4841   index=4840                       PepEv_66_WDCVQCQK_66   \n12   SIR_3811   index=3810             PepEv_255_SGTSNVQICTSEIETK_255   \n13   SIR_3002   index=3001                      PepEv_103_TIYLVFR_103   \n14   SIR_8763   index=8762  PepEv_103_TIYLVFRGTNSFRSAITDIVFNFSDYK_103   \n15   SIR_1510   index=1509                    PepEv_48_YAGIAATAYCR_48   \n16    SIR_565    index=564                         PepEv_74_WVPDGK_74   \n17  SIR_10353  index=10352    PepEv_74_WVPDGKIITTFTSLLSDTNGYVLRSDK_74   \n18   SIR_4102   index=4101                    PepEv_48_YAGIAATAYCR_48   \n19   SIR_2662   index=2661                      PepEv_103_TIYLVFR_103   \n20   SIR_3717   index=3716                    PepEv_48_YAGIAATAYCR_48   \n21  SIR_10437  index=10436  PepEv_271_DCSNSIVPFTSILDHLSYFDINEGSCL_271   \n\n         sii_id  z                  mz             calc_mz  \\\n0    SII_4205_1  2   456.2720947265625   456.2710876464844   \n1    SII_1237_1  2  351.68731689453125   351.1844787597656   \n2    SII_1096_1  2     351.68701171875   351.1844787597656   \n3    SII_4358_1  2       456.271484375   456.2710876464844   \n4    SII_6003_1  2   562.7702026367188   562.2665405273438   \n5    SII_4986_1  2   456.7746887207031   456.2710876464844   \n6    SII_1417_1  2    562.269775390625   562.2665405273438   \n7     SII_108_1  3    585.629638671875   585.2905883789062   \n8    SII_2899_1  2   562.2631225585938   562.2665405273438   \n9    SII_1419_1  2    351.682861328125   351.1844787597656   \n10   SII_2812_1  3   602.3087158203125     602.30712890625   \n11   SII_4841_1  2   562.7676391601562   562.2665405273438   \n12   SII_3811_1  3   585.2852783203125   585.2905883789062   \n13   SII_3002_1  2   456.2696228027344   456.2710876464844   \n14   SII_8763_1  3   1058.887451171875   1058.880126953125   \n15   SII_1510_1  3   406.5445556640625  406.20745849609375   \n16    SII_565_1  2   351.6828918457031   351.1844787597656   \n17  SII_10353_1  2  1513.7860107421875  1513.7952880859375   \n18   SII_4102_1  2   609.3040161132812   608.8075561523438   \n19   SII_2662_1  2   456.7746276855469   456.2710876464844   \n20   SII_3717_1  2   608.8126831054688   608.8075561523438   \n21  SII_10437_1  3  1035.4920654296875   1035.158935546875   \n\n                             pep_id pass_threshold rank MS-GF:RawScore  \\\n0                       Pep_TIYLVFR           true    1             72   \n1                        Pep_WVPDGK           true    1             59   \n2                        Pep_WVPDGK           true    1             64   \n3                       Pep_TIYLVFR           true    1             51   \n4                      Pep_WDCVQCQK           true    1            -12   \n5                       Pep_TIYLVFR           true    1            -17   \n6                      Pep_WDCVQCQK           true    1            -14   \n7              Pep_SGTSNVQICTSEIETK           true    1            -33   \n8                      Pep_WDCVQCQK           true    1            -15   \n9                        Pep_WVPDGK           true    1             16   \n10              Pep_SVVPGNKWDCVQCQK           true    1            -28   \n11                     Pep_WDCVQCQK           true    1            -25   \n12             Pep_SGTSNVQICTSEIETK           true    1            -35   \n13                      Pep_TIYLVFR           true    1            -17   \n14  Pep_TIYLVFRGTNSFRSAITDIVFNFSDYK           true    1            -82   \n15                  Pep_YAGIAATAYCR           true    1            -31   \n16                       Pep_WVPDGK           true    1            -15   \n17  Pep_WVPDGKIITTFTSLLSDTNGYVLRSDK           true    1           -129   \n18                  Pep_YAGIAATAYCR           true    1            -38   \n19                      Pep_TIYLVFR           true    1            -30   \n20                  Pep_YAGIAATAYCR           true    1            -48   \n21  Pep_DCSNSIVPFTSILDHLSYFDINEGSCL           true    1            -90   \n\n   MS-GF:DeNovoScore MS-GF:SpecEValue  MS-GF:EValue  \n0                 72     6.009203E-10  1.7847334E-7  \n1                 59     1.0067963E-9   2.990185E-7  \n2                 65     1.2406985E-9  3.6848746E-7  \n3                 55     1.5642085E-9  4.6456992E-7  \n4                 12      3.449692E-7  1.0245586E-4  \n5                  4     2.7344875E-6   8.121428E-4  \n6                 29     6.9427133E-6   0.002061986  \n7                 14     1.1430891E-5  0.0033949746  \n8                 61     1.7894687E-5   0.005314722  \n9                 65     1.7998183E-5  0.0053454605  \n10                40       3.48081E-5   0.010338006  \n11                32     4.0139148E-5   0.011921328  \n12                26     5.9887585E-5   0.017786613  \n13                45     6.5250715E-5   0.019379463  \n14                 3     1.1379523E-4   0.033797182  \n15                22       2.25338E-4   0.066925384  \n16                45      3.994347E-4    0.11863211  \n17                 2     5.2775955E-4    0.15674458  \n18                64     5.4799265E-4    0.16275382  \n19                79      7.669019E-4    0.22776985  \n20                71     0.0016101734     0.4782215  \n21                29     0.0022014636     0.6538347  ",
      "text/html": "<div>\n<style scoped>\n    .dataframe tbody tr th:only-of-type {\n        vertical-align: middle;\n    }\n\n    .dataframe tbody tr th {\n        vertical-align: top;\n    }\n\n    .dataframe thead th {\n        text-align: right;\n    }\n</style>\n<table border=\"1\" class=\"dataframe\">\n  <thead>\n    <tr style=\"text-align: right;\">\n      <th></th>\n      <th>sir_id</th>\n      <th>spectrum_id</th>\n      <th>pe_id</th>\n      <th>sii_id</th>\n      <th>z</th>\n      <th>mz</th>\n      <th>calc_mz</th>\n      <th>pep_id</th>\n      <th>pass_threshold</th>\n      <th>rank</th>\n      <th>MS-GF:RawScore</th>\n      <th>MS-GF:DeNovoScore</th>\n      <th>MS-GF:SpecEValue</th>\n      <th>MS-GF:EValue</th>\n    </tr>\n  </thead>\n  <tbody>\n    <tr>\n      <th>0</th>\n      <td>SIR_4205</td>\n      <td>index=4204</td>\n      <td>PepEv_103_TIYLVFR_103</td>\n      <td>SII_4205_1</td>\n      <td>2</td>\n      <td>456.2720947265625</td>\n      <td>456.2710876464844</td>\n      <td>Pep_TIYLVFR</td>\n      <td>true</td>\n      <td>1</td>\n      <td>72</td>\n      <td>72</td>\n      <td>6.009203E-10</td>\n      <td>1.7847334E-7</td>\n    </tr>\n    <tr>\n      <th>1</th>\n      <td>SIR_1237</td>\n      <td>index=1236</td>\n      <td>PepEv_74_WVPDGK_74</td>\n      <td>SII_1237_1</td>\n      <td>2</td>\n      <td>351.68731689453125</td>\n      <td>351.1844787597656</td>\n      <td>Pep_WVPDGK</td>\n      <td>true</td>\n      <td>1</td>\n      <td>59</td>\n      <td>59</td>\n      <td>1.0067963E-9</td>\n      <td>2.990185E-7</td>\n    </tr>\n    <tr>\n      <th>2</th>\n      <td>SIR_1096</td>\n      <td>index=1095</td>\n      <td>PepEv_74_WVPDGK_74</td>\n      <td>SII_1096_1</td>\n      <td>2</td>\n      <td>351.68701171875</td>\n      <td>351.1844787597656</td>\n      <td>Pep_WVPDGK</td>\n      <td>true</td>\n      <td>1</td>\n      <td>64</td>\n      <td>65</td>\n      <td>1.2406985E-9</td>\n      <td>3.6848746E-7</td>\n    </tr>\n    <tr>\n      <th>3</th>\n      <td>SIR_4358</td>\n      <td>index=4357</td>\n      <td>PepEv_103_TIYLVFR_103</td>\n      <td>SII_4358_1</td>\n      <td>2</td>\n      <td>456.271484375</td>\n      <td>456.2710876464844</td>\n      <td>Pep_TIYLVFR</td>\n      <td>true</td>\n      <td>1</td>\n      <td>51</td>\n      <td>55</td>\n      <td>1.5642085E-9</td>\n      <td>4.6456992E-7</td>\n    </tr>\n    <tr>\n      <th>4</th>\n      <td>SIR_6003</td>\n      <td>index=6002</td>\n      <td>PepEv_66_WDCVQCQK_66</td>\n      <td>SII_6003_1</td>\n      <td>2</td>\n      <td>562.7702026367188</td>\n      <td>562.2665405273438</td>\n      <td>Pep_WDCVQCQK</td>\n      <td>true</td>\n      <td>1</td>\n      <td>-12</td>\n      <td>12</td>\n      <td>3.449692E-7</td>\n      <td>1.0245586E-4</td>\n    </tr>\n    <tr>\n      <th>5</th>\n      <td>SIR_4986</td>\n      <td>index=4985</td>\n      <td>PepEv_103_TIYLVFR_103</td>\n      <td>SII_4986_1</td>\n      <td>2</td>\n      <td>456.7746887207031</td>\n      <td>456.2710876464844</td>\n      <td>Pep_TIYLVFR</td>\n      <td>true</td>\n      <td>1</td>\n      <td>-17</td>\n      <td>4</td>\n      <td>2.7344875E-6</td>\n      <td>8.121428E-4</td>\n    </tr>\n    <tr>\n      <th>6</th>\n      <td>SIR_1417</td>\n      <td>index=1416</td>\n      <td>PepEv_66_WDCVQCQK_66</td>\n      <td>SII_1417_1</td>\n      <td>2</td>\n      <td>562.269775390625</td>\n      <td>562.2665405273438</td>\n      <td>Pep_WDCVQCQK</td>\n      <td>true</td>\n      <td>1</td>\n      <td>-14</td>\n      <td>29</td>\n      <td>6.9427133E-6</td>\n      <td>0.002061986</td>\n    </tr>\n    <tr>\n      <th>7</th>\n      <td>SIR_108</td>\n      <td>index=107</td>\n      <td>PepEv_255_SGTSNVQICTSEIETK_255</td>\n      <td>SII_108_1</td>\n      <td>3</td>\n      <td>585.629638671875</td>\n      <td>585.2905883789062</td>\n      <td>Pep_SGTSNVQICTSEIETK</td>\n      <td>true</td>\n      <td>1</td>\n      <td>-33</td>\n      <td>14</td>\n      <td>1.1430891E-5</td>\n      <td>0.0033949746</td>\n    </tr>\n    <tr>\n      <th>8</th>\n      <td>SIR_2899</td>\n      <td>index=2898</td>\n      <td>PepEv_66_WDCVQCQK_66</td>\n      <td>SII_2899_1</td>\n      <td>2</td>\n      <td>562.2631225585938</td>\n      <td>562.2665405273438</td>\n      <td>Pep_WDCVQCQK</td>\n      <td>true</td>\n      <td>1</td>\n      <td>-15</td>\n      <td>61</td>\n      <td>1.7894687E-5</td>\n      <td>0.005314722</td>\n    </tr>\n    <tr>\n      <th>9</th>\n      <td>SIR_1419</td>\n      <td>index=1418</td>\n      <td>PepEv_74_WVPDGK_74</td>\n      <td>SII_1419_1</td>\n      <td>2</td>\n      <td>351.682861328125</td>\n      <td>351.1844787597656</td>\n      <td>Pep_WVPDGK</td>\n      <td>true</td>\n      <td>1</td>\n      <td>16</td>\n      <td>65</td>\n      <td>1.7998183E-5</td>\n      <td>0.0053454605</td>\n    </tr>\n    <tr>\n      <th>10</th>\n      <td>SIR_2812</td>\n      <td>index=2811</td>\n      <td>PepEv_59_SVVPGNKWDCVQCQK_59</td>\n      <td>SII_2812_1</td>\n      <td>3</td>\n      <td>602.3087158203125</td>\n      <td>602.30712890625</td>\n      <td>Pep_SVVPGNKWDCVQCQK</td>\n      <td>true</td>\n      <td>1</td>\n      <td>-28</td>\n      <td>40</td>\n      <td>3.48081E-5</td>\n      <td>0.010338006</td>\n    </tr>\n    <tr>\n      <th>11</th>\n      <td>SIR_4841</td>\n      <td>index=4840</td>\n      <td>PepEv_66_WDCVQCQK_66</td>\n      <td>SII_4841_1</td>\n      <td>2</td>\n      <td>562.7676391601562</td>\n      <td>562.2665405273438</td>\n      <td>Pep_WDCVQCQK</td>\n      <td>true</td>\n      <td>1</td>\n      <td>-25</td>\n      <td>32</td>\n      <td>4.0139148E-5</td>\n      <td>0.011921328</td>\n    </tr>\n    <tr>\n      <th>12</th>\n      <td>SIR_3811</td>\n      <td>index=3810</td>\n      <td>PepEv_255_SGTSNVQICTSEIETK_255</td>\n      <td>SII_3811_1</td>\n      <td>3</td>\n      <td>585.2852783203125</td>\n      <td>585.2905883789062</td>\n      <td>Pep_SGTSNVQICTSEIETK</td>\n      <td>true</td>\n      <td>1</td>\n      <td>-35</td>\n      <td>26</td>\n      <td>5.9887585E-5</td>\n      <td>0.017786613</td>\n    </tr>\n    <tr>\n      <th>13</th>\n      <td>SIR_3002</td>\n      <td>index=3001</td>\n      <td>PepEv_103_TIYLVFR_103</td>\n      <td>SII_3002_1</td>\n      <td>2</td>\n      <td>456.2696228027344</td>\n      <td>456.2710876464844</td>\n      <td>Pep_TIYLVFR</td>\n      <td>true</td>\n      <td>1</td>\n      <td>-17</td>\n      <td>45</td>\n      <td>6.5250715E-5</td>\n      <td>0.019379463</td>\n    </tr>\n    <tr>\n      <th>14</th>\n      <td>SIR_8763</td>\n      <td>index=8762</td>\n      <td>PepEv_103_TIYLVFRGTNSFRSAITDIVFNFSDYK_103</td>\n      <td>SII_8763_1</td>\n      <td>3</td>\n      <td>1058.887451171875</td>\n      <td>1058.880126953125</td>\n      <td>Pep_TIYLVFRGTNSFRSAITDIVFNFSDYK</td>\n      <td>true</td>\n      <td>1</td>\n      <td>-82</td>\n      <td>3</td>\n      <td>1.1379523E-4</td>\n      <td>0.033797182</td>\n    </tr>\n    <tr>\n      <th>15</th>\n      <td>SIR_1510</td>\n      <td>index=1509</td>\n      <td>PepEv_48_YAGIAATAYCR_48</td>\n      <td>SII_1510_1</td>\n      <td>3</td>\n      <td>406.5445556640625</td>\n      <td>406.20745849609375</td>\n      <td>Pep_YAGIAATAYCR</td>\n      <td>true</td>\n      <td>1</td>\n      <td>-31</td>\n      <td>22</td>\n      <td>2.25338E-4</td>\n      <td>0.066925384</td>\n    </tr>\n    <tr>\n      <th>16</th>\n      <td>SIR_565</td>\n      <td>index=564</td>\n      <td>PepEv_74_WVPDGK_74</td>\n      <td>SII_565_1</td>\n      <td>2</td>\n      <td>351.6828918457031</td>\n      <td>351.1844787597656</td>\n      <td>Pep_WVPDGK</td>\n      <td>true</td>\n      <td>1</td>\n      <td>-15</td>\n      <td>45</td>\n      <td>3.994347E-4</td>\n      <td>0.11863211</td>\n    </tr>\n    <tr>\n      <th>17</th>\n      <td>SIR_10353</td>\n      <td>index=10352</td>\n      <td>PepEv_74_WVPDGKIITTFTSLLSDTNGYVLRSDK_74</td>\n      <td>SII_10353_1</td>\n      <td>2</td>\n      <td>1513.7860107421875</td>\n      <td>1513.7952880859375</td>\n      <td>Pep_WVPDGKIITTFTSLLSDTNGYVLRSDK</td>\n      <td>true</td>\n      <td>1</td>\n      <td>-129</td>\n      <td>2</td>\n      <td>5.2775955E-4</td>\n      <td>0.15674458</td>\n    </tr>\n    <tr>\n      <th>18</th>\n      <td>SIR_4102</td>\n      <td>index=4101</td>\n      <td>PepEv_48_YAGIAATAYCR_48</td>\n      <td>SII_4102_1</td>\n      <td>2</td>\n      <td>609.3040161132812</td>\n      <td>608.8075561523438</td>\n      <td>Pep_YAGIAATAYCR</td>\n      <td>true</td>\n      <td>1</td>\n      <td>-38</td>\n      <td>64</td>\n      <td>5.4799265E-4</td>\n      <td>0.16275382</td>\n    </tr>\n    <tr>\n      <th>19</th>\n      <td>SIR_2662</td>\n      <td>index=2661</td>\n      <td>PepEv_103_TIYLVFR_103</td>\n      <td>SII_2662_1</td>\n      <td>2</td>\n      <td>456.7746276855469</td>\n      <td>456.2710876464844</td>\n      <td>Pep_TIYLVFR</td>\n      <td>true</td>\n      <td>1</td>\n      <td>-30</td>\n      <td>79</td>\n      <td>7.669019E-4</td>\n      <td>0.22776985</td>\n    </tr>\n    <tr>\n      <th>20</th>\n      <td>SIR_3717</td>\n      <td>index=3716</td>\n      <td>PepEv_48_YAGIAATAYCR_48</td>\n      <td>SII_3717_1</td>\n      <td>2</td>\n      <td>608.8126831054688</td>\n      <td>608.8075561523438</td>\n      <td>Pep_YAGIAATAYCR</td>\n      <td>true</td>\n      <td>1</td>\n      <td>-48</td>\n      <td>71</td>\n      <td>0.0016101734</td>\n      <td>0.4782215</td>\n    </tr>\n    <tr>\n      <th>21</th>\n      <td>SIR_10437</td>\n      <td>index=10436</td>\n      <td>PepEv_271_DCSNSIVPFTSILDHLSYFDINEGSCL_271</td>\n      <td>SII_10437_1</td>\n      <td>3</td>\n      <td>1035.4920654296875</td>\n      <td>1035.158935546875</td>\n      <td>Pep_DCSNSIVPFTSILDHLSYFDINEGSCL</td>\n      <td>true</td>\n      <td>1</td>\n      <td>-90</td>\n      <td>29</td>\n      <td>0.0022014636</td>\n      <td>0.6538347</td>\n    </tr>\n  </tbody>\n</table>\n</div>"
     },
     "execution_count": 106,
     "metadata": {},
     "output_type": "execute_result"
    }
   ],
   "source": [
    "mgf_id = Mzid(\"../data/mgf/190318_LIP_AT_50x_05.mzid\")\n",
    "mgf_id.read_psm()\n",
    "msgf_matches_df = mgf_id.psm_df\n",
    "\n",
    "msgf_matches_df"
   ],
   "metadata": {
    "collapsed": false,
    "pycharm": {
     "name": "#%%\n"
    }
   }
  },
  {
   "cell_type": "code",
   "execution_count": 20,
   "outputs": [
    {
     "ename": "NameError",
     "evalue": "name 'compute_error' is not defined",
     "output_type": "error",
     "traceback": [
      "\u001B[0;31m---------------------------------------------------------------------------\u001B[0m",
      "\u001B[0;31mNameError\u001B[0m                                 Traceback (most recent call last)",
      "\u001B[0;32m<ipython-input-20-e7a75c6bdbb6>\u001B[0m in \u001B[0;36m<module>\u001B[0;34m\u001B[0m\n\u001B[1;32m      3\u001B[0m ]\n\u001B[1;32m      4\u001B[0m \u001B[0mmsgf_matches_df\u001B[0m\u001B[0;34m[\u001B[0m\u001B[0;34m\"pep_id\"\u001B[0m\u001B[0;34m]\u001B[0m \u001B[0;34m=\u001B[0m \u001B[0;34m[\u001B[0m\u001B[0ms\u001B[0m\u001B[0;34m.\u001B[0m\u001B[0mremoveprefix\u001B[0m\u001B[0;34m(\u001B[0m\u001B[0;34m\"Pep_\"\u001B[0m\u001B[0;34m)\u001B[0m \u001B[0;32mfor\u001B[0m \u001B[0ms\u001B[0m \u001B[0;32min\u001B[0m \u001B[0mmsgf_matches_df\u001B[0m\u001B[0;34m[\u001B[0m\u001B[0;34m\"pep_id\"\u001B[0m\u001B[0;34m]\u001B[0m\u001B[0;34m]\u001B[0m\u001B[0;34m\u001B[0m\u001B[0;34m\u001B[0m\u001B[0m\n\u001B[0;32m----> 5\u001B[0;31m msgf_matches_df[\"their_error_ppm\"] = [\n\u001B[0m\u001B[1;32m      6\u001B[0m     \u001B[0mcompute_error\u001B[0m\u001B[0;34m(\u001B[0m\u001B[0mfloat\u001B[0m\u001B[0;34m(\u001B[0m\u001B[0mreference\u001B[0m\u001B[0;34m)\u001B[0m\u001B[0;34m,\u001B[0m \u001B[0mfloat\u001B[0m\u001B[0;34m(\u001B[0m\u001B[0mmeasured\u001B[0m\u001B[0;34m)\u001B[0m\u001B[0;34m)\u001B[0m\u001B[0;34m\u001B[0m\u001B[0;34m\u001B[0m\u001B[0m\n\u001B[1;32m      7\u001B[0m     \u001B[0;32mfor\u001B[0m \u001B[0mreference\u001B[0m\u001B[0;34m,\u001B[0m \u001B[0mmeasured\u001B[0m \u001B[0;32min\u001B[0m \u001B[0mzip\u001B[0m\u001B[0;34m(\u001B[0m\u001B[0mmsgf_matches_df\u001B[0m\u001B[0;34m[\u001B[0m\u001B[0;34m\"calc_mz\"\u001B[0m\u001B[0;34m]\u001B[0m\u001B[0;34m,\u001B[0m \u001B[0mmsgf_matches_df\u001B[0m\u001B[0;34m[\u001B[0m\u001B[0;34m\"mz\"\u001B[0m\u001B[0;34m]\u001B[0m\u001B[0;34m)\u001B[0m\u001B[0;34m\u001B[0m\u001B[0;34m\u001B[0m\u001B[0m\n",
      "\u001B[0;32m<ipython-input-20-e7a75c6bdbb6>\u001B[0m in \u001B[0;36m<listcomp>\u001B[0;34m(.0)\u001B[0m\n\u001B[1;32m      4\u001B[0m \u001B[0mmsgf_matches_df\u001B[0m\u001B[0;34m[\u001B[0m\u001B[0;34m\"pep_id\"\u001B[0m\u001B[0;34m]\u001B[0m \u001B[0;34m=\u001B[0m \u001B[0;34m[\u001B[0m\u001B[0ms\u001B[0m\u001B[0;34m.\u001B[0m\u001B[0mremoveprefix\u001B[0m\u001B[0;34m(\u001B[0m\u001B[0;34m\"Pep_\"\u001B[0m\u001B[0;34m)\u001B[0m \u001B[0;32mfor\u001B[0m \u001B[0ms\u001B[0m \u001B[0;32min\u001B[0m \u001B[0mmsgf_matches_df\u001B[0m\u001B[0;34m[\u001B[0m\u001B[0;34m\"pep_id\"\u001B[0m\u001B[0;34m]\u001B[0m\u001B[0;34m]\u001B[0m\u001B[0;34m\u001B[0m\u001B[0;34m\u001B[0m\u001B[0m\n\u001B[1;32m      5\u001B[0m msgf_matches_df[\"their_error_ppm\"] = [\n\u001B[0;32m----> 6\u001B[0;31m     \u001B[0mcompute_error\u001B[0m\u001B[0;34m(\u001B[0m\u001B[0mfloat\u001B[0m\u001B[0;34m(\u001B[0m\u001B[0mreference\u001B[0m\u001B[0;34m)\u001B[0m\u001B[0;34m,\u001B[0m \u001B[0mfloat\u001B[0m\u001B[0;34m(\u001B[0m\u001B[0mmeasured\u001B[0m\u001B[0;34m)\u001B[0m\u001B[0;34m)\u001B[0m\u001B[0;34m\u001B[0m\u001B[0;34m\u001B[0m\u001B[0m\n\u001B[0m\u001B[1;32m      7\u001B[0m     \u001B[0;32mfor\u001B[0m \u001B[0mreference\u001B[0m\u001B[0;34m,\u001B[0m \u001B[0mmeasured\u001B[0m \u001B[0;32min\u001B[0m \u001B[0mzip\u001B[0m\u001B[0;34m(\u001B[0m\u001B[0mmsgf_matches_df\u001B[0m\u001B[0;34m[\u001B[0m\u001B[0;34m\"calc_mz\"\u001B[0m\u001B[0;34m]\u001B[0m\u001B[0;34m,\u001B[0m \u001B[0mmsgf_matches_df\u001B[0m\u001B[0;34m[\u001B[0m\u001B[0;34m\"mz\"\u001B[0m\u001B[0;34m]\u001B[0m\u001B[0;34m)\u001B[0m\u001B[0;34m\u001B[0m\u001B[0;34m\u001B[0m\u001B[0m\n\u001B[1;32m      8\u001B[0m ]\n",
      "\u001B[0;31mNameError\u001B[0m: name 'compute_error' is not defined"
     ]
    }
   ],
   "source": [
    "msgf_matches_df[\"spectrum_id\"] = [\n",
    "    int(s.removeprefix(\"index=\")) for s in msgf_matches_df[\"spectrum_id\"]\n",
    "]\n",
    "msgf_matches_df[\"pep_id\"] = [s.removeprefix(\"Pep_\") for s in msgf_matches_df[\"pep_id\"]]\n",
    "msgf_matches_df[\"their_error_ppm\"] = [\n",
    "    compute_error(float(reference), float(measured))\n",
    "    for reference, measured in zip(msgf_matches_df[\"calc_mz\"], msgf_matches_df[\"mz\"])\n",
    "]\n",
    "\n",
    "msgf_matches_df = msgf_matches_df[\n",
    "    [\"spectrum_id\", \"calc_mz\", \"pep_id\", \"their_error_ppm\"]\n",
    "]\n",
    "msgf_matches_df = msgf_matches_df.rename(\n",
    "    columns={\"pep_id\": \"their_sequence\", \"calc_mz\": \"their_mz\"}\n",
    ")\n",
    "msgf_matches_df = msgf_matches_df.set_index(\"spectrum_id\")\n",
    "msgf_matches_df"
   ],
   "metadata": {
    "collapsed": false,
    "pycharm": {
     "name": "#%%\n"
    }
   }
  },
  {
   "cell_type": "code",
   "execution_count": null,
   "outputs": [],
   "source": [
    "precursor_matches_df.join(msgf_matches_df, how=\"outer\").to_csv(\n",
    "    \"../out/my_vs_their_matches_rat.csv\"\n",
    ")"
   ],
   "metadata": {
    "collapsed": false,
    "pycharm": {
     "name": "#%%\n"
    }
   }
  }
 ],
 "metadata": {
  "kernelspec": {
   "display_name": "Python 3",
   "language": "python",
   "name": "python3"
  },
  "language_info": {
   "codemirror_mode": {
    "name": "ipython",
    "version": 2
   },
   "file_extension": ".py",
   "mimetype": "text/x-python",
   "name": "python",
   "nbconvert_exporter": "python",
   "pygments_lexer": "ipython2",
   "version": "2.7.6"
  }
 },
 "nbformat": 4,
 "nbformat_minor": 0
}
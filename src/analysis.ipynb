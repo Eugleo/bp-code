{
 "cells": [
  {
   "cell_type": "code",
   "execution_count": 12,
   "outputs": [
    {
     "data": {
      "text/plain": "<module 'protein' from '/Users/eugen/code/bp/bp-code/src/protein.py'>"
     },
     "execution_count": 12,
     "metadata": {},
     "output_type": "execute_result"
    }
   ],
   "source": [
    "import csv\n",
    "import itertools\n",
    "import os\n",
    "import pickle\n",
    "\n",
    "import tqdm\n",
    "\n",
    "import protein\n",
    "from protein import Protein, trypsin, pepsin, OXIDATION_MET, Peptide\n",
    "\n",
    "import measurement\n",
    "from measurement import read_mgf\n",
    "\n",
    "import pandas as pd\n",
    "import numpy as np\n",
    "\n",
    "from multiprocessing import Pool\n",
    "\n",
    "import importlib\n",
    "from pprint import pprint\n",
    "\n",
    "from pyteomics import mzid\n",
    "\n",
    "importlib.reload(measurement)\n",
    "importlib.reload(protein)\n"
   ],
   "metadata": {
    "collapsed": false,
    "pycharm": {
     "name": "#%%\n"
    }
   }
  },
  {
   "cell_type": "code",
   "execution_count": 2,
   "outputs": [],
   "source": [
    "MYST = \"KKLTKEGAAALCKMKHLADKVAKERSQELKDRTQNFAGYIEFELYRIDYWLEKLNGPKGRKDGYAKLSDSDIEKVKEIFNKAKDGITKQLPEAKKAGEEAGKLHTEVKKAAENARGQDLDDDTAKSTGLYRVLNWYCITKEERHNATPNCDGIQFRKHYLSVNRSAIDCSSTSYEENYDWSANALQVALNSWEDVKPKKLESAGSDKNCNIGQSSESHPCTMTEEWQTPYKETVEKLRELEDAYQRGKKAHDAMLGYANTAYAVNTKVEQEKPLTTGLEVLFQGPSAEPEA\"\n",
    "OVA = \"GSIGAASMEFCFDVFKELKVHHANENIFYCPIAIMSALAMVYLGAKDSTRTQINKVVRFDKLPGFGDSIEAQCGTSVNVHSSLRDILNQITKPNDVYSFSLASRLYAEERYPILPEYLQCVKELYRGGLEPINFQTAADQARELINSWVESQTNGIIRNVLQPSSVDSQTAMVLVNAIVFKGLWEKAFKDEDTQAMPFRVTEQESKPVQMMYQIGLFRVASMASEKMKILELPFASGTMSMLVLLPDEVSGLEQLESIINFEKLTEWTSSNVMEERKIKVYLPRMKMEEKYNLTSVLMAMGITDVFSSSANLSGISSAESLKISQAVHAAHAEINEAGREVVGSAEAGVDAASVSEEFRADHPFLFCIKHIATNAVLFFGRCVSP\"\n",
    "LYS = \"KVFGRCELAAAMKRHGLDNYRGYSLGNWVCAAKFESNFNTQATNRNTDGSTDYGILQINSRWWCNDGRTPGSRNLCNIPCSALLSSDITASVNCAKKIVSDGNGMNAWVAWRNRCKGTDVQAWIRGCRL\"\n",
    "BSA = \"DTHKSEIAHRFKDLGEEHFKGLVLIAFSQYLQQCPFDEHVKLVNELTEFAKTCVADESHAGCEKSLHTLFGDELCKVASLRETYGDMADCCEKQEPERNECFLSHKDDSPDLPKLKPDPNTLCDEFKADEKKFWGKYLYEIARRHPYFYAPELLYYANKYNGVFQECCQAEDKGACLLPKIETMREKVLTSSARQRLRCASIQKFGERALKAWSVARLSQKFPKAEFVEVTKLVTDLTKVHKECCHGDLLECADDRADLAKYICDNQDTISSKLKECCDKPLLEKSHCIAEVEKDAIPENLPPLTADFAEDKDVCKNYQEAKDAFLGSFLYEYSRRHPEYAVSVLLRLAKEYEATLEECCAKDDPHACYSTVFDKLKHLVDEPQNLIKQNCDQFEKLGEYGFQNALIVRYTRKVPQVSTPTLVEVSRSLGKVGTRCCTKPESERMPCTEDYLSLILNRLCVLHEKTPVSEKVTKCCTESLVNRRPCFSALTPDETYVPKAFDEKLFTFHADICTLPDTEKQIKKQTALVELLKHKPKATEEQLKTVMENFVAFVDKCCAADDKEACFAVEGPKLVVSTQTALA\"\n",
    "# LYS můstky\n",
    "# 6,127\n",
    "# VFGRCELAAA + WIRGCRL\n",
    "\n",
    "# 30,115\n",
    "# GNWVCAAKFE + WRNRCKGTDV\n",
    "\n",
    "# 64,80\n",
    "# SRWWCNDGRT + CNIPCSALLS\n",
    "# WWCNDGR+NLCNIPCSALLSSDITASVNCAK\n",
    "\n",
    "# 76,94\n",
    "# SRNLCNIPCS + ASVNCAKKIV\n",
    "\n",
    "# TODO\n",
    "# Protein Pilot\n",
    "# Paragon\n",
    "\n",
    "# AA tagy ze spektra"
   ],
   "metadata": {
    "collapsed": false,
    "pycharm": {
     "name": "#%%\n"
    }
   }
  },
  {
   "cell_type": "code",
   "execution_count": 3,
   "outputs": [],
   "source": [
    "measurements = list(read_mgf(\"../data/mgf/190318_LYS_AT_50x_05.mgf\"))"
   ],
   "metadata": {
    "collapsed": false,
    "pycharm": {
     "name": "#%%\n"
    }
   }
  },
  {
   "cell_type": "code",
   "execution_count": 5,
   "outputs": [
    {
     "data": {
      "text/plain": "[('K', (0, 1)),\n ('VFGR', (1, 5)),\n ('CELAAAMK', (5, 13)),\n ('R', (13, 14)),\n ('HGLDNYR', (14, 21)),\n ('GYSLGNWVCAAK', (21, 33)),\n ('FESNFNTQATNR', (33, 45)),\n ('NTDGSTDYGILQINSR', (45, 61)),\n ('WWCNDGR', (61, 68)),\n ('TPGSR', (68, 73)),\n ('NLCNIPCSALLSSDITASVNCAK', (73, 96)),\n ('K', (96, 97)),\n ('IVSDGNGMNAWVAWR', (97, 112)),\n ('NR', (112, 114)),\n ('CK', (114, 116)),\n ('GTDVQAWIR', (116, 125)),\n ('GCR', (125, 128)),\n ('L', (128, 129))]"
     },
     "execution_count": 5,
     "metadata": {},
     "output_type": "execute_result"
    }
   ],
   "source": [
    "[(LYS[b:e], (b, e)) for b, e in trypsin(LYS)]"
   ],
   "metadata": {
    "collapsed": false,
    "pycharm": {
     "name": "#%%\n"
    }
   }
  },
  {
   "cell_type": "code",
   "execution_count": 13,
   "outputs": [],
   "source": [
    "protein = Protein(LYS)\n",
    "peptides = list(protein.digest(trypsin, charges={1, 2, 3, 4, 5, 6}, mc=7))"
   ],
   "metadata": {
    "collapsed": false,
    "pycharm": {
     "name": "#%%\n"
    }
   }
  },
  {
   "cell_type": "code",
   "execution_count": 14,
   "outputs": [
    {
     "data": {
      "text/plain": "[<protein.Peptide at 0x140456850>,\n <protein.Peptide at 0x140456a60>,\n <protein.Peptide at 0x140460f10>,\n <protein.Peptide at 0x13d8adfd0>,\n <protein.Peptide at 0x13d892ee0>,\n <protein.Peptide at 0x13d955eb0>,\n <protein.Peptide at 0x13d955ee0>,\n <protein.Peptide at 0x13d955f10>,\n <protein.Peptide at 0x13d955f40>,\n <protein.Peptide at 0x13d955f70>,\n <protein.Peptide at 0x13d955fa0>,\n <protein.Peptide at 0x13d955fd0>,\n <protein.Peptide at 0x13d9d4040>,\n <protein.Peptide at 0x13d9d4070>,\n <protein.Peptide at 0x13d9d40a0>,\n <protein.Peptide at 0x13d9d40d0>,\n <protein.Peptide at 0x13d9d4100>,\n <protein.Peptide at 0x13d9d4130>,\n <protein.Peptide at 0x13d9d4160>,\n <protein.Peptide at 0x13d9d4190>,\n <protein.Peptide at 0x13d9d41c0>,\n <protein.Peptide at 0x13d9d41f0>,\n <protein.Peptide at 0x13d9d4220>,\n <protein.Peptide at 0x13d9d4250>,\n <protein.Peptide at 0x13d9d4280>,\n <protein.Peptide at 0x13d9d42b0>,\n <protein.Peptide at 0x13d9d42e0>,\n <protein.Peptide at 0x13d9d4310>,\n <protein.Peptide at 0x13d9d4340>,\n <protein.Peptide at 0x13d9d4370>,\n <protein.Peptide at 0x13d9d43a0>,\n <protein.Peptide at 0x13d9d43d0>,\n <protein.Peptide at 0x13d9d4400>,\n <protein.Peptide at 0x13d9d4430>,\n <protein.Peptide at 0x13d9d4460>,\n <protein.Peptide at 0x13d9d4490>,\n <protein.Peptide at 0x13d9d44c0>,\n <protein.Peptide at 0x13d9d44f0>,\n <protein.Peptide at 0x13d9d4520>,\n <protein.Peptide at 0x13d9d4550>,\n <protein.Peptide at 0x13d9d4580>,\n <protein.Peptide at 0x13d9d45b0>,\n <protein.Peptide at 0x13d9d45e0>,\n <protein.Peptide at 0x13d9d4610>,\n <protein.Peptide at 0x13d9d4640>,\n <protein.Peptide at 0x13d9d4670>,\n <protein.Peptide at 0x13d9d46a0>,\n <protein.Peptide at 0x13d9d46d0>,\n <protein.Peptide at 0x13d9d4700>,\n <protein.Peptide at 0x13d9d4730>,\n <protein.Peptide at 0x13d9d4760>,\n <protein.Peptide at 0x13d9d4790>,\n <protein.Peptide at 0x13d9d47c0>,\n <protein.Peptide at 0x13d9d47f0>,\n <protein.Peptide at 0x13d9d4820>,\n <protein.Peptide at 0x13d9d4850>,\n <protein.Peptide at 0x13d9d4880>,\n <protein.Peptide at 0x13d9d48b0>,\n <protein.Peptide at 0x13d9d48e0>,\n <protein.Peptide at 0x13d9d4910>,\n <protein.Peptide at 0x13d9d4940>,\n <protein.Peptide at 0x13d9d4970>,\n <protein.Peptide at 0x13d9d49a0>,\n <protein.Peptide at 0x13d9d49d0>,\n <protein.Peptide at 0x13d9d4a00>,\n <protein.Peptide at 0x13d9d4a30>,\n <protein.Peptide at 0x13d9d4a60>,\n <protein.Peptide at 0x13d9d4a90>,\n <protein.Peptide at 0x13d9d4ac0>,\n <protein.Peptide at 0x13d9d4af0>,\n <protein.Peptide at 0x13d9d4b20>,\n <protein.Peptide at 0x13d9d4b50>,\n <protein.Peptide at 0x13d9d4b80>,\n <protein.Peptide at 0x13d9d4bb0>,\n <protein.Peptide at 0x13d9d4be0>,\n <protein.Peptide at 0x13d9d4c10>,\n <protein.Peptide at 0x13d9d4c40>,\n <protein.Peptide at 0x13d9d4c70>,\n <protein.Peptide at 0x13d9d4ca0>,\n <protein.Peptide at 0x13d9d4cd0>,\n <protein.Peptide at 0x13d9d4d00>,\n <protein.Peptide at 0x13d9d4d30>,\n <protein.Peptide at 0x13d9d4d60>,\n <protein.Peptide at 0x13d9d4d90>,\n <protein.Peptide at 0x13d9d4dc0>,\n <protein.Peptide at 0x13d9d4df0>,\n <protein.Peptide at 0x13d9d4e20>,\n <protein.Peptide at 0x13d9d4e50>,\n <protein.Peptide at 0x13d9d4e80>,\n <protein.Peptide at 0x13d9d4eb0>,\n <protein.Peptide at 0x13d9d4ee0>,\n <protein.Peptide at 0x13d9d4f10>,\n <protein.Peptide at 0x13d9d4f40>,\n <protein.Peptide at 0x13d9d4f70>,\n <protein.Peptide at 0x13d9d4fa0>,\n <protein.Peptide at 0x13d9d4fd0>,\n <protein.Peptide at 0x13d9dd040>,\n <protein.Peptide at 0x13d9dd070>,\n <protein.Peptide at 0x13d9dd0a0>,\n <protein.Peptide at 0x13d9dd0d0>,\n <protein.Peptide at 0x13d9dd100>,\n <protein.Peptide at 0x13d9dd130>,\n <protein.Peptide at 0x13d9dd160>,\n <protein.Peptide at 0x13d9dd190>,\n <protein.Peptide at 0x13d9dd1c0>,\n <protein.Peptide at 0x13d9dd1f0>,\n <protein.Peptide at 0x13d9dd220>,\n <protein.Peptide at 0x13d9dd250>,\n <protein.Peptide at 0x13d9dd280>,\n <protein.Peptide at 0x13d9dd2b0>,\n <protein.Peptide at 0x13d9dd2e0>,\n <protein.Peptide at 0x13d9dd310>,\n <protein.Peptide at 0x13d9dd340>,\n <protein.Peptide at 0x13d9dd370>,\n <protein.Peptide at 0x13d9dd3a0>,\n <protein.Peptide at 0x13d9dd3d0>,\n <protein.Peptide at 0x13d9dd400>,\n <protein.Peptide at 0x13d9dd430>,\n <protein.Peptide at 0x13d9dd460>,\n <protein.Peptide at 0x13d9dd490>,\n <protein.Peptide at 0x13d9dd4c0>,\n <protein.Peptide at 0x13d9dd4f0>,\n <protein.Peptide at 0x13d9dd520>,\n <protein.Peptide at 0x13d9dd550>,\n <protein.Peptide at 0x13d9dd580>,\n <protein.Peptide at 0x13d9dd5b0>,\n <protein.Peptide at 0x13d9dd5e0>,\n <protein.Peptide at 0x13d9dd610>,\n <protein.Peptide at 0x13d9dd640>,\n <protein.Peptide at 0x13d9dd670>,\n <protein.Peptide at 0x13d9dd6a0>,\n <protein.Peptide at 0x13d9dd6d0>,\n <protein.Peptide at 0x13d9dd700>,\n <protein.Peptide at 0x13d9dd730>,\n <protein.Peptide at 0x13d9dd760>,\n <protein.Peptide at 0x13d9dd790>,\n <protein.Peptide at 0x13d9dd7c0>,\n <protein.Peptide at 0x13d9dd7f0>,\n <protein.Peptide at 0x13d9dd820>,\n <protein.Peptide at 0x13d9dd850>,\n <protein.Peptide at 0x13d9dd880>,\n <protein.Peptide at 0x13d9dd8b0>,\n <protein.Peptide at 0x13d9dd8e0>,\n <protein.Peptide at 0x13d9dd910>,\n <protein.Peptide at 0x13d9dd940>,\n <protein.Peptide at 0x13d9dd970>,\n <protein.Peptide at 0x13d9dd9a0>,\n <protein.Peptide at 0x13d9dd9d0>,\n <protein.Peptide at 0x13d9dda00>,\n <protein.Peptide at 0x13d9dda30>,\n <protein.Peptide at 0x13d9dda60>,\n <protein.Peptide at 0x13d9dda90>,\n <protein.Peptide at 0x13d9ddac0>,\n <protein.Peptide at 0x13d9ddaf0>,\n <protein.Peptide at 0x13d9ddb20>,\n <protein.Peptide at 0x13d9ddb50>,\n <protein.Peptide at 0x13d9ddb80>,\n <protein.Peptide at 0x13d9ddbb0>,\n <protein.Peptide at 0x13d9ddbe0>,\n <protein.Peptide at 0x13d9ddc10>,\n <protein.Peptide at 0x13d9ddc40>,\n <protein.Peptide at 0x13d9ddc70>,\n <protein.Peptide at 0x13d9ddca0>,\n <protein.Peptide at 0x13d9ddcd0>,\n <protein.Peptide at 0x13d9ddd00>,\n <protein.Peptide at 0x13d9ddd30>,\n <protein.Peptide at 0x13d9ddd60>,\n <protein.Peptide at 0x13d9ddd90>,\n <protein.Peptide at 0x13d9dddc0>,\n <protein.Peptide at 0x13d9dddf0>,\n <protein.Peptide at 0x13d9dde20>,\n <protein.Peptide at 0x13d9dde50>,\n <protein.Peptide at 0x13d9dde80>,\n <protein.Peptide at 0x13d9ddeb0>,\n <protein.Peptide at 0x13d9ddee0>,\n <protein.Peptide at 0x13d9ddf10>,\n <protein.Peptide at 0x13d9ddf40>,\n <protein.Peptide at 0x13d9ddf70>,\n <protein.Peptide at 0x13d9ddfa0>,\n <protein.Peptide at 0x13d9ddfd0>,\n <protein.Peptide at 0x13d9ea040>,\n <protein.Peptide at 0x13d9ea070>,\n <protein.Peptide at 0x13d9ea0a0>,\n <protein.Peptide at 0x13d9ea0d0>,\n <protein.Peptide at 0x13d9ea100>,\n <protein.Peptide at 0x13d9ea130>,\n <protein.Peptide at 0x13d9ea160>,\n <protein.Peptide at 0x13d9ea190>,\n <protein.Peptide at 0x13d9ea1c0>,\n <protein.Peptide at 0x13d9ea1f0>,\n <protein.Peptide at 0x13d9ea220>,\n <protein.Peptide at 0x13d9ea250>,\n <protein.Peptide at 0x13d9ea280>,\n <protein.Peptide at 0x13d9ea2b0>,\n <protein.Peptide at 0x13d9ea2e0>,\n <protein.Peptide at 0x13d9ea310>,\n <protein.Peptide at 0x13d9ea340>,\n <protein.Peptide at 0x13d9ea370>,\n <protein.Peptide at 0x13d9ea3a0>,\n <protein.Peptide at 0x13d9ea3d0>,\n <protein.Peptide at 0x13d9ea400>,\n <protein.Peptide at 0x13d9ea430>,\n <protein.Peptide at 0x13d9ea460>,\n <protein.Peptide at 0x13d9ea490>,\n <protein.Peptide at 0x13d9ea4c0>,\n <protein.Peptide at 0x13d9ea4f0>,\n <protein.Peptide at 0x13d9ea520>,\n <protein.Peptide at 0x13d9ea550>,\n <protein.Peptide at 0x13d9ea580>,\n <protein.Peptide at 0x13d9ea5b0>,\n <protein.Peptide at 0x13d9ea5e0>,\n <protein.Peptide at 0x13d9ea610>,\n <protein.Peptide at 0x13d9ea640>,\n <protein.Peptide at 0x13d9ea670>,\n <protein.Peptide at 0x13d9ea6a0>,\n <protein.Peptide at 0x13d9ea6d0>,\n <protein.Peptide at 0x13d9ea700>,\n <protein.Peptide at 0x13d9ea730>,\n <protein.Peptide at 0x13d9ea760>,\n <protein.Peptide at 0x13d9ea790>,\n <protein.Peptide at 0x13d9ea7c0>,\n <protein.Peptide at 0x13d9ea7f0>,\n <protein.Peptide at 0x13d9ea820>,\n <protein.Peptide at 0x13d9ea850>,\n <protein.Peptide at 0x13d9ea880>,\n <protein.Peptide at 0x13d9ea8b0>,\n <protein.Peptide at 0x13d9ea8e0>,\n <protein.Peptide at 0x13d9ea910>,\n <protein.Peptide at 0x13d9ea940>,\n <protein.Peptide at 0x13d9ea970>,\n <protein.Peptide at 0x13d9ea9a0>,\n <protein.Peptide at 0x13d9ea9d0>,\n <protein.Peptide at 0x13d9eaa00>,\n <protein.Peptide at 0x13d9eaa30>,\n <protein.Peptide at 0x13d9eaa60>,\n <protein.Peptide at 0x13d9eaa90>,\n <protein.Peptide at 0x13d9eaac0>,\n <protein.Peptide at 0x13d9eaaf0>,\n <protein.Peptide at 0x13d9eab20>,\n <protein.Peptide at 0x13d9eab50>,\n <protein.Peptide at 0x13d9eab80>,\n <protein.Peptide at 0x13d9eabb0>,\n <protein.Peptide at 0x13d9eabe0>,\n <protein.Peptide at 0x13d9eac10>,\n <protein.Peptide at 0x13d9eac40>,\n <protein.Peptide at 0x13d9eac70>,\n <protein.Peptide at 0x13d9eaca0>,\n <protein.Peptide at 0x13d9eacd0>,\n <protein.Peptide at 0x13d9ead00>,\n <protein.Peptide at 0x13d9ead30>,\n <protein.Peptide at 0x13d9ead60>,\n <protein.Peptide at 0x13d9ead90>,\n <protein.Peptide at 0x13d9eadc0>,\n <protein.Peptide at 0x13d9eadf0>,\n <protein.Peptide at 0x13d9eae20>,\n <protein.Peptide at 0x13d9eae50>,\n <protein.Peptide at 0x13d9eae80>,\n <protein.Peptide at 0x13d9eaeb0>,\n <protein.Peptide at 0x13d9eaee0>,\n <protein.Peptide at 0x13d9eaf10>,\n <protein.Peptide at 0x13d9eaf40>,\n <protein.Peptide at 0x13d9eaf70>,\n <protein.Peptide at 0x13d9eafa0>,\n <protein.Peptide at 0x13d9eafd0>,\n <protein.Peptide at 0x13d9f6040>,\n <protein.Peptide at 0x13d9f6070>,\n <protein.Peptide at 0x13d9f60a0>,\n <protein.Peptide at 0x13d9f60d0>,\n <protein.Peptide at 0x13d9f6100>,\n <protein.Peptide at 0x13d9f6130>,\n <protein.Peptide at 0x13d9f6160>,\n <protein.Peptide at 0x13d9f6190>,\n <protein.Peptide at 0x13d9f61c0>,\n <protein.Peptide at 0x13d9f61f0>,\n <protein.Peptide at 0x13d9f6220>,\n <protein.Peptide at 0x13d9f6250>,\n <protein.Peptide at 0x13d9f6280>,\n <protein.Peptide at 0x13d9f62b0>,\n <protein.Peptide at 0x13d9f62e0>,\n <protein.Peptide at 0x13d9f6310>,\n <protein.Peptide at 0x13d9f6340>,\n <protein.Peptide at 0x13d9f6370>,\n <protein.Peptide at 0x13d9f63a0>,\n <protein.Peptide at 0x13d9f63d0>,\n <protein.Peptide at 0x13d9f6400>,\n <protein.Peptide at 0x13d9f6430>,\n <protein.Peptide at 0x13d9f6460>,\n <protein.Peptide at 0x13d9f6490>,\n <protein.Peptide at 0x13d9f64c0>,\n <protein.Peptide at 0x13d9f64f0>,\n <protein.Peptide at 0x13d9f6520>,\n <protein.Peptide at 0x13d9f6550>,\n <protein.Peptide at 0x13d9f6580>,\n <protein.Peptide at 0x13d9f65b0>,\n <protein.Peptide at 0x13d9f65e0>,\n <protein.Peptide at 0x13d9f6610>,\n <protein.Peptide at 0x13d9f6640>,\n <protein.Peptide at 0x13d9f6670>,\n <protein.Peptide at 0x13d9f66a0>,\n <protein.Peptide at 0x13d9f66d0>,\n <protein.Peptide at 0x13d9f6700>,\n <protein.Peptide at 0x13d9f6730>,\n <protein.Peptide at 0x13d9f6760>,\n <protein.Peptide at 0x13d9f6790>,\n <protein.Peptide at 0x13d9f67c0>,\n <protein.Peptide at 0x13d9f67f0>,\n <protein.Peptide at 0x13d9f6820>,\n <protein.Peptide at 0x13d9f6850>,\n <protein.Peptide at 0x13d9f6880>,\n <protein.Peptide at 0x13d9f68b0>,\n <protein.Peptide at 0x13d9f68e0>,\n <protein.Peptide at 0x13d9f6910>,\n <protein.Peptide at 0x13d9f6940>,\n <protein.Peptide at 0x13d9f6970>,\n <protein.Peptide at 0x13d9f69a0>,\n <protein.Peptide at 0x13d9f69d0>,\n <protein.Peptide at 0x13d9f6a00>,\n <protein.Peptide at 0x13d9f6a30>,\n <protein.Peptide at 0x13d9f6a60>,\n <protein.Peptide at 0x13d9f6a90>,\n <protein.Peptide at 0x13d9f6ac0>,\n <protein.Peptide at 0x13d9f6af0>,\n <protein.Peptide at 0x13d9f6b20>,\n <protein.Peptide at 0x13d9f6b50>,\n <protein.Peptide at 0x13d9f6b80>,\n <protein.Peptide at 0x13d9f6bb0>,\n <protein.Peptide at 0x13d9f6be0>,\n <protein.Peptide at 0x13d9f6c10>,\n <protein.Peptide at 0x13d9f6c40>,\n <protein.Peptide at 0x13d9f6c70>,\n <protein.Peptide at 0x13d9f6ca0>,\n <protein.Peptide at 0x13d9f6cd0>,\n <protein.Peptide at 0x13d9f6d00>,\n <protein.Peptide at 0x13d9f6d30>,\n <protein.Peptide at 0x13d9f6d60>,\n <protein.Peptide at 0x13d9f6d90>,\n <protein.Peptide at 0x13d9f6dc0>,\n <protein.Peptide at 0x13d9f6df0>,\n <protein.Peptide at 0x13d9f6e20>,\n <protein.Peptide at 0x13d9f6e50>,\n <protein.Peptide at 0x13d9f6e80>,\n <protein.Peptide at 0x13d9f6eb0>,\n <protein.Peptide at 0x13d9f6ee0>,\n <protein.Peptide at 0x13d9f6f10>,\n <protein.Peptide at 0x13d9f6f40>,\n <protein.Peptide at 0x13d9f6f70>,\n <protein.Peptide at 0x13d9f6fa0>,\n <protein.Peptide at 0x13d9f6fd0>,\n <protein.Peptide at 0x13da00040>,\n <protein.Peptide at 0x13da00070>,\n <protein.Peptide at 0x13da000a0>,\n <protein.Peptide at 0x13da000d0>,\n <protein.Peptide at 0x13da00100>,\n <protein.Peptide at 0x13da00130>,\n <protein.Peptide at 0x13da00160>,\n <protein.Peptide at 0x13da00190>,\n <protein.Peptide at 0x13da001c0>,\n <protein.Peptide at 0x13da001f0>,\n <protein.Peptide at 0x13da00220>,\n <protein.Peptide at 0x13da00250>,\n <protein.Peptide at 0x13da00280>,\n <protein.Peptide at 0x13da002b0>,\n <protein.Peptide at 0x13da002e0>,\n <protein.Peptide at 0x13da00310>,\n <protein.Peptide at 0x13da00340>,\n <protein.Peptide at 0x13da00370>,\n <protein.Peptide at 0x13da003a0>,\n <protein.Peptide at 0x13da003d0>,\n <protein.Peptide at 0x13da00400>,\n <protein.Peptide at 0x13da00430>,\n <protein.Peptide at 0x13da00460>,\n <protein.Peptide at 0x13da00490>,\n <protein.Peptide at 0x13da004c0>,\n <protein.Peptide at 0x13da004f0>,\n <protein.Peptide at 0x13da00520>,\n <protein.Peptide at 0x13da00550>,\n <protein.Peptide at 0x13da00580>,\n <protein.Peptide at 0x13da005b0>,\n <protein.Peptide at 0x13da005e0>,\n <protein.Peptide at 0x13da00610>,\n <protein.Peptide at 0x13da00640>,\n <protein.Peptide at 0x13da00670>,\n <protein.Peptide at 0x13da006a0>,\n <protein.Peptide at 0x13da006d0>,\n <protein.Peptide at 0x13da00700>,\n <protein.Peptide at 0x13da00730>,\n <protein.Peptide at 0x13da00760>,\n <protein.Peptide at 0x13da00790>,\n <protein.Peptide at 0x13da007c0>,\n <protein.Peptide at 0x13da007f0>,\n <protein.Peptide at 0x13da00820>,\n <protein.Peptide at 0x13da00850>,\n <protein.Peptide at 0x13da00880>,\n <protein.Peptide at 0x13da008b0>,\n <protein.Peptide at 0x13da008e0>,\n <protein.Peptide at 0x13da00910>,\n <protein.Peptide at 0x13da00940>,\n <protein.Peptide at 0x13da00970>,\n <protein.Peptide at 0x13da009a0>,\n <protein.Peptide at 0x13da009d0>,\n <protein.Peptide at 0x13da00a00>,\n <protein.Peptide at 0x13da00a30>,\n <protein.Peptide at 0x13da00a60>,\n <protein.Peptide at 0x13da00a90>,\n <protein.Peptide at 0x13da00ac0>,\n <protein.Peptide at 0x13da00af0>,\n <protein.Peptide at 0x13da00b20>,\n <protein.Peptide at 0x13da00b50>,\n <protein.Peptide at 0x13da00b80>,\n <protein.Peptide at 0x13da00bb0>,\n <protein.Peptide at 0x13da00be0>,\n <protein.Peptide at 0x13da00c10>,\n <protein.Peptide at 0x13da00c40>,\n <protein.Peptide at 0x13da00c70>,\n <protein.Peptide at 0x13da00ca0>,\n <protein.Peptide at 0x13da00cd0>,\n <protein.Peptide at 0x13da00d00>,\n <protein.Peptide at 0x13da00d30>,\n <protein.Peptide at 0x13da00d60>,\n <protein.Peptide at 0x13da00d90>,\n <protein.Peptide at 0x13da00dc0>,\n <protein.Peptide at 0x13da00df0>,\n <protein.Peptide at 0x13da00e20>,\n <protein.Peptide at 0x13da00e50>,\n <protein.Peptide at 0x13da00e80>,\n <protein.Peptide at 0x13da00eb0>,\n <protein.Peptide at 0x13da00ee0>,\n <protein.Peptide at 0x13da00f10>,\n <protein.Peptide at 0x13da00f40>,\n <protein.Peptide at 0x13da00f70>,\n <protein.Peptide at 0x13da00fa0>,\n <protein.Peptide at 0x13da00fd0>,\n <protein.Peptide at 0x13da0d040>,\n <protein.Peptide at 0x13da0d070>,\n <protein.Peptide at 0x13da0d0a0>,\n <protein.Peptide at 0x13da0d0d0>,\n <protein.Peptide at 0x13da0d100>,\n <protein.Peptide at 0x13da0d130>,\n <protein.Peptide at 0x13da0d160>,\n <protein.Peptide at 0x13da0d190>,\n <protein.Peptide at 0x13da0d1c0>,\n <protein.Peptide at 0x13da0d1f0>,\n <protein.Peptide at 0x13da0d220>,\n <protein.Peptide at 0x13da0d250>,\n <protein.Peptide at 0x13da0d280>,\n <protein.Peptide at 0x13da0d2b0>,\n <protein.Peptide at 0x13da0d2e0>,\n <protein.Peptide at 0x13da0d310>,\n <protein.Peptide at 0x13da0d340>,\n <protein.Peptide at 0x13da0d370>,\n <protein.Peptide at 0x13da0d3a0>,\n <protein.Peptide at 0x13da0d3d0>,\n <protein.Peptide at 0x13da0d400>,\n <protein.Peptide at 0x13da0d430>,\n <protein.Peptide at 0x13da0d460>,\n <protein.Peptide at 0x13da0d490>,\n <protein.Peptide at 0x13da0d4c0>,\n <protein.Peptide at 0x13da0d4f0>,\n <protein.Peptide at 0x13da0d520>,\n <protein.Peptide at 0x13da0d550>,\n <protein.Peptide at 0x13da0d580>,\n <protein.Peptide at 0x13da0d5b0>,\n <protein.Peptide at 0x13da0d5e0>,\n <protein.Peptide at 0x13da0d610>,\n <protein.Peptide at 0x13da0d640>,\n <protein.Peptide at 0x13da0d670>,\n <protein.Peptide at 0x13da0d6a0>,\n <protein.Peptide at 0x13da0d6d0>,\n <protein.Peptide at 0x13da0d700>,\n <protein.Peptide at 0x13da0d730>,\n <protein.Peptide at 0x13da0d760>,\n <protein.Peptide at 0x13da0d790>,\n <protein.Peptide at 0x13da0d7c0>,\n <protein.Peptide at 0x13da0d7f0>,\n <protein.Peptide at 0x13da0d820>,\n <protein.Peptide at 0x13da0d850>,\n <protein.Peptide at 0x13da0d880>,\n <protein.Peptide at 0x13da0d8b0>,\n <protein.Peptide at 0x13da0d8e0>,\n <protein.Peptide at 0x13da0d910>,\n <protein.Peptide at 0x13da0d940>,\n <protein.Peptide at 0x13da0d970>,\n <protein.Peptide at 0x13da0d9a0>,\n <protein.Peptide at 0x13da0d9d0>,\n <protein.Peptide at 0x13da0da00>,\n <protein.Peptide at 0x13da0da30>,\n <protein.Peptide at 0x13da0da60>,\n <protein.Peptide at 0x13da0da90>,\n <protein.Peptide at 0x13da0dac0>,\n <protein.Peptide at 0x13da0daf0>,\n <protein.Peptide at 0x13da0db20>,\n <protein.Peptide at 0x13da0db50>,\n <protein.Peptide at 0x13da0db80>,\n <protein.Peptide at 0x13da0dbb0>,\n <protein.Peptide at 0x13da0dbe0>,\n <protein.Peptide at 0x13da0dc10>,\n <protein.Peptide at 0x13da0dc40>,\n <protein.Peptide at 0x13da0dc70>,\n <protein.Peptide at 0x13da0dca0>,\n <protein.Peptide at 0x13da0dcd0>,\n <protein.Peptide at 0x13da0dd00>,\n <protein.Peptide at 0x13da0dd30>,\n <protein.Peptide at 0x13da0dd60>,\n <protein.Peptide at 0x13da0dd90>,\n <protein.Peptide at 0x13da0ddc0>,\n <protein.Peptide at 0x13da0ddf0>,\n <protein.Peptide at 0x13da0de20>,\n <protein.Peptide at 0x13da0de50>,\n <protein.Peptide at 0x13da0de80>,\n <protein.Peptide at 0x13da0deb0>,\n <protein.Peptide at 0x13da0dee0>,\n <protein.Peptide at 0x13da0df10>,\n <protein.Peptide at 0x13da0df40>,\n <protein.Peptide at 0x13da0df70>,\n <protein.Peptide at 0x13da0dfa0>,\n <protein.Peptide at 0x13da0dfd0>,\n <protein.Peptide at 0x13da19040>,\n <protein.Peptide at 0x13da19070>,\n <protein.Peptide at 0x13da190a0>,\n <protein.Peptide at 0x13da190d0>,\n <protein.Peptide at 0x13da19100>,\n <protein.Peptide at 0x13da19130>,\n <protein.Peptide at 0x13da19160>,\n <protein.Peptide at 0x13da19190>,\n <protein.Peptide at 0x13da191c0>,\n <protein.Peptide at 0x13da191f0>,\n <protein.Peptide at 0x13da19220>,\n <protein.Peptide at 0x13da19250>,\n <protein.Peptide at 0x13da19280>,\n <protein.Peptide at 0x13da192b0>,\n <protein.Peptide at 0x13da192e0>,\n <protein.Peptide at 0x13da19310>,\n <protein.Peptide at 0x13da19340>,\n <protein.Peptide at 0x13da19370>,\n <protein.Peptide at 0x13da193a0>,\n <protein.Peptide at 0x13da193d0>,\n <protein.Peptide at 0x13da19400>,\n <protein.Peptide at 0x13da19430>,\n <protein.Peptide at 0x13da19460>,\n <protein.Peptide at 0x13da19490>,\n <protein.Peptide at 0x13da194c0>,\n <protein.Peptide at 0x13da194f0>,\n <protein.Peptide at 0x13da19520>,\n <protein.Peptide at 0x13da19550>,\n <protein.Peptide at 0x13da19580>,\n <protein.Peptide at 0x13da195b0>,\n <protein.Peptide at 0x13da195e0>,\n <protein.Peptide at 0x13da19610>,\n <protein.Peptide at 0x13da19640>,\n <protein.Peptide at 0x13da19670>,\n <protein.Peptide at 0x13da196a0>,\n <protein.Peptide at 0x13da196d0>,\n <protein.Peptide at 0x13da19700>,\n <protein.Peptide at 0x13da19730>,\n <protein.Peptide at 0x13da19760>,\n <protein.Peptide at 0x13da19790>,\n <protein.Peptide at 0x13da197c0>,\n <protein.Peptide at 0x13da197f0>,\n <protein.Peptide at 0x13da19820>,\n <protein.Peptide at 0x13da19850>,\n <protein.Peptide at 0x13da19880>,\n <protein.Peptide at 0x13da198b0>,\n <protein.Peptide at 0x13da198e0>,\n <protein.Peptide at 0x13da19910>,\n <protein.Peptide at 0x13da19940>,\n <protein.Peptide at 0x13da19970>,\n <protein.Peptide at 0x13da199a0>,\n <protein.Peptide at 0x13da199d0>,\n <protein.Peptide at 0x13da19a00>,\n <protein.Peptide at 0x13da19a30>,\n <protein.Peptide at 0x13da19a60>,\n <protein.Peptide at 0x13da19a90>,\n <protein.Peptide at 0x13da19ac0>,\n <protein.Peptide at 0x13da19af0>,\n <protein.Peptide at 0x13da19b20>,\n <protein.Peptide at 0x13da19b50>,\n <protein.Peptide at 0x13da19b80>,\n <protein.Peptide at 0x13da19bb0>,\n <protein.Peptide at 0x13da19be0>,\n <protein.Peptide at 0x13da19c10>,\n <protein.Peptide at 0x13da19c40>,\n <protein.Peptide at 0x13da19c70>,\n <protein.Peptide at 0x13da19ca0>,\n <protein.Peptide at 0x13da19cd0>,\n <protein.Peptide at 0x13da19d00>,\n <protein.Peptide at 0x13da19d30>,\n <protein.Peptide at 0x13da19d60>,\n <protein.Peptide at 0x13da19d90>,\n <protein.Peptide at 0x13da19dc0>,\n <protein.Peptide at 0x13da19df0>,\n <protein.Peptide at 0x13da19e20>,\n <protein.Peptide at 0x13da19e50>,\n <protein.Peptide at 0x13da19e80>,\n <protein.Peptide at 0x13da19eb0>,\n <protein.Peptide at 0x13da19ee0>,\n <protein.Peptide at 0x13da19f10>,\n <protein.Peptide at 0x13da19f40>,\n <protein.Peptide at 0x13da19f70>,\n <protein.Peptide at 0x13da19fa0>,\n <protein.Peptide at 0x13da19fd0>,\n <protein.Peptide at 0x13da23040>,\n <protein.Peptide at 0x13da23070>,\n <protein.Peptide at 0x13da230a0>,\n <protein.Peptide at 0x13da230d0>,\n <protein.Peptide at 0x13da23100>,\n <protein.Peptide at 0x13da23130>,\n <protein.Peptide at 0x13da23160>,\n <protein.Peptide at 0x13da23190>,\n <protein.Peptide at 0x13da231c0>,\n <protein.Peptide at 0x13da231f0>,\n <protein.Peptide at 0x13da23220>,\n <protein.Peptide at 0x13da23250>,\n <protein.Peptide at 0x13da23280>,\n <protein.Peptide at 0x13da232b0>,\n <protein.Peptide at 0x13da232e0>,\n <protein.Peptide at 0x13da23310>,\n <protein.Peptide at 0x13da23340>,\n <protein.Peptide at 0x13da23370>,\n <protein.Peptide at 0x13da233a0>,\n <protein.Peptide at 0x13da233d0>,\n <protein.Peptide at 0x13da23400>,\n <protein.Peptide at 0x13da23430>,\n <protein.Peptide at 0x13da23460>,\n <protein.Peptide at 0x13da23490>,\n <protein.Peptide at 0x13da234c0>,\n <protein.Peptide at 0x13da234f0>,\n <protein.Peptide at 0x13da23520>,\n <protein.Peptide at 0x13da23550>,\n <protein.Peptide at 0x13da23580>,\n <protein.Peptide at 0x13da235b0>,\n <protein.Peptide at 0x13da235e0>,\n <protein.Peptide at 0x13da23610>,\n <protein.Peptide at 0x13da23640>,\n <protein.Peptide at 0x13da23670>,\n <protein.Peptide at 0x13da236a0>,\n <protein.Peptide at 0x13da236d0>,\n <protein.Peptide at 0x13da23700>,\n <protein.Peptide at 0x13da23730>,\n <protein.Peptide at 0x13da23760>,\n <protein.Peptide at 0x13da23790>,\n <protein.Peptide at 0x13da237c0>,\n <protein.Peptide at 0x13da237f0>,\n <protein.Peptide at 0x13da23820>,\n <protein.Peptide at 0x13da23850>,\n <protein.Peptide at 0x13da23880>,\n <protein.Peptide at 0x13da238b0>,\n <protein.Peptide at 0x13da238e0>,\n <protein.Peptide at 0x13da23910>,\n <protein.Peptide at 0x13da23940>,\n <protein.Peptide at 0x13da23970>,\n <protein.Peptide at 0x13da239a0>,\n <protein.Peptide at 0x13da239d0>,\n <protein.Peptide at 0x13da23a00>,\n <protein.Peptide at 0x13da23a30>,\n <protein.Peptide at 0x13da23a60>,\n <protein.Peptide at 0x13da23a90>,\n <protein.Peptide at 0x13da23ac0>,\n <protein.Peptide at 0x13da23af0>,\n <protein.Peptide at 0x13da23b20>,\n <protein.Peptide at 0x13da23b50>,\n <protein.Peptide at 0x13da23b80>,\n <protein.Peptide at 0x13da23bb0>,\n <protein.Peptide at 0x13da23be0>,\n <protein.Peptide at 0x13da23c10>,\n <protein.Peptide at 0x13da23c40>,\n <protein.Peptide at 0x13da23c70>,\n <protein.Peptide at 0x13da23ca0>,\n <protein.Peptide at 0x13da23cd0>,\n <protein.Peptide at 0x13da23d00>,\n <protein.Peptide at 0x13da23d30>,\n <protein.Peptide at 0x13da23d60>,\n <protein.Peptide at 0x13da23d90>,\n <protein.Peptide at 0x13da23dc0>,\n <protein.Peptide at 0x13da23df0>,\n <protein.Peptide at 0x13da23e20>,\n <protein.Peptide at 0x13da23e50>,\n <protein.Peptide at 0x13da23e80>,\n <protein.Peptide at 0x13da23eb0>,\n <protein.Peptide at 0x13da23ee0>,\n <protein.Peptide at 0x13da23f10>,\n <protein.Peptide at 0x13da23f40>,\n <protein.Peptide at 0x13da23f70>,\n <protein.Peptide at 0x13da23fa0>,\n <protein.Peptide at 0x13da23fd0>,\n <protein.Peptide at 0x13da30040>,\n <protein.Peptide at 0x13da30070>,\n <protein.Peptide at 0x13da300a0>,\n <protein.Peptide at 0x13da300d0>,\n <protein.Peptide at 0x13da30100>,\n <protein.Peptide at 0x13da30130>,\n <protein.Peptide at 0x13da30160>,\n <protein.Peptide at 0x13da30190>,\n <protein.Peptide at 0x13da301c0>,\n <protein.Peptide at 0x13da301f0>,\n <protein.Peptide at 0x13da30220>,\n <protein.Peptide at 0x13da30250>,\n <protein.Peptide at 0x13da30280>,\n <protein.Peptide at 0x13da302b0>,\n <protein.Peptide at 0x13da302e0>,\n <protein.Peptide at 0x13da30310>,\n <protein.Peptide at 0x13da30340>,\n <protein.Peptide at 0x13da30370>,\n <protein.Peptide at 0x13da303a0>,\n <protein.Peptide at 0x13da303d0>,\n <protein.Peptide at 0x13da30400>,\n <protein.Peptide at 0x13da30430>,\n <protein.Peptide at 0x13da30460>,\n <protein.Peptide at 0x13da30490>,\n <protein.Peptide at 0x13da304c0>,\n <protein.Peptide at 0x13da304f0>,\n <protein.Peptide at 0x13da30520>,\n <protein.Peptide at 0x13da30550>,\n <protein.Peptide at 0x13da30580>,\n <protein.Peptide at 0x13da305b0>,\n <protein.Peptide at 0x13da305e0>,\n <protein.Peptide at 0x13da30610>,\n <protein.Peptide at 0x13da30640>,\n <protein.Peptide at 0x13da30670>,\n <protein.Peptide at 0x13da306a0>,\n <protein.Peptide at 0x13da306d0>,\n <protein.Peptide at 0x13da30700>,\n <protein.Peptide at 0x13da30730>,\n <protein.Peptide at 0x13da30760>,\n <protein.Peptide at 0x13da30790>,\n <protein.Peptide at 0x13da307c0>,\n <protein.Peptide at 0x13da307f0>,\n <protein.Peptide at 0x13da30820>,\n <protein.Peptide at 0x13da30850>,\n <protein.Peptide at 0x13da30880>,\n <protein.Peptide at 0x13da308b0>,\n <protein.Peptide at 0x13da308e0>,\n <protein.Peptide at 0x13da30910>,\n <protein.Peptide at 0x13da30940>,\n <protein.Peptide at 0x13da30970>,\n <protein.Peptide at 0x13da309a0>,\n <protein.Peptide at 0x13da309d0>,\n <protein.Peptide at 0x13da30a00>,\n <protein.Peptide at 0x13da30a30>,\n <protein.Peptide at 0x13da30a60>,\n <protein.Peptide at 0x13da30a90>,\n <protein.Peptide at 0x13da30ac0>,\n <protein.Peptide at 0x13da30af0>,\n <protein.Peptide at 0x13da30b20>,\n <protein.Peptide at 0x13da30b50>,\n <protein.Peptide at 0x13da30b80>,\n <protein.Peptide at 0x13da30bb0>,\n <protein.Peptide at 0x13da30be0>,\n <protein.Peptide at 0x13da30c10>,\n <protein.Peptide at 0x13da30c40>,\n <protein.Peptide at 0x13da30c70>,\n <protein.Peptide at 0x13da30ca0>,\n <protein.Peptide at 0x13da30cd0>,\n <protein.Peptide at 0x13da30d00>,\n <protein.Peptide at 0x13da30d30>,\n <protein.Peptide at 0x13da30d60>,\n <protein.Peptide at 0x13da30d90>,\n <protein.Peptide at 0x13da30dc0>,\n <protein.Peptide at 0x13da30df0>,\n <protein.Peptide at 0x13da30e20>,\n <protein.Peptide at 0x13da30e50>,\n <protein.Peptide at 0x13da30e80>,\n <protein.Peptide at 0x13da30eb0>,\n <protein.Peptide at 0x13da30ee0>,\n <protein.Peptide at 0x13da30f10>,\n <protein.Peptide at 0x13da30f40>,\n <protein.Peptide at 0x13da30f70>,\n <protein.Peptide at 0x13da30fa0>,\n <protein.Peptide at 0x13da30fd0>,\n <protein.Peptide at 0x13da3c040>,\n <protein.Peptide at 0x13da3c070>,\n <protein.Peptide at 0x13da3c0a0>,\n <protein.Peptide at 0x13da3c0d0>,\n <protein.Peptide at 0x13da3c100>,\n <protein.Peptide at 0x13da3c130>,\n <protein.Peptide at 0x13da3c160>,\n <protein.Peptide at 0x13da3c190>,\n <protein.Peptide at 0x13da3c1c0>,\n <protein.Peptide at 0x13da3c1f0>,\n <protein.Peptide at 0x13da3c220>,\n <protein.Peptide at 0x13da3c250>,\n <protein.Peptide at 0x13da3c280>,\n <protein.Peptide at 0x13da3c2b0>,\n <protein.Peptide at 0x13da3c2e0>,\n <protein.Peptide at 0x13da3c310>,\n <protein.Peptide at 0x13da3c340>,\n <protein.Peptide at 0x13da3c370>,\n <protein.Peptide at 0x13da3c3a0>,\n <protein.Peptide at 0x13da3c3d0>,\n <protein.Peptide at 0x13da3c400>,\n <protein.Peptide at 0x13da3c430>,\n <protein.Peptide at 0x13da3c460>,\n <protein.Peptide at 0x13da3c490>,\n <protein.Peptide at 0x13da3c4c0>,\n <protein.Peptide at 0x13da3c4f0>,\n <protein.Peptide at 0x13da3c520>,\n <protein.Peptide at 0x13da3c550>,\n <protein.Peptide at 0x13da3c580>,\n <protein.Peptide at 0x13da3c5b0>,\n <protein.Peptide at 0x13da3c5e0>,\n <protein.Peptide at 0x13da3c610>,\n <protein.Peptide at 0x13da3c640>,\n <protein.Peptide at 0x13da3c670>,\n <protein.Peptide at 0x13da3c6a0>,\n <protein.Peptide at 0x13da3c6d0>,\n <protein.Peptide at 0x13da3c700>,\n <protein.Peptide at 0x13da3c730>,\n <protein.Peptide at 0x13da3c760>,\n <protein.Peptide at 0x13da3c790>,\n <protein.Peptide at 0x13da3c7c0>,\n <protein.Peptide at 0x13da3c7f0>,\n <protein.Peptide at 0x13da3c820>,\n <protein.Peptide at 0x13da3c850>,\n <protein.Peptide at 0x13da3c880>,\n <protein.Peptide at 0x13da3c8b0>,\n <protein.Peptide at 0x13da3c8e0>,\n <protein.Peptide at 0x13da3c910>,\n <protein.Peptide at 0x13da3c940>,\n <protein.Peptide at 0x13da3c970>,\n <protein.Peptide at 0x13da3c9a0>,\n <protein.Peptide at 0x13da3c9d0>,\n <protein.Peptide at 0x13da3ca00>,\n <protein.Peptide at 0x13da3ca30>,\n <protein.Peptide at 0x13da3ca60>,\n <protein.Peptide at 0x13da3ca90>,\n <protein.Peptide at 0x13da3cac0>,\n <protein.Peptide at 0x13da3caf0>,\n <protein.Peptide at 0x13da3cb20>,\n <protein.Peptide at 0x13da3cb50>,\n <protein.Peptide at 0x13da3cb80>,\n <protein.Peptide at 0x13da3cbb0>,\n <protein.Peptide at 0x13da3cbe0>,\n <protein.Peptide at 0x13da3cc10>,\n <protein.Peptide at 0x13da3cc40>,\n <protein.Peptide at 0x13da3cc70>,\n <protein.Peptide at 0x13da3cca0>,\n <protein.Peptide at 0x13da3ccd0>,\n <protein.Peptide at 0x13da3cd00>,\n <protein.Peptide at 0x13da3cd30>,\n <protein.Peptide at 0x13da3cd60>,\n <protein.Peptide at 0x13da3cd90>,\n <protein.Peptide at 0x13da3cdc0>,\n <protein.Peptide at 0x13da3cdf0>,\n <protein.Peptide at 0x13da3ce20>,\n <protein.Peptide at 0x13da3ce50>,\n <protein.Peptide at 0x13da3ce80>,\n <protein.Peptide at 0x13da3ceb0>,\n <protein.Peptide at 0x13da3cee0>,\n <protein.Peptide at 0x13da3cf10>,\n <protein.Peptide at 0x13da3cf40>,\n <protein.Peptide at 0x13da3cf70>,\n <protein.Peptide at 0x13da3cfa0>,\n <protein.Peptide at 0x13da3cfd0>,\n <protein.Peptide at 0x13da47040>,\n <protein.Peptide at 0x13da47070>,\n <protein.Peptide at 0x13da470a0>,\n <protein.Peptide at 0x13da470d0>,\n <protein.Peptide at 0x13da47100>,\n <protein.Peptide at 0x13da47130>,\n <protein.Peptide at 0x13da47160>,\n <protein.Peptide at 0x13da47190>,\n <protein.Peptide at 0x13da471c0>,\n <protein.Peptide at 0x13da471f0>,\n <protein.Peptide at 0x13da47220>,\n <protein.Peptide at 0x13da47250>,\n <protein.Peptide at 0x13da47280>,\n <protein.Peptide at 0x13da472b0>,\n <protein.Peptide at 0x13da472e0>,\n <protein.Peptide at 0x13da47310>,\n <protein.Peptide at 0x13da47340>,\n <protein.Peptide at 0x13da47370>,\n <protein.Peptide at 0x13da473a0>,\n <protein.Peptide at 0x13da473d0>,\n <protein.Peptide at 0x13da47400>,\n <protein.Peptide at 0x13da47430>,\n <protein.Peptide at 0x13da47460>,\n <protein.Peptide at 0x13da47490>,\n <protein.Peptide at 0x13da474c0>,\n <protein.Peptide at 0x13da474f0>,\n <protein.Peptide at 0x13da47520>,\n <protein.Peptide at 0x13da47550>,\n <protein.Peptide at 0x13da47580>,\n <protein.Peptide at 0x13da475b0>,\n <protein.Peptide at 0x13da475e0>,\n <protein.Peptide at 0x13da47610>,\n <protein.Peptide at 0x13da47640>,\n <protein.Peptide at 0x13da47670>,\n <protein.Peptide at 0x13da476a0>,\n <protein.Peptide at 0x13da476d0>,\n <protein.Peptide at 0x13da47700>,\n <protein.Peptide at 0x13da47730>,\n <protein.Peptide at 0x13da47760>,\n <protein.Peptide at 0x13da47790>,\n <protein.Peptide at 0x13da477c0>,\n <protein.Peptide at 0x13da477f0>,\n <protein.Peptide at 0x13da47820>,\n <protein.Peptide at 0x13da47850>,\n <protein.Peptide at 0x13da47880>,\n <protein.Peptide at 0x13da478b0>,\n <protein.Peptide at 0x13da478e0>,\n <protein.Peptide at 0x13da47910>,\n <protein.Peptide at 0x13da47940>,\n <protein.Peptide at 0x13da47970>,\n <protein.Peptide at 0x13da479a0>,\n <protein.Peptide at 0x13da479d0>,\n <protein.Peptide at 0x13da47a00>,\n <protein.Peptide at 0x13da47a30>,\n <protein.Peptide at 0x13da47a60>,\n <protein.Peptide at 0x13da47a90>,\n <protein.Peptide at 0x13da47ac0>,\n <protein.Peptide at 0x13da47af0>,\n <protein.Peptide at 0x13da47b20>,\n <protein.Peptide at 0x13da47b50>,\n <protein.Peptide at 0x13da47b80>,\n <protein.Peptide at 0x13da47bb0>,\n <protein.Peptide at 0x13da47be0>,\n <protein.Peptide at 0x13da47c10>,\n <protein.Peptide at 0x13da47c40>,\n <protein.Peptide at 0x13da47c70>,\n <protein.Peptide at 0x13da47ca0>,\n <protein.Peptide at 0x13da47cd0>,\n <protein.Peptide at 0x13da47d00>,\n <protein.Peptide at 0x13da47d30>,\n <protein.Peptide at 0x13da47d60>,\n <protein.Peptide at 0x13da47d90>,\n <protein.Peptide at 0x13da47dc0>,\n <protein.Peptide at 0x13da47df0>,\n <protein.Peptide at 0x13da47e20>,\n <protein.Peptide at 0x13da47e50>,\n <protein.Peptide at 0x13da47e80>,\n <protein.Peptide at 0x13da47eb0>,\n <protein.Peptide at 0x13da47ee0>,\n <protein.Peptide at 0x13da47f10>,\n <protein.Peptide at 0x13da47f40>,\n <protein.Peptide at 0x13da47f70>,\n <protein.Peptide at 0x13da47fa0>,\n <protein.Peptide at 0x13da47fd0>,\n <protein.Peptide at 0x13da53040>,\n <protein.Peptide at 0x13da53070>,\n <protein.Peptide at 0x13da530a0>,\n <protein.Peptide at 0x13da530d0>,\n <protein.Peptide at 0x13da53100>,\n <protein.Peptide at 0x13da53130>,\n <protein.Peptide at 0x13da53160>,\n <protein.Peptide at 0x13da53190>,\n <protein.Peptide at 0x13da531c0>,\n <protein.Peptide at 0x13da531f0>,\n <protein.Peptide at 0x13da53220>,\n <protein.Peptide at 0x13da53250>,\n <protein.Peptide at 0x13da53280>,\n <protein.Peptide at 0x13da532b0>,\n <protein.Peptide at 0x13da532e0>,\n <protein.Peptide at 0x13da53310>,\n <protein.Peptide at 0x13da53340>,\n <protein.Peptide at 0x13da53370>,\n <protein.Peptide at 0x13da533a0>,\n <protein.Peptide at 0x13da533d0>,\n <protein.Peptide at 0x13da53400>,\n <protein.Peptide at 0x13da53430>,\n <protein.Peptide at 0x13da53460>,\n <protein.Peptide at 0x13da53490>,\n <protein.Peptide at 0x13da534c0>,\n <protein.Peptide at 0x13da534f0>,\n <protein.Peptide at 0x13da53520>,\n <protein.Peptide at 0x13da53550>,\n <protein.Peptide at 0x13da53580>,\n <protein.Peptide at 0x13da535b0>,\n <protein.Peptide at 0x13da535e0>,\n <protein.Peptide at 0x13da53610>,\n <protein.Peptide at 0x13da53640>,\n <protein.Peptide at 0x13da53670>,\n <protein.Peptide at 0x13da536a0>,\n <protein.Peptide at 0x13da536d0>,\n <protein.Peptide at 0x13da53700>,\n <protein.Peptide at 0x13da53730>,\n <protein.Peptide at 0x13da53760>,\n <protein.Peptide at 0x13da53790>,\n <protein.Peptide at 0x13da537c0>,\n <protein.Peptide at 0x13da537f0>,\n <protein.Peptide at 0x13da53820>,\n <protein.Peptide at 0x13da53850>,\n <protein.Peptide at 0x13da53880>,\n <protein.Peptide at 0x13da538b0>,\n <protein.Peptide at 0x13da538e0>,\n <protein.Peptide at 0x13da53910>,\n <protein.Peptide at 0x13da53940>,\n <protein.Peptide at 0x13da53970>,\n <protein.Peptide at 0x13da539a0>,\n <protein.Peptide at 0x13da539d0>,\n <protein.Peptide at 0x13da53a00>,\n <protein.Peptide at 0x13da53a30>,\n <protein.Peptide at 0x13da53a60>,\n <protein.Peptide at 0x13da53a90>,\n <protein.Peptide at 0x13da53ac0>,\n <protein.Peptide at 0x13da53af0>,\n <protein.Peptide at 0x13da53b20>,\n <protein.Peptide at 0x13da53b50>,\n <protein.Peptide at 0x13da53b80>,\n <protein.Peptide at 0x13da53bb0>,\n <protein.Peptide at 0x13da53be0>,\n <protein.Peptide at 0x13da53c10>,\n ...]"
     },
     "execution_count": 14,
     "metadata": {},
     "output_type": "execute_result"
    }
   ],
   "source": [
    "peptides"
   ],
   "metadata": {
    "collapsed": false,
    "pycharm": {
     "name": "#%%\n"
    }
   }
  },
  {
   "cell_type": "code",
   "execution_count": 24,
   "outputs": [
    {
     "name": "stdout",
     "output_type": "stream",
     "text": [
      "One measurement takes about 0.4704053526897539 ms\n"
     ]
    }
   ],
   "source": [
    "# Determines how many matches we can get on precursor weight alone\n",
    "\n",
    "import time\n",
    "\n",
    "tolerance_ppm_precursor = 15\n",
    "peps_with_threshold = {}\n",
    "for p in peptides:\n",
    "    t = (tolerance_ppm_precursor / 1e6) * p.total_mz\n",
    "    peps_with_threshold.setdefault(p.total_charge, []).append((p, t))\n",
    "\n",
    "result = []\n",
    "start_time = time.time()\n",
    "for i, m in enumerate(measurements):\n",
    "    for pepid, (pep, t) in enumerate(peps_with_threshold[m.charge]):\n",
    "        if abs(pep.total_mz - m.peptide_mz) <= t:\n",
    "            result.append(\n",
    "                (\n",
    "                    m,\n",
    "                    pep,\n",
    "                )\n",
    "            )\n",
    "end_time = time.time()\n",
    "\n",
    "print(f\"One measurement takes about {(end_time - start_time) / len(measurements)} ms\")"
   ],
   "metadata": {
    "collapsed": false,
    "pycharm": {
     "name": "#%%\n"
    }
   }
  },
  {
   "cell_type": "code",
   "execution_count": 5,
   "outputs": [],
   "source": [
    "\n",
    "def for_martin(path, prot, enzyme, maxskip=5):\n",
    "    with open(path, \"w\") as file:\n",
    "        p = Protein(prot)\n",
    "        peptides_initial = enzyme(p.sequence)\n",
    "        peptides_skip = {\n",
    "            (peptides_initial[i][0], peptides_initial[i + s][1], s)\n",
    "            for s in range(maxskip + 1)\n",
    "            for i in range(len(peptides_initial) - s)\n",
    "        }\n",
    "\n",
    "        def variants(peptide):\n",
    "            seq = p.sequence[peptide[0] : peptide[1]]\n",
    "            return [\n",
    "                {\n",
    "                    \"charge\": 1,\n",
    "                    \"seq\": seq,\n",
    "                    \"mods\": mods,\n",
    "                    \"beg\": peptide[0],\n",
    "                    \"end\": peptide[1],\n",
    "                    \"mc\": peptide[2],\n",
    "                }\n",
    "                for mods in OXIDATION_MET.somewhere(seq)\n",
    "            ]\n",
    "\n",
    "        cysteines = [i for i, aa in enumerate(p.sequence) if aa == \"C\"]\n",
    "        peptide_variants = {p: variants(p) for p in peptides_skip}\n",
    "        peptides_having_cysteine = {\n",
    "            c: [p for p in peptides_skip if p[0] <= c < p[1]] for c in cysteines\n",
    "        }\n",
    "        peptides_joined = [\n",
    "            {\n",
    "                \"peps\": [v],\n",
    "                \"cysteines\": [],\n",
    "            }\n",
    "            for pepvars in peptide_variants.values()\n",
    "            for v in pepvars\n",
    "        ]\n",
    "\n",
    "        for beg, end in itertools.combinations(cysteines, 2):\n",
    "            for p1 in peptides_having_cysteine[beg]:\n",
    "                for p2 in peptides_having_cysteine[end]:\n",
    "                    for v1 in peptide_variants[p1]:\n",
    "                        for v2 in peptide_variants[p2]:\n",
    "                            if max(v1[\"beg\"], v2[\"beg\"]) <= min(v1[\"end\"], v2[\"end\"]):\n",
    "                                peptides_joined.append(\n",
    "                                    {\n",
    "                                        \"peps\": [v1, v2],\n",
    "                                        \"cysteines\": [(beg, end)],\n",
    "                                    }\n",
    "                                )\n",
    "\n",
    "        writer = csv.DictWriter(\n",
    "            file,\n",
    "            fieldnames=[\n",
    "                \"peptide\",\n",
    "                \"mc\",\n",
    "                \"modifications\",\n",
    "                \"mass\",\n",
    "                \"connected_cysteines\",\n",
    "            ],\n",
    "        )\n",
    "        writer.writeheader()\n",
    "\n",
    "        peptides = [Peptide(**pepvars) for pepvars in peptides_joined]\n",
    "\n",
    "        for pep in peptides:\n",
    "            if \"C\" in pep:\n",
    "                writer.writerow(\n",
    "                    {\n",
    "                        \"peptide\": str(pep),\n",
    "                        \"mc\": \",\".join(str(mc) for mc in pep.mcs),\n",
    "                        \"modifications\": pep.modstr,\n",
    "                        \"mass\": pep.total_mass,\n",
    "                        \"connected_cysteines\": \",\".join(\n",
    "                            \"+\".join(str(c) for c in cs) for cs in pep.cysteines\n",
    "                        ),\n",
    "                    }\n",
    "                )\n",
    "\n",
    "\n",
    "for protein, name in [(LYS, \"lys\"), (BSA, \"bsa\"), (MYST, \"hagen\")]:\n",
    "    for enzyme, enzyme_name in [(trypsin, \"try\"), (pepsin, \"pep\")]:\n",
    "        for_martin(\n",
    "            f\"../out/martin/peptides_mc7_{name}_{enzyme_name}.csv\",\n",
    "            protein,\n",
    "            enzyme,\n",
    "            maxskip=7,\n",
    "        )\n"
   ],
   "metadata": {
    "collapsed": false,
    "pycharm": {
     "name": "#%%\n"
    }
   }
  },
  {
   "cell_type": "code",
   "execution_count": 55,
   "outputs": [
    {
     "name": "stdout",
     "output_type": "stream",
     "text": [
      "846: RHGLDNYR\n",
      "917: HGLDNYR\n",
      "1015: HGLDNYR\n",
      "1070: HGLDNYR\n",
      "1122: HGLDNYR\n",
      "1187: HGLDNYR\n",
      "1259: HGLDNYR\n",
      "1335: HGLDNYR\n",
      "1417: HGLDNYR\n",
      "1474: FESNFNTQATNR\n",
      "1505: HGLDNYR\n",
      "1604: HGLDNYR\n",
      "1693: HGLDNYR\n",
      "1783: HGLDNYR\n",
      "1902: HGLDNYR\n",
      "1997: FESNFNTQATNR\n",
      "2022: FESNFNTQATNR\n",
      "2030: HGLDNYR\n",
      "2107: FESNFNTQATNR\n",
      "2136: FESNFNTQATNR\n",
      "2149: HGLDNYR\n",
      "2206: FESNFNTQATNR\n",
      "2281: FESNFNTQATNR\n",
      "2284: HGLDNYR\n",
      "2323: FESNFNTQATNR\n",
      "2392: FESNFNTQATNR\n",
      "2393: HGLDNYR\n",
      "2471: NTDGSTDYGILQINSR\n",
      "2493: FESNFNTQATNR\n",
      "2530: FESNFNTQATNR\n",
      "2532: HGLDNYR\n",
      "2635: FESNFNTQATNR\n",
      "2656: FESNFNTQATNR\n",
      "2658: HGLDNYR\n",
      "2770: FESNFNTQATNR\n",
      "2773: HGLDNYR\n",
      "2774: FESNFNTQATNR\n",
      "2909: FESNFNTQATNR\n",
      "2912: HGLDNYR\n",
      "2914: FESNFNTQATNR\n",
      "3032: FESNFNTQATNR\n",
      "3036: HGLDNYR\n",
      "3037: FESNFNTQATNR\n",
      "3104: NTDGSTDYGILQINSR\n",
      "3175: FESNFNTQATNR\n",
      "3210: FESNFNTQATNR\n",
      "3211: HGLDNYR\n",
      "3303: FESNFNTQATNR\n",
      "3338: HGLDNYR\n",
      "3342: FESNFNTQATNR\n",
      "3417: FESNFNTQATNR\n",
      "3456: HGLDNYR\n",
      "3463: FESNFNTQATNR\n",
      "3529: FESNFNTQATNR\n",
      "3540: GTDVQAWIR\n",
      "3564: HGLDNYR\n",
      "3570: FESNFNTQATNR\n",
      "3626: FESNFNTQATNR\n",
      "3710: HGLDNYR\n",
      "3714: FESNFNTQATNR\n",
      "3732: GTDVQAWIR\n",
      "3749: FESNFNTQATNR\n",
      "3858: HGLDNYR\n",
      "3862: GTDVQAWIR\n",
      "3872: FESNFNTQATNR\n",
      "3885: FESNFNTQATNR\n",
      "3970: GTDVQAWIR\n",
      "3972: HGLDNYR\n",
      "3998: FESNFNTQATNR\n",
      "4000: FESNFNTQATNR\n",
      "4078: GTDVQAWIR\n",
      "4082: HGLDNYR\n",
      "4097: FESNFNTQATNR\n",
      "4105: FESNFNTQATNR\n",
      "4135: KIVSDGNGMNAWVAWR\n",
      "4165: GTDVQAWIR\n",
      "4177: HGLDNYR\n",
      "4185: FESNFNTQATNR\n",
      "4196: FESNFNTQATNR\n",
      "4227: NTDGSTDYGILQINSR\n",
      "4232: NTDGSTDYGILQINSR\n",
      "4246: GTDVQAWIR\n",
      "4274: HGLDNYR\n",
      "4298: FESNFNTQATNR\n",
      "4303: FESNFNTQATNRNTDGSTDYGILQINSR\n",
      "4343: NTDGSTDYGILQINSR\n",
      "4356: NTDGSTDYGILQINSR\n",
      "4357: GTDVQAWIR\n",
      "4373: KIVSDGNGMNAWVAWR\n",
      "4380: FESNFNTQATNR\n",
      "4393: HGLDNYR\n",
      "4402: KIVSDGNGMNAWVAWR\n",
      "4407: FESNFNTQATNR\n",
      "4430: NTDGSTDYGILQINSR\n",
      "4437: GTDVQAWIR\n",
      "4438: NTDGSTDYGILQINSR\n",
      "4454: KIVSDGNGMNAWVAWR\n",
      "4480: FESNFNTQATNR\n",
      "4490: HGLDNYR\n",
      "4509: FESNFNTQATNR\n",
      "4541: NTDGSTDYGILQINSR\n",
      "4550: NTDGSTDYGILQINSR\n",
      "4552: GTDVQAWIR\n",
      "4592: KIVSDGNGMNAWVAWR\n",
      "4605: FESNFNTQATNR\n",
      "4611: HGLDNYR\n",
      "4623: FESNFNTQATNR\n",
      "4639: NTDGSTDYGILQINSR\n",
      "4652: GTDVQAWIR\n",
      "4653: NTDGSTDYGILQINSR\n",
      "4673: KIVSDGNGMNAWVAWR\n",
      "4702: HGLDNYR\n",
      "4719: NTDGSTDYGILQINSR\n",
      "4720: FESNFNTQATNR\n",
      "4721: NTDGSTDYGILQINSR\n",
      "4741: FESNFNTQATNR\n",
      "4747: GTDVQAWIR\n",
      "4769: KIVSDGNGMNAWVAWR\n",
      "4784: HGLDNYR\n",
      "4787: NTDGSTDYGILQINSR\n",
      "4788: NTDGSTDYGILQINSR\n",
      "4794: FESNFNTQATNR\n",
      "4809: FESNFNTQATNR\n",
      "4811: GTDVQAWIR\n",
      "4840: HGLDNYR\n",
      "4845: NTDGSTDYGILQINSR\n",
      "4848: NTDGSTDYGILQINSR\n",
      "4850: FESNFNTQATNR\n",
      "4868: FESNFNTQATNR\n",
      "4872: GTDVQAWIR\n",
      "4906: HGLDNYR\n",
      "4910: NTDGSTDYGILQINSR\n",
      "4915: NTDGSTDYGILQINSR\n",
      "4917: FESNFNTQATNR\n",
      "4938: FESNFNTQATNR\n",
      "4940: GTDVQAWIR\n",
      "4971: HGLDNYR\n",
      "4972: NTDGSTDYGILQINSR\n",
      "4980: FESNFNTQATNR\n",
      "4985: NTDGSTDYGILQINSR\n",
      "5003: GTDVQAWIR\n",
      "5005: FESNFNTQATNR\n",
      "5047: NTDGSTDYGILQINSR\n",
      "5048: HGLDNYR\n",
      "5052: IVSDGNGMNAWVAWR\n",
      "5054: FESNFNTQATNR\n",
      "5057: IVSDGNGMNAWVAWR\n",
      "5064: NTDGSTDYGILQINSR\n",
      "5098: GTDVQAWIR\n",
      "5116: FESNFNTQATNR\n",
      "5146: HGLDNYR\n",
      "5147: NTDGSTDYGILQINSR\n",
      "5172: FESNFNTQATNR\n",
      "5185: NTDGSTDYGILQINSR\n",
      "5207: GTDVQAWIR\n",
      "5228: FESNFNTQATNR\n",
      "5245: HGLDNYR\n",
      "5259: NTDGSTDYGILQINSR\n",
      "5280: FESNFNTQATNR\n",
      "5304: IVSDGNGMNAWVAWR\n",
      "5308: GTDVQAWIR\n",
      "5317: NTDGSTDYGILQINSR\n",
      "5360: HGLDNYR\n",
      "5378: NTDGSTDYGILQINSR\n",
      "5397: FESNFNTQATNR\n",
      "5435: GTDVQAWIR\n",
      "5461: NTDGSTDYGILQINSR\n",
      "5490: HGLDNYR\n",
      "5513: NTDGSTDYGILQINSR\n",
      "5522: FESNFNTQATNR\n",
      "5557: GTDVQAWIR\n",
      "5585: NTDGSTDYGILQINSR\n",
      "5620: HGLDNYR\n",
      "5642: FESNFNTQATNR\n",
      "5644: NTDGSTDYGILQINSR\n",
      "5679: GTDVQAWIR\n",
      "5738: NTDGSTDYGILQINSR\n",
      "5747: HGLDNYR\n",
      "5770: FESNFNTQATNR\n",
      "5793: NTDGSTDYGILQINSR\n",
      "5803: FESNFNTQATNR\n",
      "5808: GTDVQAWIR\n",
      "5879: HGLDNYR\n",
      "5884: NTDGSTDYGILQINSR\n",
      "5893: FESNFNTQATNR\n",
      "5945: GTDVQAWIR\n",
      "5948: NTDGSTDYGILQINSR\n",
      "6010: FESNFNTQATNR\n",
      "6011: HGLDNYR\n",
      "6055: GTDVQAWIR\n",
      "6060: FESNFNTQATNR\n",
      "6066: NTDGSTDYGILQINSR\n",
      "6070: NTDGSTDYGILQINSR\n",
      "6141: FESNFNTQATNR\n",
      "6146: HGLDNYR\n",
      "6174: GTDVQAWIR\n",
      "6191: NTDGSTDYGILQINSR\n",
      "6265: FESNFNTQATNR\n",
      "6288: HGLDNYR\n",
      "6306: GTDVQAWIR\n",
      "6373: NTDGSTDYGILQINSR\n",
      "6406: FESNFNTQATNR\n",
      "6421: HGLDNYR\n",
      "6443: GTDVQAWIR\n",
      "6485: FESNFNTQATNR\n",
      "6529: FESNFNTQATNR\n",
      "6568: GTDVQAWIR\n",
      "6574: HGLDNYR\n",
      "6671: FESNFNTQATNR\n",
      "6693: GTDVQAWIR\n",
      "6744: HGLDNYR\n",
      "6798: FESNFNTQATNR\n",
      "6820: GTDVQAWIR\n",
      "6937: FESNFNTQATNR\n",
      "6947: GTDVQAWIR\n",
      "6975: HGLDNYR\n",
      "7073: FESNFNTQATNR\n",
      "7096: GTDVQAWIR\n",
      "7167: HGLDNYR\n",
      "7201: FESNFNTQATNR\n",
      "7244: GTDVQAWIR\n",
      "7335: FESNFNTQATNR\n",
      "7338: HGLDNYR\n",
      "7368: GTDVQAWIR\n",
      "7475: FESNFNTQATNR\n",
      "7478: HGLDNYR\n",
      "7496: GTDVQAWIR\n",
      "7603: FESNFNTQATNR\n",
      "7625: GTDVQAWIR\n",
      "7635: HGLDNYR\n",
      "7733: FESNFNTQATNR\n",
      "7756: GTDVQAWIR\n",
      "7847: HGLDNYR\n",
      "7870: FESNFNTQATNR\n",
      "7875: GTDVQAWIR\n",
      "7986: HGLDNYR\n",
      "8022: GTDVQAWIR\n",
      "8026: FESNFNTQATNR\n",
      "8135: HGLDNYR\n",
      "8168: GTDVQAWIR\n",
      "8198: FESNFNTQATNR\n",
      "8288: GTDVQAWIR\n",
      "8361: FESNFNTQATNR\n",
      "8417: GTDVQAWIR\n",
      "8434: HGLDNYR\n",
      "8499: FESNFNTQATNR\n",
      "8563: GTDVQAWIR\n",
      "8604: HGLDNYR\n",
      "8672: FESNFNTQATNR\n",
      "8694: GTDVQAWIR\n",
      "8766: HGLDNYR\n",
      "8814: FESNFNTQATNR\n",
      "8836: GTDVQAWIR\n",
      "8948: NTDGSTDYGILQINSR\n",
      "8953: FESNFNTQATNR\n",
      "8965: GTDVQAWIR\n",
      "9112: GTDVQAWIR\n",
      "9124: FESNFNTQATNR\n",
      "9237: GTDVQAWIR\n",
      "9299: FESNFNTQATNR\n",
      "9314: HGLDNYR\n",
      "9363: GTDVQAWIR\n",
      "9491: GTDVQAWIR\n",
      "9524: FESNFNTQATNR\n",
      "9621: GTDVQAWIR\n",
      "9668: FESNFNTQATNR\n",
      "9766: GTDVQAWIR\n",
      "9815: FESNFNTQATNR\n",
      "9896: GTDVQAWIR\n",
      "10008: FESNFNTQATNR\n",
      "10046: GTDVQAWIR\n",
      "10102: FESNFNTQATNRNTDGSTDYGILQINSR\n",
      "10183: FESNFNTQATNR\n",
      "10192: GTDVQAWIR\n",
      "10317: FESNFNTQATNR\n",
      "10341: GTDVQAWIR\n",
      "10434: HGLDNYR\n",
      "10489: GTDVQAWIR\n",
      "10542: FESNFNTQATNR\n",
      "10615: GTDVQAWIR\n",
      "10727: FESNFNTQATNR\n",
      "10759: GTDVQAWIR\n",
      "10885: GTDVQAWIR\n",
      "10976: FESNFNTQATNR\n",
      "11034: GTDVQAWIR\n",
      "11135: FESNFNTQATNR\n",
      "11185: GTDVQAWIR\n",
      "11334: GTDVQAWIR\n",
      "11438: FESNFNTQATNR\n",
      "11470: GTDVQAWIR\n",
      "11598: GTDVQAWIR\n",
      "11636: FESNFNTQATNR\n",
      "11745: GTDVQAWIR\n",
      "11875: FESNFNTQATNR\n",
      "11880: GTDVQAWIR\n",
      "12020: GTDVQAWIR\n",
      "12081: IVSDGNGMNAWVAWRNR\n",
      "12173: GTDVQAWIR\n",
      "12267: FESNFNTQATNR\n",
      "12300: GTDVQAWIR\n",
      "12423: GTDVQAWIR\n",
      "12559: FESNFNTQATNR\n",
      "12570: GTDVQAWIR\n",
      "12701: GTDVQAWIR\n",
      "12715: FESNFNTQATNR\n",
      "12832: GTDVQAWIR\n",
      "12882: FESNFNTQATNR\n",
      "12959: GTDVQAWIR\n",
      "13025: FESNFNTQATNR\n",
      "13053: GTDVQAWIR\n",
      "13127: GTDVQAWIR\n",
      "13172: FESNFNTQATNR\n",
      "13209: GTDVQAWIR\n",
      "13299: GTDVQAWIR\n",
      "13305: FESNFNTQATNR\n",
      "13365: GTDVQAWIR\n",
      "13376: FESNFNTQATNR\n",
      "13495: GTDVQAWIR\n",
      "13555: GTDVQAWIR\n",
      "13623: GTDVQAWIR\n",
      "13654: FESNFNTQATNR\n",
      "13687: GTDVQAWIR\n",
      "13729: FESNFNTQATNR\n",
      "13754: GTDVQAWIR\n",
      "13807: FESNFNTQATNR\n",
      "13822: GTDVQAWIR\n",
      "13966: GTDVQAWIR\n",
      "14115: GTDVQAWIR\n",
      "14170: FESNFNTQATNR\n"
     ]
    }
   ],
   "source": [
    "counts = {}\n",
    "\n",
    "for (m, p) in result:\n",
    "    if len(p.peptides) == 1 and p.modstr == \"\":\n",
    "        counts.setdefault(m.scan, []).append(p)\n",
    "\n",
    "for scan, peptides in counts.items():\n",
    "    print(f\"{scan}: {peptides[0]}\")"
   ],
   "metadata": {
    "collapsed": false,
    "pycharm": {
     "name": "#%%\n"
    }
   }
  },
  {
   "cell_type": "code",
   "execution_count": 66,
   "outputs": [
    {
     "data": {
      "text/plain": "'FESNFNTQATNR'"
     },
     "execution_count": 66,
     "metadata": {},
     "output_type": "execute_result"
    }
   ],
   "source": [
    "str(peptides[0])"
   ],
   "metadata": {
    "collapsed": false,
    "pycharm": {
     "name": "#%%\n"
    }
   }
  },
  {
   "cell_type": "code",
   "execution_count": 36,
   "outputs": [
    {
     "data": {
      "text/plain": "9"
     },
     "execution_count": 36,
     "metadata": {},
     "output_type": "execute_result"
    }
   ],
   "source": [
    "count_76_94 = 0\n",
    "\n",
    "for (m, p) in result:\n",
    "    if len(p.peptides) == 1 and \"NLCNIPCSALLSSDITASVNCAK\" in str(p):\n",
    "        count_76_94 += 1\n",
    "\n",
    "count_76_94"
   ],
   "metadata": {
    "collapsed": false,
    "pycharm": {
     "name": "#%%\n"
    }
   }
  },
  {
   "cell_type": "code",
   "execution_count": 34,
   "outputs": [
    {
     "data": {
      "text/plain": "{(5, 126): 828,\n (5, 114): 501,\n (114, 126): 138,\n (63, 114): 131,\n (63, 126): 72,\n (5, 63): 256,\n (29, 114): 420,\n (29, 126): 328,\n (5, 29): 83,\n (5, 75): 289,\n (5, 79): 289,\n (5, 93): 289,\n (29, 75): 50,\n (29, 79): 50,\n (29, 93): 50,\n (75, 126): 28,\n (79, 126): 28,\n (93, 126): 28,\n (75, 114): 196,\n (79, 114): 196,\n (93, 114): 196,\n (63, 75): 13,\n (63, 79): 13,\n (63, 93): 13,\n (29, 63): 36}"
     },
     "execution_count": 34,
     "metadata": {},
     "output_type": "execute_result"
    }
   ],
   "source": [
    "counts_cysteines = {}\n",
    "for (m, p) in result:\n",
    "    if len(p.peptides) > 1:\n",
    "        counts_cysteines.setdefault(p.cysteines[0], 0)\n",
    "        counts_cysteines[p.cysteines[0]] += 1"
   ],
   "metadata": {
    "collapsed": false,
    "pycharm": {
     "name": "#%%\n"
    }
   }
  },
  {
   "cell_type": "code",
   "execution_count": null,
   "outputs": [],
   "source": [
    "\n",
    "def save_peptides(path, prot, enzyme, mc=2, charges={1, 2, 3, 4, 5, 6}):\n",
    "    with open(path, \"w\") as file:\n",
    "        writer = csv.DictWriter(file, fieldnames=[\"peptide\", \"mods\", \"mz\", \"charge\"])\n",
    "        writer.writeheader()\n",
    "        writer.writerows(\n",
    "            {\n",
    "                \"peptide\": str(p),\n",
    "                \"mods\": p.modstr,\n",
    "                \"mz\": p.total_mz,\n",
    "                \"charge\": p.total_charge,\n",
    "            }\n",
    "            for p in Protein(prot).digest(enzyme, charges=charges, maxskip=mc)\n",
    "            if not p.ismerged\n",
    "        )\n",
    "\n",
    "\n",
    "def get_peptides(path, protein, enzyme, mc):\n",
    "    with open(path, \"w\") as file:\n",
    "        peptides_initial = enzyme(protein)\n",
    "        peptides_skip = {\n",
    "            (peptides_initial[i][0], peptides_initial[i + s][1], s)\n",
    "            for s in range(mc + 1)\n",
    "            for i in range(len(peptides_initial) - s)\n",
    "        }\n",
    "        writer = csv.DictWriter(\n",
    "            file, fieldnames=[\"peptide\", \"mc\", \"position_inclusive\"]\n",
    "        )\n",
    "        writer.writeheader()\n",
    "        writer.writerows(\n",
    "            {\"peptide\": protein[b:e], \"mc\": skip, \"position_inclusive\": f\"{b+1}–{e}\"}\n",
    "            for b, e, skip in peptides_skip\n",
    "        )\n",
    "\n",
    "\n",
    "# save_peptides(\n",
    "#     \"/Users/eugen/code/bp/bp-code/out/martin/peptides_HAGEN_TRY.csv\",\n",
    "#     MYST,\n",
    "#     trypsin,\n",
    "#     mc=7,\n",
    "#     charges={1},\n",
    "# )\n",
    "\n",
    "# for protein, name in [(LYS, \"lys\"), (BSA, \"bsa\"), (MYST, \"hagen\")]:\n",
    "#     for enzyme, enzyme_name in [(trypsin, \"try\"), (pepsin, \"pep\")]:\n",
    "#         get_peptides(\n",
    "#             f\"../out/martin/peptides_mc7_{name}_{enzyme_name}.csv\",\n",
    "#             protein,\n",
    "#             enzyme,\n",
    "#             mc=7,\n",
    "#         )"
   ],
   "metadata": {
    "collapsed": false,
    "pycharm": {
     "name": "#%%\n"
    }
   }
  },
  {
   "cell_type": "code",
   "execution_count": null,
   "outputs": [],
   "source": [],
   "metadata": {
    "collapsed": false,
    "pycharm": {
     "name": "#%%\n"
    }
   }
  },
  {
   "cell_type": "code",
   "execution_count": null,
   "outputs": [],
   "source": [
    "tolerance_ppm_precursor = 100000\n",
    "multiplier = measurement.binary_multiplier(tolerance_ppm=10)\n",
    "\n",
    "result = []\n",
    "peps_with_threshold = [\n",
    "    (pep, (tolerance_ppm_precursor / 1e6) * pep.total_mz) for pep in peptides\n",
    "]\n",
    "for i, m in enumerate(measurements):\n",
    "    if i % 50 == 0:\n",
    "        print(f\"Done: {i}\")\n",
    "\n",
    "    for pepid, (pep, t) in enumerate(peps_with_threshold):\n",
    "        if pep.total_charge == m.charge and abs(pep.total_mz - m.peptide_mz) <= t:\n",
    "            score = m.score_match(pep, multiplier)\n",
    "\n",
    "            # result.append(\n",
    "            #     {\n",
    "            #         \"peptide\": str(pep),\n",
    "            #         \"is_valid\": pep.ismerged or len(pep.peptides[0].seq) > 5,\n",
    "            #         \"score\": score,\n",
    "            #         \"mod\": pep.modstr,\n",
    "            #         \"scan\": m.scan,\n",
    "            #         \"mass_error\": pep.total_mz - m.peptide_mz,\n",
    "            #         \"measurement\": i,\n",
    "            #         \"pepid\": pepid,\n",
    "            #         \"cysteines\": pep.cysteines\n",
    "            #         # \"silico_frags\": \";\".join(str(m) for m in pep.fragment_masses()),\n",
    "            #         # \"frags\": \";\".join(str(f) for f in m.fragments_mz),\n",
    "            #         # \"frags_intensity\": \";\".join(str(f) for f in m.fragments_intensity)\n",
    "            #     }\n",
    "            # )\n",
    "\n",
    "# Nechat pokud\n",
    "# má vysokou pnost\n",
    "# nebo obsahuje cystein a je kolem něj díra, a jinak má dobré pokrytí\n",
    "# nebo je krátký a obsahuje cystein, pak na pokrytí nezáleží\n",
    "\n",
    "# a u těchto se podívat na to, co v tom spektru přebývá?"
   ],
   "metadata": {
    "collapsed": false,
    "pycharm": {
     "name": "#%%\n"
    }
   }
  },
  {
   "cell_type": "code",
   "execution_count": null,
   "outputs": [],
   "source": [
    "tolerance_ppm_precursor = 1000\n",
    "multiplier = measurement.binary_multiplier(tolerance_ppm=10)\n",
    "\n",
    "peps_with_threshold = [\n",
    "    (pep, (tolerance_ppm_precursor / 1e6) * pep.total_mz) for pep in peptides\n",
    "]"
   ],
   "metadata": {
    "collapsed": false,
    "pycharm": {
     "name": "#%%\n"
    }
   }
  },
  {
   "cell_type": "code",
   "execution_count": null,
   "outputs": [],
   "source": [
    "result = []\n",
    "tasks = peps_with_threshold[:100]\n",
    "\n",
    "with tqdm.tqdm(total=len(tasks)) as pbar:\n",
    "\n",
    "    def get_item(peptide, threshold):\n",
    "        print(\"X\")\n",
    "        pbar.update(1)\n",
    "        for i, m in enumerate(measurements):\n",
    "            if (\n",
    "                peptide.total_charge == m.charge\n",
    "                and abs(pep.total_mz - m.peptide_mz) <= threshold\n",
    "            ):\n",
    "                score = m.score_match(peptide, multiplier)\n",
    "\n",
    "                return {\n",
    "                    \"peptide\": str(peptide),\n",
    "                    \"score\": score,\n",
    "                    \"mod\": peptide.modstr,\n",
    "                    \"scan\": m.scan,\n",
    "                    \"mass_error\": 1e6\n",
    "                    * (peptide.total_mz - m.peptide_mz)\n",
    "                    / peptide.total_mz,\n",
    "                    \"measurement\": i,\n",
    "                    \"pepid\": pepid,\n",
    "                    \"cysteines\": peptide.cysteines,\n",
    "                }\n",
    "\n",
    "    def f(x):\n",
    "        pbar.update()\n",
    "        return x\n",
    "\n",
    "    with Pool() as pool:\n",
    "        for r in pool.imap_unordered(f, tasks):\n",
    "            print(r)"
   ],
   "metadata": {
    "collapsed": false,
    "pycharm": {
     "name": "#%%\n"
    }
   }
  },
  {
   "cell_type": "code",
   "execution_count": null,
   "outputs": [],
   "source": [
    "df = pd.DataFrame(result)\n",
    "df.to_csv(\"../out/lys_analysis_at.csv\", index=False)\n"
   ],
   "metadata": {
    "collapsed": false,
    "pycharm": {
     "name": "#%%\n"
    }
   }
  },
  {
   "cell_type": "code",
   "execution_count": 236,
   "outputs": [],
   "source": [
    "\n",
    "def show_match(\n",
    "    msmnt, peptide, multiplier=measurement.binary_multiplier(tolerance_ppm=10)\n",
    "):\n",
    "    generated = peptide.fragment_masses\n",
    "\n",
    "    indices = np.searchsorted(msmnt.masses_padded, generated)\n",
    "    left = multiplier(generated, msmnt.masses_padded[indices - 1])\n",
    "    right = multiplier(generated, msmnt.masses_padded[indices])\n",
    "\n",
    "    matched_intensities = np.maximum(\n",
    "        left * msmnt.intensities_padded[indices - 1],\n",
    "        right * msmnt.intensities_padded[indices],\n",
    "    )\n",
    "\n",
    "    matched_masses = np.select(\n",
    "        [\n",
    "            (left == 0) & (right == 0),\n",
    "            left * msmnt.intensities_padded[indices - 1]\n",
    "            > right * msmnt.intensities_padded[indices],\n",
    "            True,\n",
    "        ],\n",
    "        [\n",
    "            0,\n",
    "            msmnt.masses_padded[indices - 1],\n",
    "            msmnt.masses_padded[indices],\n",
    "        ],\n",
    "    )\n",
    "\n",
    "    nonzero = np.nonzero(matched_masses)[0]\n",
    "\n",
    "    fragments = [peptide.fragment()[i] for i in nonzero]\n",
    "    intesities_m = matched_intensities[nonzero]\n",
    "\n",
    "    return {\n",
    "        \"fragments\": [\n",
    "            {\n",
    "                \"name\": f.name,\n",
    "                \"mass_theoretical\": f.mz,\n",
    "                \"mass_measured\": matched_masses[nonzero][i],\n",
    "                \"intensity\": round(intesities_m[i], 4),\n",
    "                \"intensity_relative\": round(\n",
    "                    100 * intesities_m[i] / np.sum(msmnt.fragments_intensity), 2\n",
    "                ),\n",
    "            }\n",
    "            for i, f in enumerate(fragments)\n",
    "        ],\n",
    "        \"score\": round(\n",
    "            100 * np.sum(intesities_m) / np.sum(msmnt.fragments_intensity),\n",
    "            ndigits=2,\n",
    "        ),\n",
    "    }\n"
   ],
   "metadata": {
    "collapsed": false,
    "pycharm": {
     "name": "#%%\n"
    }
   }
  },
  {
   "cell_type": "code",
   "execution_count": null,
   "outputs": [],
   "source": [
    "m = measurements[3813]\n",
    "p = [\n",
    "    p\n",
    "    for p in peptides\n",
    "    if str(p) == \"KIVSDGNGMNAWVAWR\" and p.total_charge == 2 and p.modstr == \"[]\"\n",
    "][0]\n",
    "pprint(show_match(m, p))"
   ],
   "metadata": {
    "collapsed": false,
    "pycharm": {
     "name": "#%%\n"
    }
   }
  },
  {
   "cell_type": "code",
   "execution_count": 5,
   "metadata": {
    "pycharm": {
     "name": "#%%\n"
    }
   },
   "outputs": [
    {
     "data": {
      "text/plain": "                                                  peptide  peptide_id  \\\n0                                    RHGLDNYRGYSLGNWVCAAK           2   \n1                                    RHGLDNYRGYSLGNWVCAAK           2   \n2                                    RHGLDNYRGYSLGNWVCAAK           2   \n3                                    RHGLDNYRGYSLGNWVCAAK           2   \n4                                    RHGLDNYRGYSLGNWVCAAK           2   \n...                                                   ...         ...   \n166091  TPGSRNLCNIPCSALLSSDITASVNCAKKIVSDGNGMNAWVAWRNR...      722197   \n166092  TPGSRNLCNIPCSALLSSDITASVNCAKKIVSDGNGMNAWVAWRNR...      722197   \n166093  TPGSRNLCNIPCSALLSSDITASVNCAKKIVSDGNGMNAWVAWRNR...      722197   \n166094  TPGSRNLCNIPCSALLSSDITASVNCAKKIVSDGNGMNAWVAWRNR...      722198   \n166095  TPGSRNLCNIPCSALLSSDITASVNCAKKIVSDGNGMNAWVAWRNR...      722198   \n\n                                              measurement  measurement_id  \\\n0       <measurement.PeptideMeasurement object at 0x11...            4453   \n1       <measurement.PeptideMeasurement object at 0x11...            4504   \n2       <measurement.PeptideMeasurement object at 0x11...            5627   \n3       <measurement.PeptideMeasurement object at 0x11...            6977   \n4       <measurement.PeptideMeasurement object at 0x11...            8043   \n...                                                   ...             ...   \n166091  <measurement.PeptideMeasurement object at 0x6c...            6290   \n166092  <measurement.PeptideMeasurement object at 0x6c...            6495   \n166093  <measurement.PeptideMeasurement object at 0x6c...            7140   \n166094  <measurement.PeptideMeasurement object at 0x6c...            4387   \n166095  <measurement.PeptideMeasurement object at 0x6c...            5774   \n\n        measurement_scan     score  prec_error_ppm  \n0                   5767  0.078521     1315.922658  \n1                   5822  0.048617    -9292.491281  \n2                   7007  0.033148    -3862.607785  \n3                   8426  0.078980     9773.471492  \n4                   9545  0.035010      124.050471  \n...                  ...       ...             ...  \n166091              7703  0.063555    -4449.302392  \n166092              7920  0.050335    -2241.965649  \n166093              8597  0.043271    -4512.258151  \n166094              5698  0.089163    -4573.598583  \n166095              7162  0.062862    -4311.787648  \n\n[166096 rows x 7 columns]",
      "text/html": "<div>\n<style scoped>\n    .dataframe tbody tr th:only-of-type {\n        vertical-align: middle;\n    }\n\n    .dataframe tbody tr th {\n        vertical-align: top;\n    }\n\n    .dataframe thead th {\n        text-align: right;\n    }\n</style>\n<table border=\"1\" class=\"dataframe\">\n  <thead>\n    <tr style=\"text-align: right;\">\n      <th></th>\n      <th>peptide</th>\n      <th>peptide_id</th>\n      <th>measurement</th>\n      <th>measurement_id</th>\n      <th>measurement_scan</th>\n      <th>score</th>\n      <th>prec_error_ppm</th>\n    </tr>\n  </thead>\n  <tbody>\n    <tr>\n      <th>0</th>\n      <td>RHGLDNYRGYSLGNWVCAAK</td>\n      <td>2</td>\n      <td>&lt;measurement.PeptideMeasurement object at 0x11...</td>\n      <td>4453</td>\n      <td>5767</td>\n      <td>0.078521</td>\n      <td>1315.922658</td>\n    </tr>\n    <tr>\n      <th>1</th>\n      <td>RHGLDNYRGYSLGNWVCAAK</td>\n      <td>2</td>\n      <td>&lt;measurement.PeptideMeasurement object at 0x11...</td>\n      <td>4504</td>\n      <td>5822</td>\n      <td>0.048617</td>\n      <td>-9292.491281</td>\n    </tr>\n    <tr>\n      <th>2</th>\n      <td>RHGLDNYRGYSLGNWVCAAK</td>\n      <td>2</td>\n      <td>&lt;measurement.PeptideMeasurement object at 0x11...</td>\n      <td>5627</td>\n      <td>7007</td>\n      <td>0.033148</td>\n      <td>-3862.607785</td>\n    </tr>\n    <tr>\n      <th>3</th>\n      <td>RHGLDNYRGYSLGNWVCAAK</td>\n      <td>2</td>\n      <td>&lt;measurement.PeptideMeasurement object at 0x11...</td>\n      <td>6977</td>\n      <td>8426</td>\n      <td>0.078980</td>\n      <td>9773.471492</td>\n    </tr>\n    <tr>\n      <th>4</th>\n      <td>RHGLDNYRGYSLGNWVCAAK</td>\n      <td>2</td>\n      <td>&lt;measurement.PeptideMeasurement object at 0x11...</td>\n      <td>8043</td>\n      <td>9545</td>\n      <td>0.035010</td>\n      <td>124.050471</td>\n    </tr>\n    <tr>\n      <th>...</th>\n      <td>...</td>\n      <td>...</td>\n      <td>...</td>\n      <td>...</td>\n      <td>...</td>\n      <td>...</td>\n      <td>...</td>\n    </tr>\n    <tr>\n      <th>166091</th>\n      <td>TPGSRNLCNIPCSALLSSDITASVNCAKKIVSDGNGMNAWVAWRNR...</td>\n      <td>722197</td>\n      <td>&lt;measurement.PeptideMeasurement object at 0x6c...</td>\n      <td>6290</td>\n      <td>7703</td>\n      <td>0.063555</td>\n      <td>-4449.302392</td>\n    </tr>\n    <tr>\n      <th>166092</th>\n      <td>TPGSRNLCNIPCSALLSSDITASVNCAKKIVSDGNGMNAWVAWRNR...</td>\n      <td>722197</td>\n      <td>&lt;measurement.PeptideMeasurement object at 0x6c...</td>\n      <td>6495</td>\n      <td>7920</td>\n      <td>0.050335</td>\n      <td>-2241.965649</td>\n    </tr>\n    <tr>\n      <th>166093</th>\n      <td>TPGSRNLCNIPCSALLSSDITASVNCAKKIVSDGNGMNAWVAWRNR...</td>\n      <td>722197</td>\n      <td>&lt;measurement.PeptideMeasurement object at 0x6c...</td>\n      <td>7140</td>\n      <td>8597</td>\n      <td>0.043271</td>\n      <td>-4512.258151</td>\n    </tr>\n    <tr>\n      <th>166094</th>\n      <td>TPGSRNLCNIPCSALLSSDITASVNCAKKIVSDGNGMNAWVAWRNR...</td>\n      <td>722198</td>\n      <td>&lt;measurement.PeptideMeasurement object at 0x6c...</td>\n      <td>4387</td>\n      <td>5698</td>\n      <td>0.089163</td>\n      <td>-4573.598583</td>\n    </tr>\n    <tr>\n      <th>166095</th>\n      <td>TPGSRNLCNIPCSALLSSDITASVNCAKKIVSDGNGMNAWVAWRNR...</td>\n      <td>722198</td>\n      <td>&lt;measurement.PeptideMeasurement object at 0x6c...</td>\n      <td>5774</td>\n      <td>7162</td>\n      <td>0.062862</td>\n      <td>-4311.787648</td>\n    </tr>\n  </tbody>\n</table>\n<p>166096 rows × 7 columns</p>\n</div>"
     },
     "execution_count": 5,
     "metadata": {},
     "output_type": "execute_result"
    }
   ],
   "source": [
    "source = \"../out/190318_LYS_AT_50x_05_scores.pickle\"\n",
    "dicts = []\n",
    "with open(source, \"rb\") as file:\n",
    "    while True:\n",
    "        try:\n",
    "            for p in pickle.load(file):\n",
    "                dicts.append(p)\n",
    "        except:\n",
    "            break\n",
    "df = pd.DataFrame(dicts)\n",
    "df"
   ]
  },
  {
   "cell_type": "code",
   "execution_count": 55,
   "outputs": [
    {
     "name": "stdout",
     "output_type": "stream",
     "text": [
      "Cysteine (6, 127): 63.56315837012556\n",
      "Cysteine (30, 115): 22.23709135250189\n",
      "Cysteine (6, 115): 5.6792985082803265\n",
      "Cysteine (6, 64): 4.8436639296773025\n",
      "Cysteine (64, 115): 2.9494491960161273\n",
      "Cysteine (64, 127): 2.301268150823785\n",
      "Cysteine (30, 127): 1.90940482254393\n",
      "Cysteine (6, 94): 1.2618185053951843\n",
      "Cysteine (6, 30): 1.186502645072872\n",
      "Cysteine (6, 80): 0.9481047386518159\n",
      "Cysteine (6, 76): 0.6598522364309453\n",
      "Cysteine (76, 115): 0.3470389215739388\n",
      "Cysteine (30, 64): 0.23384890946184128\n",
      "Cysteine (30, 76): 0.1075331707336547\n",
      "Cysteine (30, 80): 0.1075331707336547\n",
      "Cysteine (30, 94): 0.1075331707336547\n"
     ]
    }
   ],
   "source": [
    "\n",
    "def show_evidence(df):\n",
    "    evidence = {}\n",
    "\n",
    "    for peptide, score, err in zip(df.peptide, df.score, df.prec_error_ppm):\n",
    "        if abs(err) <= 10:\n",
    "            for c in ((b + 1, e + 1) for b, e in peptide.cysteines):\n",
    "                current = evidence.setdefault(c, 0)\n",
    "                evidence[c] = current + score\n",
    "\n",
    "    return evidence\n",
    "\n",
    "\n",
    "evidence = show_evidence(df)"
   ],
   "metadata": {
    "collapsed": false,
    "pycharm": {
     "name": "#%%\n"
    }
   }
  },
  {
   "cell_type": "code",
   "execution_count": 124,
   "outputs": [
    {
     "data": {
      "text/plain": "               score  minlen\ncysteine                    \n(6, 127)   49.280116       4\n(6, 64)     5.587818       7\n(6, 115)    4.281959       4\n(6, 30)     3.519083       8\n(30, 115)   2.013966       4\n(6, 94)     1.504249       8\n(30, 127)   1.401605       4\n(6, 80)     1.276947       8\n(6, 76)     0.988695       8\n(64, 127)   0.748502       4\n(64, 115)   0.723197       4\n(76, 115)   0.653917      13\n(30, 64)    0.334601       7\n(64, 94)    0.187627       7\n(30, 94)    0.107533      19\n(30, 76)    0.107533      19\n(30, 80)    0.107533      19\n(64, 76)    0.080883      12\n(64, 80)    0.079461       7",
      "text/html": "<div>\n<style scoped>\n    .dataframe tbody tr th:only-of-type {\n        vertical-align: middle;\n    }\n\n    .dataframe tbody tr th {\n        vertical-align: top;\n    }\n\n    .dataframe thead th {\n        text-align: right;\n    }\n</style>\n<table border=\"1\" class=\"dataframe\">\n  <thead>\n    <tr style=\"text-align: right;\">\n      <th></th>\n      <th>score</th>\n      <th>minlen</th>\n    </tr>\n    <tr>\n      <th>cysteine</th>\n      <th></th>\n      <th></th>\n    </tr>\n  </thead>\n  <tbody>\n    <tr>\n      <th>(6, 127)</th>\n      <td>49.280116</td>\n      <td>4</td>\n    </tr>\n    <tr>\n      <th>(6, 64)</th>\n      <td>5.587818</td>\n      <td>7</td>\n    </tr>\n    <tr>\n      <th>(6, 115)</th>\n      <td>4.281959</td>\n      <td>4</td>\n    </tr>\n    <tr>\n      <th>(6, 30)</th>\n      <td>3.519083</td>\n      <td>8</td>\n    </tr>\n    <tr>\n      <th>(30, 115)</th>\n      <td>2.013966</td>\n      <td>4</td>\n    </tr>\n    <tr>\n      <th>(6, 94)</th>\n      <td>1.504249</td>\n      <td>8</td>\n    </tr>\n    <tr>\n      <th>(30, 127)</th>\n      <td>1.401605</td>\n      <td>4</td>\n    </tr>\n    <tr>\n      <th>(6, 80)</th>\n      <td>1.276947</td>\n      <td>8</td>\n    </tr>\n    <tr>\n      <th>(6, 76)</th>\n      <td>0.988695</td>\n      <td>8</td>\n    </tr>\n    <tr>\n      <th>(64, 127)</th>\n      <td>0.748502</td>\n      <td>4</td>\n    </tr>\n    <tr>\n      <th>(64, 115)</th>\n      <td>0.723197</td>\n      <td>4</td>\n    </tr>\n    <tr>\n      <th>(76, 115)</th>\n      <td>0.653917</td>\n      <td>13</td>\n    </tr>\n    <tr>\n      <th>(30, 64)</th>\n      <td>0.334601</td>\n      <td>7</td>\n    </tr>\n    <tr>\n      <th>(64, 94)</th>\n      <td>0.187627</td>\n      <td>7</td>\n    </tr>\n    <tr>\n      <th>(30, 94)</th>\n      <td>0.107533</td>\n      <td>19</td>\n    </tr>\n    <tr>\n      <th>(30, 76)</th>\n      <td>0.107533</td>\n      <td>19</td>\n    </tr>\n    <tr>\n      <th>(30, 80)</th>\n      <td>0.107533</td>\n      <td>19</td>\n    </tr>\n    <tr>\n      <th>(64, 76)</th>\n      <td>0.080883</td>\n      <td>12</td>\n    </tr>\n    <tr>\n      <th>(64, 80)</th>\n      <td>0.079461</td>\n      <td>7</td>\n    </tr>\n  </tbody>\n</table>\n</div>"
     },
     "execution_count": 124,
     "metadata": {},
     "output_type": "execute_result"
    }
   ],
   "source": [
    "df = df.assign(\n",
    "    cysteine=[\n",
    "        (p.cysteines[0][0] + 1, p.cysteines[0][1] + 1)\n",
    "        if len(p.cysteines) > 0\n",
    "        else np.NaN\n",
    "        for p in df.peptide\n",
    "    ],\n",
    "    minlen=[np.min([len(p.seq) for p in pep.peptides]) for pep in df.peptide],\n",
    ")\n",
    "\n",
    "df.query(\"abs(prec_error_ppm) <= 25 & minlen > 3\").groupby(\"cysteine\").agg(\n",
    "    {\"score\": np.sum, \"minlen\": np.min}\n",
    ").sort_values(\"score\", ascending=False)"
   ],
   "metadata": {
    "collapsed": false,
    "pycharm": {
     "name": "#%%\n"
    }
   }
  },
  {
   "cell_type": "code",
   "execution_count": 134,
   "outputs": [
    {
     "data": {
      "text/plain": "               score  minlen\ncysteine                    \n(6, 115)   48.783007       4\n(6, 127)   42.180074       4\n(6, 94)    22.287954       8\n(6, 30)    19.054865       8\n(6, 64)    17.516740       7\n(30, 115)  12.338307       4\n(30, 127)   8.025014       4\n(76, 115)   7.857422       4\n(64, 115)   6.872380       4\n(6, 80)     6.152576       8\n(6, 76)     6.104690       8\n(64, 127)   4.859630       4\n(30, 64)    3.045902       7\n(30, 80)    2.619134      12\n(30, 94)    2.455609      12\n(30, 76)    1.812798      12\n(64, 76)    1.734128       7\n(64, 94)    1.591030       7\n(76, 80)    1.281409      23\n(64, 80)    1.021871       7\n(76, 94)    0.946845      23\n(76, 127)   0.762792       4",
      "text/html": "<div>\n<style scoped>\n    .dataframe tbody tr th:only-of-type {\n        vertical-align: middle;\n    }\n\n    .dataframe tbody tr th {\n        vertical-align: top;\n    }\n\n    .dataframe thead th {\n        text-align: right;\n    }\n</style>\n<table border=\"1\" class=\"dataframe\">\n  <thead>\n    <tr style=\"text-align: right;\">\n      <th></th>\n      <th>score</th>\n      <th>minlen</th>\n    </tr>\n    <tr>\n      <th>cysteine</th>\n      <th></th>\n      <th></th>\n    </tr>\n  </thead>\n  <tbody>\n    <tr>\n      <th>(6, 115)</th>\n      <td>48.783007</td>\n      <td>4</td>\n    </tr>\n    <tr>\n      <th>(6, 127)</th>\n      <td>42.180074</td>\n      <td>4</td>\n    </tr>\n    <tr>\n      <th>(6, 94)</th>\n      <td>22.287954</td>\n      <td>8</td>\n    </tr>\n    <tr>\n      <th>(6, 30)</th>\n      <td>19.054865</td>\n      <td>8</td>\n    </tr>\n    <tr>\n      <th>(6, 64)</th>\n      <td>17.516740</td>\n      <td>7</td>\n    </tr>\n    <tr>\n      <th>(30, 115)</th>\n      <td>12.338307</td>\n      <td>4</td>\n    </tr>\n    <tr>\n      <th>(30, 127)</th>\n      <td>8.025014</td>\n      <td>4</td>\n    </tr>\n    <tr>\n      <th>(76, 115)</th>\n      <td>7.857422</td>\n      <td>4</td>\n    </tr>\n    <tr>\n      <th>(64, 115)</th>\n      <td>6.872380</td>\n      <td>4</td>\n    </tr>\n    <tr>\n      <th>(6, 80)</th>\n      <td>6.152576</td>\n      <td>8</td>\n    </tr>\n    <tr>\n      <th>(6, 76)</th>\n      <td>6.104690</td>\n      <td>8</td>\n    </tr>\n    <tr>\n      <th>(64, 127)</th>\n      <td>4.859630</td>\n      <td>4</td>\n    </tr>\n    <tr>\n      <th>(30, 64)</th>\n      <td>3.045902</td>\n      <td>7</td>\n    </tr>\n    <tr>\n      <th>(30, 80)</th>\n      <td>2.619134</td>\n      <td>12</td>\n    </tr>\n    <tr>\n      <th>(30, 94)</th>\n      <td>2.455609</td>\n      <td>12</td>\n    </tr>\n    <tr>\n      <th>(30, 76)</th>\n      <td>1.812798</td>\n      <td>12</td>\n    </tr>\n    <tr>\n      <th>(64, 76)</th>\n      <td>1.734128</td>\n      <td>7</td>\n    </tr>\n    <tr>\n      <th>(64, 94)</th>\n      <td>1.591030</td>\n      <td>7</td>\n    </tr>\n    <tr>\n      <th>(76, 80)</th>\n      <td>1.281409</td>\n      <td>23</td>\n    </tr>\n    <tr>\n      <th>(64, 80)</th>\n      <td>1.021871</td>\n      <td>7</td>\n    </tr>\n    <tr>\n      <th>(76, 94)</th>\n      <td>0.946845</td>\n      <td>23</td>\n    </tr>\n    <tr>\n      <th>(76, 127)</th>\n      <td>0.762792</td>\n      <td>4</td>\n    </tr>\n  </tbody>\n</table>\n</div>"
     },
     "execution_count": 134,
     "metadata": {},
     "output_type": "execute_result"
    }
   ],
   "source": [
    "df.sort_values(\"score\", ascending=False).groupby(\"measurement_scan\").head(1).query(\n",
    "    \"abs(prec_error_ppm) <= 10000000 & minlen > 3\"\n",
    ").groupby(\"cysteine\").agg({\"score\": np.sum, \"minlen\": np.min}).sort_values(\n",
    "    \"score\", ascending=False\n",
    ")"
   ],
   "metadata": {
    "collapsed": false,
    "pycharm": {
     "name": "#%%\n"
    }
   }
  },
  {
   "cell_type": "code",
   "execution_count": 146,
   "outputs": [
    {
     "data": {
      "text/plain": "                                                  peptide  peptide_id  \\\n134972          WWCNDGRTPGSR+TPGSRNLCNIPCSALLSSDITASVNCAK      482589   \n135449  WWCNDGR+WWCNDGRTPGSRNLCNIPCSALLSSDITASVNCAKKIV...      490479   \n134078  NTDGSTDYGILQINSRWWCNDGR+NLCNIPCSALLSSDITASVNCA...      468682   \n133672  NTDGSTDYGILQINSRWWCNDGRTPGSR+NLCNIPCSALLSSDITA...      460814   \n134540  WWCNDGRTPGSR+TPGSRNLCNIPCSALLSSDITASVNCAKKIVSD...      481981   \n...                                                   ...         ...   \n134559  WWCNDGRTPGSR+NLCNIPCSALLSSDITASVNCAKKIVSDGNGMN...      482242   \n133540  WWCNDGRTPGSRNLCNIPCSALLSSDITASVNCAKK+WWCNDGRTP...      460255   \n134302  WWCNDGRTPGSRNLCNIPCSALLSSDITASVNCAK+NLCNIPCSAL...      476742   \n133900  NTDGSTDYGILQINSRWWCNDGRTPGSR+WWCNDGRTPGSRNLCNI...      461112   \n134879  WWCNDGRTPGSR+NLCNIPCSALLSSDITASVNCAKKIVSDGNGMN...      482558   \n\n                                              measurement  measurement_id  \\\n134972  <measurement.PeptideMeasurement object at 0x57...            5187   \n135449  <measurement.PeptideMeasurement object at 0x57...            5195   \n134078  <measurement.PeptideMeasurement object at 0x56...            5110   \n133672  <measurement.PeptideMeasurement object at 0x56...            8436   \n134540  <measurement.PeptideMeasurement object at 0x57...            6305   \n...                                                   ...             ...   \n134559  <measurement.PeptideMeasurement object at 0x57...            5728   \n133540  <measurement.PeptideMeasurement object at 0x56...            8971   \n134302  <measurement.PeptideMeasurement object at 0x57...            5058   \n133900  <measurement.PeptideMeasurement object at 0x56...            6805   \n134879  <measurement.PeptideMeasurement object at 0x57...            4774   \n\n        measurement_scan     score  prec_error_ppm  cysteine  minlen  \n134972              6546  0.012346    -3860.943967  (64, 80)      12  \n135449              6554  0.023534    -5227.408229  (64, 80)       7  \n134078              6465  0.025628     4643.362686  (64, 80)      23  \n133672              9957  0.025904     7211.961301  (64, 80)      23  \n134540              7719  0.026627     5412.610004  (64, 80)      12  \n...                  ...       ...             ...       ...     ...  \n134559              7113  0.168685    -3641.999274  (64, 80)      12  \n133540             10519  0.173146     5100.867086  (64, 80)      35  \n134302              6410  0.178758     8325.279828  (64, 80)      24  \n133900              8245  0.191258    -4207.652594  (64, 80)      28  \n134879              6110  0.207766    -1279.936103  (64, 80)      12  \n\n[344 rows x 9 columns]",
      "text/html": "<div>\n<style scoped>\n    .dataframe tbody tr th:only-of-type {\n        vertical-align: middle;\n    }\n\n    .dataframe tbody tr th {\n        vertical-align: top;\n    }\n\n    .dataframe thead th {\n        text-align: right;\n    }\n</style>\n<table border=\"1\" class=\"dataframe\">\n  <thead>\n    <tr style=\"text-align: right;\">\n      <th></th>\n      <th>peptide</th>\n      <th>peptide_id</th>\n      <th>measurement</th>\n      <th>measurement_id</th>\n      <th>measurement_scan</th>\n      <th>score</th>\n      <th>prec_error_ppm</th>\n      <th>cysteine</th>\n      <th>minlen</th>\n    </tr>\n  </thead>\n  <tbody>\n    <tr>\n      <th>134972</th>\n      <td>WWCNDGRTPGSR+TPGSRNLCNIPCSALLSSDITASVNCAK</td>\n      <td>482589</td>\n      <td>&lt;measurement.PeptideMeasurement object at 0x57...</td>\n      <td>5187</td>\n      <td>6546</td>\n      <td>0.012346</td>\n      <td>-3860.943967</td>\n      <td>(64, 80)</td>\n      <td>12</td>\n    </tr>\n    <tr>\n      <th>135449</th>\n      <td>WWCNDGR+WWCNDGRTPGSRNLCNIPCSALLSSDITASVNCAKKIV...</td>\n      <td>490479</td>\n      <td>&lt;measurement.PeptideMeasurement object at 0x57...</td>\n      <td>5195</td>\n      <td>6554</td>\n      <td>0.023534</td>\n      <td>-5227.408229</td>\n      <td>(64, 80)</td>\n      <td>7</td>\n    </tr>\n    <tr>\n      <th>134078</th>\n      <td>NTDGSTDYGILQINSRWWCNDGR+NLCNIPCSALLSSDITASVNCA...</td>\n      <td>468682</td>\n      <td>&lt;measurement.PeptideMeasurement object at 0x56...</td>\n      <td>5110</td>\n      <td>6465</td>\n      <td>0.025628</td>\n      <td>4643.362686</td>\n      <td>(64, 80)</td>\n      <td>23</td>\n    </tr>\n    <tr>\n      <th>133672</th>\n      <td>NTDGSTDYGILQINSRWWCNDGRTPGSR+NLCNIPCSALLSSDITA...</td>\n      <td>460814</td>\n      <td>&lt;measurement.PeptideMeasurement object at 0x56...</td>\n      <td>8436</td>\n      <td>9957</td>\n      <td>0.025904</td>\n      <td>7211.961301</td>\n      <td>(64, 80)</td>\n      <td>23</td>\n    </tr>\n    <tr>\n      <th>134540</th>\n      <td>WWCNDGRTPGSR+TPGSRNLCNIPCSALLSSDITASVNCAKKIVSD...</td>\n      <td>481981</td>\n      <td>&lt;measurement.PeptideMeasurement object at 0x57...</td>\n      <td>6305</td>\n      <td>7719</td>\n      <td>0.026627</td>\n      <td>5412.610004</td>\n      <td>(64, 80)</td>\n      <td>12</td>\n    </tr>\n    <tr>\n      <th>...</th>\n      <td>...</td>\n      <td>...</td>\n      <td>...</td>\n      <td>...</td>\n      <td>...</td>\n      <td>...</td>\n      <td>...</td>\n      <td>...</td>\n      <td>...</td>\n    </tr>\n    <tr>\n      <th>134559</th>\n      <td>WWCNDGRTPGSR+NLCNIPCSALLSSDITASVNCAKKIVSDGNGMN...</td>\n      <td>482242</td>\n      <td>&lt;measurement.PeptideMeasurement object at 0x57...</td>\n      <td>5728</td>\n      <td>7113</td>\n      <td>0.168685</td>\n      <td>-3641.999274</td>\n      <td>(64, 80)</td>\n      <td>12</td>\n    </tr>\n    <tr>\n      <th>133540</th>\n      <td>WWCNDGRTPGSRNLCNIPCSALLSSDITASVNCAKK+WWCNDGRTP...</td>\n      <td>460255</td>\n      <td>&lt;measurement.PeptideMeasurement object at 0x56...</td>\n      <td>8971</td>\n      <td>10519</td>\n      <td>0.173146</td>\n      <td>5100.867086</td>\n      <td>(64, 80)</td>\n      <td>35</td>\n    </tr>\n    <tr>\n      <th>134302</th>\n      <td>WWCNDGRTPGSRNLCNIPCSALLSSDITASVNCAK+NLCNIPCSAL...</td>\n      <td>476742</td>\n      <td>&lt;measurement.PeptideMeasurement object at 0x57...</td>\n      <td>5058</td>\n      <td>6410</td>\n      <td>0.178758</td>\n      <td>8325.279828</td>\n      <td>(64, 80)</td>\n      <td>24</td>\n    </tr>\n    <tr>\n      <th>133900</th>\n      <td>NTDGSTDYGILQINSRWWCNDGRTPGSR+WWCNDGRTPGSRNLCNI...</td>\n      <td>461112</td>\n      <td>&lt;measurement.PeptideMeasurement object at 0x56...</td>\n      <td>6805</td>\n      <td>8245</td>\n      <td>0.191258</td>\n      <td>-4207.652594</td>\n      <td>(64, 80)</td>\n      <td>28</td>\n    </tr>\n    <tr>\n      <th>134879</th>\n      <td>WWCNDGRTPGSR+NLCNIPCSALLSSDITASVNCAKKIVSDGNGMN...</td>\n      <td>482558</td>\n      <td>&lt;measurement.PeptideMeasurement object at 0x57...</td>\n      <td>4774</td>\n      <td>6110</td>\n      <td>0.207766</td>\n      <td>-1279.936103</td>\n      <td>(64, 80)</td>\n      <td>12</td>\n    </tr>\n  </tbody>\n</table>\n<p>344 rows × 9 columns</p>\n</div>"
     },
     "execution_count": 146,
     "metadata": {},
     "output_type": "execute_result"
    }
   ],
   "source": [
    "df[df.cysteine == (64, 80)].sort_values(\"score\", ascending=False).groupby(\n",
    "    \"measurement_scan\"\n",
    ").head(1).sort_values(\"score\")"
   ],
   "metadata": {
    "collapsed": false,
    "pycharm": {
     "name": "#%%\n"
    }
   }
  },
  {
   "cell_type": "code",
   "execution_count": 152,
   "outputs": [
    {
     "name": "stderr",
     "output_type": "stream",
     "text": [
      "<ipython-input-152-a7d4c1ca09ad>:3: UserWarning: Boolean Series key will be reindexed to match DataFrame index.\n",
      "  d[df.cysteine == (64, 80)].assign(\n"
     ]
    },
    {
     "ename": "ValueError",
     "evalue": "Length of values (4711) does not match length of index (14)",
     "output_type": "error",
     "traceback": [
      "\u001B[0;31m---------------------------------------------------------------------------\u001B[0m",
      "\u001B[0;31mValueError\u001B[0m                                Traceback (most recent call last)",
      "\u001B[0;32m<ipython-input-152-a7d4c1ca09ad>\u001B[0m in \u001B[0;36m<module>\u001B[0;34m\u001B[0m\n\u001B[1;32m      1\u001B[0m \u001B[0md\u001B[0m \u001B[0;34m=\u001B[0m \u001B[0mdf\u001B[0m\u001B[0;34m.\u001B[0m\u001B[0msort_values\u001B[0m\u001B[0;34m(\u001B[0m\u001B[0;34m\"score\"\u001B[0m\u001B[0;34m,\u001B[0m \u001B[0mascending\u001B[0m\u001B[0;34m=\u001B[0m\u001B[0;32mFalse\u001B[0m\u001B[0;34m)\u001B[0m\u001B[0;34m.\u001B[0m\u001B[0mgroupby\u001B[0m\u001B[0;34m(\u001B[0m\u001B[0;34m\"measurement_scan\"\u001B[0m\u001B[0;34m)\u001B[0m\u001B[0;34m.\u001B[0m\u001B[0mhead\u001B[0m\u001B[0;34m(\u001B[0m\u001B[0;36m1\u001B[0m\u001B[0;34m)\u001B[0m\u001B[0;34m\u001B[0m\u001B[0;34m\u001B[0m\u001B[0m\n\u001B[1;32m      2\u001B[0m \u001B[0;34m\u001B[0m\u001B[0m\n\u001B[0;32m----> 3\u001B[0;31m d[df.cysteine == (64, 80)].assign(\n\u001B[0m\u001B[1;32m      4\u001B[0m     \u001B[0merr\u001B[0m\u001B[0;34m=\u001B[0m\u001B[0mabs\u001B[0m\u001B[0;34m(\u001B[0m\u001B[0md\u001B[0m\u001B[0;34m.\u001B[0m\u001B[0mprec_error_ppm\u001B[0m\u001B[0;34m)\u001B[0m\u001B[0;34m,\u001B[0m \u001B[0mmods\u001B[0m\u001B[0;34m=\u001B[0m\u001B[0;34m[\u001B[0m\u001B[0mp\u001B[0m\u001B[0;34m.\u001B[0m\u001B[0mmodstr\u001B[0m \u001B[0;32mfor\u001B[0m \u001B[0mp\u001B[0m \u001B[0;32min\u001B[0m \u001B[0md\u001B[0m\u001B[0;34m.\u001B[0m\u001B[0mpeptide\u001B[0m\u001B[0;34m]\u001B[0m\u001B[0;34m\u001B[0m\u001B[0;34m\u001B[0m\u001B[0m\n\u001B[1;32m      5\u001B[0m ).sort_values(\"err\")\n",
      "\u001B[0;32m~/Library/Caches/pypoetry/virtualenvs/mirek-12EL7Uqv-py3.9/lib/python3.9/site-packages/pandas/core/frame.py\u001B[0m in \u001B[0;36massign\u001B[0;34m(self, **kwargs)\u001B[0m\n\u001B[1;32m   3828\u001B[0m \u001B[0;34m\u001B[0m\u001B[0m\n\u001B[1;32m   3829\u001B[0m         \u001B[0;32mfor\u001B[0m \u001B[0mk\u001B[0m\u001B[0;34m,\u001B[0m \u001B[0mv\u001B[0m \u001B[0;32min\u001B[0m \u001B[0mkwargs\u001B[0m\u001B[0;34m.\u001B[0m\u001B[0mitems\u001B[0m\u001B[0;34m(\u001B[0m\u001B[0;34m)\u001B[0m\u001B[0;34m:\u001B[0m\u001B[0;34m\u001B[0m\u001B[0;34m\u001B[0m\u001B[0m\n\u001B[0;32m-> 3830\u001B[0;31m             \u001B[0mdata\u001B[0m\u001B[0;34m[\u001B[0m\u001B[0mk\u001B[0m\u001B[0;34m]\u001B[0m \u001B[0;34m=\u001B[0m \u001B[0mcom\u001B[0m\u001B[0;34m.\u001B[0m\u001B[0mapply_if_callable\u001B[0m\u001B[0;34m(\u001B[0m\u001B[0mv\u001B[0m\u001B[0;34m,\u001B[0m \u001B[0mdata\u001B[0m\u001B[0;34m)\u001B[0m\u001B[0;34m\u001B[0m\u001B[0;34m\u001B[0m\u001B[0m\n\u001B[0m\u001B[1;32m   3831\u001B[0m         \u001B[0;32mreturn\u001B[0m \u001B[0mdata\u001B[0m\u001B[0;34m\u001B[0m\u001B[0;34m\u001B[0m\u001B[0m\n\u001B[1;32m   3832\u001B[0m \u001B[0;34m\u001B[0m\u001B[0m\n",
      "\u001B[0;32m~/Library/Caches/pypoetry/virtualenvs/mirek-12EL7Uqv-py3.9/lib/python3.9/site-packages/pandas/core/frame.py\u001B[0m in \u001B[0;36m__setitem__\u001B[0;34m(self, key, value)\u001B[0m\n\u001B[1;32m   3161\u001B[0m         \u001B[0;32melse\u001B[0m\u001B[0;34m:\u001B[0m\u001B[0;34m\u001B[0m\u001B[0;34m\u001B[0m\u001B[0m\n\u001B[1;32m   3162\u001B[0m             \u001B[0;31m# set column\u001B[0m\u001B[0;34m\u001B[0m\u001B[0;34m\u001B[0m\u001B[0;34m\u001B[0m\u001B[0m\n\u001B[0;32m-> 3163\u001B[0;31m             \u001B[0mself\u001B[0m\u001B[0;34m.\u001B[0m\u001B[0m_set_item\u001B[0m\u001B[0;34m(\u001B[0m\u001B[0mkey\u001B[0m\u001B[0;34m,\u001B[0m \u001B[0mvalue\u001B[0m\u001B[0;34m)\u001B[0m\u001B[0;34m\u001B[0m\u001B[0;34m\u001B[0m\u001B[0m\n\u001B[0m\u001B[1;32m   3164\u001B[0m \u001B[0;34m\u001B[0m\u001B[0m\n\u001B[1;32m   3165\u001B[0m     \u001B[0;32mdef\u001B[0m \u001B[0m_setitem_slice\u001B[0m\u001B[0;34m(\u001B[0m\u001B[0mself\u001B[0m\u001B[0;34m,\u001B[0m \u001B[0mkey\u001B[0m\u001B[0;34m:\u001B[0m \u001B[0mslice\u001B[0m\u001B[0;34m,\u001B[0m \u001B[0mvalue\u001B[0m\u001B[0;34m)\u001B[0m\u001B[0;34m:\u001B[0m\u001B[0;34m\u001B[0m\u001B[0;34m\u001B[0m\u001B[0m\n",
      "\u001B[0;32m~/Library/Caches/pypoetry/virtualenvs/mirek-12EL7Uqv-py3.9/lib/python3.9/site-packages/pandas/core/frame.py\u001B[0m in \u001B[0;36m_set_item\u001B[0;34m(self, key, value)\u001B[0m\n\u001B[1;32m   3240\u001B[0m         \"\"\"\n\u001B[1;32m   3241\u001B[0m         \u001B[0mself\u001B[0m\u001B[0;34m.\u001B[0m\u001B[0m_ensure_valid_index\u001B[0m\u001B[0;34m(\u001B[0m\u001B[0mvalue\u001B[0m\u001B[0;34m)\u001B[0m\u001B[0;34m\u001B[0m\u001B[0;34m\u001B[0m\u001B[0m\n\u001B[0;32m-> 3242\u001B[0;31m         \u001B[0mvalue\u001B[0m \u001B[0;34m=\u001B[0m \u001B[0mself\u001B[0m\u001B[0;34m.\u001B[0m\u001B[0m_sanitize_column\u001B[0m\u001B[0;34m(\u001B[0m\u001B[0mkey\u001B[0m\u001B[0;34m,\u001B[0m \u001B[0mvalue\u001B[0m\u001B[0;34m)\u001B[0m\u001B[0;34m\u001B[0m\u001B[0;34m\u001B[0m\u001B[0m\n\u001B[0m\u001B[1;32m   3243\u001B[0m         \u001B[0mNDFrame\u001B[0m\u001B[0;34m.\u001B[0m\u001B[0m_set_item\u001B[0m\u001B[0;34m(\u001B[0m\u001B[0mself\u001B[0m\u001B[0;34m,\u001B[0m \u001B[0mkey\u001B[0m\u001B[0;34m,\u001B[0m \u001B[0mvalue\u001B[0m\u001B[0;34m)\u001B[0m\u001B[0;34m\u001B[0m\u001B[0;34m\u001B[0m\u001B[0m\n\u001B[1;32m   3244\u001B[0m \u001B[0;34m\u001B[0m\u001B[0m\n",
      "\u001B[0;32m~/Library/Caches/pypoetry/virtualenvs/mirek-12EL7Uqv-py3.9/lib/python3.9/site-packages/pandas/core/frame.py\u001B[0m in \u001B[0;36m_sanitize_column\u001B[0;34m(self, key, value, broadcast)\u001B[0m\n\u001B[1;32m   3897\u001B[0m \u001B[0;34m\u001B[0m\u001B[0m\n\u001B[1;32m   3898\u001B[0m             \u001B[0;31m# turn me into an ndarray\u001B[0m\u001B[0;34m\u001B[0m\u001B[0;34m\u001B[0m\u001B[0;34m\u001B[0m\u001B[0m\n\u001B[0;32m-> 3899\u001B[0;31m             \u001B[0mvalue\u001B[0m \u001B[0;34m=\u001B[0m \u001B[0msanitize_index\u001B[0m\u001B[0;34m(\u001B[0m\u001B[0mvalue\u001B[0m\u001B[0;34m,\u001B[0m \u001B[0mself\u001B[0m\u001B[0;34m.\u001B[0m\u001B[0mindex\u001B[0m\u001B[0;34m)\u001B[0m\u001B[0;34m\u001B[0m\u001B[0;34m\u001B[0m\u001B[0m\n\u001B[0m\u001B[1;32m   3900\u001B[0m             \u001B[0;32mif\u001B[0m \u001B[0;32mnot\u001B[0m \u001B[0misinstance\u001B[0m\u001B[0;34m(\u001B[0m\u001B[0mvalue\u001B[0m\u001B[0;34m,\u001B[0m \u001B[0;34m(\u001B[0m\u001B[0mnp\u001B[0m\u001B[0;34m.\u001B[0m\u001B[0mndarray\u001B[0m\u001B[0;34m,\u001B[0m \u001B[0mIndex\u001B[0m\u001B[0;34m)\u001B[0m\u001B[0;34m)\u001B[0m\u001B[0;34m:\u001B[0m\u001B[0;34m\u001B[0m\u001B[0;34m\u001B[0m\u001B[0m\n\u001B[1;32m   3901\u001B[0m                 \u001B[0;32mif\u001B[0m \u001B[0misinstance\u001B[0m\u001B[0;34m(\u001B[0m\u001B[0mvalue\u001B[0m\u001B[0;34m,\u001B[0m \u001B[0mlist\u001B[0m\u001B[0;34m)\u001B[0m \u001B[0;32mand\u001B[0m \u001B[0mlen\u001B[0m\u001B[0;34m(\u001B[0m\u001B[0mvalue\u001B[0m\u001B[0;34m)\u001B[0m \u001B[0;34m>\u001B[0m \u001B[0;36m0\u001B[0m\u001B[0;34m:\u001B[0m\u001B[0;34m\u001B[0m\u001B[0;34m\u001B[0m\u001B[0m\n",
      "\u001B[0;32m~/Library/Caches/pypoetry/virtualenvs/mirek-12EL7Uqv-py3.9/lib/python3.9/site-packages/pandas/core/internals/construction.py\u001B[0m in \u001B[0;36msanitize_index\u001B[0;34m(data, index)\u001B[0m\n\u001B[1;32m    749\u001B[0m     \"\"\"\n\u001B[1;32m    750\u001B[0m     \u001B[0;32mif\u001B[0m \u001B[0mlen\u001B[0m\u001B[0;34m(\u001B[0m\u001B[0mdata\u001B[0m\u001B[0;34m)\u001B[0m \u001B[0;34m!=\u001B[0m \u001B[0mlen\u001B[0m\u001B[0;34m(\u001B[0m\u001B[0mindex\u001B[0m\u001B[0;34m)\u001B[0m\u001B[0;34m:\u001B[0m\u001B[0;34m\u001B[0m\u001B[0;34m\u001B[0m\u001B[0m\n\u001B[0;32m--> 751\u001B[0;31m         raise ValueError(\n\u001B[0m\u001B[1;32m    752\u001B[0m             \u001B[0;34m\"Length of values \"\u001B[0m\u001B[0;34m\u001B[0m\u001B[0;34m\u001B[0m\u001B[0m\n\u001B[1;32m    753\u001B[0m             \u001B[0;34mf\"({len(data)}) \"\u001B[0m\u001B[0;34m\u001B[0m\u001B[0;34m\u001B[0m\u001B[0m\n",
      "\u001B[0;31mValueError\u001B[0m: Length of values (4711) does not match length of index (14)"
     ]
    }
   ],
   "source": [
    "d = df.sort_values(\"score\", ascending=False).groupby(\"measurement_scan\").head(1)\n",
    "\n",
    "d[df.cysteine == (64, 80)].assign(\n",
    "    err=abs(d.prec_error_ppm), mods=[p.modstr for p in d.peptide]\n",
    ").sort_values(\"err\")"
   ],
   "metadata": {
    "collapsed": false,
    "pycharm": {
     "name": "#%%\n"
    }
   }
  },
  {
   "cell_type": "code",
   "execution_count": 221,
   "outputs": [],
   "source": [
    "curr = df.assign(\n",
    "    mods=[p.modstr for p in df.peptide],\n",
    "    charge=[p.total_charge for p in df.peptide],\n",
    "    diff=[\n",
    "        (p.total_mz - m.peptide_mz) * p.total_charge\n",
    "        for p, m in zip(df.peptide, df.measurement)\n",
    "    ],\n",
    ")[\n",
    "    [\n",
    "        \"WWCNDGR\" in str(p) and \"NLCNIPCSALLSSDITASVNCAK\" in str(p)\n",
    "        # and not p.ismerged\n",
    "        for p in df.peptide\n",
    "    ]\n",
    "]"
   ],
   "metadata": {
    "collapsed": false,
    "pycharm": {
     "name": "#%%\n"
    }
   }
  },
  {
   "cell_type": "code",
   "execution_count": null,
   "outputs": [],
   "source": [],
   "metadata": {
    "collapsed": false,
    "pycharm": {
     "name": "#%%\n"
    }
   }
  }
 ],
 "metadata": {
  "kernelspec": {
   "display_name": "Python 3",
   "language": "python",
   "name": "python3"
  },
  "language_info": {
   "codemirror_mode": {
    "name": "ipython",
    "version": 3
   },
   "file_extension": ".py",
   "mimetype": "text/x-python",
   "name": "python",
   "nbconvert_exporter": "python",
   "pygments_lexer": "ipython3",
   "version": "3.9.0"
  }
 },
 "nbformat": 4,
 "nbformat_minor": 1
}
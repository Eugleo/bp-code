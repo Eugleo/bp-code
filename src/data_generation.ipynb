{
 "cells": [
  {
   "cell_type": "code",
   "execution_count": 9,
   "metadata": {
    "collapsed": true
   },
   "outputs": [],
   "source": [
    "from typing import Optional, List, Tuple, Dict\n",
    "\n",
    "import numpy as np\n",
    "import pandas as pd\n",
    "from pepfrag import Peptide, IonType, ModSite\n",
    "\n",
    "from src.fragment_matching import (\n",
    "    write_matched_fragments,\n",
    ")\n",
    "from src.model.fragment import Fragment\n",
    "from src.model.modification import IAA_ALKYLATION, CYS_BOND\n",
    "from src.model.precursor import Precursor\n",
    "from src.model.scan import Scan\n",
    "from src.model.variant import Variant\n",
    "from src.precursor_matching import write_matched_precursors\n",
    "from src.utilities.constants import LIP_BONDS, PROTON, OVA_BONDS\n",
    "from src.utilities.dataloading import cleave_protein\n",
    "from pyteomics import fasta\n",
    "import re\n",
    "\n",
    "from random import randrange, randint, choices, shuffle\n",
    "from pyteomics.mass import calculate_mass"
   ]
  },
  {
   "cell_type": "code",
   "execution_count": 10,
   "outputs": [
    {
     "data": {
      "text/plain": "'GSIGAASMEFCFDVFKELKVHHANENIFYCPIAIMSALAMVYLGAKDSTRTQINKVVRFDKLPGFGDSIEAQCGTSVNVHSSLRDILNQITKPNDVYSFSLASRLYAEERYPILPEYLQCVKELYRGGLEPINFQTAADQARELINSWVESQTNGIIRNVLQPSSVDSQTAMVLVNAIVFKGLWEKAFKDEDTQAMPFRVTEQESKPVQMMYQIGLFRVASMASEKMKILELPFASGTMSMLVLLPDEVSGLEQLESIINFEKLTEWTSSNVMEERKIKVYLPRMKMEEKYNLTSVLMAMGITDVFSSSANLSGISSAESLKISQAVHAAHAEINEAGREVVGSAEAGVDAASVSEEFRADHPFLFCIKHIATNAVLFFGRCVSP'"
     },
     "execution_count": 10,
     "metadata": {},
     "output_type": "execute_result"
    }
   ],
   "source": [
    "from src.utilities.error import within_bounds\n",
    "\n",
    "PROTEIN = \"OVA\"\n",
    "CYS_BONDS = OVA_BONDS\n",
    "tryptides = cleave_protein(PROTEIN)\n",
    "TRYPTIDE_COUNT = len(tryptides)\n",
    "seq_path = f\"../data/fasta/{PROTEIN}.fasta\"\n",
    "SEQUENCE = [r.sequence for r in fasta.read(seq_path)][0]\n",
    "SEQUENCE"
   ],
   "metadata": {
    "collapsed": false,
    "pycharm": {
     "name": "#%%\n"
    }
   }
  },
  {
   "cell_type": "code",
   "execution_count": 12,
   "outputs": [],
   "source": [
    "\n",
    "def intersects(t, u):\n",
    "    x, y = t\n",
    "    a, b = u\n",
    "    return not (x >= b or y <= a)\n",
    "\n",
    "\n",
    "def dedup(xs):\n",
    "    return list(dict(tp) for tp in set(tuple(p.items()) for p in (xs)))\n",
    "\n",
    "\n",
    "def connected_cys_count(prec):\n",
    "    return sum(res == \"C\" for res in prec.sequence) - prec.alkylation_count\n",
    "\n",
    "\n",
    "def generate_precursors(base_count=10000):\n",
    "    bondless_precursors: List[Dict] = []\n",
    "    raw_bonded_material: List[Dict] = []\n",
    "    for _ in range(0, base_count):\n",
    "        x = randrange(0, TRYPTIDE_COUNT)\n",
    "        y = randrange(x, min(TRYPTIDE_COUNT, x + 5))\n",
    "        b, e = min(x, y), max(x, y)\n",
    "\n",
    "        if b < e:\n",
    "            charge = randint(1, 5)\n",
    "            sequence = \"\".join(t.sequence for t in tryptides[b:e])\n",
    "            alkylations = sum(res == \"C\" for res in sequence)\n",
    "\n",
    "            cys_overlap = [i for i in [7, 10] if i in range(b, e)]\n",
    "            if cys_overlap:\n",
    "                alkylations -= len(cys_overlap)\n",
    "\n",
    "            mass = calculate_mass(sequence) + alkylations * IAA_ALKYLATION.mass\n",
    "            prec: Dict = {\n",
    "                \"charge\": charge,\n",
    "                \"precursor\": Precursor(\n",
    "                    sequence=sequence,\n",
    "                    mass=mass,\n",
    "                    mz=mass / charge + PROTON,\n",
    "                    segments=[(b, e)],\n",
    "                    residue_ranges=[(tryptides[b].beginning, tryptides[e - 1].end)],\n",
    "                    cys_bond_count=0,\n",
    "                    alkylation_count=alkylations,\n",
    "                    modifications=[],\n",
    "                    error_ppm=0,\n",
    "                ),\n",
    "            }\n",
    "\n",
    "            if cys_overlap:\n",
    "                raw_bonded_material.append(prec)\n",
    "            else:\n",
    "                bondless_precursors.append(prec)\n",
    "\n",
    "    bondless_precursors = dedup(bondless_precursors)\n",
    "    raw_bonded_material = dedup(raw_bonded_material)\n",
    "\n",
    "    bonded_precursors = []\n",
    "    for i, s in enumerate(raw_bonded_material):\n",
    "        prec: Precursor = s[\"precursor\"]\n",
    "        for t in raw_bonded_material[i:]:\n",
    "            qrec: Precursor = t[\"precursor\"]\n",
    "            if not intersects(prec.segments[0], qrec.segments[0]):\n",
    "                charge = randint(1, 5)\n",
    "                ps = sorted([prec, qrec], key=lambda p: p.segments[0][0])\n",
    "                mass = prec.mass + qrec.mass + CYS_BOND.mass\n",
    "                joined = Precursor(\n",
    "                    sequence=ps[0].sequence + \"+\" + ps[1].sequence,\n",
    "                    mass=mass,\n",
    "                    mz=mass / charge + PROTON,\n",
    "                    segments=ps[0].segments + ps[1].segments,\n",
    "                    residue_ranges=ps[0].residue_ranges + ps[1].residue_ranges,\n",
    "                    cys_bond_count=1,\n",
    "                    alkylation_count=prec.alkylation_count + qrec.alkylation_count,\n",
    "                    modifications=ps[0].modifications + ps[1].modifications,\n",
    "                    error_ppm=0,\n",
    "                )\n",
    "                bonded_precursors.append({\"charge\": charge, \"precursor\": joined})\n",
    "\n",
    "    bonded_precursors = dedup(bonded_precursors)\n",
    "\n",
    "    bonded_unipeptides = []\n",
    "    for s in raw_bonded_material:\n",
    "        p: Precursor = s[\"precursor\"]\n",
    "        if connected_cys_count(p) == 2:\n",
    "            charge = s[\"charge\"]\n",
    "            bonded_unipeptides.append(\n",
    "                {\n",
    "                    \"charge\": charge,\n",
    "                    \"precursor\": Precursor(\n",
    "                        p.sequence,\n",
    "                        p.mass + CYS_BOND.mass,\n",
    "                        (p.mass + CYS_BOND.mass) / charge + PROTON,\n",
    "                        p.segments,\n",
    "                        p.residue_ranges,\n",
    "                        p.cys_bond_count,\n",
    "                        p.alkylation_count,\n",
    "                        p.modifications,\n",
    "                        p.error_ppm,\n",
    "                    ),\n",
    "                }\n",
    "            )\n",
    "\n",
    "    bonded_unipeptides = dedup(bonded_unipeptides)\n",
    "\n",
    "    return bondless_precursors + bonded_precursors + bonded_unipeptides\n"
   ],
   "metadata": {
    "collapsed": false,
    "pycharm": {
     "name": "#%%\n"
    }
   }
  },
  {
   "cell_type": "code",
   "execution_count": 13,
   "outputs": [
    {
     "data": {
      "text/plain": "[{'charge': 2,\n  'precursor': Precursor(sequence='NVLQPSSVDSQTAMVLVNAIVFK', mass=2459.3093960361803, mz=1230.6625230501602, segments=[(14, 15)], residue_ranges=[(158, 181)], cys_bond_count=0, alkylation_count=0, modifications=[], error_ppm=0)},\n {'charge': 1,\n  'precursor': Precursor(sequence='VVRFDK', mass=762.4388234841, mz=763.44664851617, segments=[(5, 7)], residue_ranges=[(55, 61)], cys_bond_count=0, alkylation_count=0, modifications=[], error_ppm=0)},\n {'charge': 5,\n  'precursor': Precursor(sequence='DILNQITKPNDVYSFSLASRLYAEER', mass=3041.54581423228, mz=609.316987878526, segments=[(8, 10)], residue_ranges=[(84, 110)], cys_bond_count=0, alkylation_count=0, modifications=[], error_ppm=0)}]"
     },
     "execution_count": 13,
     "metadata": {},
     "output_type": "execute_result"
    }
   ],
   "source": [
    "precursors = generate_precursors(5000)\n",
    "precursors[:3]"
   ],
   "metadata": {
    "collapsed": false,
    "pycharm": {
     "name": "#%%\n"
    }
   }
  },
  {
   "cell_type": "code",
   "execution_count": 14,
   "outputs": [],
   "source": [
    "\n",
    "def valid_frags(frags, cys, length):\n",
    "    def ok(frag):\n",
    "        if \"b\" in frag[1]:\n",
    "            return frag[2] > cys\n",
    "        else:\n",
    "            return frag[2] >= (length - cys)\n",
    "\n",
    "    return [f for f in frags if ok(f)]\n",
    "\n",
    "\n",
    "def charge_from_code(code):\n",
    "    match = re.match(r\".*\\[(\\d+)?\\+]$\", code)\n",
    "    if match.group(1) is None:\n",
    "        return 1\n",
    "    else:\n",
    "        return int(match.group(1))\n",
    "\n",
    "\n",
    "def safe_frags(seq, frags, cysteines):\n",
    "    b, e = seq\n",
    "    safe = []\n",
    "    unsafe = []\n",
    "    for f in frags:\n",
    "        mass, code, i = f\n",
    "        if \"b\" in code:\n",
    "            if not any(b <= c < b + i for c in cysteines):\n",
    "                safe.append(f)\n",
    "                continue\n",
    "        else:\n",
    "            if not any(e - i <= c < e for c in cysteines):\n",
    "                safe.append(f)\n",
    "                continue\n",
    "        unsafe.append(f)\n",
    "\n",
    "    return safe, unsafe\n",
    "\n",
    "\n",
    "def build_safe_fragment(id, sequence, residue_range, charge, mz, break_count):\n",
    "    return Fragment(\n",
    "        id=id,\n",
    "        sequence=sequence,\n",
    "        residue_ranges=residue_range,\n",
    "        intensity=10,\n",
    "        intensity_ratio=1 / 10,\n",
    "        target_mass=(mz - PROTON) * charge,\n",
    "        mass=(mz - PROTON) * charge,\n",
    "        target_mz=mz,\n",
    "        mz=mz,\n",
    "        charge=charge,\n",
    "        break_count=break_count,\n",
    "        error_ppm=0,\n",
    "        modifications=[IAA_ALKYLATION for res in sequence if res == \"C\"],\n",
    "        connected_bonds=[],\n",
    "        disconnected_cys=[],\n",
    "    )\n",
    "\n",
    "\n",
    "def fragment_sequence(seq, frag, residue_range):\n",
    "    _, code, i = frag\n",
    "    sequence = seq[:i] if \"b\" in code else seq[-i:]\n",
    "    b, e = residue_range\n",
    "    frag_residue_range = (b, b + i) if \"b\" in code else (e - i, e)\n",
    "\n",
    "    return sequence, frag_residue_range\n",
    "\n",
    "\n",
    "def safe_frags_to_fragments(frags, prec_sequence, prec_residue_range, precursor):\n",
    "    fragments = []\n",
    "    for id, frag in enumerate(frags):\n",
    "        mz, code, i = frag\n",
    "        frag_charge = charge_from_code(code)\n",
    "        frag_sequence, frag_residue_range = fragment_sequence(\n",
    "            prec_sequence, frag, prec_residue_range\n",
    "        )\n",
    "        fragment = build_safe_fragment(\n",
    "            id,\n",
    "            frag_sequence,\n",
    "            [frag_residue_range],\n",
    "            frag_charge,\n",
    "            mz,\n",
    "            prec_residue_range != frag_residue_range,\n",
    "        )\n",
    "\n",
    "        fragments.append(\n",
    "            {\"fragment\": fragment, \"precursor\": precursor, \"var_bonds\": []}\n",
    "        )\n",
    "    return fragments\n",
    "\n",
    "\n",
    "def generate_fragments(peptide: Dict, count=50):\n",
    "    max_charge = peptide[\"charge\"]\n",
    "    precursor: Precursor = peptide[\"precursor\"]\n",
    "\n",
    "    if connected_cys_count(precursor) == 0:\n",
    "        pep = Peptide(\n",
    "            precursor.sequence,\n",
    "            charge=max_charge,\n",
    "            modifications=[\n",
    "                ModSite(IAA_ALKYLATION.mass, i + 1, IAA_ALKYLATION.description)\n",
    "                for i, res in enumerate(precursor.sequence)\n",
    "                if res == \"C\"\n",
    "            ],\n",
    "        )\n",
    "        frags = pep.fragment(\n",
    "            ion_types={IonType.y: [], IonType.b: [], IonType.precursor: []}\n",
    "        )\n",
    "        frags = list(sorted(list(set(choices(frags, k=count)))))\n",
    "\n",
    "        return safe_frags_to_fragments(\n",
    "            frags, precursor.sequence, precursor.residue_ranges[0], precursor\n",
    "        )\n",
    "    elif len(precursor.segments) == 2:\n",
    "        ps, qs = precursor.sequence.split(\"+\")\n",
    "        psi = list(zip(range(*precursor.residue_ranges[0]), ps))\n",
    "        qsi = list(zip(range(*precursor.residue_ranges[1]), qs))\n",
    "\n",
    "        p_frags = Peptide(\n",
    "            ps,\n",
    "            charge=1,\n",
    "            modifications=[\n",
    "                ModSite(IAA_ALKYLATION.mass, ri + 1, IAA_ALKYLATION.description)\n",
    "                for ri, (ai, res) in enumerate(psi)\n",
    "                if res == \"C\" and ai not in (72, 119)\n",
    "            ],\n",
    "        ).fragment(\n",
    "            ion_types={\n",
    "                IonType.y: [],\n",
    "                IonType.b: [],\n",
    "            }\n",
    "        )\n",
    "\n",
    "        q_frags = Peptide(\n",
    "            qs,\n",
    "            charge=1,\n",
    "            modifications=[\n",
    "                ModSite(IAA_ALKYLATION.mass, ri + 1, IAA_ALKYLATION.description)\n",
    "                for ri, (ai, res) in enumerate(qsi)\n",
    "                if res == \"C\" and ai not in (72, 119)\n",
    "            ],\n",
    "        ).fragment(\n",
    "            ion_types={\n",
    "                IonType.y: [],\n",
    "                IonType.b: [],\n",
    "            }\n",
    "        )\n",
    "\n",
    "        psafe, pcys = safe_frags(\n",
    "            precursor.residue_ranges[0],\n",
    "            list(sorted(list(set(choices(p_frags, k=count))))),\n",
    "            [72, 119],\n",
    "        )\n",
    "        qsafe, qcys = safe_frags(\n",
    "            precursor.residue_ranges[1],\n",
    "            list(sorted(list(set(choices(q_frags, k=count))))),\n",
    "            [72, 119],\n",
    "        )\n",
    "\n",
    "        result = safe_frags_to_fragments(\n",
    "            psafe, ps, precursor.residue_ranges[0], precursor\n",
    "        ) + safe_frags_to_fragments(qsafe, qs, precursor.residue_ranges[1], precursor)\n",
    "\n",
    "        shuffle(pcys)\n",
    "        shuffle(qcys)\n",
    "\n",
    "        p_fragments = [\n",
    "            fr[\"fragment\"]\n",
    "            for fr in safe_frags_to_fragments(\n",
    "                pcys, ps, precursor.residue_ranges[0], precursor\n",
    "            )\n",
    "        ]\n",
    "        q_fragments = [\n",
    "            fr[\"fragment\"]\n",
    "            for fr in safe_frags_to_fragments(\n",
    "                qcys, qs, precursor.residue_ranges[1], precursor\n",
    "            )\n",
    "        ]\n",
    "\n",
    "        for pf, qf in choices(list(zip(p_fragments, q_fragments)), k=count):\n",
    "            total_charge = randint(1, max_charge)\n",
    "            total_mass = pf.mz + qf.mz + CYS_BOND.mass - 2 * PROTON\n",
    "\n",
    "            if \"C\" not in pf.sequence or \"C\" not in qf.sequence:\n",
    "                continue\n",
    "\n",
    "            fragment = Fragment(\n",
    "                0,\n",
    "                sequence=pf.sequence + \"+\" + qf.sequence,\n",
    "                residue_ranges=pf.residue_ranges + qf.residue_ranges,\n",
    "                intensity=10,\n",
    "                intensity_ratio=1,\n",
    "                mass=total_mass,\n",
    "                target_mass=total_mass,\n",
    "                mz=total_mass / total_charge + PROTON,\n",
    "                target_mz=total_mass / total_charge + PROTON,\n",
    "                charge=total_charge,\n",
    "                break_count=pf.break_count + qf.break_count,\n",
    "                error_ppm=0,\n",
    "                modifications=qf.modifications + pf.modifications,\n",
    "                connected_bonds=tuple([(72, 119)]),\n",
    "                disconnected_cys=tuple([]),\n",
    "            )\n",
    "\n",
    "            result.append(\n",
    "                {\"fragment\": fragment, \"precursor\": precursor, \"var_bonds\": [(72, 119)]}\n",
    "            )\n",
    "        return result\n",
    "    else:\n",
    "        ps = precursor.sequence\n",
    "        psi = list(zip(range(*precursor.residue_ranges[0]), ps))\n",
    "\n",
    "        p_frags = Peptide(\n",
    "            ps,\n",
    "            charge=1,\n",
    "            modifications=[\n",
    "                ModSite(IAA_ALKYLATION.mass, ri + 1, IAA_ALKYLATION.description)\n",
    "                for ri, (ai, res) in enumerate(psi)\n",
    "                if res == \"C\" and ai not in (72, 119)\n",
    "            ],\n",
    "        ).fragment(ion_types={IonType.y: [], IonType.b: [], IonType.precursor: []})\n",
    "        p_frags = list(p_frags)\n",
    "\n",
    "        psafe, pcys = safe_frags(\n",
    "            precursor.residue_ranges[0],\n",
    "            list(sorted(list(set(choices(p_frags, k=count * 2))))),\n",
    "            [72, 119],\n",
    "        )\n",
    "\n",
    "        result = []\n",
    "\n",
    "        p_fragments = [\n",
    "            fr[\"fragment\"]\n",
    "            for fr in safe_frags_to_fragments(\n",
    "                [pf for pf in pcys if \"b\" in pf[1]],\n",
    "                ps,\n",
    "                precursor.residue_ranges[0],\n",
    "                precursor,\n",
    "            )\n",
    "        ]\n",
    "        q_fragments = [\n",
    "            fr[\"fragment\"]\n",
    "            for fr in safe_frags_to_fragments(\n",
    "                [qf for qf in pcys if \"y\" in qf[1]],\n",
    "                ps,\n",
    "                precursor.residue_ranges[0],\n",
    "                precursor,\n",
    "            )\n",
    "        ]\n",
    "\n",
    "        for pf, qf in choices(list(zip(p_fragments, q_fragments)), k=count):\n",
    "            if \"C\" not in pf.sequence or \"C\" not in qf.sequence:\n",
    "                continue\n",
    "            total_charge = randint(1, max_charge)\n",
    "\n",
    "            pr, qr = pf.residue_ranges[0], qf.residue_ranges[0]\n",
    "            if intersects(pr, qr):\n",
    "                continue\n",
    "\n",
    "            total_mass = pf.mz + qf.mz + CYS_BOND.mass - 2 * PROTON\n",
    "\n",
    "            fragment = Fragment(\n",
    "                0,\n",
    "                sequence=pf.sequence + \"+\" + qf.sequence,\n",
    "                residue_ranges=pf.residue_ranges + qf.residue_ranges,\n",
    "                intensity=10,\n",
    "                intensity_ratio=1,\n",
    "                mass=total_mass,\n",
    "                target_mass=total_mass,\n",
    "                mz=total_mass / total_charge + PROTON,\n",
    "                target_mz=total_mass / total_charge + PROTON,\n",
    "                charge=total_charge,\n",
    "                break_count=2 if pr[1] != qr[0] else 1,\n",
    "                error_ppm=0,\n",
    "                modifications=qf.modifications + pf.modifications,\n",
    "                connected_bonds=tuple([(72, 119)]),\n",
    "                disconnected_cys=tuple([]),\n",
    "            )\n",
    "\n",
    "            result.append(\n",
    "                {\"fragment\": fragment, \"precursor\": precursor, \"var_bonds\": [(72, 119)]}\n",
    "            )\n",
    "        return result\n"
   ],
   "metadata": {
    "collapsed": false,
    "pycharm": {
     "name": "#%%\n"
    }
   }
  },
  {
   "cell_type": "code",
   "execution_count": 15,
   "outputs": [
    {
     "name": "stdout",
     "output_type": "stream",
     "text": [
      "In total we have 864 precursors\n"
     ]
    }
   ],
   "source": [
    "\n",
    "print(f\"In total we have {len(precursors)} precursors\")\n",
    "\n",
    "scans: List[Scan] = []\n",
    "fragment_records = []\n",
    "precursor_records = []\n",
    "\n",
    "for i, prec in enumerate(precursors):\n",
    "    p: Precursor = prec[\"precursor\"]\n",
    "    frags = generate_fragments(prec)\n",
    "\n",
    "    fragment_objects: List[Fragment] = [f[\"fragment\"] for f in frags]\n",
    "    scan = Scan(\n",
    "        nth_in_order=i,\n",
    "        id=i,\n",
    "        time=i,\n",
    "        charge=prec[\"charge\"],\n",
    "        prec_mz=p.mz,\n",
    "        prec_intensity=100,\n",
    "        prec_mass=p.mass,\n",
    "        fragments_mz=np.array(sorted([f.mz for f in fragment_objects])),\n",
    "        fragments_intensity=np.array([f.intensity for f in fragment_objects]),\n",
    "        threshold=0,\n",
    "    )\n",
    "    scans.append(scan)\n",
    "\n",
    "    precursor_records.append(scan.to_dict() | p.to_dict())\n",
    "\n",
    "    fragment_records += [\n",
    "        scan.to_dict()\n",
    "        | fr[\"precursor\"].to_dict()\n",
    "        | {\"var_bonds\": fr[\"var_bonds\"]}\n",
    "        | fr[\"fragment\"].to_dict()\n",
    "        for fr in frags\n",
    "    ]\n"
   ],
   "metadata": {
    "collapsed": false,
    "pycharm": {
     "name": "#%%\n"
    }
   }
  },
  {
   "cell_type": "code",
   "execution_count": 16,
   "outputs": [
    {
     "data": {
      "text/plain": "     scan_id  scan_nth_in_order  scan_time  scan_total_intensity  prec_charge  \\\n0          0                  0          0                   370            2   \n1          1                  1          1                   110            1   \n2          2                  2          2                   460            5   \n3          3                  3          3                   210            1   \n4          4                  4          4                   400            3   \n..       ...                ...        ...                   ...          ...   \n859      859                859        859                   230            5   \n860      860                860        860                   310            2   \n861      861                861        861                   300            1   \n862      862                862        862                   190            4   \n863      863                863        863                   220            3   \n\n                                         prec_sequence  prec_segment_count  \\\n0                              NVLQPSSVDSQTAMVLVNAIVFK                   1   \n1                                               VVRFDK                   1   \n2                           DILNQITKPNDVYSFSLASRLYAEER                   1   \n3                                         HIATNAVLFFGR                   1   \n4              ELINSWVESQTNGIIRNVLQPSSVDSQTAMVLVNAIVFK                   1   \n..                                                 ...                 ...   \n859  LPGFGDSIEAQCGTSVNVHSSLRDILNQITKPNDVYSFSLASRLYA...                   1   \n860  LPGFGDSIEAQCGTSVNVHSSLRDILNQITKPNDVYSFSLASRLYA...                   1   \n861  LPGFGDSIEAQCGTSVNVHSSLRDILNQITKPNDVYSFSLASRLYA...                   1   \n862  LPGFGDSIEAQCGTSVNVHSSLRDILNQITKPNDVYSFSLASRLYA...                   1   \n863  LPGFGDSIEAQCGTSVNVHSSLRDILNQITKPNDVYSFSLASRLYA...                   1   \n\n    prec_tryptide_ranges prec_residue_ranges  prec_max_mc_count prec_mc  \\\n0             [(14, 15)]        [(158, 181)]                  0     [0]   \n1               [(5, 7)]          [(55, 61)]                  1     [1]   \n2              [(8, 10)]         [(84, 110)]                  1     [1]   \n3             [(32, 33)]        [(369, 381)]                  0     [0]   \n4             [(13, 15)]        [(142, 181)]                  1     [1]   \n..                   ...                 ...                ...     ...   \n859            [(7, 11)]         [(61, 122)]                  3     [3]   \n860            [(7, 11)]         [(61, 122)]                  3     [3]   \n861            [(7, 11)]         [(61, 122)]                  3     [3]   \n862            [(7, 11)]         [(61, 122)]                  3     [3]   \n863            [(7, 11)]         [(61, 122)]                  3     [3]   \n\n     prec_cys_bond_count    prec_mass      prec_mz  prec_error  \\\n0                      0  2459.309396  1230.662523           0   \n1                      0   762.438823   763.446649           0   \n2                      0  3041.545814   609.316988           0   \n3                      0  1344.730254  1345.738079           0   \n4                      0  4299.257307  1434.093594           0   \n..                   ...          ...          ...         ...   \n859                    0  6841.416016  1369.291028           0   \n860                    0  6841.416016  3421.715833           0   \n861                    0  6841.416016  6842.423841           0   \n862                    0  6841.416016  1711.361829           0   \n863                    0  6841.416016  2281.479831           0   \n\n     prec_alkylation_count prec_mods  \n0                        0        []  \n1                        0        []  \n2                        0        []  \n3                        0        []  \n4                        0        []  \n..                     ...       ...  \n859                      0        []  \n860                      0        []  \n861                      0        []  \n862                      0        []  \n863                      0        []  \n\n[864 rows x 17 columns]",
      "text/html": "<div>\n<style scoped>\n    .dataframe tbody tr th:only-of-type {\n        vertical-align: middle;\n    }\n\n    .dataframe tbody tr th {\n        vertical-align: top;\n    }\n\n    .dataframe thead th {\n        text-align: right;\n    }\n</style>\n<table border=\"1\" class=\"dataframe\">\n  <thead>\n    <tr style=\"text-align: right;\">\n      <th></th>\n      <th>scan_id</th>\n      <th>scan_nth_in_order</th>\n      <th>scan_time</th>\n      <th>scan_total_intensity</th>\n      <th>prec_charge</th>\n      <th>prec_sequence</th>\n      <th>prec_segment_count</th>\n      <th>prec_tryptide_ranges</th>\n      <th>prec_residue_ranges</th>\n      <th>prec_max_mc_count</th>\n      <th>prec_mc</th>\n      <th>prec_cys_bond_count</th>\n      <th>prec_mass</th>\n      <th>prec_mz</th>\n      <th>prec_error</th>\n      <th>prec_alkylation_count</th>\n      <th>prec_mods</th>\n    </tr>\n  </thead>\n  <tbody>\n    <tr>\n      <th>0</th>\n      <td>0</td>\n      <td>0</td>\n      <td>0</td>\n      <td>370</td>\n      <td>2</td>\n      <td>NVLQPSSVDSQTAMVLVNAIVFK</td>\n      <td>1</td>\n      <td>[(14, 15)]</td>\n      <td>[(158, 181)]</td>\n      <td>0</td>\n      <td>[0]</td>\n      <td>0</td>\n      <td>2459.309396</td>\n      <td>1230.662523</td>\n      <td>0</td>\n      <td>0</td>\n      <td>[]</td>\n    </tr>\n    <tr>\n      <th>1</th>\n      <td>1</td>\n      <td>1</td>\n      <td>1</td>\n      <td>110</td>\n      <td>1</td>\n      <td>VVRFDK</td>\n      <td>1</td>\n      <td>[(5, 7)]</td>\n      <td>[(55, 61)]</td>\n      <td>1</td>\n      <td>[1]</td>\n      <td>0</td>\n      <td>762.438823</td>\n      <td>763.446649</td>\n      <td>0</td>\n      <td>0</td>\n      <td>[]</td>\n    </tr>\n    <tr>\n      <th>2</th>\n      <td>2</td>\n      <td>2</td>\n      <td>2</td>\n      <td>460</td>\n      <td>5</td>\n      <td>DILNQITKPNDVYSFSLASRLYAEER</td>\n      <td>1</td>\n      <td>[(8, 10)]</td>\n      <td>[(84, 110)]</td>\n      <td>1</td>\n      <td>[1]</td>\n      <td>0</td>\n      <td>3041.545814</td>\n      <td>609.316988</td>\n      <td>0</td>\n      <td>0</td>\n      <td>[]</td>\n    </tr>\n    <tr>\n      <th>3</th>\n      <td>3</td>\n      <td>3</td>\n      <td>3</td>\n      <td>210</td>\n      <td>1</td>\n      <td>HIATNAVLFFGR</td>\n      <td>1</td>\n      <td>[(32, 33)]</td>\n      <td>[(369, 381)]</td>\n      <td>0</td>\n      <td>[0]</td>\n      <td>0</td>\n      <td>1344.730254</td>\n      <td>1345.738079</td>\n      <td>0</td>\n      <td>0</td>\n      <td>[]</td>\n    </tr>\n    <tr>\n      <th>4</th>\n      <td>4</td>\n      <td>4</td>\n      <td>4</td>\n      <td>400</td>\n      <td>3</td>\n      <td>ELINSWVESQTNGIIRNVLQPSSVDSQTAMVLVNAIVFK</td>\n      <td>1</td>\n      <td>[(13, 15)]</td>\n      <td>[(142, 181)]</td>\n      <td>1</td>\n      <td>[1]</td>\n      <td>0</td>\n      <td>4299.257307</td>\n      <td>1434.093594</td>\n      <td>0</td>\n      <td>0</td>\n      <td>[]</td>\n    </tr>\n    <tr>\n      <th>...</th>\n      <td>...</td>\n      <td>...</td>\n      <td>...</td>\n      <td>...</td>\n      <td>...</td>\n      <td>...</td>\n      <td>...</td>\n      <td>...</td>\n      <td>...</td>\n      <td>...</td>\n      <td>...</td>\n      <td>...</td>\n      <td>...</td>\n      <td>...</td>\n      <td>...</td>\n      <td>...</td>\n      <td>...</td>\n    </tr>\n    <tr>\n      <th>859</th>\n      <td>859</td>\n      <td>859</td>\n      <td>859</td>\n      <td>230</td>\n      <td>5</td>\n      <td>LPGFGDSIEAQCGTSVNVHSSLRDILNQITKPNDVYSFSLASRLYA...</td>\n      <td>1</td>\n      <td>[(7, 11)]</td>\n      <td>[(61, 122)]</td>\n      <td>3</td>\n      <td>[3]</td>\n      <td>0</td>\n      <td>6841.416016</td>\n      <td>1369.291028</td>\n      <td>0</td>\n      <td>0</td>\n      <td>[]</td>\n    </tr>\n    <tr>\n      <th>860</th>\n      <td>860</td>\n      <td>860</td>\n      <td>860</td>\n      <td>310</td>\n      <td>2</td>\n      <td>LPGFGDSIEAQCGTSVNVHSSLRDILNQITKPNDVYSFSLASRLYA...</td>\n      <td>1</td>\n      <td>[(7, 11)]</td>\n      <td>[(61, 122)]</td>\n      <td>3</td>\n      <td>[3]</td>\n      <td>0</td>\n      <td>6841.416016</td>\n      <td>3421.715833</td>\n      <td>0</td>\n      <td>0</td>\n      <td>[]</td>\n    </tr>\n    <tr>\n      <th>861</th>\n      <td>861</td>\n      <td>861</td>\n      <td>861</td>\n      <td>300</td>\n      <td>1</td>\n      <td>LPGFGDSIEAQCGTSVNVHSSLRDILNQITKPNDVYSFSLASRLYA...</td>\n      <td>1</td>\n      <td>[(7, 11)]</td>\n      <td>[(61, 122)]</td>\n      <td>3</td>\n      <td>[3]</td>\n      <td>0</td>\n      <td>6841.416016</td>\n      <td>6842.423841</td>\n      <td>0</td>\n      <td>0</td>\n      <td>[]</td>\n    </tr>\n    <tr>\n      <th>862</th>\n      <td>862</td>\n      <td>862</td>\n      <td>862</td>\n      <td>190</td>\n      <td>4</td>\n      <td>LPGFGDSIEAQCGTSVNVHSSLRDILNQITKPNDVYSFSLASRLYA...</td>\n      <td>1</td>\n      <td>[(7, 11)]</td>\n      <td>[(61, 122)]</td>\n      <td>3</td>\n      <td>[3]</td>\n      <td>0</td>\n      <td>6841.416016</td>\n      <td>1711.361829</td>\n      <td>0</td>\n      <td>0</td>\n      <td>[]</td>\n    </tr>\n    <tr>\n      <th>863</th>\n      <td>863</td>\n      <td>863</td>\n      <td>863</td>\n      <td>220</td>\n      <td>3</td>\n      <td>LPGFGDSIEAQCGTSVNVHSSLRDILNQITKPNDVYSFSLASRLYA...</td>\n      <td>1</td>\n      <td>[(7, 11)]</td>\n      <td>[(61, 122)]</td>\n      <td>3</td>\n      <td>[3]</td>\n      <td>0</td>\n      <td>6841.416016</td>\n      <td>2281.479831</td>\n      <td>0</td>\n      <td>0</td>\n      <td>[]</td>\n    </tr>\n  </tbody>\n</table>\n<p>864 rows × 17 columns</p>\n</div>"
     },
     "execution_count": 16,
     "metadata": {},
     "output_type": "execute_result"
    }
   ],
   "source": [
    "ideal_precursor_df = pd.DataFrame(precursor_records)\n",
    "\n",
    "ideal_precursor_df.to_csv(\n",
    "    \"../out/csv/precursor_matches_TEST_OVA_segments=3_error=50ppm_ideal.csv\",\n",
    "    index=False,\n",
    ")\n",
    "\n",
    "ideal_precursor_df"
   ],
   "metadata": {
    "collapsed": false,
    "pycharm": {
     "name": "#%%\n"
    }
   }
  },
  {
   "cell_type": "code",
   "execution_count": 17,
   "outputs": [
    {
     "data": {
      "text/plain": "       scan_id  scan_nth_in_order  scan_time  scan_total_intensity  \\\n0            0                  0          0                   370   \n1            0                  0          0                   370   \n2            0                  0          0                   370   \n3            0                  0          0                   370   \n4            0                  0          0                   370   \n...        ...                ...        ...                   ...   \n45357      863                863        863                   220   \n45358      863                863        863                   220   \n45359      863                863        863                   220   \n45360      863                863        863                   220   \n45361      863                863        863                   220   \n\n       prec_charge                                      prec_sequence  \\\n0                2                            NVLQPSSVDSQTAMVLVNAIVFK   \n1                2                            NVLQPSSVDSQTAMVLVNAIVFK   \n2                2                            NVLQPSSVDSQTAMVLVNAIVFK   \n3                2                            NVLQPSSVDSQTAMVLVNAIVFK   \n4                2                            NVLQPSSVDSQTAMVLVNAIVFK   \n...            ...                                                ...   \n45357            3  LPGFGDSIEAQCGTSVNVHSSLRDILNQITKPNDVYSFSLASRLYA...   \n45358            3  LPGFGDSIEAQCGTSVNVHSSLRDILNQITKPNDVYSFSLASRLYA...   \n45359            3  LPGFGDSIEAQCGTSVNVHSSLRDILNQITKPNDVYSFSLASRLYA...   \n45360            3  LPGFGDSIEAQCGTSVNVHSSLRDILNQITKPNDVYSFSLASRLYA...   \n45361            3  LPGFGDSIEAQCGTSVNVHSSLRDILNQITKPNDVYSFSLASRLYA...   \n\n       prec_segment_count prec_tryptide_ranges prec_residue_ranges  \\\n0                       1           [(14, 15)]        [(158, 181)]   \n1                       1           [(14, 15)]        [(158, 181)]   \n2                       1           [(14, 15)]        [(158, 181)]   \n3                       1           [(14, 15)]        [(158, 181)]   \n4                       1           [(14, 15)]        [(158, 181)]   \n...                   ...                  ...                 ...   \n45357                   1            [(7, 11)]         [(61, 122)]   \n45358                   1            [(7, 11)]         [(61, 122)]   \n45359                   1            [(7, 11)]         [(61, 122)]   \n45360                   1            [(7, 11)]         [(61, 122)]   \n45361                   1            [(7, 11)]         [(61, 122)]   \n\n       prec_max_mc_count  ... frag_break_count  frag_error_ppm  \\\n0                      0  ...             True               0   \n1                      0  ...             True               0   \n2                      0  ...             True               0   \n3                      0  ...             True               0   \n4                      0  ...             True               0   \n...                  ...  ...              ...             ...   \n45357                  3  ...                2               0   \n45358                  3  ...                2               0   \n45359                  3  ...                2               0   \n45360                  3  ...                2               0   \n45361                  3  ...                2               0   \n\n                                          frag_mods  frag_connected_bonds  \\\n0                                                []                    []   \n1                                                []                    []   \n2                                                []                    []   \n3                                                []                    []   \n4                                                []                    []   \n...                                             ...                   ...   \n45357  [Cys Alkylation (IAA), Cys Alkylation (IAA)]          ((72, 119),)   \n45358  [Cys Alkylation (IAA), Cys Alkylation (IAA)]          ((72, 119),)   \n45359  [Cys Alkylation (IAA), Cys Alkylation (IAA)]          ((72, 119),)   \n45360  [Cys Alkylation (IAA), Cys Alkylation (IAA)]          ((72, 119),)   \n45361  [Cys Alkylation (IAA), Cys Alkylation (IAA)]          ((72, 119),)   \n\n       frag_disconnected_cys  frag_interesting_disconnected_cys  \\\n0                         []                                 []   \n1                         []                                 []   \n2                         []                                 []   \n3                         []                                 []   \n4                         []                                 []   \n...                      ...                                ...   \n45357                     ()                                 []   \n45358                     ()                                 []   \n45359                     ()                                 []   \n45360                     ()                                 []   \n45361                     ()                                 []   \n\n      frag_intensity frag_intensity_ratio  target_mass    target_mz  \n0                 10                  0.1   114.042379   115.050204  \n1                 10                  0.1   146.104979   147.112804  \n2                 10                  0.1   392.241258   197.128454  \n3                 10                  0.1   213.110793   214.118618  \n4                 10                  0.1   505.325322   253.670486  \n...              ...                  ...          ...          ...  \n45357             10                  1.0  4075.964856  2038.990253  \n45358             10                  1.0  1620.726517   811.371084  \n45359             10                  1.0  2035.933215   679.652230  \n45360             10                  1.0  6630.319228  6631.327053  \n45361             10                  1.0  3617.763578  1206.929018  \n\n[45362 rows x 34 columns]",
      "text/html": "<div>\n<style scoped>\n    .dataframe tbody tr th:only-of-type {\n        vertical-align: middle;\n    }\n\n    .dataframe tbody tr th {\n        vertical-align: top;\n    }\n\n    .dataframe thead th {\n        text-align: right;\n    }\n</style>\n<table border=\"1\" class=\"dataframe\">\n  <thead>\n    <tr style=\"text-align: right;\">\n      <th></th>\n      <th>scan_id</th>\n      <th>scan_nth_in_order</th>\n      <th>scan_time</th>\n      <th>scan_total_intensity</th>\n      <th>prec_charge</th>\n      <th>prec_sequence</th>\n      <th>prec_segment_count</th>\n      <th>prec_tryptide_ranges</th>\n      <th>prec_residue_ranges</th>\n      <th>prec_max_mc_count</th>\n      <th>...</th>\n      <th>frag_break_count</th>\n      <th>frag_error_ppm</th>\n      <th>frag_mods</th>\n      <th>frag_connected_bonds</th>\n      <th>frag_disconnected_cys</th>\n      <th>frag_interesting_disconnected_cys</th>\n      <th>frag_intensity</th>\n      <th>frag_intensity_ratio</th>\n      <th>target_mass</th>\n      <th>target_mz</th>\n    </tr>\n  </thead>\n  <tbody>\n    <tr>\n      <th>0</th>\n      <td>0</td>\n      <td>0</td>\n      <td>0</td>\n      <td>370</td>\n      <td>2</td>\n      <td>NVLQPSSVDSQTAMVLVNAIVFK</td>\n      <td>1</td>\n      <td>[(14, 15)]</td>\n      <td>[(158, 181)]</td>\n      <td>0</td>\n      <td>...</td>\n      <td>True</td>\n      <td>0</td>\n      <td>[]</td>\n      <td>[]</td>\n      <td>[]</td>\n      <td>[]</td>\n      <td>10</td>\n      <td>0.1</td>\n      <td>114.042379</td>\n      <td>115.050204</td>\n    </tr>\n    <tr>\n      <th>1</th>\n      <td>0</td>\n      <td>0</td>\n      <td>0</td>\n      <td>370</td>\n      <td>2</td>\n      <td>NVLQPSSVDSQTAMVLVNAIVFK</td>\n      <td>1</td>\n      <td>[(14, 15)]</td>\n      <td>[(158, 181)]</td>\n      <td>0</td>\n      <td>...</td>\n      <td>True</td>\n      <td>0</td>\n      <td>[]</td>\n      <td>[]</td>\n      <td>[]</td>\n      <td>[]</td>\n      <td>10</td>\n      <td>0.1</td>\n      <td>146.104979</td>\n      <td>147.112804</td>\n    </tr>\n    <tr>\n      <th>2</th>\n      <td>0</td>\n      <td>0</td>\n      <td>0</td>\n      <td>370</td>\n      <td>2</td>\n      <td>NVLQPSSVDSQTAMVLVNAIVFK</td>\n      <td>1</td>\n      <td>[(14, 15)]</td>\n      <td>[(158, 181)]</td>\n      <td>0</td>\n      <td>...</td>\n      <td>True</td>\n      <td>0</td>\n      <td>[]</td>\n      <td>[]</td>\n      <td>[]</td>\n      <td>[]</td>\n      <td>10</td>\n      <td>0.1</td>\n      <td>392.241258</td>\n      <td>197.128454</td>\n    </tr>\n    <tr>\n      <th>3</th>\n      <td>0</td>\n      <td>0</td>\n      <td>0</td>\n      <td>370</td>\n      <td>2</td>\n      <td>NVLQPSSVDSQTAMVLVNAIVFK</td>\n      <td>1</td>\n      <td>[(14, 15)]</td>\n      <td>[(158, 181)]</td>\n      <td>0</td>\n      <td>...</td>\n      <td>True</td>\n      <td>0</td>\n      <td>[]</td>\n      <td>[]</td>\n      <td>[]</td>\n      <td>[]</td>\n      <td>10</td>\n      <td>0.1</td>\n      <td>213.110793</td>\n      <td>214.118618</td>\n    </tr>\n    <tr>\n      <th>4</th>\n      <td>0</td>\n      <td>0</td>\n      <td>0</td>\n      <td>370</td>\n      <td>2</td>\n      <td>NVLQPSSVDSQTAMVLVNAIVFK</td>\n      <td>1</td>\n      <td>[(14, 15)]</td>\n      <td>[(158, 181)]</td>\n      <td>0</td>\n      <td>...</td>\n      <td>True</td>\n      <td>0</td>\n      <td>[]</td>\n      <td>[]</td>\n      <td>[]</td>\n      <td>[]</td>\n      <td>10</td>\n      <td>0.1</td>\n      <td>505.325322</td>\n      <td>253.670486</td>\n    </tr>\n    <tr>\n      <th>...</th>\n      <td>...</td>\n      <td>...</td>\n      <td>...</td>\n      <td>...</td>\n      <td>...</td>\n      <td>...</td>\n      <td>...</td>\n      <td>...</td>\n      <td>...</td>\n      <td>...</td>\n      <td>...</td>\n      <td>...</td>\n      <td>...</td>\n      <td>...</td>\n      <td>...</td>\n      <td>...</td>\n      <td>...</td>\n      <td>...</td>\n      <td>...</td>\n      <td>...</td>\n      <td>...</td>\n    </tr>\n    <tr>\n      <th>45357</th>\n      <td>863</td>\n      <td>863</td>\n      <td>863</td>\n      <td>220</td>\n      <td>3</td>\n      <td>LPGFGDSIEAQCGTSVNVHSSLRDILNQITKPNDVYSFSLASRLYA...</td>\n      <td>1</td>\n      <td>[(7, 11)]</td>\n      <td>[(61, 122)]</td>\n      <td>3</td>\n      <td>...</td>\n      <td>2</td>\n      <td>0</td>\n      <td>[Cys Alkylation (IAA), Cys Alkylation (IAA)]</td>\n      <td>((72, 119),)</td>\n      <td>()</td>\n      <td>[]</td>\n      <td>10</td>\n      <td>1.0</td>\n      <td>4075.964856</td>\n      <td>2038.990253</td>\n    </tr>\n    <tr>\n      <th>45358</th>\n      <td>863</td>\n      <td>863</td>\n      <td>863</td>\n      <td>220</td>\n      <td>3</td>\n      <td>LPGFGDSIEAQCGTSVNVHSSLRDILNQITKPNDVYSFSLASRLYA...</td>\n      <td>1</td>\n      <td>[(7, 11)]</td>\n      <td>[(61, 122)]</td>\n      <td>3</td>\n      <td>...</td>\n      <td>2</td>\n      <td>0</td>\n      <td>[Cys Alkylation (IAA), Cys Alkylation (IAA)]</td>\n      <td>((72, 119),)</td>\n      <td>()</td>\n      <td>[]</td>\n      <td>10</td>\n      <td>1.0</td>\n      <td>1620.726517</td>\n      <td>811.371084</td>\n    </tr>\n    <tr>\n      <th>45359</th>\n      <td>863</td>\n      <td>863</td>\n      <td>863</td>\n      <td>220</td>\n      <td>3</td>\n      <td>LPGFGDSIEAQCGTSVNVHSSLRDILNQITKPNDVYSFSLASRLYA...</td>\n      <td>1</td>\n      <td>[(7, 11)]</td>\n      <td>[(61, 122)]</td>\n      <td>3</td>\n      <td>...</td>\n      <td>2</td>\n      <td>0</td>\n      <td>[Cys Alkylation (IAA), Cys Alkylation (IAA)]</td>\n      <td>((72, 119),)</td>\n      <td>()</td>\n      <td>[]</td>\n      <td>10</td>\n      <td>1.0</td>\n      <td>2035.933215</td>\n      <td>679.652230</td>\n    </tr>\n    <tr>\n      <th>45360</th>\n      <td>863</td>\n      <td>863</td>\n      <td>863</td>\n      <td>220</td>\n      <td>3</td>\n      <td>LPGFGDSIEAQCGTSVNVHSSLRDILNQITKPNDVYSFSLASRLYA...</td>\n      <td>1</td>\n      <td>[(7, 11)]</td>\n      <td>[(61, 122)]</td>\n      <td>3</td>\n      <td>...</td>\n      <td>2</td>\n      <td>0</td>\n      <td>[Cys Alkylation (IAA), Cys Alkylation (IAA)]</td>\n      <td>((72, 119),)</td>\n      <td>()</td>\n      <td>[]</td>\n      <td>10</td>\n      <td>1.0</td>\n      <td>6630.319228</td>\n      <td>6631.327053</td>\n    </tr>\n    <tr>\n      <th>45361</th>\n      <td>863</td>\n      <td>863</td>\n      <td>863</td>\n      <td>220</td>\n      <td>3</td>\n      <td>LPGFGDSIEAQCGTSVNVHSSLRDILNQITKPNDVYSFSLASRLYA...</td>\n      <td>1</td>\n      <td>[(7, 11)]</td>\n      <td>[(61, 122)]</td>\n      <td>3</td>\n      <td>...</td>\n      <td>2</td>\n      <td>0</td>\n      <td>[Cys Alkylation (IAA), Cys Alkylation (IAA)]</td>\n      <td>((72, 119),)</td>\n      <td>()</td>\n      <td>[]</td>\n      <td>10</td>\n      <td>1.0</td>\n      <td>3617.763578</td>\n      <td>1206.929018</td>\n    </tr>\n  </tbody>\n</table>\n<p>45362 rows × 34 columns</p>\n</div>"
     },
     "execution_count": 17,
     "metadata": {},
     "output_type": "execute_result"
    }
   ],
   "source": [
    "ideal_fragment_df = pd.DataFrame(fragment_records)\n",
    "\n",
    "ideal_fragment_df.to_csv(\n",
    "    \"../out/csv/fragment_matches_TEST_OVA_segments=3_error=50ppm_ideal.csv\",\n",
    "    index=False,\n",
    ")\n",
    "\n",
    "ideal_fragment_df"
   ],
   "metadata": {
    "collapsed": false,
    "pycharm": {
     "name": "#%%\n"
    }
   }
  },
  {
   "cell_type": "code",
   "execution_count": 19,
   "outputs": [
    {
     "name": "stdout",
     "output_type": "stream",
     "text": [
      "Saving the matches to ../out/precursor_matches/TEST_OVA_AT_segments=3_error=50ppm.pickle\n"
     ]
    },
    {
     "data": {
      "text/plain": "      scan_id  scan_nth_in_order  scan_time  scan_total_intensity  \\\n0           0                  0          0                   370   \n1           1                  1          1                   110   \n2           2                  2          2                   460   \n3           3                  3          3                   210   \n4           4                  4          4                   400   \n...       ...                ...        ...                   ...   \n1159      859                859        859                   230   \n1160      860                860        860                   310   \n1161      861                861        861                   300   \n1162      862                862        862                   190   \n1163      863                863        863                   220   \n\n      prec_charge                                      prec_sequence  \\\n0               2                            NVLQPSSVDSQTAMVLVNAIVFK   \n1               1                                             VVRFDK   \n2               5                         DILNQITKPNDVYSFSLASRLYAEER   \n3               1                                       HIATNAVLFFGR   \n4               3            ELINSWVESQTNGIIRNVLQPSSVDSQTAMVLVNAIVFK   \n...           ...                                                ...   \n1159            5  LPGFGDSIEAQCGTSVNVHSSLRDILNQITKPNDVYSFSLASRLYA...   \n1160            2  LPGFGDSIEAQCGTSVNVHSSLRDILNQITKPNDVYSFSLASRLYA...   \n1161            1  LPGFGDSIEAQCGTSVNVHSSLRDILNQITKPNDVYSFSLASRLYA...   \n1162            4  LPGFGDSIEAQCGTSVNVHSSLRDILNQITKPNDVYSFSLASRLYA...   \n1163            3  LPGFGDSIEAQCGTSVNVHSSLRDILNQITKPNDVYSFSLASRLYA...   \n\n      prec_segment_count prec_tryptide_ranges prec_residue_ranges  \\\n0                      1           [(14, 15)]        [(158, 181)]   \n1                      1             [(5, 7)]          [(55, 61)]   \n2                      1            [(8, 10)]         [(84, 110)]   \n3                      1           [(32, 33)]        [(369, 381)]   \n4                      1           [(13, 15)]        [(142, 181)]   \n...                  ...                  ...                 ...   \n1159                   1            [(7, 11)]         [(61, 122)]   \n1160                   1            [(7, 11)]         [(61, 122)]   \n1161                   1            [(7, 11)]         [(61, 122)]   \n1162                   1            [(7, 11)]         [(61, 122)]   \n1163                   1            [(7, 11)]         [(61, 122)]   \n\n      prec_max_mc_count prec_mc  prec_cys_bond_count    prec_mass  \\\n0                     0     [0]                    0  2461.325046   \n1                     1     [1]                    0   763.446649   \n2                     1     [1]                    0  3046.584939   \n3                     0     [0]                    0  1345.738079   \n4                     1     [1]                    0  4302.280782   \n...                 ...     ...                  ...          ...   \n1159                  3     [3]                    1  6846.455142   \n1160                  3     [3]                    1  6843.431667   \n1161                  3     [3]                    1  6842.423841   \n1162                  3     [3]                    1  6845.447317   \n1163                  3     [3]                    1  6844.439492   \n\n          prec_mz    prec_error  prec_alkylation_count  \\\n0     1230.662523  0.000000e+00                      0   \n1      763.446649  1.491095e-10                      0   \n2      609.316988  0.000000e+00                      0   \n3     1345.738079  0.000000e+00                      0   \n4     1434.093594  2.115469e-10                      0   \n...           ...           ...                    ...   \n1159  1369.291028  0.000000e+00                      0   \n1160  3421.715833  0.000000e+00                      0   \n1161  6842.423841  0.000000e+00                      0   \n1162  1711.361829  0.000000e+00                      0   \n1163  2281.479831  0.000000e+00                      0   \n\n                    prec_mods  \n0                          []  \n1                          []  \n2                          []  \n3                          []  \n4                          []  \n...                       ...  \n1159  [Disulphide Bond (–H2)]  \n1160  [Disulphide Bond (–H2)]  \n1161  [Disulphide Bond (–H2)]  \n1162  [Disulphide Bond (–H2)]  \n1163  [Disulphide Bond (–H2)]  \n\n[1164 rows x 17 columns]",
      "text/html": "<div>\n<style scoped>\n    .dataframe tbody tr th:only-of-type {\n        vertical-align: middle;\n    }\n\n    .dataframe tbody tr th {\n        vertical-align: top;\n    }\n\n    .dataframe thead th {\n        text-align: right;\n    }\n</style>\n<table border=\"1\" class=\"dataframe\">\n  <thead>\n    <tr style=\"text-align: right;\">\n      <th></th>\n      <th>scan_id</th>\n      <th>scan_nth_in_order</th>\n      <th>scan_time</th>\n      <th>scan_total_intensity</th>\n      <th>prec_charge</th>\n      <th>prec_sequence</th>\n      <th>prec_segment_count</th>\n      <th>prec_tryptide_ranges</th>\n      <th>prec_residue_ranges</th>\n      <th>prec_max_mc_count</th>\n      <th>prec_mc</th>\n      <th>prec_cys_bond_count</th>\n      <th>prec_mass</th>\n      <th>prec_mz</th>\n      <th>prec_error</th>\n      <th>prec_alkylation_count</th>\n      <th>prec_mods</th>\n    </tr>\n  </thead>\n  <tbody>\n    <tr>\n      <th>0</th>\n      <td>0</td>\n      <td>0</td>\n      <td>0</td>\n      <td>370</td>\n      <td>2</td>\n      <td>NVLQPSSVDSQTAMVLVNAIVFK</td>\n      <td>1</td>\n      <td>[(14, 15)]</td>\n      <td>[(158, 181)]</td>\n      <td>0</td>\n      <td>[0]</td>\n      <td>0</td>\n      <td>2461.325046</td>\n      <td>1230.662523</td>\n      <td>0.000000e+00</td>\n      <td>0</td>\n      <td>[]</td>\n    </tr>\n    <tr>\n      <th>1</th>\n      <td>1</td>\n      <td>1</td>\n      <td>1</td>\n      <td>110</td>\n      <td>1</td>\n      <td>VVRFDK</td>\n      <td>1</td>\n      <td>[(5, 7)]</td>\n      <td>[(55, 61)]</td>\n      <td>1</td>\n      <td>[1]</td>\n      <td>0</td>\n      <td>763.446649</td>\n      <td>763.446649</td>\n      <td>1.491095e-10</td>\n      <td>0</td>\n      <td>[]</td>\n    </tr>\n    <tr>\n      <th>2</th>\n      <td>2</td>\n      <td>2</td>\n      <td>2</td>\n      <td>460</td>\n      <td>5</td>\n      <td>DILNQITKPNDVYSFSLASRLYAEER</td>\n      <td>1</td>\n      <td>[(8, 10)]</td>\n      <td>[(84, 110)]</td>\n      <td>1</td>\n      <td>[1]</td>\n      <td>0</td>\n      <td>3046.584939</td>\n      <td>609.316988</td>\n      <td>0.000000e+00</td>\n      <td>0</td>\n      <td>[]</td>\n    </tr>\n    <tr>\n      <th>3</th>\n      <td>3</td>\n      <td>3</td>\n      <td>3</td>\n      <td>210</td>\n      <td>1</td>\n      <td>HIATNAVLFFGR</td>\n      <td>1</td>\n      <td>[(32, 33)]</td>\n      <td>[(369, 381)]</td>\n      <td>0</td>\n      <td>[0]</td>\n      <td>0</td>\n      <td>1345.738079</td>\n      <td>1345.738079</td>\n      <td>0.000000e+00</td>\n      <td>0</td>\n      <td>[]</td>\n    </tr>\n    <tr>\n      <th>4</th>\n      <td>4</td>\n      <td>4</td>\n      <td>4</td>\n      <td>400</td>\n      <td>3</td>\n      <td>ELINSWVESQTNGIIRNVLQPSSVDSQTAMVLVNAIVFK</td>\n      <td>1</td>\n      <td>[(13, 15)]</td>\n      <td>[(142, 181)]</td>\n      <td>1</td>\n      <td>[1]</td>\n      <td>0</td>\n      <td>4302.280782</td>\n      <td>1434.093594</td>\n      <td>2.115469e-10</td>\n      <td>0</td>\n      <td>[]</td>\n    </tr>\n    <tr>\n      <th>...</th>\n      <td>...</td>\n      <td>...</td>\n      <td>...</td>\n      <td>...</td>\n      <td>...</td>\n      <td>...</td>\n      <td>...</td>\n      <td>...</td>\n      <td>...</td>\n      <td>...</td>\n      <td>...</td>\n      <td>...</td>\n      <td>...</td>\n      <td>...</td>\n      <td>...</td>\n      <td>...</td>\n      <td>...</td>\n    </tr>\n    <tr>\n      <th>1159</th>\n      <td>859</td>\n      <td>859</td>\n      <td>859</td>\n      <td>230</td>\n      <td>5</td>\n      <td>LPGFGDSIEAQCGTSVNVHSSLRDILNQITKPNDVYSFSLASRLYA...</td>\n      <td>1</td>\n      <td>[(7, 11)]</td>\n      <td>[(61, 122)]</td>\n      <td>3</td>\n      <td>[3]</td>\n      <td>1</td>\n      <td>6846.455142</td>\n      <td>1369.291028</td>\n      <td>0.000000e+00</td>\n      <td>0</td>\n      <td>[Disulphide Bond (–H2)]</td>\n    </tr>\n    <tr>\n      <th>1160</th>\n      <td>860</td>\n      <td>860</td>\n      <td>860</td>\n      <td>310</td>\n      <td>2</td>\n      <td>LPGFGDSIEAQCGTSVNVHSSLRDILNQITKPNDVYSFSLASRLYA...</td>\n      <td>1</td>\n      <td>[(7, 11)]</td>\n      <td>[(61, 122)]</td>\n      <td>3</td>\n      <td>[3]</td>\n      <td>1</td>\n      <td>6843.431667</td>\n      <td>3421.715833</td>\n      <td>0.000000e+00</td>\n      <td>0</td>\n      <td>[Disulphide Bond (–H2)]</td>\n    </tr>\n    <tr>\n      <th>1161</th>\n      <td>861</td>\n      <td>861</td>\n      <td>861</td>\n      <td>300</td>\n      <td>1</td>\n      <td>LPGFGDSIEAQCGTSVNVHSSLRDILNQITKPNDVYSFSLASRLYA...</td>\n      <td>1</td>\n      <td>[(7, 11)]</td>\n      <td>[(61, 122)]</td>\n      <td>3</td>\n      <td>[3]</td>\n      <td>1</td>\n      <td>6842.423841</td>\n      <td>6842.423841</td>\n      <td>0.000000e+00</td>\n      <td>0</td>\n      <td>[Disulphide Bond (–H2)]</td>\n    </tr>\n    <tr>\n      <th>1162</th>\n      <td>862</td>\n      <td>862</td>\n      <td>862</td>\n      <td>190</td>\n      <td>4</td>\n      <td>LPGFGDSIEAQCGTSVNVHSSLRDILNQITKPNDVYSFSLASRLYA...</td>\n      <td>1</td>\n      <td>[(7, 11)]</td>\n      <td>[(61, 122)]</td>\n      <td>3</td>\n      <td>[3]</td>\n      <td>1</td>\n      <td>6845.447317</td>\n      <td>1711.361829</td>\n      <td>0.000000e+00</td>\n      <td>0</td>\n      <td>[Disulphide Bond (–H2)]</td>\n    </tr>\n    <tr>\n      <th>1163</th>\n      <td>863</td>\n      <td>863</td>\n      <td>863</td>\n      <td>220</td>\n      <td>3</td>\n      <td>LPGFGDSIEAQCGTSVNVHSSLRDILNQITKPNDVYSFSLASRLYA...</td>\n      <td>1</td>\n      <td>[(7, 11)]</td>\n      <td>[(61, 122)]</td>\n      <td>3</td>\n      <td>[3]</td>\n      <td>1</td>\n      <td>6844.439492</td>\n      <td>2281.479831</td>\n      <td>0.000000e+00</td>\n      <td>0</td>\n      <td>[Disulphide Bond (–H2)]</td>\n    </tr>\n  </tbody>\n</table>\n<p>1164 rows × 17 columns</p>\n</div>"
     },
     "execution_count": 18,
     "metadata": {},
     "output_type": "execute_result"
    },
    {
     "name": "stdout",
     "output_type": "stream",
     "text": [
      "Looking for matches...\n",
      "Saving the matches to ../out/precursor_matches/TEST_OVA_AT_segments=3_error=50ppm.pickle\n"
     ]
    },
    {
     "data": {
      "text/plain": "      scan_id  scan_nth_in_order  scan_time  scan_total_intensity  \\\n0           0                  0          0                   370   \n1           1                  1          1                   110   \n2           2                  2          2                   460   \n3           3                  3          3                   210   \n4           4                  4          4                   400   \n...       ...                ...        ...                   ...   \n1159      859                859        859                   230   \n1160      860                860        860                   310   \n1161      861                861        861                   300   \n1162      862                862        862                   190   \n1163      863                863        863                   220   \n\n      prec_charge                                      prec_sequence  \\\n0               2                            NVLQPSSVDSQTAMVLVNAIVFK   \n1               1                                             VVRFDK   \n2               5                         DILNQITKPNDVYSFSLASRLYAEER   \n3               1                                       HIATNAVLFFGR   \n4               3            ELINSWVESQTNGIIRNVLQPSSVDSQTAMVLVNAIVFK   \n...           ...                                                ...   \n1159            5  LPGFGDSIEAQCGTSVNVHSSLRDILNQITKPNDVYSFSLASRLYA...   \n1160            2  LPGFGDSIEAQCGTSVNVHSSLRDILNQITKPNDVYSFSLASRLYA...   \n1161            1  LPGFGDSIEAQCGTSVNVHSSLRDILNQITKPNDVYSFSLASRLYA...   \n1162            4  LPGFGDSIEAQCGTSVNVHSSLRDILNQITKPNDVYSFSLASRLYA...   \n1163            3  LPGFGDSIEAQCGTSVNVHSSLRDILNQITKPNDVYSFSLASRLYA...   \n\n      prec_segment_count prec_tryptide_ranges prec_residue_ranges  \\\n0                      1           [(14, 15)]        [(158, 181)]   \n1                      1             [(5, 7)]          [(55, 61)]   \n2                      1            [(8, 10)]         [(84, 110)]   \n3                      1           [(32, 33)]        [(369, 381)]   \n4                      1           [(13, 15)]        [(142, 181)]   \n...                  ...                  ...                 ...   \n1159                   1            [(7, 11)]         [(61, 122)]   \n1160                   1            [(7, 11)]         [(61, 122)]   \n1161                   1            [(7, 11)]         [(61, 122)]   \n1162                   1            [(7, 11)]         [(61, 122)]   \n1163                   1            [(7, 11)]         [(61, 122)]   \n\n      prec_max_mc_count prec_mc  prec_cys_bond_count    prec_mass  \\\n0                     0     [0]                    0  2461.325046   \n1                     1     [1]                    0   763.446649   \n2                     1     [1]                    0  3046.584939   \n3                     0     [0]                    0  1345.738079   \n4                     1     [1]                    0  4302.280782   \n...                 ...     ...                  ...          ...   \n1159                  3     [3]                    1  6846.455142   \n1160                  3     [3]                    1  6843.431667   \n1161                  3     [3]                    1  6842.423841   \n1162                  3     [3]                    1  6845.447317   \n1163                  3     [3]                    1  6844.439492   \n\n          prec_mz    prec_error  prec_alkylation_count  \\\n0     1230.662523  0.000000e+00                      0   \n1      763.446649  1.491095e-10                      0   \n2      609.316988  0.000000e+00                      0   \n3     1345.738079  0.000000e+00                      0   \n4     1434.093594  2.115469e-10                      0   \n...           ...           ...                    ...   \n1159  1369.291028  0.000000e+00                      0   \n1160  3421.715833  0.000000e+00                      0   \n1161  6842.423841  0.000000e+00                      0   \n1162  1711.361829  0.000000e+00                      0   \n1163  2281.479831  0.000000e+00                      0   \n\n                    prec_mods  \n0                          []  \n1                          []  \n2                          []  \n3                          []  \n4                          []  \n...                       ...  \n1159  [Disulphide Bond (–H2)]  \n1160  [Disulphide Bond (–H2)]  \n1161  [Disulphide Bond (–H2)]  \n1162  [Disulphide Bond (–H2)]  \n1163  [Disulphide Bond (–H2)]  \n\n[1164 rows x 17 columns]",
      "text/html": "<div>\n<style scoped>\n    .dataframe tbody tr th:only-of-type {\n        vertical-align: middle;\n    }\n\n    .dataframe tbody tr th {\n        vertical-align: top;\n    }\n\n    .dataframe thead th {\n        text-align: right;\n    }\n</style>\n<table border=\"1\" class=\"dataframe\">\n  <thead>\n    <tr style=\"text-align: right;\">\n      <th></th>\n      <th>scan_id</th>\n      <th>scan_nth_in_order</th>\n      <th>scan_time</th>\n      <th>scan_total_intensity</th>\n      <th>prec_charge</th>\n      <th>prec_sequence</th>\n      <th>prec_segment_count</th>\n      <th>prec_tryptide_ranges</th>\n      <th>prec_residue_ranges</th>\n      <th>prec_max_mc_count</th>\n      <th>prec_mc</th>\n      <th>prec_cys_bond_count</th>\n      <th>prec_mass</th>\n      <th>prec_mz</th>\n      <th>prec_error</th>\n      <th>prec_alkylation_count</th>\n      <th>prec_mods</th>\n    </tr>\n  </thead>\n  <tbody>\n    <tr>\n      <th>0</th>\n      <td>0</td>\n      <td>0</td>\n      <td>0</td>\n      <td>370</td>\n      <td>2</td>\n      <td>NVLQPSSVDSQTAMVLVNAIVFK</td>\n      <td>1</td>\n      <td>[(14, 15)]</td>\n      <td>[(158, 181)]</td>\n      <td>0</td>\n      <td>[0]</td>\n      <td>0</td>\n      <td>2461.325046</td>\n      <td>1230.662523</td>\n      <td>0.000000e+00</td>\n      <td>0</td>\n      <td>[]</td>\n    </tr>\n    <tr>\n      <th>1</th>\n      <td>1</td>\n      <td>1</td>\n      <td>1</td>\n      <td>110</td>\n      <td>1</td>\n      <td>VVRFDK</td>\n      <td>1</td>\n      <td>[(5, 7)]</td>\n      <td>[(55, 61)]</td>\n      <td>1</td>\n      <td>[1]</td>\n      <td>0</td>\n      <td>763.446649</td>\n      <td>763.446649</td>\n      <td>1.491095e-10</td>\n      <td>0</td>\n      <td>[]</td>\n    </tr>\n    <tr>\n      <th>2</th>\n      <td>2</td>\n      <td>2</td>\n      <td>2</td>\n      <td>460</td>\n      <td>5</td>\n      <td>DILNQITKPNDVYSFSLASRLYAEER</td>\n      <td>1</td>\n      <td>[(8, 10)]</td>\n      <td>[(84, 110)]</td>\n      <td>1</td>\n      <td>[1]</td>\n      <td>0</td>\n      <td>3046.584939</td>\n      <td>609.316988</td>\n      <td>0.000000e+00</td>\n      <td>0</td>\n      <td>[]</td>\n    </tr>\n    <tr>\n      <th>3</th>\n      <td>3</td>\n      <td>3</td>\n      <td>3</td>\n      <td>210</td>\n      <td>1</td>\n      <td>HIATNAVLFFGR</td>\n      <td>1</td>\n      <td>[(32, 33)]</td>\n      <td>[(369, 381)]</td>\n      <td>0</td>\n      <td>[0]</td>\n      <td>0</td>\n      <td>1345.738079</td>\n      <td>1345.738079</td>\n      <td>0.000000e+00</td>\n      <td>0</td>\n      <td>[]</td>\n    </tr>\n    <tr>\n      <th>4</th>\n      <td>4</td>\n      <td>4</td>\n      <td>4</td>\n      <td>400</td>\n      <td>3</td>\n      <td>ELINSWVESQTNGIIRNVLQPSSVDSQTAMVLVNAIVFK</td>\n      <td>1</td>\n      <td>[(13, 15)]</td>\n      <td>[(142, 181)]</td>\n      <td>1</td>\n      <td>[1]</td>\n      <td>0</td>\n      <td>4302.280782</td>\n      <td>1434.093594</td>\n      <td>2.115469e-10</td>\n      <td>0</td>\n      <td>[]</td>\n    </tr>\n    <tr>\n      <th>...</th>\n      <td>...</td>\n      <td>...</td>\n      <td>...</td>\n      <td>...</td>\n      <td>...</td>\n      <td>...</td>\n      <td>...</td>\n      <td>...</td>\n      <td>...</td>\n      <td>...</td>\n      <td>...</td>\n      <td>...</td>\n      <td>...</td>\n      <td>...</td>\n      <td>...</td>\n      <td>...</td>\n      <td>...</td>\n    </tr>\n    <tr>\n      <th>1159</th>\n      <td>859</td>\n      <td>859</td>\n      <td>859</td>\n      <td>230</td>\n      <td>5</td>\n      <td>LPGFGDSIEAQCGTSVNVHSSLRDILNQITKPNDVYSFSLASRLYA...</td>\n      <td>1</td>\n      <td>[(7, 11)]</td>\n      <td>[(61, 122)]</td>\n      <td>3</td>\n      <td>[3]</td>\n      <td>1</td>\n      <td>6846.455142</td>\n      <td>1369.291028</td>\n      <td>0.000000e+00</td>\n      <td>0</td>\n      <td>[Disulphide Bond (–H2)]</td>\n    </tr>\n    <tr>\n      <th>1160</th>\n      <td>860</td>\n      <td>860</td>\n      <td>860</td>\n      <td>310</td>\n      <td>2</td>\n      <td>LPGFGDSIEAQCGTSVNVHSSLRDILNQITKPNDVYSFSLASRLYA...</td>\n      <td>1</td>\n      <td>[(7, 11)]</td>\n      <td>[(61, 122)]</td>\n      <td>3</td>\n      <td>[3]</td>\n      <td>1</td>\n      <td>6843.431667</td>\n      <td>3421.715833</td>\n      <td>0.000000e+00</td>\n      <td>0</td>\n      <td>[Disulphide Bond (–H2)]</td>\n    </tr>\n    <tr>\n      <th>1161</th>\n      <td>861</td>\n      <td>861</td>\n      <td>861</td>\n      <td>300</td>\n      <td>1</td>\n      <td>LPGFGDSIEAQCGTSVNVHSSLRDILNQITKPNDVYSFSLASRLYA...</td>\n      <td>1</td>\n      <td>[(7, 11)]</td>\n      <td>[(61, 122)]</td>\n      <td>3</td>\n      <td>[3]</td>\n      <td>1</td>\n      <td>6842.423841</td>\n      <td>6842.423841</td>\n      <td>0.000000e+00</td>\n      <td>0</td>\n      <td>[Disulphide Bond (–H2)]</td>\n    </tr>\n    <tr>\n      <th>1162</th>\n      <td>862</td>\n      <td>862</td>\n      <td>862</td>\n      <td>190</td>\n      <td>4</td>\n      <td>LPGFGDSIEAQCGTSVNVHSSLRDILNQITKPNDVYSFSLASRLYA...</td>\n      <td>1</td>\n      <td>[(7, 11)]</td>\n      <td>[(61, 122)]</td>\n      <td>3</td>\n      <td>[3]</td>\n      <td>1</td>\n      <td>6845.447317</td>\n      <td>1711.361829</td>\n      <td>0.000000e+00</td>\n      <td>0</td>\n      <td>[Disulphide Bond (–H2)]</td>\n    </tr>\n    <tr>\n      <th>1163</th>\n      <td>863</td>\n      <td>863</td>\n      <td>863</td>\n      <td>220</td>\n      <td>3</td>\n      <td>LPGFGDSIEAQCGTSVNVHSSLRDILNQITKPNDVYSFSLASRLYA...</td>\n      <td>1</td>\n      <td>[(7, 11)]</td>\n      <td>[(61, 122)]</td>\n      <td>3</td>\n      <td>[3]</td>\n      <td>1</td>\n      <td>6844.439492</td>\n      <td>2281.479831</td>\n      <td>0.000000e+00</td>\n      <td>0</td>\n      <td>[Disulphide Bond (–H2)]</td>\n    </tr>\n  </tbody>\n</table>\n<p>1164 rows × 17 columns</p>\n</div>"
     },
     "execution_count": 19,
     "metadata": {},
     "output_type": "execute_result"
    }
   ],
   "source": [
    "precursor_matches = write_matched_precursors(\n",
    "    tryptides,\n",
    "    scans,\n",
    "    \"../out/precursor_matches/TEST_OVA_AT_segments=3_error=50ppm.pickle\",\n",
    "    max_segments=3,\n",
    "    error_ppm=5,\n",
    ")\n",
    "\n",
    "precursor_match_records = []\n",
    "for pm in precursor_matches:\n",
    "    precursor_match_records.append(pm[\"scan\"].to_dict() | pm[\"precursor\"].to_dict())\n",
    "\n",
    "prec_df = pd.DataFrame(precursor_match_records)\n",
    "\n",
    "prec_df.to_csv(\n",
    "    \"../out/csv/precursor_matches_TEST_OVA_segments=3_error=50ppm.csv\", index=False\n",
    ")\n",
    "\n",
    "prec_df"
   ],
   "metadata": {
    "collapsed": false,
    "pycharm": {
     "name": "#%%\n"
    }
   }
  },
  {
   "cell_type": "code",
   "execution_count": 20,
   "outputs": [
    {
     "name": "stderr",
     "output_type": "stream",
     "text": [
      "  0%|          | 0/1164 [00:00<?, ?it/s]"
     ]
    },
    {
     "name": "stdout",
     "output_type": "stream",
     "text": [
      "Writing the matched fragments to ../out/fragment_matches/TEST_OVA_AT_segments=3_breaks=2_error=5ppm.pickle\n"
     ]
    },
    {
     "name": "stderr",
     "output_type": "stream",
     "text": [
      "100%|██████████| 1164/1164 [04:15<00:00,  4.55it/s]\n"
     ]
    },
    {
     "data": {
      "text/plain": "        scan_id  scan_nth_in_order  scan_time  scan_total_intensity  \\\n0             0                  0          0                   370   \n1             0                  0          0                   370   \n2             0                  0          0                   370   \n3             0                  0          0                   370   \n4             0                  0          0                   370   \n...         ...                ...        ...                   ...   \n109896      863                863        863                   220   \n109897      863                863        863                   220   \n109898      863                863        863                   220   \n109899      863                863        863                   220   \n109900      863                863        863                   220   \n\n        prec_charge                                      prec_sequence  \\\n0                 2                            NVLQPSSVDSQTAMVLVNAIVFK   \n1                 2                            NVLQPSSVDSQTAMVLVNAIVFK   \n2                 2                            NVLQPSSVDSQTAMVLVNAIVFK   \n3                 2                            NVLQPSSVDSQTAMVLVNAIVFK   \n4                 2                            NVLQPSSVDSQTAMVLVNAIVFK   \n...             ...                                                ...   \n109896            3  LPGFGDSIEAQCGTSVNVHSSLRDILNQITKPNDVYSFSLASRLYA...   \n109897            3  LPGFGDSIEAQCGTSVNVHSSLRDILNQITKPNDVYSFSLASRLYA...   \n109898            3  LPGFGDSIEAQCGTSVNVHSSLRDILNQITKPNDVYSFSLASRLYA...   \n109899            3  LPGFGDSIEAQCGTSVNVHSSLRDILNQITKPNDVYSFSLASRLYA...   \n109900            3  LPGFGDSIEAQCGTSVNVHSSLRDILNQITKPNDVYSFSLASRLYA...   \n\n        prec_segment_count prec_tryptide_ranges prec_residue_ranges  \\\n0                        1           [(14, 15)]        [(158, 181)]   \n1                        1           [(14, 15)]        [(158, 181)]   \n2                        1           [(14, 15)]        [(158, 181)]   \n3                        1           [(14, 15)]        [(158, 181)]   \n4                        1           [(14, 15)]        [(158, 181)]   \n...                    ...                  ...                 ...   \n109896                   1            [(7, 11)]         [(61, 122)]   \n109897                   1            [(7, 11)]         [(61, 122)]   \n109898                   1            [(7, 11)]         [(61, 122)]   \n109899                   1            [(7, 11)]         [(61, 122)]   \n109900                   1            [(7, 11)]         [(61, 122)]   \n\n        prec_max_mc_count  ... frag_error_ppm  \\\n0                       0  ...       4.810162   \n1                       0  ...       2.574072   \n2                       0  ...       0.995020   \n3                       0  ...       1.718720   \n4                       0  ...       0.859357   \n...                   ...  ...            ...   \n109896                  3  ...       0.220964   \n109897                  3  ...       0.165412   \n109898                  3  ...       0.165412   \n109899                  3  ...       0.589509   \n109900                  3  ...       0.589509   \n\n                                         frag_mods  frag_connected_bonds  \\\n0                                               []                    []   \n1                                               []                    []   \n2                                               []                    []   \n3                                               []                    []   \n4                                               []                    []   \n...                                            ...                   ...   \n109896  [-H2O (neutral loss), -H2O (neutral loss)]           [(72, 119)]   \n109897                                          []           [(72, 119)]   \n109898                                          []           [(72, 119)]   \n109899                                          []           [(72, 119)]   \n109900                                          []           [(72, 119)]   \n\n        frag_disconnected_cys  frag_interesting_disconnected_cys  \\\n0                          []                                 []   \n1                          []                                 []   \n2                          []                                 []   \n3                          []                                 []   \n4                          []                                 []   \n...                       ...                                ...   \n109896                     []                                 []   \n109897                     []                                 []   \n109898                     []                                 []   \n109899                     []                                 []   \n109900                     []                                 []   \n\n        frag_intensity frag_intensity_ratio  target_mass    target_mz  \\\n0                   10             0.027027   114.042379   115.050204   \n1                   10             0.027027   213.110793   214.118618   \n2                   10             0.027027   551.306198   552.314023   \n3                   10             0.027027   638.337678   320.176664   \n4                   10             0.027027   638.338227   639.346052   \n...                ...                  ...          ...          ...   \n109896              10             0.045455  4963.462592  4964.470417   \n109897              10             0.045455  6630.319228  3316.167439   \n109898              10             0.045455  6630.319228  6631.327053   \n109899              10             0.045455  4963.462592  2482.739121   \n109900              10             0.045455  4963.462592  4964.470417   \n\n       prec_variant_count  \n0                       1  \n1                       1  \n2                       1  \n3                       1  \n4                       1  \n...                   ...  \n109896                  1  \n109897                  1  \n109898                  1  \n109899                  1  \n109900                  1  \n\n[109901 rows x 35 columns]",
      "text/html": "<div>\n<style scoped>\n    .dataframe tbody tr th:only-of-type {\n        vertical-align: middle;\n    }\n\n    .dataframe tbody tr th {\n        vertical-align: top;\n    }\n\n    .dataframe thead th {\n        text-align: right;\n    }\n</style>\n<table border=\"1\" class=\"dataframe\">\n  <thead>\n    <tr style=\"text-align: right;\">\n      <th></th>\n      <th>scan_id</th>\n      <th>scan_nth_in_order</th>\n      <th>scan_time</th>\n      <th>scan_total_intensity</th>\n      <th>prec_charge</th>\n      <th>prec_sequence</th>\n      <th>prec_segment_count</th>\n      <th>prec_tryptide_ranges</th>\n      <th>prec_residue_ranges</th>\n      <th>prec_max_mc_count</th>\n      <th>...</th>\n      <th>frag_error_ppm</th>\n      <th>frag_mods</th>\n      <th>frag_connected_bonds</th>\n      <th>frag_disconnected_cys</th>\n      <th>frag_interesting_disconnected_cys</th>\n      <th>frag_intensity</th>\n      <th>frag_intensity_ratio</th>\n      <th>target_mass</th>\n      <th>target_mz</th>\n      <th>prec_variant_count</th>\n    </tr>\n  </thead>\n  <tbody>\n    <tr>\n      <th>0</th>\n      <td>0</td>\n      <td>0</td>\n      <td>0</td>\n      <td>370</td>\n      <td>2</td>\n      <td>NVLQPSSVDSQTAMVLVNAIVFK</td>\n      <td>1</td>\n      <td>[(14, 15)]</td>\n      <td>[(158, 181)]</td>\n      <td>0</td>\n      <td>...</td>\n      <td>4.810162</td>\n      <td>[]</td>\n      <td>[]</td>\n      <td>[]</td>\n      <td>[]</td>\n      <td>10</td>\n      <td>0.027027</td>\n      <td>114.042379</td>\n      <td>115.050204</td>\n      <td>1</td>\n    </tr>\n    <tr>\n      <th>1</th>\n      <td>0</td>\n      <td>0</td>\n      <td>0</td>\n      <td>370</td>\n      <td>2</td>\n      <td>NVLQPSSVDSQTAMVLVNAIVFK</td>\n      <td>1</td>\n      <td>[(14, 15)]</td>\n      <td>[(158, 181)]</td>\n      <td>0</td>\n      <td>...</td>\n      <td>2.574072</td>\n      <td>[]</td>\n      <td>[]</td>\n      <td>[]</td>\n      <td>[]</td>\n      <td>10</td>\n      <td>0.027027</td>\n      <td>213.110793</td>\n      <td>214.118618</td>\n      <td>1</td>\n    </tr>\n    <tr>\n      <th>2</th>\n      <td>0</td>\n      <td>0</td>\n      <td>0</td>\n      <td>370</td>\n      <td>2</td>\n      <td>NVLQPSSVDSQTAMVLVNAIVFK</td>\n      <td>1</td>\n      <td>[(14, 15)]</td>\n      <td>[(158, 181)]</td>\n      <td>0</td>\n      <td>...</td>\n      <td>0.995020</td>\n      <td>[]</td>\n      <td>[]</td>\n      <td>[]</td>\n      <td>[]</td>\n      <td>10</td>\n      <td>0.027027</td>\n      <td>551.306198</td>\n      <td>552.314023</td>\n      <td>1</td>\n    </tr>\n    <tr>\n      <th>3</th>\n      <td>0</td>\n      <td>0</td>\n      <td>0</td>\n      <td>370</td>\n      <td>2</td>\n      <td>NVLQPSSVDSQTAMVLVNAIVFK</td>\n      <td>1</td>\n      <td>[(14, 15)]</td>\n      <td>[(158, 181)]</td>\n      <td>0</td>\n      <td>...</td>\n      <td>1.718720</td>\n      <td>[]</td>\n      <td>[]</td>\n      <td>[]</td>\n      <td>[]</td>\n      <td>10</td>\n      <td>0.027027</td>\n      <td>638.337678</td>\n      <td>320.176664</td>\n      <td>1</td>\n    </tr>\n    <tr>\n      <th>4</th>\n      <td>0</td>\n      <td>0</td>\n      <td>0</td>\n      <td>370</td>\n      <td>2</td>\n      <td>NVLQPSSVDSQTAMVLVNAIVFK</td>\n      <td>1</td>\n      <td>[(14, 15)]</td>\n      <td>[(158, 181)]</td>\n      <td>0</td>\n      <td>...</td>\n      <td>0.859357</td>\n      <td>[]</td>\n      <td>[]</td>\n      <td>[]</td>\n      <td>[]</td>\n      <td>10</td>\n      <td>0.027027</td>\n      <td>638.338227</td>\n      <td>639.346052</td>\n      <td>1</td>\n    </tr>\n    <tr>\n      <th>...</th>\n      <td>...</td>\n      <td>...</td>\n      <td>...</td>\n      <td>...</td>\n      <td>...</td>\n      <td>...</td>\n      <td>...</td>\n      <td>...</td>\n      <td>...</td>\n      <td>...</td>\n      <td>...</td>\n      <td>...</td>\n      <td>...</td>\n      <td>...</td>\n      <td>...</td>\n      <td>...</td>\n      <td>...</td>\n      <td>...</td>\n      <td>...</td>\n      <td>...</td>\n      <td>...</td>\n    </tr>\n    <tr>\n      <th>109896</th>\n      <td>863</td>\n      <td>863</td>\n      <td>863</td>\n      <td>220</td>\n      <td>3</td>\n      <td>LPGFGDSIEAQCGTSVNVHSSLRDILNQITKPNDVYSFSLASRLYA...</td>\n      <td>1</td>\n      <td>[(7, 11)]</td>\n      <td>[(61, 122)]</td>\n      <td>3</td>\n      <td>...</td>\n      <td>0.220964</td>\n      <td>[-H2O (neutral loss), -H2O (neutral loss)]</td>\n      <td>[(72, 119)]</td>\n      <td>[]</td>\n      <td>[]</td>\n      <td>10</td>\n      <td>0.045455</td>\n      <td>4963.462592</td>\n      <td>4964.470417</td>\n      <td>1</td>\n    </tr>\n    <tr>\n      <th>109897</th>\n      <td>863</td>\n      <td>863</td>\n      <td>863</td>\n      <td>220</td>\n      <td>3</td>\n      <td>LPGFGDSIEAQCGTSVNVHSSLRDILNQITKPNDVYSFSLASRLYA...</td>\n      <td>1</td>\n      <td>[(7, 11)]</td>\n      <td>[(61, 122)]</td>\n      <td>3</td>\n      <td>...</td>\n      <td>0.165412</td>\n      <td>[]</td>\n      <td>[(72, 119)]</td>\n      <td>[]</td>\n      <td>[]</td>\n      <td>10</td>\n      <td>0.045455</td>\n      <td>6630.319228</td>\n      <td>3316.167439</td>\n      <td>1</td>\n    </tr>\n    <tr>\n      <th>109898</th>\n      <td>863</td>\n      <td>863</td>\n      <td>863</td>\n      <td>220</td>\n      <td>3</td>\n      <td>LPGFGDSIEAQCGTSVNVHSSLRDILNQITKPNDVYSFSLASRLYA...</td>\n      <td>1</td>\n      <td>[(7, 11)]</td>\n      <td>[(61, 122)]</td>\n      <td>3</td>\n      <td>...</td>\n      <td>0.165412</td>\n      <td>[]</td>\n      <td>[(72, 119)]</td>\n      <td>[]</td>\n      <td>[]</td>\n      <td>10</td>\n      <td>0.045455</td>\n      <td>6630.319228</td>\n      <td>6631.327053</td>\n      <td>1</td>\n    </tr>\n    <tr>\n      <th>109899</th>\n      <td>863</td>\n      <td>863</td>\n      <td>863</td>\n      <td>220</td>\n      <td>3</td>\n      <td>LPGFGDSIEAQCGTSVNVHSSLRDILNQITKPNDVYSFSLASRLYA...</td>\n      <td>1</td>\n      <td>[(7, 11)]</td>\n      <td>[(61, 122)]</td>\n      <td>3</td>\n      <td>...</td>\n      <td>0.589509</td>\n      <td>[]</td>\n      <td>[(72, 119)]</td>\n      <td>[]</td>\n      <td>[]</td>\n      <td>10</td>\n      <td>0.045455</td>\n      <td>4963.462592</td>\n      <td>2482.739121</td>\n      <td>1</td>\n    </tr>\n    <tr>\n      <th>109900</th>\n      <td>863</td>\n      <td>863</td>\n      <td>863</td>\n      <td>220</td>\n      <td>3</td>\n      <td>LPGFGDSIEAQCGTSVNVHSSLRDILNQITKPNDVYSFSLASRLYA...</td>\n      <td>1</td>\n      <td>[(7, 11)]</td>\n      <td>[(61, 122)]</td>\n      <td>3</td>\n      <td>...</td>\n      <td>0.589509</td>\n      <td>[]</td>\n      <td>[(72, 119)]</td>\n      <td>[]</td>\n      <td>[]</td>\n      <td>10</td>\n      <td>0.045455</td>\n      <td>4963.462592</td>\n      <td>4964.470417</td>\n      <td>1</td>\n    </tr>\n  </tbody>\n</table>\n<p>109901 rows × 35 columns</p>\n</div>"
     },
     "execution_count": 20,
     "metadata": {},
     "output_type": "execute_result"
    }
   ],
   "source": [
    "fragment_matches = write_matched_fragments(\n",
    "    precursor_matches=precursor_matches,\n",
    "    tryptides=tryptides,\n",
    "    output_path=\"../out/fragment_matches/TEST_OVA_AT_segments=3_breaks=2_error=5ppm.pickle\",\n",
    "    max_allowed_breaks=2,\n",
    "    error_ppm=5,\n",
    ")\n",
    "\n",
    "fragment_match_records = []\n",
    "for fm in fragment_matches:\n",
    "    fragment_match_records.append(\n",
    "        fm[\"scan\"].to_dict()\n",
    "        | fm[\"precursor\"].to_dict()\n",
    "        | fm[\"variant\"].to_dict()\n",
    "        | (fm[\"fragment\"].to_dict() if fm[\"fragment\"] is not None else {})\n",
    "        | {\"prec_variant_count\": fm[\"variant_count\"]}\n",
    "    )\n",
    "\n",
    "frag_df = pd.DataFrame(fragment_match_records)\n",
    "\n",
    "frag_df.to_csv(\n",
    "    \"../out/csv/fragment_matches_TEST_OVA_segments=3_error=50ppm.csv\", index=False\n",
    ")\n",
    "\n",
    "frag_df"
   ],
   "metadata": {
    "collapsed": false,
    "pycharm": {
     "name": "#%%\n"
    }
   }
  },
  {
   "cell_type": "code",
   "execution_count": 81,
   "outputs": [
    {
     "data": {
      "text/plain": "[]"
     },
     "execution_count": 81,
     "metadata": {},
     "output_type": "execute_result"
    }
   ],
   "source": [
    "\n",
    "import importlib\n",
    "import fragment_matching\n",
    "import src.model.precursor\n",
    "import src.model.modification\n",
    "\n",
    "importlib.reload(fragment_matching)\n",
    "importlib.reload(src.model.precursor)\n",
    "importlib.reload(src.model.modification)\n",
    "\n",
    "\n",
    "var = src.model.precursor.Precursor(\n",
    "    \"VYLPR\",\n",
    "    7604.863 - PROTON,\n",
    "    7604.863,\n",
    "    [(25, 27)],\n",
    "    [(279, 284)],\n",
    "    0,\n",
    "    0,\n",
    "    [],\n",
    "    0,\n",
    ").variants(tryptides)[0]\n",
    "var.bonds"
   ],
   "metadata": {
    "collapsed": false,
    "pycharm": {
     "name": "#%%\n"
    }
   }
  },
  {
   "cell_type": "code",
   "execution_count": 82,
   "outputs": [
    {
     "name": "stdout",
     "output_type": "stream",
     "text": [
      "[[Modification(description='-H2O (neutral loss)', mass=-18.0105646837), Modification(description='-NH3 (neutral loss)', mass=-17.02654910101), None]] 99.06841391299 99.06786534768999 5\n",
      "81.05784922929 99.06786534768999 (Modification(description='-H2O (neutral loss)', mass=-18.0105646837),)\n",
      "82.04186481197999 99.06786534768999 (Modification(description='-NH3 (neutral loss)', mass=-17.02654910101),)\n",
      "99.06841391299 99.06786534768999 ()\n",
      "[[Modification(description='-H2O (neutral loss)', mass=-18.0105646837), Modification(description='-NH3 (neutral loss)', mass=-17.02654910101), None], [Modification(description='-H2O (neutral loss)', mass=-18.0105646837), Modification(description='-NH3 (neutral loss)', mass=-17.02654910101), None]] 113.08406397713001 99.06786534768999 5\n",
      "77.06293460973002 99.06786534768999 (Modification(description='-H2O (neutral loss)', mass=-18.0105646837), Modification(description='-H2O (neutral loss)', mass=-18.0105646837))\n",
      "78.04695019242001 99.06786534768999 (Modification(description='-H2O (neutral loss)', mass=-18.0105646837), Modification(description='-NH3 (neutral loss)', mass=-17.02654910101))\n",
      "95.07349929343002 99.06786534768999 (Modification(description='-H2O (neutral loss)', mass=-18.0105646837),)\n",
      "78.04695019242001 99.06786534768999 (Modification(description='-NH3 (neutral loss)', mass=-17.02654910101), Modification(description='-H2O (neutral loss)', mass=-18.0105646837))\n",
      "79.03096577511 99.06786534768999 (Modification(description='-NH3 (neutral loss)', mass=-17.02654910101), Modification(description='-NH3 (neutral loss)', mass=-17.02654910101))\n",
      "96.05751487612001 99.06786534768999 (Modification(description='-NH3 (neutral loss)', mass=-17.02654910101),)\n",
      "95.07349929343002 99.06786534768999 (Modification(description='-H2O (neutral loss)', mass=-18.0105646837),)\n",
      "96.05751487612001 99.06786534768999 (Modification(description='-NH3 (neutral loss)', mass=-17.02654910101),)\n",
      "113.08406397713001 99.06786534768999 ()\n",
      "[[Modification(description='-H2O (neutral loss)', mass=-18.0105646837), Modification(description='-NH3 (neutral loss)', mass=-17.02654910101), None], [Modification(description='-H2O (neutral loss)', mass=-18.0105646837), Modification(description='-NH3 (neutral loss)', mass=-17.02654910101), None]] 131.04048491299 99.06786534768999 5\n",
      "95.01935554559 99.06786534768999 (Modification(description='-H2O (neutral loss)', mass=-18.0105646837), Modification(description='-H2O (neutral loss)', mass=-18.0105646837))\n",
      "96.00337112828 99.06786534768999 (Modification(description='-H2O (neutral loss)', mass=-18.0105646837), Modification(description='-NH3 (neutral loss)', mass=-17.02654910101))\n",
      "113.02992022929 99.06786534768999 (Modification(description='-H2O (neutral loss)', mass=-18.0105646837),)\n",
      "96.00337112828 99.06786534768999 (Modification(description='-NH3 (neutral loss)', mass=-17.02654910101), Modification(description='-H2O (neutral loss)', mass=-18.0105646837))\n",
      "96.98738671096999 99.06786534768999 (Modification(description='-NH3 (neutral loss)', mass=-17.02654910101), Modification(description='-NH3 (neutral loss)', mass=-17.02654910101))\n",
      "114.01393581197999 99.06786534768999 (Modification(description='-NH3 (neutral loss)', mass=-17.02654910101),)\n",
      "113.02992022929 99.06786534768999 (Modification(description='-H2O (neutral loss)', mass=-18.0105646837),)\n",
      "114.01393581197999 99.06786534768999 (Modification(description='-NH3 (neutral loss)', mass=-17.02654910101),)\n",
      "131.04048491299 99.06786534768999 ()\n"
     ]
    },
    {
     "data": {
      "text/plain": "[]"
     },
     "execution_count": 82,
     "metadata": {},
     "output_type": "execute_result"
    }
   ],
   "source": [
    "MZ = calculate_mass(\"V\", charge=1, ion_type=\"b\")\n",
    "fragment_matching._fragments_matching_targets(\n",
    "    [fragment_matching.Target(0, MZ - PROTON, MZ, 10, 3, 1)],\n",
    "    var,\n",
    "    2,\n",
    "    5,\n",
    ")"
   ],
   "metadata": {
    "collapsed": false,
    "pycharm": {
     "name": "#%%\n"
    }
   }
  },
  {
   "cell_type": "code",
   "execution_count": 85,
   "outputs": [
    {
     "data": {
      "text/plain": "False"
     },
     "execution_count": 85,
     "metadata": {},
     "output_type": "execute_result"
    }
   ],
   "source": [
    "import src.utilities.error\n",
    "\n",
    "src.utilities.error.within_bounds(99.06841391299, 99.06786534768999, error_ppm=5)"
   ],
   "metadata": {
    "collapsed": false,
    "pycharm": {
     "name": "#%%\n"
    }
   }
  },
  {
   "cell_type": "code",
   "execution_count": 79,
   "outputs": [
    {
     "name": "stdout",
     "output_type": "stream",
     "text": [
      "81.05784922929 99.06786534768999 (Modification(description='-H2O (neutral loss)', mass=-18.0105646837),)\n",
      "82.04186481197999 99.06786534768999 (Modification(description='-NH3 (neutral loss)', mass=-17.02654910101),)\n",
      "99.06841391299 99.06786534768999 ()\n"
     ]
    },
    {
     "data": {
      "text/plain": "[]"
     },
     "execution_count": 79,
     "metadata": {},
     "output_type": "execute_result"
    }
   ],
   "source": [
    "src.model.modification.combine_modifications(\n",
    "    [\n",
    "        [\n",
    "            src.model.modification.Modification(\n",
    "                description=\"-H2O (neutral loss)\", mass=-18.0105646837\n",
    "            ),\n",
    "            src.model.modification.Modification(\n",
    "                description=\"-NH3 (neutral loss)\", mass=-17.02654910101\n",
    "            ),\n",
    "            None,\n",
    "        ]\n",
    "    ],\n",
    "    99.06841391299,\n",
    "    99.06786534768999,\n",
    "    5,\n",
    ")"
   ],
   "metadata": {
    "collapsed": false,
    "pycharm": {
     "name": "#%%\n"
    }
   }
  },
  {
   "cell_type": "code",
   "execution_count": 60,
   "outputs": [
    {
     "data": {
      "text/plain": "18.010564683699997"
     },
     "execution_count": 60,
     "metadata": {},
     "output_type": "execute_result"
    }
   ],
   "source": [
    "mss = fragment_matching.write_matched_fragments(\n",
    "    [precursors[647] | {\"scan\": scans[647]}],\n",
    "    tryptides,\n",
    "    \"../out/fragment_matches/doesn_matter_just_testing.pickle\",\n",
    "    2,\n",
    "    5,\n",
    ")\n",
    "\n",
    "\n",
    "[mss]"
   ],
   "metadata": {
    "collapsed": false,
    "pycharm": {
     "name": "#%%\n"
    }
   }
  }
 ],
 "metadata": {
  "kernelspec": {
   "display_name": "Python 3",
   "language": "python",
   "name": "python3"
  },
  "language_info": {
   "codemirror_mode": {
    "name": "ipython",
    "version": 2
   },
   "file_extension": ".py",
   "mimetype": "text/x-python",
   "name": "python",
   "nbconvert_exporter": "python",
   "pygments_lexer": "ipython2",
   "version": "2.7.6"
  }
 },
 "nbformat": 4,
 "nbformat_minor": 0
}
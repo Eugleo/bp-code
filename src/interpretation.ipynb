{
 "cells": [
  {
   "cell_type": "code",
   "execution_count": 8,
   "metadata": {
    "collapsed": true
   },
   "outputs": [],
   "source": [
    "\n",
    "import pickle\n",
    "import pandas as pd\n",
    "from measurement import read_mgf, Scan\n",
    "\n",
    "from protein import trypsin\n",
    "\n",
    "from pyteomics.mass import calculate_mass\n",
    "\n",
    "from common import LYS, BSA, OVA, LIP\n"
   ]
  },
  {
   "cell_type": "code",
   "execution_count": null,
   "outputs": [],
   "source": [
    "FRAGMENT_FILE = \"../out/fragment_matches/OVA_AT_segments=3_breaks=2_error=15ppm.pickle\""
   ],
   "metadata": {
    "collapsed": false,
    "pycharm": {
     "name": "#%%\n"
    }
   }
  },
  {
   "cell_type": "code",
   "execution_count": 373,
   "outputs": [
    {
     "ename": "EOFError",
     "evalue": "Ran out of input",
     "output_type": "error",
     "traceback": [
      "\u001B[0;31m---------------------------------------------------------------------------\u001B[0m",
      "\u001B[0;31mEOFError\u001B[0m                                  Traceback (most recent call last)",
      "\u001B[0;32m<ipython-input-373-1e2cfacc67e0>\u001B[0m in \u001B[0;36m<module>\u001B[0;34m\u001B[0m\n\u001B[1;32m      2\u001B[0m \u001B[0;32mwith\u001B[0m \u001B[0mopen\u001B[0m\u001B[0;34m(\u001B[0m\u001B[0mFRAGMENT_FILE\u001B[0m\u001B[0;34m,\u001B[0m \u001B[0;34m\"rb\"\u001B[0m\u001B[0;34m)\u001B[0m \u001B[0;32mas\u001B[0m \u001B[0mf\u001B[0m\u001B[0;34m:\u001B[0m\u001B[0;34m\u001B[0m\u001B[0;34m\u001B[0m\u001B[0m\n\u001B[1;32m      3\u001B[0m     \u001B[0;32mwhile\u001B[0m \u001B[0;32mTrue\u001B[0m\u001B[0;34m:\u001B[0m\u001B[0;34m\u001B[0m\u001B[0;34m\u001B[0m\u001B[0m\n\u001B[0;32m----> 4\u001B[0;31m         \u001B[0mfragments\u001B[0m\u001B[0;34m.\u001B[0m\u001B[0mappend\u001B[0m\u001B[0;34m(\u001B[0m\u001B[0mpickle\u001B[0m\u001B[0;34m.\u001B[0m\u001B[0mload\u001B[0m\u001B[0;34m(\u001B[0m\u001B[0mf\u001B[0m\u001B[0;34m)\u001B[0m\u001B[0;34m)\u001B[0m\u001B[0;34m\u001B[0m\u001B[0;34m\u001B[0m\u001B[0m\n\u001B[0m\u001B[1;32m      5\u001B[0m \u001B[0;34m\u001B[0m\u001B[0m\n\u001B[1;32m      6\u001B[0m \u001B[0;34m\u001B[0m\u001B[0m\n",
      "\u001B[0;31mEOFError\u001B[0m: Ran out of input"
     ]
    }
   ],
   "source": [
    "fragments = []\n",
    "with open(FRAGMENT_FILE, \"rb\") as f:\n",
    "    while True:\n",
    "        fragments.append(pickle.load(f))\n"
   ],
   "metadata": {
    "collapsed": false,
    "pycharm": {
     "name": "#%%\n"
    }
   }
  },
  {
   "cell_type": "code",
   "execution_count": 375,
   "outputs": [
    {
     "data": {
      "text/plain": "                                            measurement  \\\n0     <measurement.PeptideMeasurement object at 0x49...   \n1     <measurement.PeptideMeasurement object at 0x4a...   \n2     <measurement.PeptideMeasurement object at 0x49...   \n3     <measurement.PeptideMeasurement object at 0x49...   \n4     <measurement.PeptideMeasurement object at 0x49...   \n...                                                 ...   \n2876  <measurement.PeptideMeasurement object at 0x4a...   \n2877  <measurement.PeptideMeasurement object at 0x4a...   \n2878  <measurement.PeptideMeasurement object at 0x4a...   \n2879  <measurement.PeptideMeasurement object at 0x4a...   \n2880  <measurement.PeptideMeasurement object at 0x4a...   \n\n                                              precursor  variants  \\\n0     {'measurement': <measurement.PeptideMeasuremen...         1   \n1     {'measurement': <measurement.PeptideMeasuremen...         1   \n2     {'measurement': <measurement.PeptideMeasuremen...         1   \n3     {'measurement': <measurement.PeptideMeasuremen...         1   \n4     {'measurement': <measurement.PeptideMeasuremen...         1   \n...                                                 ...       ...   \n2876  {'measurement': <measurement.PeptideMeasuremen...         1   \n2877  {'measurement': <measurement.PeptideMeasuremen...         1   \n2878  {'measurement': <measurement.PeptideMeasuremen...         1   \n2879  {'measurement': <measurement.PeptideMeasuremen...         1   \n2880  {'measurement': <measurement.PeptideMeasuremen...         1   \n\n                               multipeptide bonds  \\\n0                                VASMASEKMK    ()   \n1                                VASMASEKMK    ()   \n2                                VASMASEKMK    ()   \n3                                VASMASEKMK    ()   \n4                                VASMASEKMK    ()   \n...                                     ...   ...   \n2876  DEDTQAMPFRVTEQESKPVQMMYQIGLFRVASMASEK    ()   \n2877  DEDTQAMPFRVTEQESKPVQMMYQIGLFRVASMASEK    ()   \n2878  DEDTQAMPFRVTEQESKPVQMMYQIGLFRVASMASEK    ()   \n2879  DEDTQAMPFRVTEQESKPVQMMYQIGLFRVASMASEK    ()   \n2880        NVLQPSSVDSQTAMVLVNAIVFKGLWEKAFK    ()   \n\n                                                  match  fragment_id  \\\n0     {'seq': 'K', 'ranges': [(225, 226)], 'mass': 1...            8   \n1     {'seq': 'K', 'ranges': [(227, 228)], 'mass': 1...            8   \n2     {'seq': 'K', 'ranges': [(227, 228)], 'mass': 1...            9   \n3     {'seq': 'AS', 'ranges': [(219, 221)], 'mass': ...           13   \n4     {'seq': 'AS', 'ranges': [(222, 224)], 'mass': ...           13   \n...                                                 ...          ...   \n2876  {'seq': 'QESKPVQMMYQI', 'ranges': [(202, 214)]...           23   \n2877  {'seq': 'EDTQAM', 'ranges': [(190, 196)], 'mas...           16   \n2878  {'seq': 'FRVAS', 'ranges': [(216, 221)], 'mass...           21   \n2879  {'seq': 'RVTEQESKPVQMMYQIGLFRV', 'ranges': [(1...           27   \n2880  {'seq': 'LWEKA', 'ranges': [(182, 187)], 'mass...           17   \n\n      fragment_mz      intensity  charge  total_intensity     score  \n0      129.102437  178681.046875       1     4.739896e+06  0.037697  \n1      129.102437  178681.046875       1     4.739896e+06  0.037697  \n2      130.086993   55991.753906       1     4.739896e+06  0.011813  \n3      141.065694    9986.906250       1     4.739896e+06  0.002107  \n4      141.065694    9986.906250       1     4.739896e+06  0.002107  \n...           ...            ...     ...              ...       ...  \n2876   482.566593    2882.504395       3     7.291893e+04  0.039530  \n2877   220.087029    2136.551758       3     7.015100e+04  0.030456  \n2878   543.311687    2796.637695       1     7.015100e+04  0.039866  \n2879  1252.143413    2924.811523       2     7.015100e+04  0.041693  \n2880   305.670837    2622.451416       2     6.157714e+04  0.042588  \n\n[2881 rows x 12 columns]",
      "text/html": "<div>\n<style scoped>\n    .dataframe tbody tr th:only-of-type {\n        vertical-align: middle;\n    }\n\n    .dataframe tbody tr th {\n        vertical-align: top;\n    }\n\n    .dataframe thead th {\n        text-align: right;\n    }\n</style>\n<table border=\"1\" class=\"dataframe\">\n  <thead>\n    <tr style=\"text-align: right;\">\n      <th></th>\n      <th>measurement</th>\n      <th>precursor</th>\n      <th>variants</th>\n      <th>multipeptide</th>\n      <th>bonds</th>\n      <th>match</th>\n      <th>fragment_id</th>\n      <th>fragment_mz</th>\n      <th>intensity</th>\n      <th>charge</th>\n      <th>total_intensity</th>\n      <th>score</th>\n    </tr>\n  </thead>\n  <tbody>\n    <tr>\n      <th>0</th>\n      <td>&lt;measurement.PeptideMeasurement object at 0x49...</td>\n      <td>{'measurement': &lt;measurement.PeptideMeasuremen...</td>\n      <td>1</td>\n      <td>VASMASEKMK</td>\n      <td>()</td>\n      <td>{'seq': 'K', 'ranges': [(225, 226)], 'mass': 1...</td>\n      <td>8</td>\n      <td>129.102437</td>\n      <td>178681.046875</td>\n      <td>1</td>\n      <td>4.739896e+06</td>\n      <td>0.037697</td>\n    </tr>\n    <tr>\n      <th>1</th>\n      <td>&lt;measurement.PeptideMeasurement object at 0x4a...</td>\n      <td>{'measurement': &lt;measurement.PeptideMeasuremen...</td>\n      <td>1</td>\n      <td>VASMASEKMK</td>\n      <td>()</td>\n      <td>{'seq': 'K', 'ranges': [(227, 228)], 'mass': 1...</td>\n      <td>8</td>\n      <td>129.102437</td>\n      <td>178681.046875</td>\n      <td>1</td>\n      <td>4.739896e+06</td>\n      <td>0.037697</td>\n    </tr>\n    <tr>\n      <th>2</th>\n      <td>&lt;measurement.PeptideMeasurement object at 0x49...</td>\n      <td>{'measurement': &lt;measurement.PeptideMeasuremen...</td>\n      <td>1</td>\n      <td>VASMASEKMK</td>\n      <td>()</td>\n      <td>{'seq': 'K', 'ranges': [(227, 228)], 'mass': 1...</td>\n      <td>9</td>\n      <td>130.086993</td>\n      <td>55991.753906</td>\n      <td>1</td>\n      <td>4.739896e+06</td>\n      <td>0.011813</td>\n    </tr>\n    <tr>\n      <th>3</th>\n      <td>&lt;measurement.PeptideMeasurement object at 0x49...</td>\n      <td>{'measurement': &lt;measurement.PeptideMeasuremen...</td>\n      <td>1</td>\n      <td>VASMASEKMK</td>\n      <td>()</td>\n      <td>{'seq': 'AS', 'ranges': [(219, 221)], 'mass': ...</td>\n      <td>13</td>\n      <td>141.065694</td>\n      <td>9986.906250</td>\n      <td>1</td>\n      <td>4.739896e+06</td>\n      <td>0.002107</td>\n    </tr>\n    <tr>\n      <th>4</th>\n      <td>&lt;measurement.PeptideMeasurement object at 0x49...</td>\n      <td>{'measurement': &lt;measurement.PeptideMeasuremen...</td>\n      <td>1</td>\n      <td>VASMASEKMK</td>\n      <td>()</td>\n      <td>{'seq': 'AS', 'ranges': [(222, 224)], 'mass': ...</td>\n      <td>13</td>\n      <td>141.065694</td>\n      <td>9986.906250</td>\n      <td>1</td>\n      <td>4.739896e+06</td>\n      <td>0.002107</td>\n    </tr>\n    <tr>\n      <th>...</th>\n      <td>...</td>\n      <td>...</td>\n      <td>...</td>\n      <td>...</td>\n      <td>...</td>\n      <td>...</td>\n      <td>...</td>\n      <td>...</td>\n      <td>...</td>\n      <td>...</td>\n      <td>...</td>\n      <td>...</td>\n    </tr>\n    <tr>\n      <th>2876</th>\n      <td>&lt;measurement.PeptideMeasurement object at 0x4a...</td>\n      <td>{'measurement': &lt;measurement.PeptideMeasuremen...</td>\n      <td>1</td>\n      <td>DEDTQAMPFRVTEQESKPVQMMYQIGLFRVASMASEK</td>\n      <td>()</td>\n      <td>{'seq': 'QESKPVQMMYQI', 'ranges': [(202, 214)]...</td>\n      <td>23</td>\n      <td>482.566593</td>\n      <td>2882.504395</td>\n      <td>3</td>\n      <td>7.291893e+04</td>\n      <td>0.039530</td>\n    </tr>\n    <tr>\n      <th>2877</th>\n      <td>&lt;measurement.PeptideMeasurement object at 0x4a...</td>\n      <td>{'measurement': &lt;measurement.PeptideMeasuremen...</td>\n      <td>1</td>\n      <td>DEDTQAMPFRVTEQESKPVQMMYQIGLFRVASMASEK</td>\n      <td>()</td>\n      <td>{'seq': 'EDTQAM', 'ranges': [(190, 196)], 'mas...</td>\n      <td>16</td>\n      <td>220.087029</td>\n      <td>2136.551758</td>\n      <td>3</td>\n      <td>7.015100e+04</td>\n      <td>0.030456</td>\n    </tr>\n    <tr>\n      <th>2878</th>\n      <td>&lt;measurement.PeptideMeasurement object at 0x4a...</td>\n      <td>{'measurement': &lt;measurement.PeptideMeasuremen...</td>\n      <td>1</td>\n      <td>DEDTQAMPFRVTEQESKPVQMMYQIGLFRVASMASEK</td>\n      <td>()</td>\n      <td>{'seq': 'FRVAS', 'ranges': [(216, 221)], 'mass...</td>\n      <td>21</td>\n      <td>543.311687</td>\n      <td>2796.637695</td>\n      <td>1</td>\n      <td>7.015100e+04</td>\n      <td>0.039866</td>\n    </tr>\n    <tr>\n      <th>2879</th>\n      <td>&lt;measurement.PeptideMeasurement object at 0x4a...</td>\n      <td>{'measurement': &lt;measurement.PeptideMeasuremen...</td>\n      <td>1</td>\n      <td>DEDTQAMPFRVTEQESKPVQMMYQIGLFRVASMASEK</td>\n      <td>()</td>\n      <td>{'seq': 'RVTEQESKPVQMMYQIGLFRV', 'ranges': [(1...</td>\n      <td>27</td>\n      <td>1252.143413</td>\n      <td>2924.811523</td>\n      <td>2</td>\n      <td>7.015100e+04</td>\n      <td>0.041693</td>\n    </tr>\n    <tr>\n      <th>2880</th>\n      <td>&lt;measurement.PeptideMeasurement object at 0x4a...</td>\n      <td>{'measurement': &lt;measurement.PeptideMeasuremen...</td>\n      <td>1</td>\n      <td>NVLQPSSVDSQTAMVLVNAIVFKGLWEKAFK</td>\n      <td>()</td>\n      <td>{'seq': 'LWEKA', 'ranges': [(182, 187)], 'mass...</td>\n      <td>17</td>\n      <td>305.670837</td>\n      <td>2622.451416</td>\n      <td>2</td>\n      <td>6.157714e+04</td>\n      <td>0.042588</td>\n    </tr>\n  </tbody>\n</table>\n<p>2881 rows × 12 columns</p>\n</div>"
     },
     "execution_count": 375,
     "metadata": {},
     "output_type": "execute_result"
    }
   ],
   "source": [
    "df = pd.DataFrame(fragments)\n",
    "df"
   ],
   "metadata": {
    "collapsed": false,
    "pycharm": {
     "name": "#%%\n"
    }
   }
  },
  {
   "cell_type": "code",
   "execution_count": 20,
   "outputs": [],
   "source": [
    "import matplotlib.pyplot as plt\n",
    "\n",
    "\n",
    "def histo(data):\n",
    "    # An \"interface\" to matplotlib.axes.Axes.hist() method\n",
    "    n, bins, patches = plt.hist(\n",
    "        x=data,\n",
    "        bins=\"auto\",\n",
    "        color=\"#0504aa\",\n",
    "        alpha=0.7,\n",
    "        rwidth=0.85,\n",
    "    )\n",
    "    plt.grid(axis=\"y\", alpha=0.75)\n",
    "    plt.xlabel(\"Value\")\n",
    "    plt.ylabel(\"Frequency\")\n",
    "    plt.title(\"My Very Own Histogram\")\n",
    "    plt.text(23, 45, r\"$\\mu=15, b=3$\")\n",
    "    plt.xticks(rotation=90)\n",
    "    maxfreq = n.max()\n",
    "    # Set a clean upper y-axis limit.\n",
    "    return plt.ylim(ymax=np.ceil(maxfreq / 10) * 10 if maxfreq % 10 else maxfreq + 10)\n",
    "\n",
    "\n",
    "flattened = [(b[0] + 1, b[1] + 1) for m in df.bonds for b in m]\n",
    "histo([str(b) for b in sorted(flattened)])"
   ],
   "metadata": {
    "collapsed": false,
    "pycharm": {
     "name": "#%%\n"
    }
   }
  },
  {
   "cell_type": "code",
   "execution_count": 177,
   "outputs": [
    {
     "data": {
      "text/plain": "[6276]"
     },
     "execution_count": 177,
     "metadata": {},
     "output_type": "execute_result"
    }
   ],
   "source": [
    "# From old fragment analysis\n",
    "# ((6, 127), 13.346290121050531)\n",
    "# ((30, 115), 7.283808779510653)\n",
    "# ((94, 115), 4.902732231508441)\n",
    "# ((30, 127), 4.175014297421382)\n",
    "# ((6, 76), 3.5228414463338105)\n",
    "# ((6, 115), 3.4146538279373413)\n",
    "# ((80, 115), 2.652638582827121)\n",
    "# ((76, 80), 1.8027670677845962)\n",
    "# ((64, 127), 1.6640611786956967)\n",
    "# ((94, 127), 1.6384830750559505)\n",
    "# ((80, 127), 1.6018448515043544)\n",
    "# ((76, 94), 1.5866929809330261)\n",
    "# ((6, 64), 1.4861990294897955)\n",
    "# ((64, 76), 1.171054578671526)\n",
    "# ((6, 94), 1.1382788403829496)\n",
    "# ((30, 76), 1.0597983564585203)\n",
    "# ((6, 80), 1.0528272625199064)\n",
    "# ((64, 115), 0.9401018143378905)\n",
    "# ((115, 127), 0.9266341801551622)\n",
    "# ((76, 127), 0.5575763428777898)\n",
    "# ((30, 94), 0.48211151877450525)\n",
    "# ((6, 30), 0.41906206956130065)\n",
    "# ((76, 115), 0.3512598674841227)\n",
    "# ((64, 94), 0.23690502620184029)\n",
    "# ((30, 64), 0.23429644150417078)\n",
    "# ((64, 80), 0.1591891546235903)\n",
    "# ((80, 94), 0.031476791393323385)\n"
   ],
   "metadata": {
    "collapsed": false,
    "pycharm": {
     "name": "#%%\n"
    }
   }
  },
  {
   "cell_type": "code",
   "execution_count": 390,
   "outputs": [
    {
     "data": {
      "text/plain": "       scan                          precursor_seq  precursor_charge  \\\n0       863                             VASMASEKMK                 3   \n1       863                             VASMASEKMK                 3   \n2       863                             VASMASEKMK                 3   \n3       863                             VASMASEKMK                 3   \n4       863                             VASMASEKMK                 3   \n...     ...                                    ...               ...   \n2876  11656  DEDTQAMPFRVTEQESKPVQMMYQIGLFRVASMASEK                 3   \n2877  11916  DEDTQAMPFRVTEQESKPVQMMYQIGLFRVASMASEK                 4   \n2878  11916  DEDTQAMPFRVTEQESKPVQMMYQIGLFRVASMASEK                 4   \n2879  11916  DEDTQAMPFRVTEQESKPVQMMYQIGLFRVASMASEK                 4   \n2880  11925        NVLQPSSVDSQTAMVLVNAIVFKGLWEKAFK                 3   \n\n     variant_bonds  charge               sequence matched_ranges         mass  \\\n0                        1                      K     (225, 226)   128.094963   \n1                        1                      K     (227, 228)   128.094963   \n2                        1                      K     (227, 228)   129.078979   \n3                        1                     AS     (219, 221)   140.058578   \n4                        1                     AS     (222, 224)   140.058578   \n...            ...     ...                    ...            ...          ...   \n2876                     3           QESKPVQMMYQI     (202, 214)  1444.684292   \n2877                     3                 EDTQAM     (190, 196)   657.242826   \n2878                     1                  FRVAS     (216, 221)   542.296516   \n2879                     2  RVTEQESKPVQMMYQIGLFRV     (198, 219)  2502.287555   \n2880                     2                  LWEKA     (182, 187)   609.327482   \n\n     connected_bonds disconnected_cys interesting_disconnected_cys  \\\n0                                                                    \n1                                                                    \n2                                                                    \n3                                                                    \n4                                                                    \n...              ...              ...                          ...   \n2876                                                                 \n2877                                                                 \n2878                                                                 \n2879                                                                 \n2880                                                                 \n\n     alkylated_cys  match_error_ppm    target_mz      intensity  \\\n0                          2.739734   129.102437  178681.046875   \n1                          2.739734   129.102437  178681.046875   \n2                          1.467871   130.086993   55991.753906   \n3                          5.058150   141.065694    9986.906250   \n4                          5.058150   141.065694    9986.906250   \n...            ...              ...          ...            ...   \n2876                       5.528773   482.566593    2882.504395   \n2877                       7.932069   220.087029    2136.551758   \n2878                      13.545566   543.311687    2796.637695   \n2879                       6.545827  1252.143413    2924.811523   \n2880                       2.393777   305.670837    2622.451416   \n\n      total_intensity  variant_counts  mod_count               mods  \\\n0        4.739896e+06               1          0                      \n1        4.739896e+06               1          1  –H2O neutral loss   \n2        4.739896e+06               1          1  –NH3 neutral loss   \n3        4.739896e+06               1          1  –H2O neutral loss   \n4        4.739896e+06               1          1  –H2O neutral loss   \n...               ...             ...        ...                ...   \n2876     7.291893e+04               1          1  –H2O neutral loss   \n2877     7.015100e+04               1          1  –H2O neutral loss   \n2878     7.015100e+04               1          1  –H2O neutral loss   \n2879     7.015100e+04               1          1  –H2O neutral loss   \n2880     6.157714e+04               1          1  –H2O neutral loss   \n\n      variant_probability  \n0                0.001350  \n1                0.001350  \n2                0.001350  \n3                0.001350  \n4                0.001350  \n...                   ...  \n2876             0.000146  \n2877             0.000146  \n2878             0.000146  \n2879             0.000146  \n2880             0.000003  \n\n[2881 rows x 20 columns]",
      "text/html": "<div>\n<style scoped>\n    .dataframe tbody tr th:only-of-type {\n        vertical-align: middle;\n    }\n\n    .dataframe tbody tr th {\n        vertical-align: top;\n    }\n\n    .dataframe thead th {\n        text-align: right;\n    }\n</style>\n<table border=\"1\" class=\"dataframe\">\n  <thead>\n    <tr style=\"text-align: right;\">\n      <th></th>\n      <th>scan</th>\n      <th>precursor_seq</th>\n      <th>precursor_charge</th>\n      <th>variant_bonds</th>\n      <th>charge</th>\n      <th>sequence</th>\n      <th>matched_ranges</th>\n      <th>mass</th>\n      <th>connected_bonds</th>\n      <th>disconnected_cys</th>\n      <th>interesting_disconnected_cys</th>\n      <th>alkylated_cys</th>\n      <th>match_error_ppm</th>\n      <th>target_mz</th>\n      <th>intensity</th>\n      <th>total_intensity</th>\n      <th>variant_counts</th>\n      <th>mod_count</th>\n      <th>mods</th>\n      <th>variant_probability</th>\n    </tr>\n  </thead>\n  <tbody>\n    <tr>\n      <th>0</th>\n      <td>863</td>\n      <td>VASMASEKMK</td>\n      <td>3</td>\n      <td></td>\n      <td>1</td>\n      <td>K</td>\n      <td>(225, 226)</td>\n      <td>128.094963</td>\n      <td></td>\n      <td></td>\n      <td></td>\n      <td></td>\n      <td>2.739734</td>\n      <td>129.102437</td>\n      <td>178681.046875</td>\n      <td>4.739896e+06</td>\n      <td>1</td>\n      <td>0</td>\n      <td></td>\n      <td>0.001350</td>\n    </tr>\n    <tr>\n      <th>1</th>\n      <td>863</td>\n      <td>VASMASEKMK</td>\n      <td>3</td>\n      <td></td>\n      <td>1</td>\n      <td>K</td>\n      <td>(227, 228)</td>\n      <td>128.094963</td>\n      <td></td>\n      <td></td>\n      <td></td>\n      <td></td>\n      <td>2.739734</td>\n      <td>129.102437</td>\n      <td>178681.046875</td>\n      <td>4.739896e+06</td>\n      <td>1</td>\n      <td>1</td>\n      <td>–H2O neutral loss</td>\n      <td>0.001350</td>\n    </tr>\n    <tr>\n      <th>2</th>\n      <td>863</td>\n      <td>VASMASEKMK</td>\n      <td>3</td>\n      <td></td>\n      <td>1</td>\n      <td>K</td>\n      <td>(227, 228)</td>\n      <td>129.078979</td>\n      <td></td>\n      <td></td>\n      <td></td>\n      <td></td>\n      <td>1.467871</td>\n      <td>130.086993</td>\n      <td>55991.753906</td>\n      <td>4.739896e+06</td>\n      <td>1</td>\n      <td>1</td>\n      <td>–NH3 neutral loss</td>\n      <td>0.001350</td>\n    </tr>\n    <tr>\n      <th>3</th>\n      <td>863</td>\n      <td>VASMASEKMK</td>\n      <td>3</td>\n      <td></td>\n      <td>1</td>\n      <td>AS</td>\n      <td>(219, 221)</td>\n      <td>140.058578</td>\n      <td></td>\n      <td></td>\n      <td></td>\n      <td></td>\n      <td>5.058150</td>\n      <td>141.065694</td>\n      <td>9986.906250</td>\n      <td>4.739896e+06</td>\n      <td>1</td>\n      <td>1</td>\n      <td>–H2O neutral loss</td>\n      <td>0.001350</td>\n    </tr>\n    <tr>\n      <th>4</th>\n      <td>863</td>\n      <td>VASMASEKMK</td>\n      <td>3</td>\n      <td></td>\n      <td>1</td>\n      <td>AS</td>\n      <td>(222, 224)</td>\n      <td>140.058578</td>\n      <td></td>\n      <td></td>\n      <td></td>\n      <td></td>\n      <td>5.058150</td>\n      <td>141.065694</td>\n      <td>9986.906250</td>\n      <td>4.739896e+06</td>\n      <td>1</td>\n      <td>1</td>\n      <td>–H2O neutral loss</td>\n      <td>0.001350</td>\n    </tr>\n    <tr>\n      <th>...</th>\n      <td>...</td>\n      <td>...</td>\n      <td>...</td>\n      <td>...</td>\n      <td>...</td>\n      <td>...</td>\n      <td>...</td>\n      <td>...</td>\n      <td>...</td>\n      <td>...</td>\n      <td>...</td>\n      <td>...</td>\n      <td>...</td>\n      <td>...</td>\n      <td>...</td>\n      <td>...</td>\n      <td>...</td>\n      <td>...</td>\n      <td>...</td>\n      <td>...</td>\n    </tr>\n    <tr>\n      <th>2876</th>\n      <td>11656</td>\n      <td>DEDTQAMPFRVTEQESKPVQMMYQIGLFRVASMASEK</td>\n      <td>3</td>\n      <td></td>\n      <td>3</td>\n      <td>QESKPVQMMYQI</td>\n      <td>(202, 214)</td>\n      <td>1444.684292</td>\n      <td></td>\n      <td></td>\n      <td></td>\n      <td></td>\n      <td>5.528773</td>\n      <td>482.566593</td>\n      <td>2882.504395</td>\n      <td>7.291893e+04</td>\n      <td>1</td>\n      <td>1</td>\n      <td>–H2O neutral loss</td>\n      <td>0.000146</td>\n    </tr>\n    <tr>\n      <th>2877</th>\n      <td>11916</td>\n      <td>DEDTQAMPFRVTEQESKPVQMMYQIGLFRVASMASEK</td>\n      <td>4</td>\n      <td></td>\n      <td>3</td>\n      <td>EDTQAM</td>\n      <td>(190, 196)</td>\n      <td>657.242826</td>\n      <td></td>\n      <td></td>\n      <td></td>\n      <td></td>\n      <td>7.932069</td>\n      <td>220.087029</td>\n      <td>2136.551758</td>\n      <td>7.015100e+04</td>\n      <td>1</td>\n      <td>1</td>\n      <td>–H2O neutral loss</td>\n      <td>0.000146</td>\n    </tr>\n    <tr>\n      <th>2878</th>\n      <td>11916</td>\n      <td>DEDTQAMPFRVTEQESKPVQMMYQIGLFRVASMASEK</td>\n      <td>4</td>\n      <td></td>\n      <td>1</td>\n      <td>FRVAS</td>\n      <td>(216, 221)</td>\n      <td>542.296516</td>\n      <td></td>\n      <td></td>\n      <td></td>\n      <td></td>\n      <td>13.545566</td>\n      <td>543.311687</td>\n      <td>2796.637695</td>\n      <td>7.015100e+04</td>\n      <td>1</td>\n      <td>1</td>\n      <td>–H2O neutral loss</td>\n      <td>0.000146</td>\n    </tr>\n    <tr>\n      <th>2879</th>\n      <td>11916</td>\n      <td>DEDTQAMPFRVTEQESKPVQMMYQIGLFRVASMASEK</td>\n      <td>4</td>\n      <td></td>\n      <td>2</td>\n      <td>RVTEQESKPVQMMYQIGLFRV</td>\n      <td>(198, 219)</td>\n      <td>2502.287555</td>\n      <td></td>\n      <td></td>\n      <td></td>\n      <td></td>\n      <td>6.545827</td>\n      <td>1252.143413</td>\n      <td>2924.811523</td>\n      <td>7.015100e+04</td>\n      <td>1</td>\n      <td>1</td>\n      <td>–H2O neutral loss</td>\n      <td>0.000146</td>\n    </tr>\n    <tr>\n      <th>2880</th>\n      <td>11925</td>\n      <td>NVLQPSSVDSQTAMVLVNAIVFKGLWEKAFK</td>\n      <td>3</td>\n      <td></td>\n      <td>2</td>\n      <td>LWEKA</td>\n      <td>(182, 187)</td>\n      <td>609.327482</td>\n      <td></td>\n      <td></td>\n      <td></td>\n      <td></td>\n      <td>2.393777</td>\n      <td>305.670837</td>\n      <td>2622.451416</td>\n      <td>6.157714e+04</td>\n      <td>1</td>\n      <td>1</td>\n      <td>–H2O neutral loss</td>\n      <td>0.000003</td>\n    </tr>\n  </tbody>\n</table>\n<p>2881 rows × 20 columns</p>\n</div>"
     },
     "execution_count": 390,
     "metadata": {},
     "output_type": "execute_result"
    }
   ],
   "source": [
    "d = pd.DataFrame()\n",
    "\n",
    "d[\"scan\"] = [m.scan for m in df[\"measurement\"]]\n",
    "d[\"precursor_seq\"] = [str(m) for m in df[\"multipeptide\"]]\n",
    "d[\"precursor_charge\"] = [m.charge for m in df[\"measurement\"]]\n",
    "d[\"variant_bonds\"] = [\"+\".join(str(r) for r in b) for b in df[\"bonds\"]]\n",
    "d[\"charge\"] = df[\"charge\"]\n",
    "d[\"sequence\"] = [m[\"seq\"] for m in df[\"match\"]]\n",
    "d[\"matched_ranges\"] = [\"+\".join(str(r) for r in m[\"ranges\"]) for m in df[\"match\"]]\n",
    "d[\"mass\"] = [m[\"mass\"] for m in df[\"match\"]]\n",
    "d[\"connected_bonds\"] = [\n",
    "    \"+\".join(str(r) for r in m[\"connected_bonds\"]) for m in df[\"match\"]\n",
    "]\n",
    "d[\"disconnected_cys\"] = [\n",
    "    \"+\".join(str(c) for c in m[\"disconnected_cys\"]) for m in df[\"match\"]\n",
    "]\n",
    "d[\"interesting_disconnected_cys\"] = [\n",
    "    \"+\".join(str(c) for c in m[\"interesting_disconnected_cys\"]) for m in df[\"match\"]\n",
    "]\n",
    "d[\"alkylated_cys\"] = [\n",
    "    \"+\".join(\n",
    "        str(c)\n",
    "        for c in cysteines\n",
    "        if c not in cys_in_bonds and any(b <= c < e for b, e in m[\"ranges\"])\n",
    "    )\n",
    "    for m in df[\"match\"]\n",
    "]\n",
    "\n",
    "d[\"match_error_ppm\"] = [m[\"error\"] for m in df[\"match\"]]\n",
    "d[\"target_mz\"] = df[\"fragment_mz\"]\n",
    "df[\"fragment_id\"] = df[\"fragment_id\"]\n",
    "d[\"intensity\"] = df[\"intensity\"]\n",
    "d[\"total_intensity\"] = df[\"total_intensity\"]\n",
    "d[\"variant_counts\"] = [variant_counts.loc[m.scan, \"variant\"] for m in df[\"measurement\"]]\n",
    "d[\"mod_count\"] = [len(m[\"mods\"]) for m in df[\"match\"]]\n",
    "d[\"mods\"] = [\"+\".join(mod.description for mod in m[\"mods\"]) for m in df[\"match\"]]\n",
    "d[\"variant_probability\"] = precursor_probabilities\n",
    "\n",
    "d"
   ],
   "metadata": {
    "collapsed": false,
    "pycharm": {
     "name": "#%%\n"
    }
   }
  },
  {
   "cell_type": "code",
   "execution_count": 391,
   "outputs": [],
   "source": [
    "d.to_csv(\"../out/csv/fragment_matches_OVA.csv\", index_label=\"id\", sep=\";\")"
   ],
   "metadata": {
    "collapsed": false,
    "pycharm": {
     "name": "#%%\n"
    }
   }
  },
  {
   "cell_type": "code",
   "execution_count": 14,
   "outputs": [
    {
     "ename": "EOFError",
     "evalue": "Ran out of input",
     "output_type": "error",
     "traceback": [
      "\u001B[0;31m---------------------------------------------------------------------------\u001B[0m",
      "\u001B[0;31mEOFError\u001B[0m                                  Traceback (most recent call last)",
      "\u001B[0;32m<ipython-input-14-5fbac8490de0>\u001B[0m in \u001B[0;36m<module>\u001B[0;34m\u001B[0m\n\u001B[1;32m      2\u001B[0m \u001B[0;32mwith\u001B[0m \u001B[0mopen\u001B[0m\u001B[0;34m(\u001B[0m\u001B[0;34m\"../out/precursor_matches/LYS_AT_segments=6_error=15ppm_testing.pickle\"\u001B[0m\u001B[0;34m,\u001B[0m \u001B[0;34m\"rb\"\u001B[0m\u001B[0;34m)\u001B[0m \u001B[0;32mas\u001B[0m \u001B[0mf\u001B[0m\u001B[0;34m:\u001B[0m\u001B[0;34m\u001B[0m\u001B[0;34m\u001B[0m\u001B[0m\n\u001B[1;32m      3\u001B[0m     \u001B[0;32mwhile\u001B[0m \u001B[0;32mTrue\u001B[0m\u001B[0;34m:\u001B[0m\u001B[0;34m\u001B[0m\u001B[0;34m\u001B[0m\u001B[0m\n\u001B[0;32m----> 4\u001B[0;31m         \u001B[0mprecursor_matches\u001B[0m\u001B[0;34m.\u001B[0m\u001B[0mappend\u001B[0m\u001B[0;34m(\u001B[0m\u001B[0mpickle\u001B[0m\u001B[0;34m.\u001B[0m\u001B[0mload\u001B[0m\u001B[0;34m(\u001B[0m\u001B[0mf\u001B[0m\u001B[0;34m)\u001B[0m\u001B[0;34m)\u001B[0m\u001B[0;34m\u001B[0m\u001B[0;34m\u001B[0m\u001B[0m\n\u001B[0m\u001B[1;32m      5\u001B[0m \u001B[0;34m\u001B[0m\u001B[0m\n",
      "\u001B[0;31mEOFError\u001B[0m: Ran out of input"
     ]
    }
   ],
   "source": [
    "precursor_matches = []\n",
    "with open(\n",
    "    \"../out/precursor_matches/LYS_AT_segments=6_error=15ppm_testing.pickle\", \"rb\"\n",
    ") as f:\n",
    "    while True:\n",
    "        precursor_matches.append(pickle.load(f))"
   ],
   "metadata": {
    "collapsed": false,
    "pycharm": {
     "name": "#%%\n"
    }
   }
  },
  {
   "cell_type": "code",
   "execution_count": null,
   "outputs": [],
   "source": [
    "precursor_matches_df = pd.DataFrame(precursor_matches)\n",
    "precursor_matches_df[\"scan_nth\"] = [\n",
    "    scan.nth_in_order for scan in precursor_matches_df[\"scan\"]\n",
    "]\n",
    "precursor_matches_df = precursor_matches_df[\n",
    "    [\n",
    "        \"scan_id\",\n",
    "        \"scan_nth\",\n",
    "        \"prec_mz\",\n",
    "        \"prec_sequence\",\n",
    "        \"prec_mass\",\n",
    "        \"prec_error\",\n",
    "        \"prec_mods\",\n",
    "        \"prec_cys_bond_count\",\n",
    "        \"prec_mc\",\n",
    "    ]\n",
    "]\n",
    "\n",
    "precursor_matches_df"
   ],
   "metadata": {
    "collapsed": false,
    "pycharm": {
     "name": "#%%\n"
    }
   }
  },
  {
   "cell_type": "code",
   "execution_count": 349,
   "outputs": [
    {
     "name": "stderr",
     "output_type": "stream",
     "text": [
      "Reading peptide spectrum matches: 100%|█████████▉| 1217/1218 [00:00<00:00, 42781.09it/s]\n"
     ]
    },
    {
     "data": {
      "text/plain": "       sir_id  spectrum_id                                        pe_id  \\\n0    SIR_5123   index=5122         PepEv_22_GYSLGNWVCAAKFESNFNTQATNR_22   \n1    SIR_4648   index=4647         PepEv_22_GYSLGNWVCAAKFESNFNTQATNR_22   \n2    SIR_4370   index=4369     PepEv_34_FESNFNTQATNRNTDGSTDYGILQINSR_34   \n3    SIR_4503   index=4502     PepEv_34_FESNFNTQATNRNTDGSTDYGILQINSR_34   \n4    SIR_4433   index=4432     PepEv_34_FESNFNTQATNRNTDGSTDYGILQINSR_34   \n5    SIR_4781   index=4780     PepEv_34_FESNFNTQATNRNTDGSTDYGILQINSR_34   \n6   SIR_12433  index=12432     PepEv_34_FESNFNTQATNRNTDGSTDYGILQINSR_34   \n7    SIR_5083   index=5082     PepEv_34_FESNFNTQATNRNTDGSTDYGILQINSR_34   \n8   SIR_10326  index=10325     PepEv_34_FESNFNTQATNRNTDGSTDYGILQINSR_34   \n9    SIR_5839   index=5838     PepEv_34_FESNFNTQATNRNTDGSTDYGILQINSR_34   \n10   SIR_4232   index=4231     PepEv_34_FESNFNTQATNRNTDGSTDYGILQINSR_34   \n11   SIR_4930   index=4929     PepEv_34_FESNFNTQATNRNTDGSTDYGILQINSR_34   \n12   SIR_5416   index=5415     PepEv_34_FESNFNTQATNRNTDGSTDYGILQINSR_34   \n13   SIR_5561   index=5560     PepEv_34_FESNFNTQATNRNTDGSTDYGILQINSR_34   \n14   SIR_5500   index=5499         PepEv_22_GYSLGNWVCAAKFESNFNTQATNR_22   \n15   SIR_9089   index=9088     PepEv_34_FESNFNTQATNRNTDGSTDYGILQINSR_34   \n16   SIR_4024   index=4023     PepEv_34_FESNFNTQATNRNTDGSTDYGILQINSR_34   \n17   SIR_8964   index=8963     PepEv_34_FESNFNTQATNRNTDGSTDYGILQINSR_34   \n18   SIR_5267   index=5266     PepEv_34_FESNFNTQATNRNTDGSTDYGILQINSR_34   \n19   SIR_4629   index=4628     PepEv_34_FESNFNTQATNRNTDGSTDYGILQINSR_34   \n20   SIR_4799   index=4798         PepEv_22_GYSLGNWVCAAKFESNFNTQATNR_22   \n21   SIR_4631   index=4630  PepEv_15_HGLDNYRGYSLGNWVCAAKFESNFNTQATNR_15   \n22   SIR_4859   index=4858         PepEv_22_GYSLGNWVCAAKFESNFNTQATNR_22   \n23   SIR_4915   index=4914     PepEv_34_FESNFNTQATNRNTDGSTDYGILQINSR_34   \n24  SIR_12675  index=12674     PepEv_34_FESNFNTQATNRNTDGSTDYGILQINSR_34   \n25   SIR_5481   index=5480         PepEv_22_GYSLGNWVCAAKFESNFNTQATNR_22   \n26   SIR_8818   index=8817     PepEv_34_FESNFNTQATNRNTDGSTDYGILQINSR_34   \n27   SIR_4369   index=4368  PepEv_15_HGLDNYRGYSLGNWVCAAKFESNFNTQATNR_15   \n28  SIR_11102  index=11101     PepEv_34_FESNFNTQATNRNTDGSTDYGILQINSR_34   \n29   SIR_5465   index=5464     PepEv_34_FESNFNTQATNRNTDGSTDYGILQINSR_34   \n\n         sii_id  z                  mz             calc_mz  \\\n0    SII_5123_1  3    912.427001953125    912.435791015625   \n1    SII_4648_1  3     912.42822265625    912.435791015625   \n2    SII_4370_1  3      1055.162109375  1055.1607666015625   \n3    SII_4503_1  3      1055.162109375  1055.1607666015625   \n4    SII_4433_1  3      1055.498046875  1055.1607666015625   \n5    SII_4781_1  3  1055.1624755859375  1055.1607666015625   \n6   SII_12433_1  3  1055.1634521484375  1055.1607666015625   \n7    SII_5083_1  3  1055.1627197265625  1055.1607666015625   \n8   SII_10326_1  3    1055.16357421875  1055.1607666015625   \n9    SII_5839_1  3   1055.163330078125  1055.1607666015625   \n10   SII_4232_1  3  1055.1595458984375  1055.1607666015625   \n11   SII_4930_1  3  1055.1627197265625  1055.1607666015625   \n12   SII_5416_1  3   1055.162353515625  1055.1607666015625   \n13   SII_5561_1  3   1055.162841796875  1055.1607666015625   \n14   SII_5500_1  3   912.4275512695312    912.435791015625   \n15   SII_9089_1  3  1055.1632080078125  1055.1607666015625   \n16   SII_4024_1  3   1055.491943359375  1055.1607666015625   \n17   SII_8964_1  3  1055.1624755859375  1055.1607666015625   \n18   SII_5267_1  3  1055.1632080078125  1055.1607666015625   \n19   SII_4629_1  3  1055.1619873046875  1055.1607666015625   \n20   SII_4799_1  3    912.427490234375    912.435791015625   \n21   SII_4631_1  4   898.4215698242188   898.4283447265625   \n22   SII_4859_1  2  1368.1387939453125   1368.150146484375   \n23   SII_4915_1  3  1055.4940185546875  1055.1607666015625   \n24  SII_12675_1  3   1055.163330078125  1055.1607666015625   \n25   SII_5481_1  3   912.7622680664062    912.435791015625   \n26   SII_8818_1  3  1055.1624755859375  1055.1607666015625   \n27   SII_4369_1  3    1197.56103515625  1197.5687255859375   \n28  SII_11102_1  3  1055.1627197265625  1055.1607666015625   \n29   SII_5465_1  3     1055.4951171875  1055.1607666015625   \n\n                                 pep_id pass_threshold rank MS-GF:RawScore  \\\n0          Pep_GYSLGNWVCAAKFESNFNTQATNR           true    1            175   \n1          Pep_GYSLGNWVCAAKFESNFNTQATNR           true    1            167   \n2      Pep_FESNFNTQATNRNTDGSTDYGILQINSR           true    1            159   \n3      Pep_FESNFNTQATNRNTDGSTDYGILQINSR           true    1            155   \n4      Pep_FESNFNTQATNRNTDGSTDYGILQINSR           true    1            153   \n5      Pep_FESNFNTQATNRNTDGSTDYGILQINSR           true    1            115   \n6      Pep_FESNFNTQATNRNTDGSTDYGILQINSR           true    1            130   \n7      Pep_FESNFNTQATNRNTDGSTDYGILQINSR           true    1            128   \n8      Pep_FESNFNTQATNRNTDGSTDYGILQINSR           true    1            118   \n9      Pep_FESNFNTQATNRNTDGSTDYGILQINSR           true    1             93   \n10     Pep_FESNFNTQATNRNTDGSTDYGILQINSR           true    1            153   \n11     Pep_FESNFNTQATNRNTDGSTDYGILQINSR           true    1            121   \n12     Pep_FESNFNTQATNRNTDGSTDYGILQINSR           true    1            113   \n13     Pep_FESNFNTQATNRNTDGSTDYGILQINSR           true    1             94   \n14         Pep_GYSLGNWVCAAKFESNFNTQATNR           true    1            118   \n15     Pep_FESNFNTQATNRNTDGSTDYGILQINSR           true    1             88   \n16     Pep_FESNFNTQATNRNTDGSTDYGILQINSR           true    1            141   \n17     Pep_FESNFNTQATNRNTDGSTDYGILQINSR           true    1             92   \n18     Pep_FESNFNTQATNRNTDGSTDYGILQINSR           true    1            108   \n19     Pep_FESNFNTQATNRNTDGSTDYGILQINSR           true    1            129   \n20         Pep_GYSLGNWVCAAKFESNFNTQATNR           true    1            166   \n21  Pep_HGLDNYRGYSLGNWVCAAKFESNFNTQATNR           true    1            116   \n22         Pep_GYSLGNWVCAAKFESNFNTQATNR           true    1             96   \n23     Pep_FESNFNTQATNRNTDGSTDYGILQINSR           true    1            117   \n24     Pep_FESNFNTQATNRNTDGSTDYGILQINSR           true    1            105   \n25         Pep_GYSLGNWVCAAKFESNFNTQATNR           true    1            114   \n26     Pep_FESNFNTQATNRNTDGSTDYGILQINSR           true    1             94   \n27  Pep_HGLDNYRGYSLGNWVCAAKFESNFNTQATNR           true    1            101   \n28     Pep_FESNFNTQATNRNTDGSTDYGILQINSR           true    1             78   \n29     Pep_FESNFNTQATNRNTDGSTDYGILQINSR           true    1             95   \n\n   MS-GF:DeNovoScore MS-GF:SpecEValue    MS-GF:EValue  \n0                176    1.9008859E-30   2.4521429E-28  \n1                169    4.8748996E-30   6.2886206E-28  \n2                174    2.1087976E-27   2.7203489E-25  \n3                165     5.184633E-27   6.6881767E-25  \n4                171    2.9292433E-26    3.778724E-24  \n5                141    1.0629297E-25   1.3711793E-23  \n6                152    1.7940855E-25   2.3143704E-23  \n7                147    7.9793734E-25  1.02933916E-22  \n8                134     9.035872E-25   1.1656276E-22  \n9                111    1.8105348E-24     2.33559E-22  \n10               187    2.0657407E-24   2.6648055E-22  \n11               144    3.7331982E-24   4.8158254E-22  \n12               143    7.5481895E-24    9.737165E-22  \n13               109    1.0648684E-23   1.3736802E-21  \n14               130    1.7467264E-23   2.2532771E-21  \n15               109    1.9988997E-23   2.5785807E-21  \n16               184     2.907548E-23    3.750737E-21  \n17               106     3.544174E-23   4.5719848E-21  \n18               136    4.9925558E-23    6.440397E-21  \n19               162     5.927795E-23    7.646856E-21  \n20               202     6.134968E-23   7.9141095E-21  \n21               208    6.2482574E-23    8.060252E-21  \n22               110     9.182319E-23   1.1845192E-20  \n23               161    2.3207952E-22   2.9938258E-20  \n24               129    2.3822857E-22   3.0731485E-20  \n25               137     3.521808E-22   4.5431325E-20  \n26               130    1.1151903E-21   1.4385956E-19  \n27               175    2.1528591E-21   2.7771883E-19  \n28               102    3.1045777E-21    4.004905E-19  \n29               137    3.2500785E-21    4.192601E-19  ",
      "text/html": "<div>\n<style scoped>\n    .dataframe tbody tr th:only-of-type {\n        vertical-align: middle;\n    }\n\n    .dataframe tbody tr th {\n        vertical-align: top;\n    }\n\n    .dataframe thead th {\n        text-align: right;\n    }\n</style>\n<table border=\"1\" class=\"dataframe\">\n  <thead>\n    <tr style=\"text-align: right;\">\n      <th></th>\n      <th>sir_id</th>\n      <th>spectrum_id</th>\n      <th>pe_id</th>\n      <th>sii_id</th>\n      <th>z</th>\n      <th>mz</th>\n      <th>calc_mz</th>\n      <th>pep_id</th>\n      <th>pass_threshold</th>\n      <th>rank</th>\n      <th>MS-GF:RawScore</th>\n      <th>MS-GF:DeNovoScore</th>\n      <th>MS-GF:SpecEValue</th>\n      <th>MS-GF:EValue</th>\n    </tr>\n  </thead>\n  <tbody>\n    <tr>\n      <th>0</th>\n      <td>SIR_5123</td>\n      <td>index=5122</td>\n      <td>PepEv_22_GYSLGNWVCAAKFESNFNTQATNR_22</td>\n      <td>SII_5123_1</td>\n      <td>3</td>\n      <td>912.427001953125</td>\n      <td>912.435791015625</td>\n      <td>Pep_GYSLGNWVCAAKFESNFNTQATNR</td>\n      <td>true</td>\n      <td>1</td>\n      <td>175</td>\n      <td>176</td>\n      <td>1.9008859E-30</td>\n      <td>2.4521429E-28</td>\n    </tr>\n    <tr>\n      <th>1</th>\n      <td>SIR_4648</td>\n      <td>index=4647</td>\n      <td>PepEv_22_GYSLGNWVCAAKFESNFNTQATNR_22</td>\n      <td>SII_4648_1</td>\n      <td>3</td>\n      <td>912.42822265625</td>\n      <td>912.435791015625</td>\n      <td>Pep_GYSLGNWVCAAKFESNFNTQATNR</td>\n      <td>true</td>\n      <td>1</td>\n      <td>167</td>\n      <td>169</td>\n      <td>4.8748996E-30</td>\n      <td>6.2886206E-28</td>\n    </tr>\n    <tr>\n      <th>2</th>\n      <td>SIR_4370</td>\n      <td>index=4369</td>\n      <td>PepEv_34_FESNFNTQATNRNTDGSTDYGILQINSR_34</td>\n      <td>SII_4370_1</td>\n      <td>3</td>\n      <td>1055.162109375</td>\n      <td>1055.1607666015625</td>\n      <td>Pep_FESNFNTQATNRNTDGSTDYGILQINSR</td>\n      <td>true</td>\n      <td>1</td>\n      <td>159</td>\n      <td>174</td>\n      <td>2.1087976E-27</td>\n      <td>2.7203489E-25</td>\n    </tr>\n    <tr>\n      <th>3</th>\n      <td>SIR_4503</td>\n      <td>index=4502</td>\n      <td>PepEv_34_FESNFNTQATNRNTDGSTDYGILQINSR_34</td>\n      <td>SII_4503_1</td>\n      <td>3</td>\n      <td>1055.162109375</td>\n      <td>1055.1607666015625</td>\n      <td>Pep_FESNFNTQATNRNTDGSTDYGILQINSR</td>\n      <td>true</td>\n      <td>1</td>\n      <td>155</td>\n      <td>165</td>\n      <td>5.184633E-27</td>\n      <td>6.6881767E-25</td>\n    </tr>\n    <tr>\n      <th>4</th>\n      <td>SIR_4433</td>\n      <td>index=4432</td>\n      <td>PepEv_34_FESNFNTQATNRNTDGSTDYGILQINSR_34</td>\n      <td>SII_4433_1</td>\n      <td>3</td>\n      <td>1055.498046875</td>\n      <td>1055.1607666015625</td>\n      <td>Pep_FESNFNTQATNRNTDGSTDYGILQINSR</td>\n      <td>true</td>\n      <td>1</td>\n      <td>153</td>\n      <td>171</td>\n      <td>2.9292433E-26</td>\n      <td>3.778724E-24</td>\n    </tr>\n    <tr>\n      <th>5</th>\n      <td>SIR_4781</td>\n      <td>index=4780</td>\n      <td>PepEv_34_FESNFNTQATNRNTDGSTDYGILQINSR_34</td>\n      <td>SII_4781_1</td>\n      <td>3</td>\n      <td>1055.1624755859375</td>\n      <td>1055.1607666015625</td>\n      <td>Pep_FESNFNTQATNRNTDGSTDYGILQINSR</td>\n      <td>true</td>\n      <td>1</td>\n      <td>115</td>\n      <td>141</td>\n      <td>1.0629297E-25</td>\n      <td>1.3711793E-23</td>\n    </tr>\n    <tr>\n      <th>6</th>\n      <td>SIR_12433</td>\n      <td>index=12432</td>\n      <td>PepEv_34_FESNFNTQATNRNTDGSTDYGILQINSR_34</td>\n      <td>SII_12433_1</td>\n      <td>3</td>\n      <td>1055.1634521484375</td>\n      <td>1055.1607666015625</td>\n      <td>Pep_FESNFNTQATNRNTDGSTDYGILQINSR</td>\n      <td>true</td>\n      <td>1</td>\n      <td>130</td>\n      <td>152</td>\n      <td>1.7940855E-25</td>\n      <td>2.3143704E-23</td>\n    </tr>\n    <tr>\n      <th>7</th>\n      <td>SIR_5083</td>\n      <td>index=5082</td>\n      <td>PepEv_34_FESNFNTQATNRNTDGSTDYGILQINSR_34</td>\n      <td>SII_5083_1</td>\n      <td>3</td>\n      <td>1055.1627197265625</td>\n      <td>1055.1607666015625</td>\n      <td>Pep_FESNFNTQATNRNTDGSTDYGILQINSR</td>\n      <td>true</td>\n      <td>1</td>\n      <td>128</td>\n      <td>147</td>\n      <td>7.9793734E-25</td>\n      <td>1.02933916E-22</td>\n    </tr>\n    <tr>\n      <th>8</th>\n      <td>SIR_10326</td>\n      <td>index=10325</td>\n      <td>PepEv_34_FESNFNTQATNRNTDGSTDYGILQINSR_34</td>\n      <td>SII_10326_1</td>\n      <td>3</td>\n      <td>1055.16357421875</td>\n      <td>1055.1607666015625</td>\n      <td>Pep_FESNFNTQATNRNTDGSTDYGILQINSR</td>\n      <td>true</td>\n      <td>1</td>\n      <td>118</td>\n      <td>134</td>\n      <td>9.035872E-25</td>\n      <td>1.1656276E-22</td>\n    </tr>\n    <tr>\n      <th>9</th>\n      <td>SIR_5839</td>\n      <td>index=5838</td>\n      <td>PepEv_34_FESNFNTQATNRNTDGSTDYGILQINSR_34</td>\n      <td>SII_5839_1</td>\n      <td>3</td>\n      <td>1055.163330078125</td>\n      <td>1055.1607666015625</td>\n      <td>Pep_FESNFNTQATNRNTDGSTDYGILQINSR</td>\n      <td>true</td>\n      <td>1</td>\n      <td>93</td>\n      <td>111</td>\n      <td>1.8105348E-24</td>\n      <td>2.33559E-22</td>\n    </tr>\n    <tr>\n      <th>10</th>\n      <td>SIR_4232</td>\n      <td>index=4231</td>\n      <td>PepEv_34_FESNFNTQATNRNTDGSTDYGILQINSR_34</td>\n      <td>SII_4232_1</td>\n      <td>3</td>\n      <td>1055.1595458984375</td>\n      <td>1055.1607666015625</td>\n      <td>Pep_FESNFNTQATNRNTDGSTDYGILQINSR</td>\n      <td>true</td>\n      <td>1</td>\n      <td>153</td>\n      <td>187</td>\n      <td>2.0657407E-24</td>\n      <td>2.6648055E-22</td>\n    </tr>\n    <tr>\n      <th>11</th>\n      <td>SIR_4930</td>\n      <td>index=4929</td>\n      <td>PepEv_34_FESNFNTQATNRNTDGSTDYGILQINSR_34</td>\n      <td>SII_4930_1</td>\n      <td>3</td>\n      <td>1055.1627197265625</td>\n      <td>1055.1607666015625</td>\n      <td>Pep_FESNFNTQATNRNTDGSTDYGILQINSR</td>\n      <td>true</td>\n      <td>1</td>\n      <td>121</td>\n      <td>144</td>\n      <td>3.7331982E-24</td>\n      <td>4.8158254E-22</td>\n    </tr>\n    <tr>\n      <th>12</th>\n      <td>SIR_5416</td>\n      <td>index=5415</td>\n      <td>PepEv_34_FESNFNTQATNRNTDGSTDYGILQINSR_34</td>\n      <td>SII_5416_1</td>\n      <td>3</td>\n      <td>1055.162353515625</td>\n      <td>1055.1607666015625</td>\n      <td>Pep_FESNFNTQATNRNTDGSTDYGILQINSR</td>\n      <td>true</td>\n      <td>1</td>\n      <td>113</td>\n      <td>143</td>\n      <td>7.5481895E-24</td>\n      <td>9.737165E-22</td>\n    </tr>\n    <tr>\n      <th>13</th>\n      <td>SIR_5561</td>\n      <td>index=5560</td>\n      <td>PepEv_34_FESNFNTQATNRNTDGSTDYGILQINSR_34</td>\n      <td>SII_5561_1</td>\n      <td>3</td>\n      <td>1055.162841796875</td>\n      <td>1055.1607666015625</td>\n      <td>Pep_FESNFNTQATNRNTDGSTDYGILQINSR</td>\n      <td>true</td>\n      <td>1</td>\n      <td>94</td>\n      <td>109</td>\n      <td>1.0648684E-23</td>\n      <td>1.3736802E-21</td>\n    </tr>\n    <tr>\n      <th>14</th>\n      <td>SIR_5500</td>\n      <td>index=5499</td>\n      <td>PepEv_22_GYSLGNWVCAAKFESNFNTQATNR_22</td>\n      <td>SII_5500_1</td>\n      <td>3</td>\n      <td>912.4275512695312</td>\n      <td>912.435791015625</td>\n      <td>Pep_GYSLGNWVCAAKFESNFNTQATNR</td>\n      <td>true</td>\n      <td>1</td>\n      <td>118</td>\n      <td>130</td>\n      <td>1.7467264E-23</td>\n      <td>2.2532771E-21</td>\n    </tr>\n    <tr>\n      <th>15</th>\n      <td>SIR_9089</td>\n      <td>index=9088</td>\n      <td>PepEv_34_FESNFNTQATNRNTDGSTDYGILQINSR_34</td>\n      <td>SII_9089_1</td>\n      <td>3</td>\n      <td>1055.1632080078125</td>\n      <td>1055.1607666015625</td>\n      <td>Pep_FESNFNTQATNRNTDGSTDYGILQINSR</td>\n      <td>true</td>\n      <td>1</td>\n      <td>88</td>\n      <td>109</td>\n      <td>1.9988997E-23</td>\n      <td>2.5785807E-21</td>\n    </tr>\n    <tr>\n      <th>16</th>\n      <td>SIR_4024</td>\n      <td>index=4023</td>\n      <td>PepEv_34_FESNFNTQATNRNTDGSTDYGILQINSR_34</td>\n      <td>SII_4024_1</td>\n      <td>3</td>\n      <td>1055.491943359375</td>\n      <td>1055.1607666015625</td>\n      <td>Pep_FESNFNTQATNRNTDGSTDYGILQINSR</td>\n      <td>true</td>\n      <td>1</td>\n      <td>141</td>\n      <td>184</td>\n      <td>2.907548E-23</td>\n      <td>3.750737E-21</td>\n    </tr>\n    <tr>\n      <th>17</th>\n      <td>SIR_8964</td>\n      <td>index=8963</td>\n      <td>PepEv_34_FESNFNTQATNRNTDGSTDYGILQINSR_34</td>\n      <td>SII_8964_1</td>\n      <td>3</td>\n      <td>1055.1624755859375</td>\n      <td>1055.1607666015625</td>\n      <td>Pep_FESNFNTQATNRNTDGSTDYGILQINSR</td>\n      <td>true</td>\n      <td>1</td>\n      <td>92</td>\n      <td>106</td>\n      <td>3.544174E-23</td>\n      <td>4.5719848E-21</td>\n    </tr>\n    <tr>\n      <th>18</th>\n      <td>SIR_5267</td>\n      <td>index=5266</td>\n      <td>PepEv_34_FESNFNTQATNRNTDGSTDYGILQINSR_34</td>\n      <td>SII_5267_1</td>\n      <td>3</td>\n      <td>1055.1632080078125</td>\n      <td>1055.1607666015625</td>\n      <td>Pep_FESNFNTQATNRNTDGSTDYGILQINSR</td>\n      <td>true</td>\n      <td>1</td>\n      <td>108</td>\n      <td>136</td>\n      <td>4.9925558E-23</td>\n      <td>6.440397E-21</td>\n    </tr>\n    <tr>\n      <th>19</th>\n      <td>SIR_4629</td>\n      <td>index=4628</td>\n      <td>PepEv_34_FESNFNTQATNRNTDGSTDYGILQINSR_34</td>\n      <td>SII_4629_1</td>\n      <td>3</td>\n      <td>1055.1619873046875</td>\n      <td>1055.1607666015625</td>\n      <td>Pep_FESNFNTQATNRNTDGSTDYGILQINSR</td>\n      <td>true</td>\n      <td>1</td>\n      <td>129</td>\n      <td>162</td>\n      <td>5.927795E-23</td>\n      <td>7.646856E-21</td>\n    </tr>\n    <tr>\n      <th>20</th>\n      <td>SIR_4799</td>\n      <td>index=4798</td>\n      <td>PepEv_22_GYSLGNWVCAAKFESNFNTQATNR_22</td>\n      <td>SII_4799_1</td>\n      <td>3</td>\n      <td>912.427490234375</td>\n      <td>912.435791015625</td>\n      <td>Pep_GYSLGNWVCAAKFESNFNTQATNR</td>\n      <td>true</td>\n      <td>1</td>\n      <td>166</td>\n      <td>202</td>\n      <td>6.134968E-23</td>\n      <td>7.9141095E-21</td>\n    </tr>\n    <tr>\n      <th>21</th>\n      <td>SIR_4631</td>\n      <td>index=4630</td>\n      <td>PepEv_15_HGLDNYRGYSLGNWVCAAKFESNFNTQATNR_15</td>\n      <td>SII_4631_1</td>\n      <td>4</td>\n      <td>898.4215698242188</td>\n      <td>898.4283447265625</td>\n      <td>Pep_HGLDNYRGYSLGNWVCAAKFESNFNTQATNR</td>\n      <td>true</td>\n      <td>1</td>\n      <td>116</td>\n      <td>208</td>\n      <td>6.2482574E-23</td>\n      <td>8.060252E-21</td>\n    </tr>\n    <tr>\n      <th>22</th>\n      <td>SIR_4859</td>\n      <td>index=4858</td>\n      <td>PepEv_22_GYSLGNWVCAAKFESNFNTQATNR_22</td>\n      <td>SII_4859_1</td>\n      <td>2</td>\n      <td>1368.1387939453125</td>\n      <td>1368.150146484375</td>\n      <td>Pep_GYSLGNWVCAAKFESNFNTQATNR</td>\n      <td>true</td>\n      <td>1</td>\n      <td>96</td>\n      <td>110</td>\n      <td>9.182319E-23</td>\n      <td>1.1845192E-20</td>\n    </tr>\n    <tr>\n      <th>23</th>\n      <td>SIR_4915</td>\n      <td>index=4914</td>\n      <td>PepEv_34_FESNFNTQATNRNTDGSTDYGILQINSR_34</td>\n      <td>SII_4915_1</td>\n      <td>3</td>\n      <td>1055.4940185546875</td>\n      <td>1055.1607666015625</td>\n      <td>Pep_FESNFNTQATNRNTDGSTDYGILQINSR</td>\n      <td>true</td>\n      <td>1</td>\n      <td>117</td>\n      <td>161</td>\n      <td>2.3207952E-22</td>\n      <td>2.9938258E-20</td>\n    </tr>\n    <tr>\n      <th>24</th>\n      <td>SIR_12675</td>\n      <td>index=12674</td>\n      <td>PepEv_34_FESNFNTQATNRNTDGSTDYGILQINSR_34</td>\n      <td>SII_12675_1</td>\n      <td>3</td>\n      <td>1055.163330078125</td>\n      <td>1055.1607666015625</td>\n      <td>Pep_FESNFNTQATNRNTDGSTDYGILQINSR</td>\n      <td>true</td>\n      <td>1</td>\n      <td>105</td>\n      <td>129</td>\n      <td>2.3822857E-22</td>\n      <td>3.0731485E-20</td>\n    </tr>\n    <tr>\n      <th>25</th>\n      <td>SIR_5481</td>\n      <td>index=5480</td>\n      <td>PepEv_22_GYSLGNWVCAAKFESNFNTQATNR_22</td>\n      <td>SII_5481_1</td>\n      <td>3</td>\n      <td>912.7622680664062</td>\n      <td>912.435791015625</td>\n      <td>Pep_GYSLGNWVCAAKFESNFNTQATNR</td>\n      <td>true</td>\n      <td>1</td>\n      <td>114</td>\n      <td>137</td>\n      <td>3.521808E-22</td>\n      <td>4.5431325E-20</td>\n    </tr>\n    <tr>\n      <th>26</th>\n      <td>SIR_8818</td>\n      <td>index=8817</td>\n      <td>PepEv_34_FESNFNTQATNRNTDGSTDYGILQINSR_34</td>\n      <td>SII_8818_1</td>\n      <td>3</td>\n      <td>1055.1624755859375</td>\n      <td>1055.1607666015625</td>\n      <td>Pep_FESNFNTQATNRNTDGSTDYGILQINSR</td>\n      <td>true</td>\n      <td>1</td>\n      <td>94</td>\n      <td>130</td>\n      <td>1.1151903E-21</td>\n      <td>1.4385956E-19</td>\n    </tr>\n    <tr>\n      <th>27</th>\n      <td>SIR_4369</td>\n      <td>index=4368</td>\n      <td>PepEv_15_HGLDNYRGYSLGNWVCAAKFESNFNTQATNR_15</td>\n      <td>SII_4369_1</td>\n      <td>3</td>\n      <td>1197.56103515625</td>\n      <td>1197.5687255859375</td>\n      <td>Pep_HGLDNYRGYSLGNWVCAAKFESNFNTQATNR</td>\n      <td>true</td>\n      <td>1</td>\n      <td>101</td>\n      <td>175</td>\n      <td>2.1528591E-21</td>\n      <td>2.7771883E-19</td>\n    </tr>\n    <tr>\n      <th>28</th>\n      <td>SIR_11102</td>\n      <td>index=11101</td>\n      <td>PepEv_34_FESNFNTQATNRNTDGSTDYGILQINSR_34</td>\n      <td>SII_11102_1</td>\n      <td>3</td>\n      <td>1055.1627197265625</td>\n      <td>1055.1607666015625</td>\n      <td>Pep_FESNFNTQATNRNTDGSTDYGILQINSR</td>\n      <td>true</td>\n      <td>1</td>\n      <td>78</td>\n      <td>102</td>\n      <td>3.1045777E-21</td>\n      <td>4.004905E-19</td>\n    </tr>\n    <tr>\n      <th>29</th>\n      <td>SIR_5465</td>\n      <td>index=5464</td>\n      <td>PepEv_34_FESNFNTQATNRNTDGSTDYGILQINSR_34</td>\n      <td>SII_5465_1</td>\n      <td>3</td>\n      <td>1055.4951171875</td>\n      <td>1055.1607666015625</td>\n      <td>Pep_FESNFNTQATNRNTDGSTDYGILQINSR</td>\n      <td>true</td>\n      <td>1</td>\n      <td>95</td>\n      <td>137</td>\n      <td>3.2500785E-21</td>\n      <td>4.192601E-19</td>\n    </tr>\n  </tbody>\n</table>\n</div>"
     },
     "execution_count": 349,
     "metadata": {},
     "output_type": "execute_result"
    }
   ],
   "source": [
    "from pymzid.read_mzid import Mzid\n",
    "from fragments import compute_error\n",
    "\n",
    "mgf_id = Mzid(\"../data/mgf/190318_LYS_AT_50x_05.mzid\")\n",
    "mgf_id.read_psm()\n",
    "msgf_matches_df = mgf_id.psm_df\n",
    "\n",
    "msgf_matches_df.head(30)"
   ],
   "metadata": {
    "collapsed": false,
    "pycharm": {
     "name": "#%%\n"
    }
   }
  },
  {
   "cell_type": "code",
   "execution_count": null,
   "outputs": [],
   "source": [
    "msgf_matches_df[\"spectrum_id\"] = [\n",
    "    int(s.removeprefix(\"index=\")) for s in msgf_matches_df[\"spectrum_id\"]\n",
    "]\n",
    "msgf_matches_df[\"pep_id\"] = [s.removeprefix(\"Pep_\") for s in msgf_matches_df[\"pep_id\"]]\n",
    "msgf_matches_df[\"their_error_ppm\"] = [\n",
    "    compute_error(float(reference), float(measured))\n",
    "    for reference, measured in zip(msgf_matches_df[\"calc_mz\"], msgf_matches_df[\"mz\"])\n",
    "]\n",
    "\n",
    "msgf_matches_df = msgf_matches_df[\n",
    "    [\"spectrum_id\", \"calc_mz\", \"pep_id\", \"their_error_ppm\"]\n",
    "]\n",
    "msgf_matches_df = msgf_matches_df.rename(\n",
    "    columns={\"pep_id\": \"their_sequence\", \"calc_mz\": \"their_mz\"}\n",
    ")\n",
    "msgf_matches_df = msgf_matches_df.set_index(\"spectrum_id\")\n",
    "msgf_matches_df"
   ],
   "metadata": {
    "collapsed": false,
    "pycharm": {
     "name": "#%%\n"
    }
   }
  },
  {
   "cell_type": "code",
   "execution_count": 345,
   "outputs": [],
   "source": [
    "precursor_matches_df.join(msgf_matches_df, how=\"outer\").to_csv(\n",
    "    \"../out/my_vs_their_matches_rat.csv\"\n",
    ")\n"
   ],
   "metadata": {
    "collapsed": false,
    "pycharm": {
     "name": "#%%\n"
    }
   }
  },
  {
   "cell_type": "code",
   "execution_count": 378,
   "outputs": [
    {
     "data": {
      "text/plain": "[10, 29, 72, 119, 366, 381]"
     },
     "execution_count": 378,
     "metadata": {},
     "output_type": "execute_result"
    }
   ],
   "source": [
    "protein = OVA\n",
    "cysteines = [i for i in range(len(protein)) if protein[i] == \"C\"]\n",
    "cysteines"
   ],
   "metadata": {
    "collapsed": false,
    "pycharm": {
     "name": "#%%\n"
    }
   }
  },
  {
   "cell_type": "code",
   "execution_count": 379,
   "outputs": [
    {
     "data": {
      "text/plain": "Counter({19: 48,\n         20: 21,\n         3: 27,\n         4: 22,\n         5: 19,\n         9: 18,\n         22: 64,\n         29: 14,\n         6: 11,\n         24: 38,\n         25: 36,\n         23: 44,\n         16: 25,\n         17: 48,\n         26: 31,\n         32: 55,\n         33: 19,\n         15: 10,\n         18: 41,\n         31: 34,\n         12: 19,\n         11: 16,\n         2: 25,\n         10: 30,\n         13: 7,\n         14: 9,\n         1: 36,\n         8: 5,\n         0: 37,\n         30: 6,\n         7: 9,\n         27: 28,\n         28: 9,\n         21: 3})"
     },
     "execution_count": 379,
     "metadata": {},
     "output_type": "execute_result"
    }
   ],
   "source": [
    "from collections import Counter\n",
    "\n",
    "segment_counter = Counter()\n",
    "for m in precursor_matches:\n",
    "    for b, e in m[\"ranges\"]:\n",
    "        for s in range(b, e):\n",
    "            segment_counter[s] += 1\n",
    "segment_counter"
   ],
   "metadata": {
    "collapsed": false,
    "pycharm": {
     "name": "#%%\n"
    }
   }
  },
  {
   "cell_type": "code",
   "execution_count": 380,
   "outputs": [
    {
     "data": {
      "text/plain": "[0.04282407407407408,\n 0.041666666666666664,\n 0.028935185185185185,\n 0.03125,\n 0.02546296296296296,\n 0.02199074074074074,\n 0.01273148148148148,\n 0.010416666666666666,\n 0.005787037037037037,\n 0.020833333333333332,\n 0.034722222222222224,\n 0.018518518518518517,\n 0.02199074074074074,\n 0.008101851851851851,\n 0.010416666666666666,\n 0.011574074074074073,\n 0.028935185185185185,\n 0.05555555555555555,\n 0.047453703703703706,\n 0.05555555555555555,\n 0.024305555555555556,\n 0.003472222222222222,\n 0.07407407407407407,\n 0.05092592592592592,\n 0.04398148148148148,\n 0.041666666666666664,\n 0.03587962962962963,\n 0.032407407407407406,\n 0.010416666666666666,\n 0.016203703703703703,\n 0.006944444444444444,\n 0.03935185185185185,\n 0.06365740740740741,\n 0.02199074074074074]"
     },
     "execution_count": 380,
     "metadata": {},
     "output_type": "execute_result"
    }
   ],
   "source": [
    "segments = list(segment_counter.keys())\n",
    "total = sum(segment_counter.values())\n",
    "segment_probabilities = []\n",
    "for s in range(min(segments), max(segments) + 1):\n",
    "    segment_probabilities.append(segment_counter[s] / total)\n",
    "segment_probabilities"
   ],
   "metadata": {
    "collapsed": false,
    "pycharm": {
     "name": "#%%\n"
    }
   }
  },
  {
   "cell_type": "code",
   "execution_count": 381,
   "outputs": [
    {
     "data": {
      "text/plain": "[0.0013503086419753086,\n 0.0013503086419753086,\n 0.0013503086419753086,\n 0.0013503086419753086,\n 0.0013503086419753086,\n 0.0013503086419753086,\n 0.0013503086419753086,\n 0.0013503086419753086,\n 0.0013503086419753086,\n 0.0013503086419753086]"
     },
     "execution_count": 381,
     "metadata": {},
     "output_type": "execute_result"
    }
   ],
   "source": [
    "precursor_probabilities = []\n",
    "for f in fragments:\n",
    "    probability = 1\n",
    "    for b, e in f[\"precursor\"][\"ranges\"]:\n",
    "        for s in range(b, e):\n",
    "            probability *= segment_probabilities[s]\n",
    "    precursor_probabilities.append(probability)\n",
    "precursor_probabilities[:10]"
   ],
   "metadata": {
    "collapsed": false,
    "pycharm": {
     "name": "#%%\n"
    }
   }
  },
  {
   "cell_type": "code",
   "execution_count": 382,
   "outputs": [
    {
     "data": {
      "text/plain": "       variant\nscan          \n863          1\n864          1\n928          1\n932          1\n936          1\n...        ...\n11235        1\n11473        1\n11656        1\n11916        1\n11925        1\n\n[218 rows x 1 columns]",
      "text/html": "<div>\n<style scoped>\n    .dataframe tbody tr th:only-of-type {\n        vertical-align: middle;\n    }\n\n    .dataframe tbody tr th {\n        vertical-align: top;\n    }\n\n    .dataframe thead th {\n        text-align: right;\n    }\n</style>\n<table border=\"1\" class=\"dataframe\">\n  <thead>\n    <tr style=\"text-align: right;\">\n      <th></th>\n      <th>variant</th>\n    </tr>\n    <tr>\n      <th>scan</th>\n      <th></th>\n    </tr>\n  </thead>\n  <tbody>\n    <tr>\n      <th>863</th>\n      <td>1</td>\n    </tr>\n    <tr>\n      <th>864</th>\n      <td>1</td>\n    </tr>\n    <tr>\n      <th>928</th>\n      <td>1</td>\n    </tr>\n    <tr>\n      <th>932</th>\n      <td>1</td>\n    </tr>\n    <tr>\n      <th>936</th>\n      <td>1</td>\n    </tr>\n    <tr>\n      <th>...</th>\n      <td>...</td>\n    </tr>\n    <tr>\n      <th>11235</th>\n      <td>1</td>\n    </tr>\n    <tr>\n      <th>11473</th>\n      <td>1</td>\n    </tr>\n    <tr>\n      <th>11656</th>\n      <td>1</td>\n    </tr>\n    <tr>\n      <th>11916</th>\n      <td>1</td>\n    </tr>\n    <tr>\n      <th>11925</th>\n      <td>1</td>\n    </tr>\n  </tbody>\n</table>\n<p>218 rows × 1 columns</p>\n</div>"
     },
     "execution_count": 382,
     "metadata": {},
     "output_type": "execute_result"
    }
   ],
   "source": [
    "df[\"scan\"] = [m.scan for m in df[\"measurement\"]]\n",
    "df[\"variant\"] = [str(m) for m in df[\"multipeptide\"]]\n",
    "\n",
    "variant_counts = (\n",
    "    df.groupby([\"scan\", \"variant\", \"bonds\"])\n",
    "    .agg({\"variant\": \"first\", \"bonds\": \"first\"})\n",
    "    .groupby(\"scan\")\n",
    "    .agg({\"variant\": \"count\"})\n",
    ")\n",
    "\n",
    "variant_counts"
   ],
   "metadata": {
    "collapsed": false,
    "pycharm": {
     "name": "#%%\n"
    }
   }
  },
  {
   "cell_type": "code",
   "execution_count": 392,
   "outputs": [],
   "source": [
    "import networkx as nx\n",
    "import matplotlib.pyplot as plt\n",
    "\n",
    "import itertools\n",
    "from collections import Counter\n",
    "\n",
    "possible_bonds = list(itertools.combinations(cysteines, 2))\n",
    "positive_evidence = {b: 0 for b in possible_bonds}\n",
    "negative_evidence = {b: 0 for b in possible_bonds}\n",
    "alkylation_score = {c: 0 for c in cysteines}\n",
    "\n",
    "DIRECT_POS_WEIGHT = 1\n",
    "NEG_WEIGHT = 1\n",
    "INDIRECT_POS_WEIGHT = 1\n",
    "NEG_ALK_WEIGHT = 1\n",
    "\n",
    "from pprint import pprint\n",
    "\n",
    "for m, prob in zip(fragments, precursor_probabilities):\n",
    "    if not all(b in OVA_BONDS for b in m[\"bonds\"]):\n",
    "        continue\n",
    "\n",
    "    variants = variant_counts.loc[m[\"measurement\"].scan, \"variant\"]\n",
    "    P = (1 / variants) ** 2\n",
    "    cys_in_bonds = []\n",
    "\n",
    "    for b in m[\"match\"][\"connected_bonds\"]:\n",
    "        positive_evidence[b] += P * DIRECT_POS_WEIGHT\n",
    "        cys_in_bonds += list(b)\n",
    "        for x, y in negative_evidence:\n",
    "            if (x, y) != b and (x in b or y in b):\n",
    "                # We're looking at A<–>B, every other bond with A or B is decreased\n",
    "                negative_evidence[(x, y)] += P * NEG_WEIGHT\n",
    "\n",
    "    for c in m[\"match\"][\"interesting_disconnected_cys\"]:\n",
    "        cys_in_bonds.append(c)\n",
    "        for b in positive_evidence:\n",
    "            if c in b:\n",
    "                positive_evidence[b] += P * INDIRECT_POS_WEIGHT\n",
    "\n",
    "    if len(cys_in_bonds) != len(set(cys_in_bonds)):\n",
    "        print(m[\"measurement\"].scan)\n",
    "        # assert len(cys_in_bonds) == len(set(cys_in_bonds))\n",
    "\n",
    "    for c in cysteines:\n",
    "        if c not in cys_in_bonds and any(b <= c < e for b, e in m[\"match\"][\"ranges\"]):\n",
    "            alkylation_score[c] += P * NEG_ALK_WEIGHT\n"
   ],
   "metadata": {
    "collapsed": false,
    "pycharm": {
     "name": "#%%\n"
    }
   }
  },
  {
   "cell_type": "code",
   "execution_count": 404,
   "outputs": [
    {
     "data": {
      "text/plain": "[{'measurement': <measurement.PeptideMeasurement at 0x4a5a0f310>,\n  'sequence': 'VASMASEKMK',\n  'ranges': [(19, 21)],\n  'residue_ranges': [(218, 228)],\n  'missed_cleavages': 1,\n  'cys_bonds': 0,\n  'mass': 1096.5256519165998,\n  'error': 1.61994158660139,\n  'mods': (Mod(description='Met Oxidation', mass=15.9949),)}]"
     },
     "execution_count": 404,
     "metadata": {},
     "output_type": "execute_result"
    }
   ],
   "source": [
    "precursor_matches[:1]"
   ],
   "metadata": {
    "collapsed": false,
    "pycharm": {
     "name": "#%%\n"
    }
   }
  },
  {
   "cell_type": "code",
   "execution_count": 405,
   "outputs": [
    {
     "data": {
      "text/plain": "[{'measurement': <measurement.PeptideMeasurement at 0x4a5f03910>,\n  'sequence': 'GSIGAASMEFCFDVFKELKVHHANENIFYCPIAIMSALAMVYLGAKDSTR+LPGFGDSIEAQCGTSVNVHSSLR+YPILPEYLQCVKELYR',\n  'ranges': [(0, 4), (7, 8), (10, 12)],\n  'residue_ranges': [(0, 50), (61, 84), (110, 126)],\n  'missed_cleavages': 3,\n  'cys_bonds': 2,\n  'mass': 9921.82505698901,\n  'error': 1.274856718039514,\n  'mods': (Mod(description='Met Oxidation', mass=15.9949),\n   Mod(description='Met Oxidation', mass=15.9949))},\n {'measurement': <measurement.PeptideMeasurement at 0x4a5f03df0>,\n  'sequence': 'GSIGAASMEFCFDVFKELKVHHANENIFYCPIAIMSALAMVYLGAKDSTR+FDKLPGFGDSIEAQCGTSVNVHSSLR+YPILPEYLQCVKELYRGGLEPINFQTAADQAR',\n  'ranges': [(0, 4), (6, 8), (10, 13)],\n  'residue_ranges': [(0, 50), (58, 84), (110, 142)],\n  'missed_cleavages': 3,\n  'cys_bonds': 2,\n  'mass': 11980.837359506708,\n  'error': 6.278999173459721,\n  'mods': (Mod(description='Met Oxidation', mass=15.9949),\n   Mod(description='Met Oxidation', mass=15.9949))},\n {'measurement': <measurement.PeptideMeasurement at 0x4a5f03e50>,\n  'sequence': 'GSIGAASMEFCFDVFKELKVHHANENIFYCPIAIMSALAMVYLGAKDSTR+FDKLPGFGDSIEAQCGTSVNVHSSLRDILNQITKPNDVYSFSLASR+YPILPEYLQCVK',\n  'ranges': [(0, 4), (6, 9), (10, 11)],\n  'residue_ranges': [(0, 50), (58, 104), (110, 122)],\n  'missed_cleavages': 3,\n  'cys_bonds': 2,\n  'mass': 11980.89892637323,\n  'error': 11.417718757143065,\n  'mods': ()},\n {'measurement': <measurement.PeptideMeasurement at 0x4a5efc370>,\n  'sequence': 'ELKVHHANENIFYCPIAIMSALAMVYLGAKDSTR+LPGFGDSIEAQCGTSVNVHSSLRDILNQITKPNDVYSFSLASRLYAEERYPILPEYLQCVK+ADHPFLFCIK',\n  'ranges': [(1, 4), (7, 11), (31, 32)],\n  'residue_ranges': [(16, 50), (61, 122), (359, 369)],\n  'missed_cleavages': 3,\n  'cys_bonds': 2,\n  'mass': 11849.906045739439,\n  'error': 3.533961776420333,\n  'mods': (Mod(description='Met Oxidation', mass=15.9949),)}]"
     },
     "execution_count": 405,
     "metadata": {},
     "output_type": "execute_result"
    }
   ],
   "source": [
    "[\n",
    "    p\n",
    "    for p in precursor_matches\n",
    "    if any(b <= 72 < e for b, e in p[\"residue_ranges\"])\n",
    "    and any(b <= 119 < e for b, e in p[\"residue_ranges\"])\n",
    "]"
   ],
   "metadata": {
    "collapsed": false,
    "pycharm": {
     "name": "#%%\n"
    }
   }
  },
  {
   "cell_type": "code",
   "execution_count": 384,
   "outputs": [
    {
     "data": {
      "text/plain": "<Figure size 1000x1000 with 1 Axes>",
      "image/png": "[encoded data removed]"
     },
     "metadata": {},
     "output_type": "display_data"
    }
   ],
   "source": [
    "CMAP = plt.get_cmap(\"PiYG\")\n",
    "\n",
    "BSA_BONDS = [\n",
    "    (b - 1, e - 1)\n",
    "    for b, e in [\n",
    "        (53, 62),\n",
    "        (75, 91),\n",
    "        (90, 101),\n",
    "        (123, 168),\n",
    "        (167, 176),\n",
    "        (199, 245),\n",
    "        (244, 252),\n",
    "        (264, 278),\n",
    "        (277, 288),\n",
    "        (315, 360),\n",
    "        (359, 368),\n",
    "        (391, 437),\n",
    "        (436, 447),\n",
    "        (460, 476),\n",
    "        (475, 486),\n",
    "        (513, 558),\n",
    "        (557, 566),\n",
    "    ]\n",
    "]\n",
    "\n",
    "LYS_BONDS = [(5, 126), (29, 114), (63, 79), (75, 93)]\n",
    "\n",
    "LIP_BONDS = [(56, 295), (67, 70), (262, 271)]\n",
    "\n",
    "OVA_BONDS = [(72, 119)]\n",
    "\n",
    "# IDEAL GRAPH\n",
    "g = nx.complete_graph(reversed(cysteines[3:] + cysteines[:3]))\n",
    "plt.figure(figsize=(5, 5), dpi=200)\n",
    "\n",
    "edges = [tuple(sorted(e)) for e in g.edges()]\n",
    "scores = [e in OVA_BONDS for e in edges]\n",
    "scores_normalized = [\n",
    "    abs(s - min(scores)) / abs(max(scores) - min(scores)) for s in scores\n",
    "]\n",
    "colors = [CMAP(s) for s in scores_normalized]\n",
    "\n",
    "nx.draw_circular(\n",
    "    g,\n",
    "    with_labels=True,\n",
    "    node_size=1200,\n",
    "    node_color=\"#E7DBB7\",\n",
    "    edge_color=colors,\n",
    "    width=3,\n",
    ")"
   ],
   "metadata": {
    "collapsed": false,
    "pycharm": {
     "name": "#%%\n"
    }
   }
  },
  {
   "cell_type": "code",
   "execution_count": 394,
   "outputs": [
    {
     "ename": "ZeroDivisionError",
     "evalue": "division by zero",
     "output_type": "error",
     "traceback": [
      "\u001B[0;31m---------------------------------------------------------------------------\u001B[0m",
      "\u001B[0;31mZeroDivisionError\u001B[0m                         Traceback (most recent call last)",
      "\u001B[0;32m<ipython-input-394-b0499a3333ab>\u001B[0m in \u001B[0;36m<module>\u001B[0;34m\u001B[0m\n\u001B[1;32m     31\u001B[0m \u001B[0;34m\u001B[0m\u001B[0m\n\u001B[1;32m     32\u001B[0m \u001B[0;34m\u001B[0m\u001B[0m\n\u001B[0;32m---> 33\u001B[0;31m scores_normalized = [\n\u001B[0m\u001B[1;32m     34\u001B[0m     normalize(\n\u001B[1;32m     35\u001B[0m         \u001B[0ms\u001B[0m\u001B[0;34m,\u001B[0m\u001B[0;34m\u001B[0m\u001B[0;34m\u001B[0m\u001B[0m\n",
      "\u001B[0;32m<ipython-input-394-b0499a3333ab>\u001B[0m in \u001B[0;36m<listcomp>\u001B[0;34m(.0)\u001B[0m\n\u001B[1;32m     32\u001B[0m \u001B[0;34m\u001B[0m\u001B[0m\n\u001B[1;32m     33\u001B[0m scores_normalized = [\n\u001B[0;32m---> 34\u001B[0;31m     normalize(\n\u001B[0m\u001B[1;32m     35\u001B[0m         \u001B[0ms\u001B[0m\u001B[0;34m,\u001B[0m\u001B[0;34m\u001B[0m\u001B[0;34m\u001B[0m\u001B[0m\n\u001B[1;32m     36\u001B[0m         \u001B[0;34m[\u001B[0m\u001B[0mn\u001B[0m \u001B[0;32mfor\u001B[0m \u001B[0mf\u001B[0m\u001B[0;34m,\u001B[0m \u001B[0mn\u001B[0m \u001B[0;32min\u001B[0m \u001B[0mscores\u001B[0m\u001B[0;34m]\u001B[0m\u001B[0;34m,\u001B[0m\u001B[0;34m\u001B[0m\u001B[0;34m\u001B[0m\u001B[0m\n",
      "\u001B[0;32m<ipython-input-394-b0499a3333ab>\u001B[0m in \u001B[0;36mnormalize\u001B[0;34m(x, xs)\u001B[0m\n\u001B[1;32m     28\u001B[0m \u001B[0;34m\u001B[0m\u001B[0m\n\u001B[1;32m     29\u001B[0m \u001B[0;32mdef\u001B[0m \u001B[0mnormalize\u001B[0m\u001B[0;34m(\u001B[0m\u001B[0mx\u001B[0m\u001B[0;34m,\u001B[0m \u001B[0mxs\u001B[0m\u001B[0;34m)\u001B[0m\u001B[0;34m:\u001B[0m\u001B[0;34m\u001B[0m\u001B[0;34m\u001B[0m\u001B[0m\n\u001B[0;32m---> 30\u001B[0;31m     \u001B[0;32mreturn\u001B[0m \u001B[0mabs\u001B[0m\u001B[0;34m(\u001B[0m\u001B[0mx\u001B[0m \u001B[0;34m-\u001B[0m \u001B[0mmin\u001B[0m\u001B[0;34m(\u001B[0m\u001B[0mxs\u001B[0m\u001B[0;34m)\u001B[0m\u001B[0;34m)\u001B[0m \u001B[0;34m/\u001B[0m \u001B[0mabs\u001B[0m\u001B[0;34m(\u001B[0m\u001B[0mmax\u001B[0m\u001B[0;34m(\u001B[0m\u001B[0mxs\u001B[0m\u001B[0;34m)\u001B[0m \u001B[0;34m-\u001B[0m \u001B[0mmin\u001B[0m\u001B[0;34m(\u001B[0m\u001B[0mxs\u001B[0m\u001B[0;34m)\u001B[0m\u001B[0;34m)\u001B[0m\u001B[0;34m\u001B[0m\u001B[0;34m\u001B[0m\u001B[0m\n\u001B[0m\u001B[1;32m     31\u001B[0m \u001B[0;34m\u001B[0m\u001B[0m\n\u001B[1;32m     32\u001B[0m \u001B[0;34m\u001B[0m\u001B[0m\n",
      "\u001B[0;31mZeroDivisionError\u001B[0m: division by zero"
     ]
    },
    {
     "data": {
      "text/plain": "<Figure size 1000x1000 with 0 Axes>"
     },
     "metadata": {},
     "output_type": "display_data"
    }
   ],
   "source": [
    "nodes = list(reversed(cysteines[3:] + cysteines[:3]))\n",
    "g = nx.complete_graph(nodes)\n",
    "plt.figure(figsize=(5, 5), dpi=200)\n",
    "\n",
    "\n",
    "def intersects(t1, t2):\n",
    "    return t1[0] in t2 or t1[1] in t2\n",
    "\n",
    "\n",
    "def odds(e, positive, alkylation):\n",
    "    # alkylated = alkylation[e[0]] + alkylation[e[1]]\n",
    "    # if positive[e] > alkylated:\n",
    "    #     return positive[e] / (alkylated + 0.1)\n",
    "    # else:\n",
    "    #     return -alkylated / (positive[e] + 0.1)\n",
    "    return positive[e]\n",
    "\n",
    "\n",
    "edges = [tuple(sorted(e)) for e in g.edges()]\n",
    "scores = [\n",
    "    (\n",
    "        e,\n",
    "        positive_evidence[e] - negative_evidence[e],\n",
    "    )\n",
    "    for e in edges\n",
    "]\n",
    "\n",
    "\n",
    "def normalize(x, xs):\n",
    "    return abs(x - min(xs)) / abs(max(xs) - min(xs))\n",
    "\n",
    "\n",
    "scores_normalized = [\n",
    "    normalize(\n",
    "        s,\n",
    "        [n for f, n in scores],\n",
    "    )\n",
    "    for e, s in scores\n",
    "]\n",
    "edge_colors = [CMAP(s) for s in scores_normalized]\n",
    "\n",
    "node_scores = [(alkylation_score[n]) for n in nodes]\n",
    "node_scores_normalized = [\n",
    "    abs(s - min(positive_evidence.values()))\n",
    "    / abs(max(positive_evidence.values()) - min(positive_evidence.values()))\n",
    "    for s in node_scores\n",
    "]\n",
    "node_colors = [CMAP(s) for s in node_scores_normalized]\n",
    "\n",
    "\n",
    "nx.draw_circular(\n",
    "    g,\n",
    "    with_labels=True,\n",
    "    node_size=1200,\n",
    "    node_color=\"#E7DBB7\",\n",
    "    linewidths=3,\n",
    "    edgecolors=node_colors,\n",
    "    edge_color=edge_colors,\n",
    "    width=3,\n",
    ")\n",
    "\n",
    "# nodes = list(reversed(cysteines[3:] + cysteines[:3]))\n",
    "# g = nx.complete_graph(nodes)\n",
    "# plt.figure(figsize=(5, 5), dpi=200)\n",
    "#\n",
    "# edges = [tuple(sorted(e)) for e in g.edges()]\n",
    "# scores = [(positive_evidence[e]) - negative_evidence[e] for e in edges]\n",
    "# scores_normalized = [\n",
    "#     abs(s - min(scores)) / abs(max(scores) - min(scores)) for s in scores\n",
    "# ]\n",
    "# edge_colors = [CMAP(s) for s in scores_normalized]\n",
    "#\n",
    "# node_scores = [(alkylation_score[n]) * 0.5 for n in nodes]\n",
    "# node_scores_normalized = [\n",
    "#     abs(s - min(positive_evidence.values()))\n",
    "#     / abs(max(positive_evidence.values()) - min(positive_evidence.values()))\n",
    "#     for s in node_scores\n",
    "# ]\n",
    "# node_colors = [CMAP(s) for s in node_scores_normalized]\n",
    "#\n",
    "#\n",
    "# nx.draw_circular(\n",
    "#     g,\n",
    "#     with_labels=True,\n",
    "#     node_size=1200,\n",
    "#     node_color=\"#E7DBB7\",\n",
    "#     linewidths=3,\n",
    "#     edgecolors=node_colors,\n",
    "#     edge_color=edge_colors,\n",
    "#     width=3,\n",
    "# )"
   ],
   "metadata": {
    "collapsed": false,
    "pycharm": {
     "name": "#%%\n"
    }
   }
  }
 ],
 "metadata": {
  "kernelspec": {
   "display_name": "Python 3",
   "language": "python",
   "name": "python3"
  },
  "language_info": {
   "codemirror_mode": {
    "name": "ipython",
    "version": 2
   },
   "file_extension": ".py",
   "mimetype": "text/x-python",
   "name": "python",
   "nbconvert_exporter": "python",
   "pygments_lexer": "ipython2",
   "version": "2.7.6"
  }
 },
 "nbformat": 4,
 "nbformat_minor": 0
}